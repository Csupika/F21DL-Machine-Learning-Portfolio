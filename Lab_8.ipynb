{
 "nbformat": 4,
 "nbformat_minor": 0,
 "metadata": {
  "kernelspec": {
   "display_name": "Python 3",
   "language": "python",
   "name": "python3"
  },
  "language_info": {
   "codemirror_mode": {
    "name": "ipython",
    "version": 3
   },
   "file_extension": ".py",
   "mimetype": "text/x-python",
   "name": "python",
   "nbconvert_exporter": "python",
   "pygments_lexer": "ipython3",
   "version": "3.6.8"
  },
  "colab": {
   "name": "P5 Decision Tree and Logistic Regression.ipynb",
   "provenance": []
  }
 },
 "cells": [
  {
   "cell_type": "markdown",
   "metadata": {
    "id": "dLg0sqn36J3_",
    "pycharm": {
     "name": "#%% md\n"
    }
   },
   "source": [
    "\n",
    "\n",
    "# Setup"
   ]
  },
  {
   "cell_type": "markdown",
   "source": [
    "If the program is too slow reduce the number of iteration in RandomizedSearchCV, line 26 code cell number 7"
   ],
   "metadata": {
    "collapsed": false,
    "pycharm": {
     "name": "#%% md\n"
    }
   }
  },
  {
   "cell_type": "code",
   "execution_count": null,
   "outputs": [],
   "source": [
    "# Python ≥3.5 is required\n",
    "import sys\n",
    "assert sys.version_info >= (3, 5)\n",
    "\n",
    "# Scikit-Learn ≥0.20 is \n",
    "import sklearn\n",
    "assert sklearn.__version__ >= \"0.20\"\n",
    "\n",
    "# Common imports\n",
    "import numpy as np\n",
    "import os\n",
    "\n",
    "# to make this notebook's output stable across runs\n",
    "np.random.seed(42)\n",
    "\n",
    "# To plot pretty figures\n",
    "%matplotlib inline\n",
    "import matplotlib as mpl\n",
    "import matplotlib.pyplot as plt\n",
    "mpl.rc('axes', labelsize=14)\n",
    "mpl.rc('xtick', labelsize=12)\n",
    "mpl.rc('ytick', labelsize=12)"
   ],
   "metadata": {
    "collapsed": false,
    "pycharm": {
     "name": "#%%\n"
    }
   }
  },
  {
   "cell_type": "markdown",
   "source": [
    "# Training and visualizing"
   ],
   "metadata": {
    "collapsed": false,
    "pycharm": {
     "name": "#%% md\n"
    }
   }
  },
  {
   "cell_type": "code",
   "execution_count": null,
   "outputs": [],
   "source": [
    "from sklearn.datasets import load_iris\n",
    "from sklearn.tree import DecisionTreeClassifier,plot_tree\n",
    "import pandas as pd\n",
    "\n",
    "file_name = \"df_vector.pkl\"\n",
    "wiki = pd.read_pickle(file_name)"
   ],
   "metadata": {
    "collapsed": false,
    "pycharm": {
     "name": "#%%\n"
    }
   }
  },
  {
   "cell_type": "code",
   "execution_count": null,
   "outputs": [],
   "source": [
    "X = (np.stack(wiki.FeatureVector.to_numpy())).copy()\n",
    "y = wiki.Theme.copy()\n"
   ],
   "metadata": {
    "collapsed": false,
    "pycharm": {
     "name": "#%%\n"
    }
   }
  },
  {
   "cell_type": "code",
   "execution_count": null,
   "outputs": [],
   "source": [
    "tree_clf = DecisionTreeClassifier(max_depth=2, random_state=42)\n",
    "tree_clf.fit(X, y)"
   ],
   "metadata": {
    "collapsed": false,
    "pycharm": {
     "name": "#%%\n"
    }
   }
  },
  {
   "cell_type": "code",
   "execution_count": null,
   "outputs": [],
   "source": [
    "plot_tree(tree_clf);"
   ],
   "metadata": {
    "collapsed": false,
    "pycharm": {
     "name": "#%%\n"
    }
   }
  },
  {
   "cell_type": "markdown",
   "source": [
    "# Predicting classes and class probabilities"
   ],
   "metadata": {
    "collapsed": false,
    "pycharm": {
     "name": "#%% md\n"
    }
   }
  },
  {
   "cell_type": "code",
   "execution_count": null,
   "outputs": [],
   "source": [
    "from sklearn.model_selection import cross_val_predict\n",
    "from sklearn.metrics import accuracy_score, precision_score, recall_score, f1_score, roc_auc_score, confusion_matrix\n",
    "\n",
    "y_pred_tree = tree_clf.predict(X)\n",
    "y_pred_cross = cross_val_predict(tree_clf, X, y, cv=10)\n",
    "\n",
    "\n",
    "Accuracy_score = accuracy_score(y, y_pred_tree)\n",
    "Precision_score = precision_score(y, y_pred_tree, average='micro')\n",
    "Recall_score = recall_score(y, y_pred_tree, average='micro')\n",
    "F1_score = f1_score(y, y_pred_tree, average='micro')\n",
    "\n",
    "Accuracy_score_cross = accuracy_score(y, y_pred_cross)\n",
    "Precision_score_cross = precision_score(y, y_pred_cross, average='micro')\n",
    "Recall_score_cross = recall_score(y, y_pred_cross, average='micro')\n",
    "F1_score_cross = f1_score(y, y_pred_cross, average='micro')\n",
    "\n",
    "\n",
    "print(\"Accuracy_score = \",Accuracy_score)\n",
    "print(\"Precision_score = \",Precision_score)\n",
    "print(\"Recall_score = \",Recall_score)\n",
    "print(\"F1_score = \",F1_score)\n",
    "print(\"------------------------------------\")\n",
    "print(\"Accuracy_score_cross = \",Accuracy_score_cross)\n",
    "print(\"Precision_score_cross = \",Precision_score_cross)\n",
    "print(\"Recall_score_cross = \",Recall_score_cross)\n",
    "print(\"F1_score_cross = \",F1_score_cross)"
   ],
   "metadata": {
    "collapsed": false,
    "pycharm": {
     "name": "#%%\n"
    }
   }
  },
  {
   "cell_type": "code",
   "execution_count": null,
   "outputs": [],
   "source": [
    "from sklearn.model_selection import RandomizedSearchCV\n",
    "\n",
    "max_depth = [4,10,50,100,None]\n",
    "min_samples_split = [2,5,20,40,80]\n",
    "min_samples_leaf = [1,2,4,8,16]\n",
    "criterion = [\"gini\",\"entropy\",\"log_loss\"]\n",
    "splitter = [\"best\",\"random\"]\n",
    "max_features = [10,\"sqrt\",\"log2\",None]\n",
    "random_state = [10,20,60,None]\n",
    "max_leaf_nodes = [2,5,10,30,None]\n",
    "ccp_alpha = [0.0,0.5,1.0,2.0]\n",
    "\n",
    "random_grid = {\n",
    "                'max_depth': max_depth,\n",
    "                'min_samples_split': min_samples_split,\n",
    "                'min_samples_leaf': min_samples_leaf,\n",
    "                'criterion':criterion,\n",
    "                'splitter':splitter,\n",
    "                'max_features':max_features,\n",
    "                'random_state':random_state,\n",
    "                'max_leaf_nodes':max_leaf_nodes,\n",
    "                'ccp_alpha':ccp_alpha,\n",
    "}\n",
    "\n",
    "\n",
    "model_tuned = RandomizedSearchCV(estimator = DecisionTreeClassifier(), param_distributions = random_grid, n_iter = 1000, scoring='accuracy', cv = 10, return_train_score= True, refit=True)\n",
    "\n",
    "model_tuned.fit(X,y)"
   ],
   "metadata": {
    "collapsed": false,
    "pycharm": {
     "name": "#%%\n"
    }
   }
  },
  {
   "cell_type": "code",
   "execution_count": null,
   "outputs": [],
   "source": [
    "print(\"-----------------------------------------------------------------------------\")\n",
    "print(\"-Comparison of the efficiency of the different parameters ranked by accuracy-\")\n",
    "print(\"-----------------------------------------------------------------------------\")\n",
    "df_results = pd.DataFrame(model_tuned.cv_results_)\n",
    "print(df_results)"
   ],
   "metadata": {
    "collapsed": false,
    "pycharm": {
     "name": "#%%\n"
    }
   }
  },
  {
   "cell_type": "code",
   "execution_count": null,
   "outputs": [],
   "source": [
    "print(\"-----------------------\")\n",
    "print(\"------Best score-------\")\n",
    "print(\"-----------------------\")\n",
    "print(model_tuned.best_score_)"
   ],
   "metadata": {
    "collapsed": false,
    "pycharm": {
     "name": "#%%\n"
    }
   }
  },
  {
   "cell_type": "code",
   "execution_count": null,
   "outputs": [],
   "source": [
    "print(\"-----------------------\")\n",
    "print(\"------Best params------\")\n",
    "print(\"-----------------------\")\n",
    "print(model_tuned.best_params_)"
   ],
   "metadata": {
    "collapsed": false,
    "pycharm": {
     "name": "#%%\n"
    }
   }
  },
  {
   "cell_type": "code",
   "execution_count": null,
   "outputs": [],
   "source": [
    "best_tree_clf = model_tuned.best_estimator_\n",
    "plot_tree(best_tree_clf)"
   ],
   "metadata": {
    "collapsed": false,
    "pycharm": {
     "name": "#%%\n"
    }
   }
  },
  {
   "cell_type": "markdown",
   "source": [
    "We can see that the main change between our first tree and this optimise tree is max_depth, our previous tree had a depth of only 2 restraining the tree from gaining more complexity allowing it to be more accurate. Here we have a depth of 100. A high min number of samples split also helps gain accuracy."
   ],
   "metadata": {
    "collapsed": false,
    "pycharm": {
     "name": "#%% md\n"
    }
   }
  },
  {
   "cell_type": "code",
   "execution_count": null,
   "outputs": [],
   "source": [
    "from sklearn.model_selection import train_test_split\n",
    "\n",
    "\n",
    "split1 = 0.3\n",
    "X_train1, X_test1, y_train1, y_test1 = train_test_split(X, y, test_size=split1)\n",
    "\n",
    "split2 = split1 + 0.7 * 0.3\n",
    "\n",
    "X_train2, X_test2, y_train2, y_test2 = train_test_split(X, y, test_size=split2)\n",
    "\n",
    "split3 = split1 + 0.7 * 0.6\n",
    "X_train3, X_test3, y_train3, y_test3 = train_test_split(X, y, test_size=split3)\n",
    "\n",
    "best_tree_clf.fit(X_train1, y_train1)\n",
    "y_pred_tree_train1 = best_tree_clf.predict(X_train1)\n",
    "y_pred_tree_test1 = best_tree_clf.predict(X_test1)\n",
    "\n",
    "best_tree_clf.fit(X_train2, y_train2)\n",
    "y_pred_tree_train2 = best_tree_clf.predict(X_train2)\n",
    "y_pred_tree_test2 = best_tree_clf.predict(X_test2)\n",
    "\n",
    "best_tree_clf.fit(X_train3, y_train3)\n",
    "y_pred_tree_train3 = best_tree_clf.predict(X_train3)\n",
    "y_pred_tree_test3 = best_tree_clf.predict(X_test3)\n",
    "\n",
    "\n",
    "Accuracy_score_train1 = accuracy_score(y_train1, y_pred_tree_train1)\n",
    "Accuracy_score_test1 = accuracy_score(y_test1, y_pred_tree_test1)\n",
    "\n",
    "Accuracy_score_train2 = accuracy_score(y_train2, y_pred_tree_train2)\n",
    "Accuracy_score_test2 = accuracy_score(y_test2, y_pred_tree_test2)\n",
    "\n",
    "Accuracy_score_train3 = accuracy_score(y_train3, y_pred_tree_train3)\n",
    "Accuracy_score_test3 = accuracy_score(y_test3, y_pred_tree_test3)\n",
    "\n",
    "print(y_pred_tree_train1)\n",
    "print(y_train1)\n",
    "\n",
    "print(\"-----------------\")\n",
    "print(\"------Test 1-----\")\n",
    "print(\"-----------------\")\n",
    "print(\"Accuracy on train set: \",Accuracy_score_train1)\n",
    "print(\"Accuracy on test set: \",Accuracy_score_test1)\n",
    "print(\"-----------------\")\n",
    "print(\"------Test 3-----\")\n",
    "print(\"-----------------\")\n",
    "print(\"Accuracy on train set: \",Accuracy_score_train2)\n",
    "print(\"Accuracy on test set: \",Accuracy_score_test2)\n",
    "print(\"-----------------\")\n",
    "print(\"------Test 3-----\")\n",
    "print(\"-----------------\")\n",
    "print(\"Accuracy on train set: \",Accuracy_score_train3)\n",
    "print(\"Accuracy on test set: \",Accuracy_score_test3)\n"
   ],
   "metadata": {
    "collapsed": false,
    "pycharm": {
     "name": "#%%\n"
    }
   }
  },
  {
   "cell_type": "markdown",
   "source": [
    "While moving 30% of our training set to our test set has a light positive impact on test set accuracy which is the most important. There is a drop in training and in testing accuracy when we move 60% of our training set to our test set because of over-fitting problems. Using a tree classifier on our data-set doesn't give us great accuracy making the analysis of the over-fitting effect more difficult."
   ],
   "metadata": {
    "collapsed": false,
    "pycharm": {
     "name": "#%% md\n"
    }
   }
  },
  {
   "cell_type": "code",
   "execution_count": 68,
   "outputs": [
    {
     "data": {
      "text/plain": "[Text(0.8790650406504065, 0.9864864864864865, 'X[583] <= 0.001\\ngini = 0.882\\nsamples = 994\\nvalue = [45, 57, 105, 41, 83, 45, 111, 55, 208, 146, 98]'),\n Text(0.790650406504065, 0.9594594594594594, 'X[148] <= 0.001\\ngini = 0.877\\nsamples = 935\\nvalue = [45, 57, 49, 41, 81, 45, 111, 55, 208, 145, 98]'),\n Text(0.7113821138211383, 0.9324324324324325, 'X[39] <= 0.002\\ngini = 0.866\\nsamples = 778\\nvalue = [39, 51, 45, 40, 71, 43, 18, 51, 191, 138, 91]'),\n Text(0.6504065040650406, 0.9054054054054054, 'X[229] <= 0.004\\ngini = 0.881\\nsamples = 669\\nvalue = [39, 51, 33, 40, 69, 42, 18, 51, 110, 136, 80]'),\n Text(0.6097560975609756, 0.8783783783783784, 'X[152] <= 0.004\\ngini = 0.873\\nsamples = 622\\nvalue = [39, 51, 33, 40, 65, 9, 17, 50, 107, 134, 77]'),\n Text(0.5772357723577236, 0.8513513513513513, 'X[82] <= 0.006\\ngini = 0.864\\nsamples = 575\\nvalue = [39, 48, 33, 10, 62, 9, 17, 50, 97, 134, 76]'),\n Text(0.5609756097560976, 0.8243243243243243, 'X[570] <= 0.002\\ngini = 0.865\\nsamples = 537\\nvalue = [39, 44, 32, 10, 61, 9, 17, 50, 67, 132, 76]'),\n Text(0.5447154471544715, 0.7972972972972973, 'X[25] <= 0.006\\ngini = 0.863\\nsamples = 518\\nvalue = [39, 44, 32, 10, 61, 9, 17, 50, 48, 132, 76]'),\n Text(0.5284552845528455, 0.7702702702702703, 'X[137] <= 0.008\\ngini = 0.859\\nsamples = 486\\nvalue = [39, 44, 28, 10, 37, 9, 16, 50, 48, 130, 75]'),\n Text(0.5121951219512195, 0.7432432432432432, 'X[492] <= 0.001\\ngini = 0.854\\nsamples = 453\\nvalue = [39, 41, 28, 10, 37, 9, 15, 27, 47, 125, 75]'),\n Text(0.4959349593495935, 0.7162162162162162, 'X[111] <= 0.003\\ngini = 0.847\\nsamples = 438\\nvalue = [39, 41, 13, 10, 37, 9, 15, 27, 47, 125, 75]'),\n Text(0.43902439024390244, 0.6891891891891891, 'X[20] <= 0.006\\ngini = 0.864\\nsamples = 384\\nvalue = [39, 39, 8, 10, 34, 9, 14, 27, 47, 86, 71]'),\n Text(0.42276422764227645, 0.6621621621621622, 'X[0] <= 0.015\\ngini = 0.873\\nsamples = 349\\nvalue = [38, 38, 8, 10, 32, 9, 14, 26, 46, 58, 70]'),\n Text(0.3902439024390244, 0.6351351351351351, 'X[142] <= 0.005\\ngini = 0.88\\nsamples = 266\\nvalue = [33, 30, 8, 7, 25, 6, 14, 26, 39, 51, 27]'),\n Text(0.37398373983739835, 0.6081081081081081, 'X[188] <= 0.002\\ngini = 0.88\\nsamples = 252\\nvalue = [33, 30, 8, 7, 25, 6, 14, 26, 25, 51, 27]'),\n Text(0.35772357723577236, 0.581081081081081, 'X[75] <= 0.01\\ngini = 0.875\\nsamples = 228\\nvalue = [30, 29, 8, 7, 25, 6, 12, 10, 25, 49, 27]'),\n Text(0.34146341463414637, 0.5540540540540541, 'X[270] <= 0.005\\ngini = 0.872\\nsamples = 211\\nvalue = [17, 27, 8, 7, 23, 6, 12, 10, 25, 49, 27]'),\n Text(0.3252032520325203, 0.527027027027027, 'X[367] <= 0.004\\ngini = 0.87\\nsamples = 203\\nvalue = [17, 27, 8, 7, 23, 6, 12, 10, 17, 49, 27]'),\n Text(0.3089430894308943, 0.5, 'X[970] <= 0.001\\ngini = 0.869\\nsamples = 195\\nvalue = [17, 27, 8, 7, 23, 6, 12, 10, 17, 49, 19]'),\n Text(0.2926829268292683, 0.47297297297297297, 'X[50] <= 0.009\\ngini = 0.861\\nsamples = 184\\nvalue = [9, 27, 8, 7, 22, 6, 12, 8, 17, 49, 19]'),\n Text(0.2764227642276423, 0.44594594594594594, 'X[219] <= 0.024\\ngini = 0.857\\nsamples = 172\\nvalue = [9, 26, 7, 7, 13, 6, 12, 8, 17, 48, 19]'),\n Text(0.2601626016260163, 0.4189189189189189, 'X[155] <= 0.007\\ngini = 0.85\\nsamples = 167\\nvalue = [9, 26, 7, 2, 13, 6, 12, 8, 17, 48, 19]'),\n Text(0.24390243902439024, 0.3918918918918919, 'X[1980] <= 0.002\\ngini = 0.87\\nsamples = 152\\nvalue = [9, 24, 7, 2, 13, 6, 12, 8, 17, 35, 19]'),\n Text(0.22764227642276422, 0.36486486486486486, 'X[268] <= 0.004\\ngini = 0.871\\nsamples = 144\\nvalue = [9, 17, 7, 2, 13, 6, 12, 8, 17, 35, 18]'),\n Text(0.21138211382113822, 0.33783783783783783, 'X[33] <= 0.004\\ngini = 0.866\\nsamples = 135\\nvalue = [9, 10, 6, 2, 13, 6, 12, 8, 17, 35, 17]'),\n Text(0.1951219512195122, 0.3108108108108108, 'X[555] <= 0.003\\ngini = 0.882\\nsamples = 113\\nvalue = [9, 9, 5, 1, 11, 6, 10, 7, 17, 21, 17]'),\n Text(0.17886178861788618, 0.28378378378378377, 'X[314] <= 0.006\\ngini = 0.883\\nsamples = 107\\nvalue = [9, 9, 5, 1, 11, 6, 10, 7, 17, 21, 11]'),\n Text(0.16260162601626016, 0.25675675675675674, 'X[145] <= 0.002\\ngini = 0.89\\nsamples = 100\\nvalue = [9, 9, 5, 1, 11, 6, 10, 7, 17, 14, 11]'),\n Text(0.14634146341463414, 0.22972972972972974, 'X[613] <= 0.005\\ngini = 0.883\\nsamples = 96\\nvalue = [9, 9, 1, 1, 11, 6, 10, 7, 17, 14, 11]'),\n Text(0.13008130081300814, 0.20270270270270271, 'X[19] <= 0.001\\ngini = 0.877\\nsamples = 92\\nvalue = [9, 9, 1, 1, 11, 2, 10, 7, 17, 14, 11]'),\n Text(0.11382113821138211, 0.17567567567567569, 'X[45] <= 0.005\\ngini = 0.845\\nsamples = 61\\nvalue = [4, 8, 0, 1, 3, 2, 2, 6, 15, 13, 7]'),\n Text(0.0975609756097561, 0.14864864864864866, 'X[89] <= 0.011\\ngini = 0.837\\nsamples = 57\\nvalue = [4, 4, 0, 1, 3, 2, 2, 6, 15, 13, 7]'),\n Text(0.08130081300813008, 0.12162162162162163, 'X[763] <= 0.007\\ngini = 0.851\\nsamples = 52\\nvalue = [4, 4, 0, 1, 3, 2, 2, 6, 10, 13, 7]'),\n Text(0.06504065040650407, 0.0945945945945946, 'X[29] <= 0.007\\ngini = 0.843\\nsamples = 49\\nvalue = [4, 4, 0, 1, 3, 2, 2, 3, 10, 13, 7]'),\n Text(0.04878048780487805, 0.06756756756756757, 'X[1253] <= 0.001\\ngini = 0.837\\nsamples = 46\\nvalue = [4, 4, 0, 1, 3, 2, 2, 3, 10, 13, 4]'),\n Text(0.032520325203252036, 0.04054054054054054, 'X[9] <= 0.004\\ngini = 0.855\\nsamples = 42\\nvalue = [4, 4, 0, 1, 3, 2, 2, 3, 10, 9, 4]'),\n Text(0.016260162601626018, 0.013513513513513514, 'gini = 0.856\\nsamples = 34\\nvalue = [4, 4, 0, 1, 3, 1, 2, 3, 5, 9, 2]'),\n Text(0.04878048780487805, 0.013513513513513514, 'gini = 0.531\\nsamples = 8\\nvalue = [0, 0, 0, 0, 0, 1, 0, 0, 5, 0, 2]'),\n Text(0.06504065040650407, 0.04054054054054054, 'gini = 0.0\\nsamples = 4\\nvalue = [0, 0, 0, 0, 0, 0, 0, 0, 0, 4, 0]'),\n Text(0.08130081300813008, 0.06756756756756757, 'gini = 0.0\\nsamples = 3\\nvalue = [0, 0, 0, 0, 0, 0, 0, 0, 0, 0, 3]'),\n Text(0.0975609756097561, 0.0945945945945946, 'gini = 0.0\\nsamples = 3\\nvalue = [0, 0, 0, 0, 0, 0, 0, 3, 0, 0, 0]'),\n Text(0.11382113821138211, 0.12162162162162163, 'gini = 0.0\\nsamples = 5\\nvalue = [0, 0, 0, 0, 0, 0, 0, 0, 5, 0, 0]'),\n Text(0.13008130081300814, 0.14864864864864866, 'gini = 0.0\\nsamples = 4\\nvalue = [0, 4, 0, 0, 0, 0, 0, 0, 0, 0, 0]'),\n Text(0.14634146341463414, 0.17567567567567569, 'gini = 0.816\\nsamples = 31\\nvalue = [5, 1, 1, 0, 8, 0, 8, 1, 2, 1, 4]'),\n Text(0.16260162601626016, 0.20270270270270271, 'gini = 0.0\\nsamples = 4\\nvalue = [0, 0, 0, 0, 0, 4, 0, 0, 0, 0, 0]'),\n Text(0.17886178861788618, 0.22972972972972974, 'gini = 0.0\\nsamples = 4\\nvalue = [0, 0, 4, 0, 0, 0, 0, 0, 0, 0, 0]'),\n Text(0.1951219512195122, 0.25675675675675674, 'gini = 0.0\\nsamples = 7\\nvalue = [0, 0, 0, 0, 0, 0, 0, 0, 0, 7, 0]'),\n Text(0.21138211382113822, 0.28378378378378377, 'gini = 0.0\\nsamples = 6\\nvalue = [0, 0, 0, 0, 0, 0, 0, 0, 0, 0, 6]'),\n Text(0.22764227642276422, 0.3108108108108108, 'gini = 0.57\\nsamples = 22\\nvalue = [0, 1, 1, 1, 2, 0, 2, 1, 0, 14, 0]'),\n Text(0.24390243902439024, 0.33783783783783783, 'gini = 0.37\\nsamples = 9\\nvalue = [0, 7, 1, 0, 0, 0, 0, 0, 0, 0, 1]'),\n Text(0.2601626016260163, 0.36486486486486486, 'gini = 0.219\\nsamples = 8\\nvalue = [0, 7, 0, 0, 0, 0, 0, 0, 0, 0, 1]'),\n Text(0.2764227642276423, 0.3918918918918919, 'gini = 0.231\\nsamples = 15\\nvalue = [0, 2, 0, 0, 0, 0, 0, 0, 0, 13, 0]'),\n Text(0.2926829268292683, 0.4189189189189189, 'gini = 0.0\\nsamples = 5\\nvalue = [0, 0, 0, 5, 0, 0, 0, 0, 0, 0, 0]'),\n Text(0.3089430894308943, 0.44594594594594594, 'gini = 0.417\\nsamples = 12\\nvalue = [0, 1, 1, 0, 9, 0, 0, 0, 0, 1, 0]'),\n Text(0.3252032520325203, 0.47297297297297297, 'gini = 0.43\\nsamples = 11\\nvalue = [8, 0, 0, 0, 1, 0, 0, 2, 0, 0, 0]'),\n Text(0.34146341463414637, 0.5, 'gini = 0.0\\nsamples = 8\\nvalue = [0, 0, 0, 0, 0, 0, 0, 0, 0, 0, 8]'),\n Text(0.35772357723577236, 0.527027027027027, 'gini = 0.0\\nsamples = 8\\nvalue = [0, 0, 0, 0, 0, 0, 0, 0, 8, 0, 0]'),\n Text(0.37398373983739835, 0.5540540540540541, 'gini = 0.388\\nsamples = 17\\nvalue = [13, 2, 0, 0, 2, 0, 0, 0, 0, 0, 0]'),\n Text(0.3902439024390244, 0.581081081081081, 'gini = 0.524\\nsamples = 24\\nvalue = [3, 1, 0, 0, 0, 0, 2, 16, 0, 2, 0]'),\n Text(0.4065040650406504, 0.6081081081081081, 'gini = 0.0\\nsamples = 14\\nvalue = [0, 0, 0, 0, 0, 0, 0, 0, 14, 0, 0]'),\n Text(0.45528455284552843, 0.6351351351351351, 'X[1733] <= 0.002\\ngini = 0.695\\nsamples = 83\\nvalue = [5, 8, 0, 3, 7, 3, 0, 0, 7, 7, 43]'),\n Text(0.43902439024390244, 0.6081081081081081, 'X[40] <= 0.002\\ngini = 0.669\\nsamples = 79\\nvalue = [5, 8, 0, 3, 7, 3, 0, 0, 3, 7, 43]'),\n Text(0.42276422764227645, 0.581081081081081, 'X[290] <= 0.004\\ngini = 0.581\\nsamples = 67\\nvalue = [5, 5, 0, 1, 3, 3, 0, 0, 1, 7, 42]'),\n Text(0.4065040650406504, 0.5540540540540541, 'X[67] <= 0.003\\ngini = 0.51\\nsamples = 61\\nvalue = [4, 3, 0, 1, 3, 3, 0, 0, 1, 4, 42]'),\n Text(0.3902439024390244, 0.527027027027027, 'X[244] <= 0.002\\ngini = 0.444\\nsamples = 57\\nvalue = [4, 3, 0, 1, 2, 3, 0, 0, 1, 1, 42]'),\n Text(0.37398373983739835, 0.5, 'X[54] <= 0.014\\ngini = 0.34\\nsamples = 52\\nvalue = [3, 1, 0, 1, 2, 2, 0, 0, 1, 0, 42]'),\n Text(0.35772357723577236, 0.47297297297297297, 'X[1484] <= 0.004\\ngini = 0.288\\nsamples = 50\\nvalue = [3, 1, 0, 1, 0, 2, 0, 0, 1, 0, 42]'),\n Text(0.34146341463414637, 0.44594594594594594, 'X[3726] <= 0.002\\ngini = 0.229\\nsamples = 48\\nvalue = [3, 1, 0, 1, 0, 0, 0, 0, 1, 0, 42]'),\n Text(0.3252032520325203, 0.4189189189189189, 'X[208] <= 0.006\\ngini = 0.164\\nsamples = 46\\nvalue = [1, 1, 0, 1, 0, 0, 0, 0, 1, 0, 42]'),\n Text(0.3089430894308943, 0.3918918918918919, 'X[434] <= 0.004\\ngini = 0.088\\nsamples = 44\\nvalue = [0, 1, 0, 1, 0, 0, 0, 0, 0, 0, 42]'),\n Text(0.2926829268292683, 0.36486486486486486, 'gini = 0.0\\nsamples = 42\\nvalue = [0, 0, 0, 0, 0, 0, 0, 0, 0, 0, 42]'),\n Text(0.3252032520325203, 0.36486486486486486, 'gini = 0.5\\nsamples = 2\\nvalue = [0, 1, 0, 1, 0, 0, 0, 0, 0, 0, 0]'),\n Text(0.34146341463414637, 0.3918918918918919, 'gini = 0.5\\nsamples = 2\\nvalue = [1, 0, 0, 0, 0, 0, 0, 0, 1, 0, 0]'),\n Text(0.35772357723577236, 0.4189189189189189, 'gini = 0.0\\nsamples = 2\\nvalue = [2, 0, 0, 0, 0, 0, 0, 0, 0, 0, 0]'),\n Text(0.37398373983739835, 0.44594594594594594, 'gini = 0.0\\nsamples = 2\\nvalue = [0, 0, 0, 0, 0, 2, 0, 0, 0, 0, 0]'),\n Text(0.3902439024390244, 0.47297297297297297, 'gini = 0.0\\nsamples = 2\\nvalue = [0, 0, 0, 0, 2, 0, 0, 0, 0, 0, 0]'),\n Text(0.4065040650406504, 0.5, 'gini = 0.72\\nsamples = 5\\nvalue = [1, 2, 0, 0, 0, 1, 0, 0, 0, 1, 0]'),\n Text(0.42276422764227645, 0.527027027027027, 'gini = 0.375\\nsamples = 4\\nvalue = [0, 0, 0, 0, 1, 0, 0, 0, 0, 3, 0]'),\n Text(0.43902439024390244, 0.5540540540540541, 'gini = 0.611\\nsamples = 6\\nvalue = [1, 2, 0, 0, 0, 0, 0, 0, 0, 3, 0]'),\n Text(0.45528455284552843, 0.581081081081081, 'gini = 0.764\\nsamples = 12\\nvalue = [0, 3, 0, 2, 4, 0, 0, 0, 2, 0, 1]'),\n Text(0.4715447154471545, 0.6081081081081081, 'gini = 0.0\\nsamples = 4\\nvalue = [0, 0, 0, 0, 0, 0, 0, 0, 4, 0, 0]'),\n Text(0.45528455284552843, 0.6621621621621622, 'gini = 0.353\\nsamples = 35\\nvalue = [1, 1, 0, 0, 2, 0, 0, 1, 1, 28, 1]'),\n Text(0.5528455284552846, 0.6891891891891891, 'X[169] <= 0.002\\ngini = 0.46\\nsamples = 54\\nvalue = [0, 2, 5, 0, 3, 0, 1, 0, 0, 39, 4]'),\n Text(0.5365853658536586, 0.6621621621621622, 'X[398] <= 0.003\\ngini = 0.379\\nsamples = 50\\nvalue = [0, 2, 1, 0, 3, 0, 1, 0, 0, 39, 4]'),\n Text(0.5203252032520326, 0.6351351351351351, 'X[402] <= 0.006\\ngini = 0.275\\nsamples = 46\\nvalue = [0, 1, 1, 0, 1, 0, 1, 0, 0, 39, 3]'),\n Text(0.5040650406504065, 0.6081081081081081, 'X[3642] <= 0.001\\ngini = 0.212\\nsamples = 44\\nvalue = [0, 1, 1, 0, 1, 0, 1, 0, 0, 39, 1]'),\n Text(0.4878048780487805, 0.581081081081081, 'X[3657] <= 0.004\\ngini = 0.094\\nsamples = 41\\nvalue = [0, 1, 0, 0, 0, 0, 1, 0, 0, 39, 0]'),\n Text(0.4715447154471545, 0.5540540540540541, 'X[4958] <= 0.004\\ngini = 0.049\\nsamples = 40\\nvalue = [0, 1, 0, 0, 0, 0, 0, 0, 0, 39, 0]'),\n Text(0.45528455284552843, 0.527027027027027, 'gini = 0.0\\nsamples = 39\\nvalue = [0, 0, 0, 0, 0, 0, 0, 0, 0, 39, 0]'),\n Text(0.4878048780487805, 0.527027027027027, 'gini = 0.0\\nsamples = 1\\nvalue = [0, 1, 0, 0, 0, 0, 0, 0, 0, 0, 0]'),\n Text(0.5040650406504065, 0.5540540540540541, 'gini = 0.0\\nsamples = 1\\nvalue = [0, 0, 0, 0, 0, 0, 1, 0, 0, 0, 0]'),\n Text(0.5203252032520326, 0.581081081081081, 'gini = 0.667\\nsamples = 3\\nvalue = [0, 0, 1, 0, 1, 0, 0, 0, 0, 0, 1]'),\n Text(0.5365853658536586, 0.6081081081081081, 'gini = 0.0\\nsamples = 2\\nvalue = [0, 0, 0, 0, 0, 0, 0, 0, 0, 0, 2]'),\n Text(0.5528455284552846, 0.6351351351351351, 'gini = 0.625\\nsamples = 4\\nvalue = [0, 1, 0, 0, 2, 0, 0, 0, 0, 0, 1]'),\n Text(0.5691056910569106, 0.6621621621621622, 'gini = 0.0\\nsamples = 4\\nvalue = [0, 0, 4, 0, 0, 0, 0, 0, 0, 0, 0]'),\n Text(0.5284552845528455, 0.7162162162162162, 'gini = 0.0\\nsamples = 15\\nvalue = [0, 0, 15, 0, 0, 0, 0, 0, 0, 0, 0]'),\n Text(0.5447154471544715, 0.7432432432432432, 'gini = 0.481\\nsamples = 33\\nvalue = [0, 3, 0, 0, 0, 0, 1, 23, 1, 5, 0]'),\n Text(0.5609756097560976, 0.7702702702702703, 'gini = 0.416\\nsamples = 32\\nvalue = [0, 0, 4, 0, 24, 0, 1, 0, 0, 2, 1]'),\n Text(0.5772357723577236, 0.7972972972972973, 'gini = 0.0\\nsamples = 19\\nvalue = [0, 0, 0, 0, 0, 0, 0, 0, 19, 0, 0]'),\n Text(0.5934959349593496, 0.8243243243243243, 'gini = 0.361\\nsamples = 38\\nvalue = [0, 4, 1, 0, 1, 0, 0, 0, 30, 2, 0]'),\n Text(0.6422764227642277, 0.8513513513513513, 'X[83] <= 0.001\\ngini = 0.539\\nsamples = 47\\nvalue = [0, 3, 0, 30, 3, 0, 0, 0, 10, 0, 1]'),\n Text(0.6260162601626016, 0.8243243243243243, 'gini = 0.235\\nsamples = 31\\nvalue = [0, 1, 0, 27, 2, 0, 0, 0, 1, 0, 0]'),\n Text(0.6585365853658537, 0.8243243243243243, 'gini = 0.625\\nsamples = 16\\nvalue = [0, 2, 0, 3, 1, 0, 0, 0, 9, 0, 1]'),\n Text(0.6910569105691057, 0.8783783783783784, 'X[18] <= 0.005\\ngini = 0.489\\nsamples = 47\\nvalue = [0, 0, 0, 0, 4, 33, 1, 1, 3, 2, 3]'),\n Text(0.6747967479674797, 0.8513513513513513, 'gini = 0.766\\nsamples = 21\\nvalue = [0, 0, 0, 0, 4, 8, 0, 1, 3, 2, 3]'),\n Text(0.7073170731707317, 0.8513513513513513, 'gini = 0.074\\nsamples = 26\\nvalue = [0, 0, 0, 0, 0, 25, 1, 0, 0, 0, 0]'),\n Text(0.7723577235772358, 0.9054054054054054, 'X[169] <= 0.004\\ngini = 0.425\\nsamples = 109\\nvalue = [0, 0, 12, 0, 2, 1, 0, 0, 81, 2, 11]'),\n Text(0.7560975609756098, 0.8783783783783784, 'X[127] <= 0.001\\ngini = 0.228\\nsamples = 87\\nvalue = [0, 0, 2, 0, 1, 0, 0, 0, 76, 0, 8]'),\n Text(0.7398373983739838, 0.8513513513513513, 'X[450] <= 0.006\\ngini = 0.157\\nsamples = 83\\nvalue = [0, 0, 2, 0, 0, 0, 0, 0, 76, 0, 5]'),\n Text(0.7235772357723578, 0.8243243243243243, 'X[2736] <= 0.002\\ngini = 0.096\\nsamples = 80\\nvalue = [0, 0, 2, 0, 0, 0, 0, 0, 76, 0, 2]'),\n Text(0.7073170731707317, 0.7972972972972973, 'X[126] <= 0.009\\ngini = 0.05\\nsamples = 78\\nvalue = [0, 0, 0, 0, 0, 0, 0, 0, 76, 0, 2]'),\n Text(0.6910569105691057, 0.7702702702702703, 'gini = 0.0\\nsamples = 75\\nvalue = [0, 0, 0, 0, 0, 0, 0, 0, 75, 0, 0]'),\n Text(0.7235772357723578, 0.7702702702702703, 'gini = 0.444\\nsamples = 3\\nvalue = [0, 0, 0, 0, 0, 0, 0, 0, 1, 0, 2]'),\n Text(0.7398373983739838, 0.7972972972972973, 'gini = 0.0\\nsamples = 2\\nvalue = [0, 0, 2, 0, 0, 0, 0, 0, 0, 0, 0]'),\n Text(0.7560975609756098, 0.8243243243243243, 'gini = 0.0\\nsamples = 3\\nvalue = [0, 0, 0, 0, 0, 0, 0, 0, 0, 0, 3]'),\n Text(0.7723577235772358, 0.8513513513513513, 'gini = 0.375\\nsamples = 4\\nvalue = [0, 0, 0, 0, 1, 0, 0, 0, 0, 0, 3]'),\n Text(0.7886178861788617, 0.8783783783783784, 'gini = 0.711\\nsamples = 22\\nvalue = [0, 0, 10, 0, 1, 1, 0, 0, 5, 2, 3]'),\n Text(0.8699186991869918, 0.9324324324324325, 'X[36] <= 0.003\\ngini = 0.625\\nsamples = 157\\nvalue = [6, 6, 4, 1, 10, 2, 93, 4, 17, 7, 7]'),\n Text(0.8373983739837398, 0.9054054054054054, 'X[601] <= 0.001\\ngini = 0.79\\nsamples = 86\\nvalue = [1, 4, 4, 1, 8, 2, 33, 3, 16, 7, 7]'),\n Text(0.8211382113821138, 0.8783783783783784, 'X[16] <= 0.003\\ngini = 0.841\\nsamples = 72\\nvalue = [1, 4, 4, 1, 8, 2, 19, 3, 16, 7, 7]'),\n Text(0.8048780487804879, 0.8513513513513513, 'X[43] <= 0.002\\ngini = 0.781\\nsamples = 43\\nvalue = [0, 3, 3, 1, 7, 0, 17, 2, 2, 2, 6]'),\n Text(0.7886178861788617, 0.8243243243243243, 'gini = 0.858\\nsamples = 26\\nvalue = [0, 3, 3, 1, 4, 0, 4, 2, 2, 1, 6]'),\n Text(0.8211382113821138, 0.8243243243243243, 'gini = 0.381\\nsamples = 17\\nvalue = [0, 0, 0, 0, 3, 0, 13, 0, 0, 1, 0]'),\n Text(0.8373983739837398, 0.8513513513513513, 'gini = 0.721\\nsamples = 29\\nvalue = [1, 1, 1, 0, 1, 2, 2, 1, 14, 5, 1]'),\n Text(0.8536585365853658, 0.8783783783783784, 'gini = 0.0\\nsamples = 14\\nvalue = [0, 0, 0, 0, 0, 0, 14, 0, 0, 0, 0]'),\n Text(0.9024390243902439, 0.9054054054054054, 'X[6] <= 0.013\\ngini = 0.279\\nsamples = 71\\nvalue = [5, 2, 0, 0, 2, 0, 60, 1, 1, 0, 0]'),\n Text(0.8861788617886179, 0.8783783783783784, 'X[132] <= 0.003\\ngini = 0.218\\nsamples = 68\\nvalue = [2, 2, 0, 0, 2, 0, 60, 1, 1, 0, 0]'),\n Text(0.8699186991869918, 0.8513513513513513, 'X[1042] <= 0.007\\ngini = 0.146\\nsamples = 65\\nvalue = [2, 0, 0, 0, 1, 0, 60, 1, 1, 0, 0]'),\n Text(0.8536585365853658, 0.8243243243243243, 'X[313] <= 0.004\\ngini = 0.092\\nsamples = 63\\nvalue = [0, 0, 0, 0, 1, 0, 60, 1, 1, 0, 0]'),\n Text(0.8373983739837398, 0.7972972972972973, 'X[1165] <= 0.005\\ngini = 0.032\\nsamples = 61\\nvalue = [0, 0, 0, 0, 1, 0, 60, 0, 0, 0, 0]'),\n Text(0.8211382113821138, 0.7702702702702703, 'gini = 0.0\\nsamples = 60\\nvalue = [0, 0, 0, 0, 0, 0, 60, 0, 0, 0, 0]'),\n Text(0.8536585365853658, 0.7702702702702703, 'gini = 0.0\\nsamples = 1\\nvalue = [0, 0, 0, 0, 1, 0, 0, 0, 0, 0, 0]'),\n Text(0.8699186991869918, 0.7972972972972973, 'gini = 0.5\\nsamples = 2\\nvalue = [0, 0, 0, 0, 0, 0, 0, 1, 1, 0, 0]'),\n Text(0.8861788617886179, 0.8243243243243243, 'gini = 0.0\\nsamples = 2\\nvalue = [2, 0, 0, 0, 0, 0, 0, 0, 0, 0, 0]'),\n Text(0.9024390243902439, 0.8513513513513513, 'gini = 0.444\\nsamples = 3\\nvalue = [0, 2, 0, 0, 1, 0, 0, 0, 0, 0, 0]'),\n Text(0.9186991869918699, 0.8783783783783784, 'gini = 0.0\\nsamples = 3\\nvalue = [3, 0, 0, 0, 0, 0, 0, 0, 0, 0, 0]'),\n Text(0.967479674796748, 0.9594594594594594, 'X[1216] <= 0.001\\ngini = 0.098\\nsamples = 59\\nvalue = [0, 0, 56, 0, 2, 0, 0, 0, 0, 1, 0]'),\n Text(0.9512195121951219, 0.9324324324324325, 'X[255] <= 0.004\\ngini = 0.034\\nsamples = 57\\nvalue = [0, 0, 56, 0, 0, 0, 0, 0, 0, 1, 0]'),\n Text(0.9349593495934959, 0.9054054054054054, 'gini = 0.0\\nsamples = 56\\nvalue = [0, 0, 56, 0, 0, 0, 0, 0, 0, 0, 0]'),\n Text(0.967479674796748, 0.9054054054054054, 'gini = 0.0\\nsamples = 1\\nvalue = [0, 0, 0, 0, 0, 0, 0, 0, 0, 1, 0]'),\n Text(0.983739837398374, 0.9324324324324325, 'gini = 0.0\\nsamples = 2\\nvalue = [0, 0, 0, 0, 2, 0, 0, 0, 0, 0, 0]')]"
     },
     "execution_count": 68,
     "metadata": {},
     "output_type": "execute_result"
    },
    {
     "data": {
      "text/plain": "<Figure size 640x480 with 1 Axes>",
      "image/png": "[encoded data removed]"
     },
     "metadata": {},
     "output_type": "display_data"
    }
   ],
   "source": [
    "best_tree_clf = model_tuned.best_estimator_\n",
    "plot_tree(best_tree_clf)"
   ],
   "metadata": {
    "collapsed": false,
    "pycharm": {
     "name": "#%%\n"
    }
   }
  },
  {
   "cell_type": "markdown",
   "source": [
    "We can see that the main change between our first tree and this optimise tree is max_depth, our previous tree had a depth of only 2 restraining the tree from gaining more complexity allowing it to be more accurate. Here we have a depth of 100. A high min number of samples split also helps gain accuracy."
   ],
   "metadata": {
    "collapsed": false,
    "pycharm": {
     "name": "#%% md\n"
    }
   }
  },
  {
   "cell_type": "code",
   "execution_count": 69,
   "outputs": [
    {
     "name": "stdout",
     "output_type": "stream",
     "text": [
      "['Science' 'Arts' 'Science' 'Everyday life' 'Technology' 'Science'\n",
      " 'Technology' 'Society and social sciences' 'Geography' 'Everyday life'\n",
      " 'Science' 'Science' 'Technology' 'Geography' 'Mathematics'\n",
      " 'Philosophy and religion' 'History' 'Science'\n",
      " 'Society and social sciences' 'Geography' 'Mathematics' 'Science'\n",
      " 'Technology' 'Science' 'Society and social sciences' 'History' 'People'\n",
      " 'People' 'Society and social sciences' 'Geography' 'People' 'Science'\n",
      " 'Health, medicine and disease' 'Society and social sciences'\n",
      " 'Mathematics' 'Geography' 'Mathematics' 'Science' 'Everyday life'\n",
      " 'Society and social sciences' 'Mathematics' 'History'\n",
      " 'Society and social sciences' 'Technology' 'Geography' 'Arts' 'Arts'\n",
      " 'Society and social sciences' 'Philosophy and religion'\n",
      " 'Society and social sciences' 'Science' 'History'\n",
      " 'Society and social sciences' 'Geography' 'Science' 'Geography' 'Science'\n",
      " 'Geography' 'History' 'Philosophy and religion'\n",
      " 'Health, medicine and disease' 'Geography' 'History' 'History'\n",
      " 'Geography' 'Society and social sciences' 'History' 'Mathematics'\n",
      " 'Science' 'Mathematics' 'Geography' 'Science'\n",
      " 'Society and social sciences' 'Geography' 'Geography'\n",
      " 'Society and social sciences' 'Arts' 'People'\n",
      " 'Society and social sciences' 'Philosophy and religion' 'Science'\n",
      " 'Society and social sciences' 'People' 'Science' 'History' 'People'\n",
      " 'Society and social sciences' 'People' 'Society and social sciences'\n",
      " 'Society and social sciences' 'People' 'Arts' 'Geography' 'Technology'\n",
      " 'Philosophy and religion' 'Mathematics' 'Society and social sciences'\n",
      " 'Society and social sciences' 'Mathematics' 'History' 'Science'\n",
      " 'Society and social sciences' 'Technology' 'Philosophy and religion'\n",
      " 'History' 'Science' 'Science' 'History' 'Health, medicine and disease'\n",
      " 'Science' 'People' 'Society and social sciences'\n",
      " 'Society and social sciences' 'Technology' 'Science' 'Arts'\n",
      " 'Philosophy and religion' 'Science' 'Science' 'People' 'History'\n",
      " 'Health, medicine and disease' 'Society and social sciences' 'Science'\n",
      " 'Society and social sciences' 'History' 'History'\n",
      " 'Society and social sciences' 'Technology' 'Science' 'Geography' 'Arts'\n",
      " 'Society and social sciences' 'Arts' 'Science' 'Philosophy and religion'\n",
      " 'History' 'People' 'History' 'Society and social sciences' 'History'\n",
      " 'Technology' 'Technology' 'Geography' 'Science' 'Mathematics' 'Science'\n",
      " 'Philosophy and religion' 'Science' 'Philosophy and religion'\n",
      " 'Philosophy and religion' 'Technology' 'Geography' 'Geography'\n",
      " 'Society and social sciences' 'People' 'History' 'People' 'Geography'\n",
      " 'Mathematics' 'Arts' 'Society and social sciences' 'Science' 'Arts'\n",
      " 'History' 'Technology' 'Society and social sciences' 'Geography'\n",
      " 'Everyday life' 'Everyday life' 'Science' 'Science'\n",
      " 'Society and social sciences' 'Arts' 'Science'\n",
      " 'Society and social sciences' 'Science' 'People' 'Science'\n",
      " 'Health, medicine and disease' 'People' 'Society and social sciences'\n",
      " 'Everyday life' 'Health, medicine and disease' 'People' 'Science'\n",
      " 'History' 'Technology' 'Science' 'Health, medicine and disease' 'People'\n",
      " 'Society and social sciences' 'Health, medicine and disease' 'History'\n",
      " 'Health, medicine and disease' 'Society and social sciences' 'Science'\n",
      " 'Science' 'Science' 'Technology' 'People' 'History' 'History' 'Geography'\n",
      " 'Society and social sciences' 'Geography' 'People' 'Technology'\n",
      " 'Technology' 'Society and social sciences' 'History' 'Geography'\n",
      " 'Philosophy and religion' 'Society and social sciences' 'Arts'\n",
      " 'Health, medicine and disease' 'History' 'Technology'\n",
      " 'Society and social sciences' 'Everyday life' 'History' 'Technology'\n",
      " 'Science' 'Science' 'Arts' 'Society and social sciences' 'Mathematics'\n",
      " 'Geography' 'Health, medicine and disease' 'History' 'History'\n",
      " 'Society and social sciences' 'Geography' 'Mathematics' 'Science' 'Arts'\n",
      " 'People' 'Geography' 'Science' 'People' 'Geography' 'Technology'\n",
      " 'Technology' 'Society and social sciences' 'History' 'History' 'Science'\n",
      " 'People' 'Health, medicine and disease' 'Mathematics' 'Geography'\n",
      " 'Technology' 'History' 'Society and social sciences'\n",
      " 'Society and social sciences' 'Arts' 'History' 'Philosophy and religion'\n",
      " 'Science' 'Science' 'Technology' 'Philosophy and religion' 'History'\n",
      " 'Society and social sciences' 'People' 'Science' 'Everyday life' 'People'\n",
      " 'Geography' 'Geography' 'Science' 'Arts' 'Society and social sciences'\n",
      " 'Arts' 'Society and social sciences' 'Society and social sciences'\n",
      " 'Everyday life' 'Science' 'Arts' 'Technology' 'Mathematics'\n",
      " 'Society and social sciences' 'Arts' 'Arts' 'Mathematics' 'Geography'\n",
      " 'Society and social sciences' 'Science' 'Geography' 'Everyday life'\n",
      " 'People' 'Society and social sciences' 'People' 'History' 'History'\n",
      " 'People' 'Science' 'People' 'Technology' 'Mathematics'\n",
      " 'Society and social sciences' 'Science' 'History' 'History' 'Technology'\n",
      " 'Technology' 'Technology' 'Science' 'History' 'Technology' 'Arts'\n",
      " 'Philosophy and religion' 'Technology' 'Philosophy and religion'\n",
      " 'Science' 'Society and social sciences' 'Science' 'Science' 'Arts'\n",
      " 'Technology' 'Geography' 'Science' 'Science' 'People' 'Arts' 'Arts'\n",
      " 'Science' 'People' 'Technology' 'Health, medicine and disease'\n",
      " 'Health, medicine and disease' 'History' 'History'\n",
      " 'Health, medicine and disease' 'Society and social sciences'\n",
      " 'Society and social sciences' 'Geography' 'Arts' 'Everyday life'\n",
      " 'Science' 'Science' 'Technology' 'Health, medicine and disease'\n",
      " 'Geography' 'History' 'Science' 'Arts' 'People' 'People'\n",
      " 'Society and social sciences' 'Health, medicine and disease'\n",
      " 'Health, medicine and disease' 'Health, medicine and disease'\n",
      " 'Mathematics' 'History' 'History' 'Technology' 'Science' 'Science'\n",
      " 'History' 'People' 'Society and social sciences' 'Technology' 'Arts'\n",
      " 'Society and social sciences' 'Technology' 'History'\n",
      " 'Society and social sciences' 'Arts' 'Mathematics' 'Geography'\n",
      " 'Geography' 'Society and social sciences' 'Technology' 'Science'\n",
      " 'Society and social sciences' 'Science' 'History' 'History'\n",
      " 'Society and social sciences' 'Science' 'Technology'\n",
      " 'Philosophy and religion' 'Geography' 'Science' 'Philosophy and religion'\n",
      " 'History' 'Technology' 'Geography' 'Society and social sciences'\n",
      " 'Mathematics' 'Mathematics' 'Science' 'Science' 'Science'\n",
      " 'Society and social sciences' 'Geography' 'Technology' 'Everyday life'\n",
      " 'Society and social sciences' 'People' 'Science' 'History' 'Science'\n",
      " 'Everyday life' 'Science' 'Mathematics' 'History' 'Science'\n",
      " 'Society and social sciences' 'Mathematics' 'Geography' 'Science'\n",
      " 'Science' 'Philosophy and religion' 'Science' 'Technology' 'Science'\n",
      " 'Science' 'Geography' 'Arts' 'Geography' 'Society and social sciences'\n",
      " 'Philosophy and religion' 'Philosophy and religion' 'Science' 'People'\n",
      " 'Science' 'Arts' 'Everyday life' 'Science' 'People'\n",
      " 'Society and social sciences' 'Arts' 'Society and social sciences'\n",
      " 'Society and social sciences' 'Geography' 'Geography'\n",
      " 'Society and social sciences' 'Health, medicine and disease' 'Arts'\n",
      " 'Technology' 'Health, medicine and disease' 'Arts' 'History' 'History'\n",
      " 'Technology' 'Society and social sciences' 'People' 'Science'\n",
      " 'Mathematics' 'Technology' 'Geography' 'Everyday life'\n",
      " 'Society and social sciences' 'History' 'Geography' 'History' 'Arts'\n",
      " 'Technology' 'Philosophy and religion' 'Society and social sciences'\n",
      " 'Mathematics' 'Society and social sciences' 'Science' 'Arts' 'History'\n",
      " 'Society and social sciences' 'Philosophy and religion' 'Geography'\n",
      " 'Society and social sciences' 'Philosophy and religion' 'Mathematics'\n",
      " 'Geography' 'Society and social sciences' 'Mathematics' 'Geography'\n",
      " 'Health, medicine and disease' 'Everyday life' 'Science' 'Technology'\n",
      " 'Science' 'Technology' 'Society and social sciences' 'Arts' 'History'\n",
      " 'Mathematics' 'History' 'Society and social sciences' 'History'\n",
      " 'Geography' 'People' 'People' 'Arts' 'Science' 'Science' 'Mathematics'\n",
      " 'Science' 'Science' 'Technology' 'Health, medicine and disease'\n",
      " 'Geography' 'Science' 'History' 'Everyday life' 'Science' 'Science'\n",
      " 'History' 'Mathematics' 'Society and social sciences' 'Geography' 'Arts'\n",
      " 'Arts' 'Science' 'Technology' 'Technology' 'Society and social sciences'\n",
      " 'Society and social sciences' 'Technology' 'Philosophy and religion'\n",
      " 'Society and social sciences' 'Science' 'Technology' 'Mathematics'\n",
      " 'Science' 'Science' 'Geography' 'Science' 'Science' 'People' 'People'\n",
      " 'Everyday life' 'Science' 'Science' 'Geography' 'Geography' 'History'\n",
      " 'History' 'Technology' 'Mathematics' 'Philosophy and religion' 'Science'\n",
      " 'Mathematics' 'Arts' 'History' 'History' 'Science'\n",
      " 'Society and social sciences' 'History' 'Geography' 'Arts'\n",
      " 'Society and social sciences' 'Science' 'Society and social sciences'\n",
      " 'Society and social sciences' 'Philosophy and religion' 'Science'\n",
      " 'People' 'People' 'Arts' 'Arts' 'Technology' 'People' 'History'\n",
      " 'Philosophy and religion' 'Society and social sciences' 'Science' 'Arts'\n",
      " 'History' 'Science' 'Geography' 'People' 'Science' 'Mathematics'\n",
      " 'Science' 'Society and social sciences' 'Science' 'Mathematics' 'Arts'\n",
      " 'Everyday life' 'Science' 'Society and social sciences'\n",
      " 'Society and social sciences' 'Science' 'Science'\n",
      " 'Society and social sciences' 'Mathematics' 'Society and social sciences'\n",
      " 'Society and social sciences' 'Philosophy and religion'\n",
      " 'Society and social sciences' 'Everyday life' 'Philosophy and religion'\n",
      " 'Philosophy and religion' 'Science' 'Society and social sciences'\n",
      " 'Geography' 'Technology' 'Science' 'History' 'Science'\n",
      " 'Society and social sciences' 'People' 'History'\n",
      " 'Society and social sciences' 'Mathematics' 'People' 'People'\n",
      " 'Mathematics' 'Mathematics' 'Society and social sciences' 'History'\n",
      " 'Science' 'Technology' 'Technology' 'Society and social sciences'\n",
      " 'Science' 'Arts' 'History' 'Science' 'Society and social sciences'\n",
      " 'Society and social sciences' 'Technology' 'People' 'Science'\n",
      " 'Society and social sciences' 'Geography' 'Society and social sciences'\n",
      " 'Science' 'Arts' 'Arts' 'History' 'Geography' 'Technology' 'Geography'\n",
      " 'People' 'Arts' 'Health, medicine and disease'\n",
      " 'Health, medicine and disease' 'Geography' 'Technology' 'People'\n",
      " 'Science' 'Science' 'Science' 'Arts' 'Science' 'Science' 'People'\n",
      " 'Geography' 'History' 'Everyday life' 'Science' 'Technology'\n",
      " 'Society and social sciences' 'People' 'Society and social sciences'\n",
      " 'Arts' 'Society and social sciences' 'Science' 'Philosophy and religion'\n",
      " 'Science' 'Philosophy and religion' 'Geography'\n",
      " 'Society and social sciences' 'Technology' 'Arts' 'History' 'Science'\n",
      " 'Mathematics' 'Society and social sciences' 'Technology' 'History'\n",
      " 'Science' 'Science' 'Science' 'People' 'Society and social sciences'\n",
      " 'History' 'Technology' 'History' 'Arts' 'History' 'Arts' 'People'\n",
      " 'Science' 'Philosophy and religion' 'Society and social sciences'\n",
      " 'Science' 'Arts' 'Everyday life' 'Science' 'History'\n",
      " 'Society and social sciences' 'History']\n",
      "Protein                                       Science\n",
      "Early human migrations                        History\n",
      "History of Earth                              Science\n",
      "Photography                                      Arts\n",
      "Firearm                                    Technology\n",
      "                                     ...             \n",
      "Gender                                  Everyday life\n",
      "Primate                                       Science\n",
      "Pakistan                                    Geography\n",
      "Human rights              Society and social sciences\n",
      "Age of Enlightenment                          History\n",
      "Name: Theme, Length: 695, dtype: object\n",
      "-----------------\n",
      "------Test 1-----\n",
      "-----------------\n",
      "Accuracy on train set:  0.7827338129496403\n",
      "Accuracy on test set:  0.48494983277591974\n",
      "-----------------\n",
      "------Test 3-----\n",
      "-----------------\n",
      "Accuracy on train set:  0.7638603696098563\n",
      "Accuracy on test set:  0.504930966469428\n",
      "-----------------\n",
      "------Test 3-----\n",
      "-----------------\n",
      "Accuracy on train set:  0.7014388489208633\n",
      "Accuracy on test set:  0.4622905027932961\n"
     ]
    }
   ],
   "source": [
    "from sklearn.model_selection import train_test_split\n",
    "\n",
    "\n",
    "split1 = 0.3\n",
    "X_train1, X_test1, y_train1, y_test1 = train_test_split(X, y, test_size=split1)\n",
    "\n",
    "split2 = split1 + 0.7 * 0.3\n",
    "\n",
    "X_train2, X_test2, y_train2, y_test2 = train_test_split(X, y, test_size=split2)\n",
    "\n",
    "split3 = split1 + 0.7 * 0.6\n",
    "X_train3, X_test3, y_train3, y_test3 = train_test_split(X, y, test_size=split3)\n",
    "\n",
    "best_tree_clf.fit(X_train1, y_train1)\n",
    "y_pred_tree_train1 = best_tree_clf.predict(X_train1)\n",
    "y_pred_tree_test1 = best_tree_clf.predict(X_test1)\n",
    "\n",
    "best_tree_clf.fit(X_train2, y_train2)\n",
    "y_pred_tree_train2 = best_tree_clf.predict(X_train2)\n",
    "y_pred_tree_test2 = best_tree_clf.predict(X_test2)\n",
    "\n",
    "best_tree_clf.fit(X_train3, y_train3)\n",
    "y_pred_tree_train3 = best_tree_clf.predict(X_train3)\n",
    "y_pred_tree_test3 = best_tree_clf.predict(X_test3)\n",
    "\n",
    "\n",
    "Accuracy_score_train1 = accuracy_score(y_train1, y_pred_tree_train1)\n",
    "Accuracy_score_test1 = accuracy_score(y_test1, y_pred_tree_test1)\n",
    "\n",
    "Accuracy_score_train2 = accuracy_score(y_train2, y_pred_tree_train2)\n",
    "Accuracy_score_test2 = accuracy_score(y_test2, y_pred_tree_test2)\n",
    "\n",
    "Accuracy_score_train3 = accuracy_score(y_train3, y_pred_tree_train3)\n",
    "Accuracy_score_test3 = accuracy_score(y_test3, y_pred_tree_test3)\n",
    "\n",
    "print(y_pred_tree_train1)\n",
    "print(y_train1)\n",
    "\n",
    "print(\"-----------------\")\n",
    "print(\"------Test 1-----\")\n",
    "print(\"-----------------\")\n",
    "print(\"Accuracy on train set: \",Accuracy_score_train1)\n",
    "print(\"Accuracy on test set: \",Accuracy_score_test1)\n",
    "print(\"-----------------\")\n",
    "print(\"------Test 3-----\")\n",
    "print(\"-----------------\")\n",
    "print(\"Accuracy on train set: \",Accuracy_score_train2)\n",
    "print(\"Accuracy on test set: \",Accuracy_score_test2)\n",
    "print(\"-----------------\")\n",
    "print(\"------Test 3-----\")\n",
    "print(\"-----------------\")\n",
    "print(\"Accuracy on train set: \",Accuracy_score_train3)\n",
    "print(\"Accuracy on test set: \",Accuracy_score_test3)\n"
   ],
   "metadata": {
    "collapsed": false,
    "pycharm": {
     "name": "#%%\n"
    }
   }
  },
  {
   "cell_type": "markdown",
   "source": [
    "While moving 30% of our training set to our test set has a light positive impact on test set accuracy which is the most important. There is a drop in training and in testing accuracy when we move 60% of our training set to our test set because of over-fitting problems. Using a tree classifier on our data-set doesn't give us great accuracy making the analysis of the over-fitting effect more difficult."
   ],
   "metadata": {
    "collapsed": false,
    "pycharm": {
     "name": "#%% md\n"
    }
   }
  }
 ]
}