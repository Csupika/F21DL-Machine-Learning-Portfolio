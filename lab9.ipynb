{
 "cells": [
  {
   "cell_type": "code",
   "execution_count": null,
   "outputs": [],
   "source": [
    "import matplotlib.pyplot as plt\n",
    "import pandas as pd\n",
    "from sklearn.model_selection import train_test_split\n",
    "import numpy as np\n",
    "\n",
    "file_name = \"df_vector.pkl\""
   ],
   "metadata": {
    "collapsed": false,
    "pycharm": {
     "name": "#%%\n"
    }
   }
  },
  {
   "cell_type": "code",
   "execution_count": null,
   "outputs": [],
   "source": [
    "df_vector = pd.read_pickle(file_name)\n",
    "df_vector.head()"
   ],
   "metadata": {
    "collapsed": false,
    "pycharm": {
     "name": "#%%\n"
    }
   }
  },
  {
   "cell_type": "code",
   "execution_count": null,
   "outputs": [],
   "source": [
    "categories = sorted(set(df_vector['Theme']))\n",
    "i = 0\n",
    "mapping = {}\n",
    "for category in categories:\n",
    "    mapping.update({category: i})\n",
    "    i+=1\n",
    "\n",
    "df_vector[\"T.Numerical\"] = df_vector.Theme.map(mapping)\n",
    "df_vector.head()"
   ],
   "metadata": {
    "collapsed": false,
    "pycharm": {
     "name": "#%%\n"
    }
   }
  },
  {
   "cell_type": "code",
   "execution_count": null,
   "outputs": [],
   "source": [
    "import pickle\n",
    "\n",
    "with open('vocabulary.pkl', 'rb') as f:\n",
    "    vocabulary = pickle.load(f)\n",
    "\n",
    "vocabulary = np.array(vocabulary)"
   ],
   "metadata": {
    "collapsed": false,
    "pycharm": {
     "name": "#%%\n"
    }
   }
  },
  {
   "cell_type": "code",
   "execution_count": null,
   "outputs": [],
   "source": [
    "x_tmp = df_vector[\"FeatureVector\"].to_numpy()\n",
    "tmp = []\n",
    "for x in x_tmp:\n",
    "    tmp.append(x.reshape(1,-1))\n",
    "tmp_feature_per_column = pd.DataFrame(np.concatenate(tmp), index=df_vector.index, columns=vocabulary)\n",
    "tmp_feature_per_column"
   ],
   "metadata": {
    "collapsed": false,
    "pycharm": {
     "name": "#%%\n"
    }
   }
  },
  {
   "cell_type": "code",
   "execution_count": null,
   "outputs": [],
   "source": [
    "df_vector = pd.concat([df_vector, tmp_feature_per_column], axis=1)\n",
    "df_vector"
   ],
   "metadata": {
    "collapsed": false,
    "pycharm": {
     "name": "#%%\n"
    }
   }
  },
  {
   "cell_type": "markdown",
   "source": [
    "# Test Train Split For Vectors\n",
    "No need to standerdize the data as the vectors are standardized"
   ],
   "metadata": {
    "collapsed": false,
    "pycharm": {
     "name": "#%% md\n"
    }
   }
  },
  {
   "cell_type": "code",
   "execution_count": null,
   "outputs": [],
   "source": [
    "x_vector = df_vector.loc[:, \"use\":].copy()\n",
    "y_vector = df_vector[\"T.Numerical\"].copy()\n",
    "x_vector.head()"
   ],
   "metadata": {
    "collapsed": false,
    "pycharm": {
     "name": "#%%\n"
    }
   }
  },
  {
   "cell_type": "code",
   "execution_count": null,
   "outputs": [],
   "source": [
    "x_train, x_test, y_train, y_test = train_test_split(x_vector, y_vector, test_size=0.2, random_state=5)"
   ],
   "metadata": {
    "collapsed": false,
    "pycharm": {
     "name": "#%%\n"
    }
   }
  },
  {
   "cell_type": "markdown",
   "source": [
    "Check for NaN"
   ],
   "metadata": {
    "collapsed": false,
    "pycharm": {
     "name": "#%% md\n"
    }
   }
  },
  {
   "cell_type": "code",
   "execution_count": null,
   "outputs": [],
   "source": [
    "tmp = [x_train, x_test, y_train, y_test]\n",
    "\n",
    "for e in tmp:\n",
    "    print(e.isnull().values.any())"
   ],
   "metadata": {
    "collapsed": false,
    "pycharm": {
     "name": "#%%\n"
    }
   }
  },
  {
   "cell_type": "code",
   "execution_count": null,
   "outputs": [],
   "source": [
    "x_test.head()"
   ],
   "metadata": {
    "collapsed": false,
    "pycharm": {
     "name": "#%%\n"
    }
   }
  },
  {
   "cell_type": "code",
   "execution_count": null,
   "outputs": [],
   "source": [
    "y_test.head()"
   ],
   "metadata": {
    "collapsed": false,
    "pycharm": {
     "name": "#%%\n"
    }
   }
  },
  {
   "cell_type": "markdown",
   "source": [
    "# Linear Regression"
   ],
   "metadata": {
    "collapsed": false,
    "pycharm": {
     "name": "#%% md\n"
    }
   }
  },
  {
   "cell_type": "code",
   "execution_count": null,
   "outputs": [],
   "source": [
    "from sklearn import linear_model\n",
    "from sklearn.metrics import mean_squared_error\n",
    "from sklearn.linear_model import LogisticRegression"
   ],
   "metadata": {
    "collapsed": false,
    "pycharm": {
     "name": "#%%\n"
    }
   }
  },
  {
   "cell_type": "code",
   "execution_count": null,
   "outputs": [],
   "source": [
    "linear_regression = linear_model.LinearRegression()\n",
    "linear_regression.fit(x_train, y_train)\n",
    "coef = linear_regression.coef_\n",
    "print(\"Coefficient:\")\n",
    "np.array([vocabulary, coef]).T"
   ],
   "metadata": {
    "collapsed": false,
    "pycharm": {
     "name": "#%%\n"
    }
   }
  },
  {
   "cell_type": "markdown",
   "source": [
    "# Q: What does it mean in this sense the coefficient?\n",
    "As I understood: I.e. If I were to increase the `use` by +1 then the predicted value for use would increase by 2.38."
   ],
   "metadata": {
    "collapsed": false,
    "pycharm": {
     "name": "#%% md\n"
    }
   }
  },
  {
   "cell_type": "markdown",
   "source": [
    "## Lab: _Run a Linear classifier on the training data set, mark the mean squared error (MSE). What hypothesis can you make about this data set being linearly separable or not?_"
   ],
   "metadata": {
    "collapsed": false,
    "pycharm": {
     "name": "#%% md\n"
    }
   }
  },
  {
   "cell_type": "code",
   "execution_count": null,
   "outputs": [],
   "source": [
    "x_train_pred = linear_regression.predict(x_train)\n",
    "model_error = mean_squared_error(y_train, x_train_pred)\n",
    "print(f\"MSE:\\t{model_error:.50f}\")"
   ],
   "metadata": {
    "collapsed": false,
    "pycharm": {
     "name": "#%%\n"
    }
   }
  },
  {
   "cell_type": "markdown",
   "source": [
    "## A: I guess yes?\n",
    "This is model is for a multiple regression with 5000 features, I guess that makes the MSE low for the training prediction.\n",
    "\n",
    "\n",
    "## Lab: _How well does the linear classifier generalize to new data?_"
   ],
   "metadata": {
    "collapsed": false,
    "pycharm": {
     "name": "#%% md\n"
    }
   }
  },
  {
   "cell_type": "code",
   "execution_count": null,
   "outputs": [],
   "source": [
    "x_test_pred = linear_regression.predict(x_test)"
   ],
   "metadata": {
    "collapsed": false,
    "pycharm": {
     "name": "#%%\n"
    }
   }
  },
  {
   "cell_type": "code",
   "execution_count": null,
   "outputs": [],
   "source": [
    "model_error = mean_squared_error(y_test, x_test_pred)\n",
    "print(\"MSE:\\t\", model_error)"
   ],
   "metadata": {
    "collapsed": false,
    "pycharm": {
     "name": "#%%\n"
    }
   }
  },
  {
   "cell_type": "markdown",
   "source": [
    "### A: I don't know. It's hard to interpret as this is multiple regression with 5000 features. The linear regression is in a 5000D space, and it's hard to interpret an error in this environment. I have no idea whether this is good or bad."
   ],
   "metadata": {
    "collapsed": false,
    "pycharm": {
     "name": "#%% md\n"
    }
   }
  },
  {
   "cell_type": "code",
   "execution_count": null,
   "outputs": [],
   "source": [
    "from sklearn.metrics import r2_score\n",
    "\n",
    "print(f\"Coefficient of determination: {r2_score(y_train, x_train_pred)}\")\n",
    "print(f\"Coefficient of determination: {r2_score(y_test, x_test_pred)}\")"
   ],
   "metadata": {
    "collapsed": false,
    "pycharm": {
     "name": "#%%\n"
    }
   }
  },
  {
   "cell_type": "markdown",
   "source": [
    "# Logistic Regression"
   ],
   "metadata": {
    "collapsed": false,
    "pycharm": {
     "name": "#%% md\n"
    }
   }
  },
  {
   "cell_type": "code",
   "execution_count": null,
   "outputs": [
    {
     "name": "stdout",
     "output_type": "stream",
     "text": [
      "Coefficient:\n"
     ]
    },
    {
     "data": {
      "text/plain": "array([[ 0.00281593,  0.06788922,  0.03250149, ...,  0.00171438,\n         0.00180322,  0.00173704],\n       [ 0.11841402,  0.02530355,  0.01276888, ..., -0.00149299,\n         0.00193733, -0.0014704 ],\n       [-0.43057165, -0.09940201, -0.0773306 , ..., -0.00304977,\n        -0.00285461, -0.00299882],\n       ...,\n       [-0.14287325,  0.01874336, -0.18116155, ..., -0.00597523,\n        -0.00560071, -0.00587704],\n       [ 0.13457328, -0.07854224,  0.17583684, ..., -0.00391911,\n        -0.00367004, -0.00385882],\n       [ 0.7551679 ,  0.09457228,  0.02353351, ..., -0.00264088,\n        -0.00248359, -0.00259875]])"
     },
     "execution_count": 18,
     "metadata": {},
     "output_type": "execute_result"
    }
   ],
   "source": [
    "log_regression = LogisticRegression(solver=\"lbfgs\", random_state=42)\n",
    "log_regression.fit(x_train, y_train)\n",
    "coef = log_regression.coef_\n",
    "print(\"Coefficient:\")\n",
    "coef"
   ],
   "metadata": {
    "collapsed": false,
    "pycharm": {
     "name": "#%%\n"
    }
   }
  },
  {
   "cell_type": "markdown",
   "source": [
    "# Q: How to interpret coefficients for logistics regression?"
   ],
   "metadata": {
    "collapsed": false,
    "pycharm": {
     "name": "#%% md\n"
    }
   }
  },
  {
   "cell_type": "markdown",
   "source": [
    "_Use Logistic regression on your training set. Then measure the error on the training set._"
   ],
   "metadata": {
    "collapsed": false,
    "pycharm": {
     "name": "#%% md\n"
    }
   }
  },
  {
   "cell_type": "code",
   "execution_count": null,
   "outputs": [
    {
     "name": "stdout",
     "output_type": "stream",
     "text": [
      "MSE:\t13.33836477987421353930130862863734364509582519531250\n"
     ]
    }
   ],
   "source": [
    "x_train_pred = log_regression.predict(x_train)\n",
    "model_error = mean_squared_error(y_train, x_train_pred)\n",
    "print(f\"MSE:\\t{model_error:.50f}\")"
   ],
   "metadata": {
    "collapsed": false,
    "pycharm": {
     "name": "#%%\n"
    }
   }
  },
  {
   "cell_type": "markdown",
   "source": [
    "## A: For Linear Regression the MSE for the training was:\n",
    "0.00000000000000000000000000015125862104785390388707. Compared to that 13.33 is a lot. I assume for this reason Linear Regression was a stronger model?"
   ],
   "metadata": {
    "collapsed": false,
    "pycharm": {
     "name": "#%% md\n"
    }
   }
  },
  {
   "cell_type": "markdown",
   "source": [
    "## Lab: _How well does the logistic classifier generalize to new data?_"
   ],
   "metadata": {
    "collapsed": false,
    "pycharm": {
     "name": "#%% md\n"
    }
   }
  },
  {
   "cell_type": "code",
   "execution_count": null,
   "outputs": [
    {
     "name": "stdout",
     "output_type": "stream",
     "text": [
      "MSE:\t 13.28643216080402\n"
     ]
    }
   ],
   "source": [
    "x_test_pred = log_regression.predict(x_test)\n",
    "model_error = mean_squared_error(y_test, x_test_pred)\n",
    "print(\"MSE:\\t\", model_error)"
   ],
   "metadata": {
    "collapsed": false,
    "pycharm": {
     "name": "#%%\n"
    }
   }
  },
  {
   "cell_type": "markdown",
   "source": [
    "The MSE was lower for unseen data which is odd. I would have expect that the MSE for the unseen data would have been higher."
   ],
   "metadata": {
    "collapsed": false,
    "pycharm": {
     "name": "#%% md\n"
    }
   }
  },
  {
   "cell_type": "code",
   "execution_count": null,
   "outputs": [
    {
     "name": "stdout",
     "output_type": "stream",
     "text": [
      "Coefficient of determination: -0.4520322850676395\n",
      "Coefficient of determination: -0.36742034409272817\n"
     ]
    }
   ],
   "source": [
    "print(f\"Coefficient of determination: {r2_score(y_train, x_train_pred)}\")\n",
    "print(f\"Coefficient of determination: {r2_score(y_test, x_test_pred)}\")"
   ],
   "metadata": {
    "collapsed": false,
    "pycharm": {
     "name": "#%%\n"
    }
   }
  },
  {
   "cell_type": "markdown",
   "source": [
    "# Conclusion:\n",
    "* For Linear regression the model didn't perform that well. The MSE for training was: 0.00000000000000000000000000015125862104785390388707 while for the unseen test data it was: 5.735628599777146. The difference is huge.\n",
    "* For Logistic regression the model did perform well. The MSE was for training was: 13.338 while for the unseen data it was: 13.2864. The difference is low.\n"
   ],
   "metadata": {
    "collapsed": false,
    "pycharm": {
     "name": "#%% md\n"
    }
   }
  },
  {
   "cell_type": "markdown",
   "source": [
    "# Dimension Reduction\n",
    "\n",
    "## PCA\n",
    "[Doc](https://scikit-learn.org/stable/modules/generated/sklearn.decomposition.PCA.html)"
   ],
   "metadata": {
    "collapsed": false,
    "pycharm": {
     "name": "#%% md\n"
    }
   }
  },
  {
   "cell_type": "markdown",
   "source": [
    "Reduce dimension to 1D"
   ],
   "metadata": {
    "collapsed": false,
    "pycharm": {
     "name": "#%% md\n"
    }
   }
  },
  {
   "cell_type": "code",
   "execution_count": 48,
   "outputs": [],
   "source": [
    "from sklearn.decomposition import PCA\n",
    "\n",
    "PCA_reduced_x_train = PCA(n_components=2).fit_transform(x_train)\n",
    "PCA_reduced_x_test = PCA(n_components=2).fit_transform(x_test)"
   ],
   "metadata": {
    "collapsed": false,
    "pycharm": {
     "name": "#%%\n"
    }
   }
  },
  {
   "cell_type": "markdown",
   "source": [
    "Linear Regression"
   ],
   "metadata": {
    "collapsed": false,
    "pycharm": {
     "name": "#%% md\n"
    }
   }
  },
  {
   "cell_type": "code",
   "execution_count": 49,
   "outputs": [
    {
     "name": "stdout",
     "output_type": "stream",
     "text": [
      "Train MSE:\t7.60543917439298144955728275817818939685821533203125\n"
     ]
    }
   ],
   "source": [
    "linear_regression = linear_model.LinearRegression()\n",
    "linear_regression.fit(PCA_reduced_x_train, y_train)\n",
    "\n",
    "PCA_train_pred = linear_regression.predict(PCA_reduced_x_train)\n",
    "model_error = mean_squared_error(y_train, PCA_train_pred)\n",
    "\n",
    "print(f\"Train MSE:\\t{model_error:.50f}\")"
   ],
   "metadata": {
    "collapsed": false,
    "pycharm": {
     "name": "#%%\n"
    }
   }
  },
  {
   "cell_type": "code",
   "execution_count": 50,
   "outputs": [
    {
     "name": "stdout",
     "output_type": "stream",
     "text": [
      "Test MSE:\t 12.939291611720673\n"
     ]
    }
   ],
   "source": [
    "PCA_test_pred = linear_regression.predict(PCA_reduced_x_test)\n",
    "model_error = mean_squared_error(y_test, PCA_test_pred)\n",
    "print(\"Test MSE:\\t\", model_error)"
   ],
   "metadata": {
    "collapsed": false,
    "pycharm": {
     "name": "#%%\n"
    }
   }
  },
  {
   "cell_type": "code",
   "execution_count": 57,
   "outputs": [
    {
     "data": {
      "text/plain": "[<mpl_toolkits.mplot3d.art3d.Line3D at 0x22da00c3040>]"
     },
     "execution_count": 57,
     "metadata": {},
     "output_type": "execute_result"
    },
    {
     "data": {
      "text/plain": "<Figure size 640x480 with 1 Axes>",
      "image/png": "[encoded data removed]"
     },
     "metadata": {},
     "output_type": "display_data"
    }
   ],
   "source": [
    "# Plot outputs\n",
    "# ax.scatter(PCA_train_pred, y_train,  color='green')\n",
    "# plt.scatter(y_test, PCA_test_pred, color='red')\n",
    "plt.style.use('default')\n",
    "\n",
    "fig = plt.figure()\n",
    "ax = fig.add_subplot(projection='3d')\n",
    "\n",
    "ax.plot(PCA_reduced_x_train[:,0], PCA_reduced_x_train[:,1], y_train, zorder=15, linestyle='none', marker='o', alpha=0.5)\n",
    "ax.scatter(xx_pred.flatten(), yy_pred.flatten(), predicted, facecolor=(0,0,0,0), s=20, edgecolor='#70b3f0')\n",
    "\n",
    "# plt.scatter(y_test, PCA_reduced_x_test)\n",
    "# plt.plot(PCA_test_pred, PCA_reduced_x_test)\n",
    "# plt.xlabel('Actual')\n",
    "# plt.ylabel('Predicted')\n",
    "\n"
   ],
   "metadata": {
    "collapsed": false,
    "pycharm": {
     "name": "#%%\n"
    }
   }
  },
  {
   "cell_type": "code",
   "execution_count": null,
   "outputs": [],
   "source": [
    "%matplotlib notebook\n",
    "from IPython.core.display import HTML\n",
    "from matplotlib import animation\n",
    "import matplotlib.pyplot as plt\n",
    "\n",
    "def init():\n",
    "    ax.scatter(PCA_reduced_x_train[:, 0], PCA_reduced_x_train[:, 1], PCA_reduced_x_train[:, 2])\n",
    "    return fig,\n",
    "\n",
    "def animate(i):\n",
    "    ax.view_init(elev=30., azim=3.6*i)\n",
    "    return fig,\n",
    "\n",
    "fig = plt.figure()\n",
    "ax = fig.add_subplot(projection='3d')\n",
    "ax.set_title(\"FeatureVector PCA Reduced to 2D\")\n",
    "\n",
    "\n",
    "ani = animation.FuncAnimation(fig, animate, init_func=init,\n",
    "                               frames=100, interval=100, blit=False)\n",
    "ani"
   ],
   "metadata": {
    "collapsed": false,
    "pycharm": {
     "name": "#%%\n"
    }
   }
  },
  {
   "cell_type": "markdown",
   "source": [
    "## TruncatedSVD\n",
    "[Doc](https://scikit-learn.org/stable/modules/generated/sklearn.decomposition.TruncatedSVD.html#sklearn.decomposition.TruncatedSVD)"
   ],
   "metadata": {
    "collapsed": false,
    "pycharm": {
     "name": "#%% md\n"
    }
   }
  },
  {
   "cell_type": "code",
   "execution_count": null,
   "outputs": [],
   "source": [
    "from sklearn.decomposition import TruncatedSVD\n",
    "TSVD_reduced_data = TruncatedSVD(n_components=3).fit_transform(x_train)"
   ],
   "metadata": {
    "collapsed": false,
    "pycharm": {
     "name": "#%%\n"
    }
   }
  },
  {
   "cell_type": "code",
   "execution_count": null,
   "outputs": [],
   "source": [
    "%matplotlib notebook\n",
    "from IPython.core.display import HTML\n",
    "from matplotlib import animation\n",
    "import matplotlib.pyplot as plt\n",
    "\n",
    "def init():\n",
    "    ax.scatter(TSVD_reduced_data[:,0], TSVD_reduced_data[:,1], TSVD_reduced_data[:,2])\n",
    "    return fig,\n",
    "\n",
    "def animate(i):\n",
    "    ax.view_init(elev=30., azim=3.6*i)\n",
    "    return fig,\n",
    "\n",
    "fig = plt.figure()\n",
    "ax = fig.add_subplot(projection='3d')\n",
    "ax.set_title(\"FeatureVector TruncatedSVD Reduced to 2D\")\n",
    "\n",
    "\n",
    "ani = animation.FuncAnimation(fig, animate, init_func=init,\n",
    "                               frames=100, interval=100, blit=False)\n",
    "ani"
   ],
   "metadata": {
    "collapsed": false,
    "pycharm": {
     "name": "#%%\n"
    }
   }
  }
 ],
 "metadata": {
  "kernelspec": {
   "display_name": "Python 3",
   "language": "python",
   "name": "python3"
  },
  "language_info": {
   "codemirror_mode": {
    "name": "ipython",
    "version": 2
   },
   "file_extension": ".py",
   "mimetype": "text/x-python",
   "name": "python",
   "nbconvert_exporter": "python",
   "pygments_lexer": "ipython2",
   "version": "2.7.6"
  }
 },
 "nbformat": 4,
 "nbformat_minor": 0
}