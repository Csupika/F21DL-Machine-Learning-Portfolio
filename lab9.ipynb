{
 "cells": [
  {
   "cell_type": "code",
   "execution_count": 1,
   "outputs": [],
   "source": [
    "import pandas as pd\n",
    "from sklearn.model_selection import train_test_split\n",
    "import numpy as np\n",
    "\n",
    "file_name = \"df_vector.pkl\""
   ],
   "metadata": {
    "collapsed": false,
    "pycharm": {
     "name": "#%%\n"
    }
   }
  },
  {
   "cell_type": "code",
   "execution_count": 2,
   "outputs": [
    {
     "data": {
      "text/plain": "                                       Theme  \\\n0                                Mathematics   \nAbiogenesis                          Science   \nAbortion         Society and social sciences   \nAbraham Lincoln                       People   \nAbraham                               People   \n\n                                                     FeatureVector  \\\n0                [0.04838709677419355, 0.03225806451612903, 0.0...   \nAbiogenesis      [0.003003003003003003, 0.003003003003003003, 0...   \nAbortion         [0.01282051282051282, 0.003205128205128205, 0....   \nAbraham Lincoln  [0.0, 0.0030581039755351682, 0.006116207951070...   \nAbraham          [0.0, 0.005681818181818182, 0.0056818181818181...   \n\n                                                        WordVector  \n0                [0, zero, number, numerical, digit, use, repre...  \nAbiogenesis      [biology, abiogenesis, ‘, ’, greek, bios, ‘, l...  \nAbortion         [abortion, termination, pregnancy, removal, ex...  \nAbraham Lincoln  [abraham, lincoln, link, ən, february, 12, 180...  \nAbraham          [abraham, originally, abram, common, hebrew, p...  ",
      "text/html": "<div>\n<style scoped>\n    .dataframe tbody tr th:only-of-type {\n        vertical-align: middle;\n    }\n\n    .dataframe tbody tr th {\n        vertical-align: top;\n    }\n\n    .dataframe thead th {\n        text-align: right;\n    }\n</style>\n<table border=\"1\" class=\"dataframe\">\n  <thead>\n    <tr style=\"text-align: right;\">\n      <th></th>\n      <th>Theme</th>\n      <th>FeatureVector</th>\n      <th>WordVector</th>\n    </tr>\n  </thead>\n  <tbody>\n    <tr>\n      <th>0</th>\n      <td>Mathematics</td>\n      <td>[0.04838709677419355, 0.03225806451612903, 0.0...</td>\n      <td>[0, zero, number, numerical, digit, use, repre...</td>\n    </tr>\n    <tr>\n      <th>Abiogenesis</th>\n      <td>Science</td>\n      <td>[0.003003003003003003, 0.003003003003003003, 0...</td>\n      <td>[biology, abiogenesis, ‘, ’, greek, bios, ‘, l...</td>\n    </tr>\n    <tr>\n      <th>Abortion</th>\n      <td>Society and social sciences</td>\n      <td>[0.01282051282051282, 0.003205128205128205, 0....</td>\n      <td>[abortion, termination, pregnancy, removal, ex...</td>\n    </tr>\n    <tr>\n      <th>Abraham Lincoln</th>\n      <td>People</td>\n      <td>[0.0, 0.0030581039755351682, 0.006116207951070...</td>\n      <td>[abraham, lincoln, link, ən, february, 12, 180...</td>\n    </tr>\n    <tr>\n      <th>Abraham</th>\n      <td>People</td>\n      <td>[0.0, 0.005681818181818182, 0.0056818181818181...</td>\n      <td>[abraham, originally, abram, common, hebrew, p...</td>\n    </tr>\n  </tbody>\n</table>\n</div>"
     },
     "execution_count": 2,
     "metadata": {},
     "output_type": "execute_result"
    }
   ],
   "source": [
    "df_vector = pd.read_pickle(file_name)\n",
    "df_vector.head()"
   ],
   "metadata": {
    "collapsed": false,
    "pycharm": {
     "name": "#%%\n"
    }
   }
  },
  {
   "cell_type": "code",
   "execution_count": 3,
   "outputs": [
    {
     "data": {
      "text/plain": "                                       Theme  \\\n0                                Mathematics   \nAbiogenesis                          Science   \nAbortion         Society and social sciences   \nAbraham Lincoln                       People   \nAbraham                               People   \n\n                                                     FeatureVector  \\\n0                [0.04838709677419355, 0.03225806451612903, 0.0...   \nAbiogenesis      [0.003003003003003003, 0.003003003003003003, 0...   \nAbortion         [0.01282051282051282, 0.003205128205128205, 0....   \nAbraham Lincoln  [0.0, 0.0030581039755351682, 0.006116207951070...   \nAbraham          [0.0, 0.005681818181818182, 0.0056818181818181...   \n\n                                                        WordVector  \\\n0                [0, zero, number, numerical, digit, use, repre...   \nAbiogenesis      [biology, abiogenesis, ‘, ’, greek, bios, ‘, l...   \nAbortion         [abortion, termination, pregnancy, removal, ex...   \nAbraham Lincoln  [abraham, lincoln, link, ən, february, 12, 180...   \nAbraham          [abraham, originally, abram, common, hebrew, p...   \n\n                 T.Numerical  \n0                          5  \nAbiogenesis                8  \nAbortion                   9  \nAbraham Lincoln            6  \nAbraham                    6  ",
      "text/html": "<div>\n<style scoped>\n    .dataframe tbody tr th:only-of-type {\n        vertical-align: middle;\n    }\n\n    .dataframe tbody tr th {\n        vertical-align: top;\n    }\n\n    .dataframe thead th {\n        text-align: right;\n    }\n</style>\n<table border=\"1\" class=\"dataframe\">\n  <thead>\n    <tr style=\"text-align: right;\">\n      <th></th>\n      <th>Theme</th>\n      <th>FeatureVector</th>\n      <th>WordVector</th>\n      <th>T.Numerical</th>\n    </tr>\n  </thead>\n  <tbody>\n    <tr>\n      <th>0</th>\n      <td>Mathematics</td>\n      <td>[0.04838709677419355, 0.03225806451612903, 0.0...</td>\n      <td>[0, zero, number, numerical, digit, use, repre...</td>\n      <td>5</td>\n    </tr>\n    <tr>\n      <th>Abiogenesis</th>\n      <td>Science</td>\n      <td>[0.003003003003003003, 0.003003003003003003, 0...</td>\n      <td>[biology, abiogenesis, ‘, ’, greek, bios, ‘, l...</td>\n      <td>8</td>\n    </tr>\n    <tr>\n      <th>Abortion</th>\n      <td>Society and social sciences</td>\n      <td>[0.01282051282051282, 0.003205128205128205, 0....</td>\n      <td>[abortion, termination, pregnancy, removal, ex...</td>\n      <td>9</td>\n    </tr>\n    <tr>\n      <th>Abraham Lincoln</th>\n      <td>People</td>\n      <td>[0.0, 0.0030581039755351682, 0.006116207951070...</td>\n      <td>[abraham, lincoln, link, ən, february, 12, 180...</td>\n      <td>6</td>\n    </tr>\n    <tr>\n      <th>Abraham</th>\n      <td>People</td>\n      <td>[0.0, 0.005681818181818182, 0.0056818181818181...</td>\n      <td>[abraham, originally, abram, common, hebrew, p...</td>\n      <td>6</td>\n    </tr>\n  </tbody>\n</table>\n</div>"
     },
     "execution_count": 3,
     "metadata": {},
     "output_type": "execute_result"
    }
   ],
   "source": [
    "categories = sorted(set(df_vector['Theme']))\n",
    "i = 0\n",
    "mapping = {}\n",
    "for category in categories:\n",
    "    mapping.update({category: i})\n",
    "    i+=1\n",
    "\n",
    "df_vector[\"T.Numerical\"] = df_vector.Theme.map(mapping)\n",
    "df_vector.head()"
   ],
   "metadata": {
    "collapsed": false,
    "pycharm": {
     "name": "#%%\n"
    }
   }
  },
  {
   "cell_type": "code",
   "execution_count": 4,
   "outputs": [],
   "source": [
    "import pickle\n",
    "\n",
    "with open('vocabulary.pkl', 'rb') as f:\n",
    "    vocabulary = pickle.load(f)\n",
    "\n",
    "vocabulary = np.array(vocabulary)"
   ],
   "metadata": {
    "collapsed": false,
    "pycharm": {
     "name": "#%%\n"
    }
   }
  },
  {
   "cell_type": "code",
   "execution_count": 5,
   "outputs": [
    {
     "data": {
      "text/plain": "                      use   include      also     world   century       one  \\\n0                0.048387  0.032258  0.016129  0.000000  0.000000  0.016129   \nAbiogenesis      0.003003  0.003003  0.000000  0.003003  0.000000  0.000000   \nAbortion         0.012821  0.003205  0.000000  0.016026  0.000000  0.003205   \nAbraham Lincoln  0.000000  0.003058  0.006116  0.000000  0.000000  0.006116   \nAbraham          0.000000  0.005682  0.005682  0.000000  0.011364  0.000000   \n...                   ...       ...       ...       ...       ...       ...   \nWriting          0.002494  0.007481  0.004988  0.000000  0.002494  0.000000   \nYangtze          0.005051  0.005051  0.005051  0.025253  0.000000  0.015152   \nYear             0.010101  0.000000  0.010101  0.000000  0.000000  0.005051   \nZheng He         0.000000  0.000000  0.000000  0.000000  0.000000  0.000000   \nZoology          0.006452  0.006452  0.000000  0.012903  0.000000  0.006452   \n\n                     form      many     state     large  ...  determines  \\\n0                0.000000  0.016129  0.000000  0.000000  ...         0.0   \nAbiogenesis      0.006006  0.009009  0.000000  0.000000  ...         0.0   \nAbortion         0.000000  0.000000  0.006410  0.000000  ...         0.0   \nAbraham Lincoln  0.003058  0.000000  0.027523  0.000000  ...         0.0   \nAbraham          0.000000  0.000000  0.000000  0.000000  ...         0.0   \n...                   ...       ...       ...       ...  ...         ...   \nWriting          0.014963  0.004988  0.002494  0.002494  ...         0.0   \nYangtze          0.000000  0.000000  0.000000  0.010101  ...         0.0   \nYear             0.000000  0.000000  0.000000  0.000000  ...         0.0   \nZheng He         0.000000  0.000000  0.000000  0.010870  ...         0.0   \nZoology          0.006452  0.006452  0.000000  0.000000  ...         0.0   \n\n                 underwater  street  unfinished  shi  armenian  poetic  iliad  \\\n0                       0.0     0.0         0.0  0.0       0.0     0.0    0.0   \nAbiogenesis             0.0     0.0         0.0  0.0       0.0     0.0    0.0   \nAbortion                0.0     0.0         0.0  0.0       0.0     0.0    0.0   \nAbraham Lincoln         0.0     0.0         0.0  0.0       0.0     0.0    0.0   \nAbraham                 0.0     0.0         0.0  0.0       0.0     0.0    0.0   \n...                     ...     ...         ...  ...       ...     ...    ...   \nWriting                 0.0     0.0         0.0  0.0       0.0     0.0    0.0   \nYangtze                 0.0     0.0         0.0  0.0       0.0     0.0    0.0   \nYear                    0.0     0.0         0.0  0.0       0.0     0.0    0.0   \nZheng He                0.0     0.0         0.0  0.0       0.0     0.0    0.0   \nZoology                 0.0     0.0         0.0  0.0       0.0     0.0    0.0   \n\n                 odyssey  homeric  \n0                    0.0      0.0  \nAbiogenesis          0.0      0.0  \nAbortion             0.0      0.0  \nAbraham Lincoln      0.0      0.0  \nAbraham              0.0      0.0  \n...                  ...      ...  \nWriting              0.0      0.0  \nYangtze              0.0      0.0  \nYear                 0.0      0.0  \nZheng He             0.0      0.0  \nZoology              0.0      0.0  \n\n[994 rows x 5000 columns]",
      "text/html": "<div>\n<style scoped>\n    .dataframe tbody tr th:only-of-type {\n        vertical-align: middle;\n    }\n\n    .dataframe tbody tr th {\n        vertical-align: top;\n    }\n\n    .dataframe thead th {\n        text-align: right;\n    }\n</style>\n<table border=\"1\" class=\"dataframe\">\n  <thead>\n    <tr style=\"text-align: right;\">\n      <th></th>\n      <th>use</th>\n      <th>include</th>\n      <th>also</th>\n      <th>world</th>\n      <th>century</th>\n      <th>one</th>\n      <th>form</th>\n      <th>many</th>\n      <th>state</th>\n      <th>large</th>\n      <th>...</th>\n      <th>determines</th>\n      <th>underwater</th>\n      <th>street</th>\n      <th>unfinished</th>\n      <th>shi</th>\n      <th>armenian</th>\n      <th>poetic</th>\n      <th>iliad</th>\n      <th>odyssey</th>\n      <th>homeric</th>\n    </tr>\n  </thead>\n  <tbody>\n    <tr>\n      <th>0</th>\n      <td>0.048387</td>\n      <td>0.032258</td>\n      <td>0.016129</td>\n      <td>0.000000</td>\n      <td>0.000000</td>\n      <td>0.016129</td>\n      <td>0.000000</td>\n      <td>0.016129</td>\n      <td>0.000000</td>\n      <td>0.000000</td>\n      <td>...</td>\n      <td>0.0</td>\n      <td>0.0</td>\n      <td>0.0</td>\n      <td>0.0</td>\n      <td>0.0</td>\n      <td>0.0</td>\n      <td>0.0</td>\n      <td>0.0</td>\n      <td>0.0</td>\n      <td>0.0</td>\n    </tr>\n    <tr>\n      <th>Abiogenesis</th>\n      <td>0.003003</td>\n      <td>0.003003</td>\n      <td>0.000000</td>\n      <td>0.003003</td>\n      <td>0.000000</td>\n      <td>0.000000</td>\n      <td>0.006006</td>\n      <td>0.009009</td>\n      <td>0.000000</td>\n      <td>0.000000</td>\n      <td>...</td>\n      <td>0.0</td>\n      <td>0.0</td>\n      <td>0.0</td>\n      <td>0.0</td>\n      <td>0.0</td>\n      <td>0.0</td>\n      <td>0.0</td>\n      <td>0.0</td>\n      <td>0.0</td>\n      <td>0.0</td>\n    </tr>\n    <tr>\n      <th>Abortion</th>\n      <td>0.012821</td>\n      <td>0.003205</td>\n      <td>0.000000</td>\n      <td>0.016026</td>\n      <td>0.000000</td>\n      <td>0.003205</td>\n      <td>0.000000</td>\n      <td>0.000000</td>\n      <td>0.006410</td>\n      <td>0.000000</td>\n      <td>...</td>\n      <td>0.0</td>\n      <td>0.0</td>\n      <td>0.0</td>\n      <td>0.0</td>\n      <td>0.0</td>\n      <td>0.0</td>\n      <td>0.0</td>\n      <td>0.0</td>\n      <td>0.0</td>\n      <td>0.0</td>\n    </tr>\n    <tr>\n      <th>Abraham Lincoln</th>\n      <td>0.000000</td>\n      <td>0.003058</td>\n      <td>0.006116</td>\n      <td>0.000000</td>\n      <td>0.000000</td>\n      <td>0.006116</td>\n      <td>0.003058</td>\n      <td>0.000000</td>\n      <td>0.027523</td>\n      <td>0.000000</td>\n      <td>...</td>\n      <td>0.0</td>\n      <td>0.0</td>\n      <td>0.0</td>\n      <td>0.0</td>\n      <td>0.0</td>\n      <td>0.0</td>\n      <td>0.0</td>\n      <td>0.0</td>\n      <td>0.0</td>\n      <td>0.0</td>\n    </tr>\n    <tr>\n      <th>Abraham</th>\n      <td>0.000000</td>\n      <td>0.005682</td>\n      <td>0.005682</td>\n      <td>0.000000</td>\n      <td>0.011364</td>\n      <td>0.000000</td>\n      <td>0.000000</td>\n      <td>0.000000</td>\n      <td>0.000000</td>\n      <td>0.000000</td>\n      <td>...</td>\n      <td>0.0</td>\n      <td>0.0</td>\n      <td>0.0</td>\n      <td>0.0</td>\n      <td>0.0</td>\n      <td>0.0</td>\n      <td>0.0</td>\n      <td>0.0</td>\n      <td>0.0</td>\n      <td>0.0</td>\n    </tr>\n    <tr>\n      <th>...</th>\n      <td>...</td>\n      <td>...</td>\n      <td>...</td>\n      <td>...</td>\n      <td>...</td>\n      <td>...</td>\n      <td>...</td>\n      <td>...</td>\n      <td>...</td>\n      <td>...</td>\n      <td>...</td>\n      <td>...</td>\n      <td>...</td>\n      <td>...</td>\n      <td>...</td>\n      <td>...</td>\n      <td>...</td>\n      <td>...</td>\n      <td>...</td>\n      <td>...</td>\n      <td>...</td>\n    </tr>\n    <tr>\n      <th>Writing</th>\n      <td>0.002494</td>\n      <td>0.007481</td>\n      <td>0.004988</td>\n      <td>0.000000</td>\n      <td>0.002494</td>\n      <td>0.000000</td>\n      <td>0.014963</td>\n      <td>0.004988</td>\n      <td>0.002494</td>\n      <td>0.002494</td>\n      <td>...</td>\n      <td>0.0</td>\n      <td>0.0</td>\n      <td>0.0</td>\n      <td>0.0</td>\n      <td>0.0</td>\n      <td>0.0</td>\n      <td>0.0</td>\n      <td>0.0</td>\n      <td>0.0</td>\n      <td>0.0</td>\n    </tr>\n    <tr>\n      <th>Yangtze</th>\n      <td>0.005051</td>\n      <td>0.005051</td>\n      <td>0.005051</td>\n      <td>0.025253</td>\n      <td>0.000000</td>\n      <td>0.015152</td>\n      <td>0.000000</td>\n      <td>0.000000</td>\n      <td>0.000000</td>\n      <td>0.010101</td>\n      <td>...</td>\n      <td>0.0</td>\n      <td>0.0</td>\n      <td>0.0</td>\n      <td>0.0</td>\n      <td>0.0</td>\n      <td>0.0</td>\n      <td>0.0</td>\n      <td>0.0</td>\n      <td>0.0</td>\n      <td>0.0</td>\n    </tr>\n    <tr>\n      <th>Year</th>\n      <td>0.010101</td>\n      <td>0.000000</td>\n      <td>0.010101</td>\n      <td>0.000000</td>\n      <td>0.000000</td>\n      <td>0.005051</td>\n      <td>0.000000</td>\n      <td>0.000000</td>\n      <td>0.000000</td>\n      <td>0.000000</td>\n      <td>...</td>\n      <td>0.0</td>\n      <td>0.0</td>\n      <td>0.0</td>\n      <td>0.0</td>\n      <td>0.0</td>\n      <td>0.0</td>\n      <td>0.0</td>\n      <td>0.0</td>\n      <td>0.0</td>\n      <td>0.0</td>\n    </tr>\n    <tr>\n      <th>Zheng He</th>\n      <td>0.000000</td>\n      <td>0.000000</td>\n      <td>0.000000</td>\n      <td>0.000000</td>\n      <td>0.000000</td>\n      <td>0.000000</td>\n      <td>0.000000</td>\n      <td>0.000000</td>\n      <td>0.000000</td>\n      <td>0.010870</td>\n      <td>...</td>\n      <td>0.0</td>\n      <td>0.0</td>\n      <td>0.0</td>\n      <td>0.0</td>\n      <td>0.0</td>\n      <td>0.0</td>\n      <td>0.0</td>\n      <td>0.0</td>\n      <td>0.0</td>\n      <td>0.0</td>\n    </tr>\n    <tr>\n      <th>Zoology</th>\n      <td>0.006452</td>\n      <td>0.006452</td>\n      <td>0.000000</td>\n      <td>0.012903</td>\n      <td>0.000000</td>\n      <td>0.006452</td>\n      <td>0.006452</td>\n      <td>0.006452</td>\n      <td>0.000000</td>\n      <td>0.000000</td>\n      <td>...</td>\n      <td>0.0</td>\n      <td>0.0</td>\n      <td>0.0</td>\n      <td>0.0</td>\n      <td>0.0</td>\n      <td>0.0</td>\n      <td>0.0</td>\n      <td>0.0</td>\n      <td>0.0</td>\n      <td>0.0</td>\n    </tr>\n  </tbody>\n</table>\n<p>994 rows × 5000 columns</p>\n</div>"
     },
     "execution_count": 5,
     "metadata": {},
     "output_type": "execute_result"
    }
   ],
   "source": [
    "x_tmp = df_vector[\"FeatureVector\"].to_numpy()\n",
    "tmp = []\n",
    "for x in x_tmp:\n",
    "    tmp.append(x.reshape(1,-1))\n",
    "tmp_feature_per_column = pd.DataFrame(np.concatenate(tmp), index=df_vector.index, columns=vocabulary)\n",
    "tmp_feature_per_column"
   ],
   "metadata": {
    "collapsed": false,
    "pycharm": {
     "name": "#%%\n"
    }
   }
  },
  {
   "cell_type": "code",
   "execution_count": 6,
   "outputs": [
    {
     "data": {
      "text/plain": "                                       Theme  \\\n0                                Mathematics   \nAbiogenesis                          Science   \nAbortion         Society and social sciences   \nAbraham Lincoln                       People   \nAbraham                               People   \n...                                      ...   \nWriting          Society and social sciences   \nYangtze                            Geography   \nYear                                 Science   \nZheng He                              People   \nZoology                              Science   \n\n                                                     FeatureVector  \\\n0                [0.04838709677419355, 0.03225806451612903, 0.0...   \nAbiogenesis      [0.003003003003003003, 0.003003003003003003, 0...   \nAbortion         [0.01282051282051282, 0.003205128205128205, 0....   \nAbraham Lincoln  [0.0, 0.0030581039755351682, 0.006116207951070...   \nAbraham          [0.0, 0.005681818181818182, 0.0056818181818181...   \n...                                                            ...   \nWriting          [0.0024937655860349127, 0.007481296758104738, ...   \nYangtze          [0.005050505050505051, 0.005050505050505051, 0...   \nYear             [0.010101010101010102, 0.0, 0.0101010101010101...   \nZheng He         [0.0, 0.0, 0.0, 0.0, 0.0, 0.0, 0.0, 0.0, 0.0, ...   \nZoology          [0.0064516129032258064, 0.0064516129032258064,...   \n\n                                                        WordVector  \\\n0                [0, zero, number, numerical, digit, use, repre...   \nAbiogenesis      [biology, abiogenesis, ‘, ’, greek, bios, ‘, l...   \nAbortion         [abortion, termination, pregnancy, removal, ex...   \nAbraham Lincoln  [abraham, lincoln, link, ən, february, 12, 180...   \nAbraham          [abraham, originally, abram, common, hebrew, p...   \n...                                                            ...   \nWriting          [write, medium, human, communication, involve,...   \nYangtze          [yangtze, yangzi, english, simplify, chinese, ...   \nYear             [year, annus, orbital, period, planetary, body...   \nZheng He         [zheng, simplify, chinese, 郑和, traditional, ch...   \nZoology          [zoology, branch, biology, study, animal, king...   \n\n                 T.Numerical       use   include      also     world  \\\n0                          5  0.048387  0.032258  0.016129  0.000000   \nAbiogenesis                8  0.003003  0.003003  0.000000  0.003003   \nAbortion                   9  0.012821  0.003205  0.000000  0.016026   \nAbraham Lincoln            6  0.000000  0.003058  0.006116  0.000000   \nAbraham                    6  0.000000  0.005682  0.005682  0.000000   \n...                      ...       ...       ...       ...       ...   \nWriting                    9  0.002494  0.007481  0.004988  0.000000   \nYangtze                    2  0.005051  0.005051  0.005051  0.025253   \nYear                       8  0.010101  0.000000  0.010101  0.000000   \nZheng He                   6  0.000000  0.000000  0.000000  0.000000   \nZoology                    8  0.006452  0.006452  0.000000  0.012903   \n\n                  century       one  ...  determines  underwater  street  \\\n0                0.000000  0.016129  ...         0.0         0.0     0.0   \nAbiogenesis      0.000000  0.000000  ...         0.0         0.0     0.0   \nAbortion         0.000000  0.003205  ...         0.0         0.0     0.0   \nAbraham Lincoln  0.000000  0.006116  ...         0.0         0.0     0.0   \nAbraham          0.011364  0.000000  ...         0.0         0.0     0.0   \n...                   ...       ...  ...         ...         ...     ...   \nWriting          0.002494  0.000000  ...         0.0         0.0     0.0   \nYangtze          0.000000  0.015152  ...         0.0         0.0     0.0   \nYear             0.000000  0.005051  ...         0.0         0.0     0.0   \nZheng He         0.000000  0.000000  ...         0.0         0.0     0.0   \nZoology          0.000000  0.006452  ...         0.0         0.0     0.0   \n\n                 unfinished  shi  armenian  poetic  iliad  odyssey  homeric  \n0                       0.0  0.0       0.0     0.0    0.0      0.0      0.0  \nAbiogenesis             0.0  0.0       0.0     0.0    0.0      0.0      0.0  \nAbortion                0.0  0.0       0.0     0.0    0.0      0.0      0.0  \nAbraham Lincoln         0.0  0.0       0.0     0.0    0.0      0.0      0.0  \nAbraham                 0.0  0.0       0.0     0.0    0.0      0.0      0.0  \n...                     ...  ...       ...     ...    ...      ...      ...  \nWriting                 0.0  0.0       0.0     0.0    0.0      0.0      0.0  \nYangtze                 0.0  0.0       0.0     0.0    0.0      0.0      0.0  \nYear                    0.0  0.0       0.0     0.0    0.0      0.0      0.0  \nZheng He                0.0  0.0       0.0     0.0    0.0      0.0      0.0  \nZoology                 0.0  0.0       0.0     0.0    0.0      0.0      0.0  \n\n[994 rows x 5004 columns]",
      "text/html": "<div>\n<style scoped>\n    .dataframe tbody tr th:only-of-type {\n        vertical-align: middle;\n    }\n\n    .dataframe tbody tr th {\n        vertical-align: top;\n    }\n\n    .dataframe thead th {\n        text-align: right;\n    }\n</style>\n<table border=\"1\" class=\"dataframe\">\n  <thead>\n    <tr style=\"text-align: right;\">\n      <th></th>\n      <th>Theme</th>\n      <th>FeatureVector</th>\n      <th>WordVector</th>\n      <th>T.Numerical</th>\n      <th>use</th>\n      <th>include</th>\n      <th>also</th>\n      <th>world</th>\n      <th>century</th>\n      <th>one</th>\n      <th>...</th>\n      <th>determines</th>\n      <th>underwater</th>\n      <th>street</th>\n      <th>unfinished</th>\n      <th>shi</th>\n      <th>armenian</th>\n      <th>poetic</th>\n      <th>iliad</th>\n      <th>odyssey</th>\n      <th>homeric</th>\n    </tr>\n  </thead>\n  <tbody>\n    <tr>\n      <th>0</th>\n      <td>Mathematics</td>\n      <td>[0.04838709677419355, 0.03225806451612903, 0.0...</td>\n      <td>[0, zero, number, numerical, digit, use, repre...</td>\n      <td>5</td>\n      <td>0.048387</td>\n      <td>0.032258</td>\n      <td>0.016129</td>\n      <td>0.000000</td>\n      <td>0.000000</td>\n      <td>0.016129</td>\n      <td>...</td>\n      <td>0.0</td>\n      <td>0.0</td>\n      <td>0.0</td>\n      <td>0.0</td>\n      <td>0.0</td>\n      <td>0.0</td>\n      <td>0.0</td>\n      <td>0.0</td>\n      <td>0.0</td>\n      <td>0.0</td>\n    </tr>\n    <tr>\n      <th>Abiogenesis</th>\n      <td>Science</td>\n      <td>[0.003003003003003003, 0.003003003003003003, 0...</td>\n      <td>[biology, abiogenesis, ‘, ’, greek, bios, ‘, l...</td>\n      <td>8</td>\n      <td>0.003003</td>\n      <td>0.003003</td>\n      <td>0.000000</td>\n      <td>0.003003</td>\n      <td>0.000000</td>\n      <td>0.000000</td>\n      <td>...</td>\n      <td>0.0</td>\n      <td>0.0</td>\n      <td>0.0</td>\n      <td>0.0</td>\n      <td>0.0</td>\n      <td>0.0</td>\n      <td>0.0</td>\n      <td>0.0</td>\n      <td>0.0</td>\n      <td>0.0</td>\n    </tr>\n    <tr>\n      <th>Abortion</th>\n      <td>Society and social sciences</td>\n      <td>[0.01282051282051282, 0.003205128205128205, 0....</td>\n      <td>[abortion, termination, pregnancy, removal, ex...</td>\n      <td>9</td>\n      <td>0.012821</td>\n      <td>0.003205</td>\n      <td>0.000000</td>\n      <td>0.016026</td>\n      <td>0.000000</td>\n      <td>0.003205</td>\n      <td>...</td>\n      <td>0.0</td>\n      <td>0.0</td>\n      <td>0.0</td>\n      <td>0.0</td>\n      <td>0.0</td>\n      <td>0.0</td>\n      <td>0.0</td>\n      <td>0.0</td>\n      <td>0.0</td>\n      <td>0.0</td>\n    </tr>\n    <tr>\n      <th>Abraham Lincoln</th>\n      <td>People</td>\n      <td>[0.0, 0.0030581039755351682, 0.006116207951070...</td>\n      <td>[abraham, lincoln, link, ən, february, 12, 180...</td>\n      <td>6</td>\n      <td>0.000000</td>\n      <td>0.003058</td>\n      <td>0.006116</td>\n      <td>0.000000</td>\n      <td>0.000000</td>\n      <td>0.006116</td>\n      <td>...</td>\n      <td>0.0</td>\n      <td>0.0</td>\n      <td>0.0</td>\n      <td>0.0</td>\n      <td>0.0</td>\n      <td>0.0</td>\n      <td>0.0</td>\n      <td>0.0</td>\n      <td>0.0</td>\n      <td>0.0</td>\n    </tr>\n    <tr>\n      <th>Abraham</th>\n      <td>People</td>\n      <td>[0.0, 0.005681818181818182, 0.0056818181818181...</td>\n      <td>[abraham, originally, abram, common, hebrew, p...</td>\n      <td>6</td>\n      <td>0.000000</td>\n      <td>0.005682</td>\n      <td>0.005682</td>\n      <td>0.000000</td>\n      <td>0.011364</td>\n      <td>0.000000</td>\n      <td>...</td>\n      <td>0.0</td>\n      <td>0.0</td>\n      <td>0.0</td>\n      <td>0.0</td>\n      <td>0.0</td>\n      <td>0.0</td>\n      <td>0.0</td>\n      <td>0.0</td>\n      <td>0.0</td>\n      <td>0.0</td>\n    </tr>\n    <tr>\n      <th>...</th>\n      <td>...</td>\n      <td>...</td>\n      <td>...</td>\n      <td>...</td>\n      <td>...</td>\n      <td>...</td>\n      <td>...</td>\n      <td>...</td>\n      <td>...</td>\n      <td>...</td>\n      <td>...</td>\n      <td>...</td>\n      <td>...</td>\n      <td>...</td>\n      <td>...</td>\n      <td>...</td>\n      <td>...</td>\n      <td>...</td>\n      <td>...</td>\n      <td>...</td>\n      <td>...</td>\n    </tr>\n    <tr>\n      <th>Writing</th>\n      <td>Society and social sciences</td>\n      <td>[0.0024937655860349127, 0.007481296758104738, ...</td>\n      <td>[write, medium, human, communication, involve,...</td>\n      <td>9</td>\n      <td>0.002494</td>\n      <td>0.007481</td>\n      <td>0.004988</td>\n      <td>0.000000</td>\n      <td>0.002494</td>\n      <td>0.000000</td>\n      <td>...</td>\n      <td>0.0</td>\n      <td>0.0</td>\n      <td>0.0</td>\n      <td>0.0</td>\n      <td>0.0</td>\n      <td>0.0</td>\n      <td>0.0</td>\n      <td>0.0</td>\n      <td>0.0</td>\n      <td>0.0</td>\n    </tr>\n    <tr>\n      <th>Yangtze</th>\n      <td>Geography</td>\n      <td>[0.005050505050505051, 0.005050505050505051, 0...</td>\n      <td>[yangtze, yangzi, english, simplify, chinese, ...</td>\n      <td>2</td>\n      <td>0.005051</td>\n      <td>0.005051</td>\n      <td>0.005051</td>\n      <td>0.025253</td>\n      <td>0.000000</td>\n      <td>0.015152</td>\n      <td>...</td>\n      <td>0.0</td>\n      <td>0.0</td>\n      <td>0.0</td>\n      <td>0.0</td>\n      <td>0.0</td>\n      <td>0.0</td>\n      <td>0.0</td>\n      <td>0.0</td>\n      <td>0.0</td>\n      <td>0.0</td>\n    </tr>\n    <tr>\n      <th>Year</th>\n      <td>Science</td>\n      <td>[0.010101010101010102, 0.0, 0.0101010101010101...</td>\n      <td>[year, annus, orbital, period, planetary, body...</td>\n      <td>8</td>\n      <td>0.010101</td>\n      <td>0.000000</td>\n      <td>0.010101</td>\n      <td>0.000000</td>\n      <td>0.000000</td>\n      <td>0.005051</td>\n      <td>...</td>\n      <td>0.0</td>\n      <td>0.0</td>\n      <td>0.0</td>\n      <td>0.0</td>\n      <td>0.0</td>\n      <td>0.0</td>\n      <td>0.0</td>\n      <td>0.0</td>\n      <td>0.0</td>\n      <td>0.0</td>\n    </tr>\n    <tr>\n      <th>Zheng He</th>\n      <td>People</td>\n      <td>[0.0, 0.0, 0.0, 0.0, 0.0, 0.0, 0.0, 0.0, 0.0, ...</td>\n      <td>[zheng, simplify, chinese, 郑和, traditional, ch...</td>\n      <td>6</td>\n      <td>0.000000</td>\n      <td>0.000000</td>\n      <td>0.000000</td>\n      <td>0.000000</td>\n      <td>0.000000</td>\n      <td>0.000000</td>\n      <td>...</td>\n      <td>0.0</td>\n      <td>0.0</td>\n      <td>0.0</td>\n      <td>0.0</td>\n      <td>0.0</td>\n      <td>0.0</td>\n      <td>0.0</td>\n      <td>0.0</td>\n      <td>0.0</td>\n      <td>0.0</td>\n    </tr>\n    <tr>\n      <th>Zoology</th>\n      <td>Science</td>\n      <td>[0.0064516129032258064, 0.0064516129032258064,...</td>\n      <td>[zoology, branch, biology, study, animal, king...</td>\n      <td>8</td>\n      <td>0.006452</td>\n      <td>0.006452</td>\n      <td>0.000000</td>\n      <td>0.012903</td>\n      <td>0.000000</td>\n      <td>0.006452</td>\n      <td>...</td>\n      <td>0.0</td>\n      <td>0.0</td>\n      <td>0.0</td>\n      <td>0.0</td>\n      <td>0.0</td>\n      <td>0.0</td>\n      <td>0.0</td>\n      <td>0.0</td>\n      <td>0.0</td>\n      <td>0.0</td>\n    </tr>\n  </tbody>\n</table>\n<p>994 rows × 5004 columns</p>\n</div>"
     },
     "execution_count": 6,
     "metadata": {},
     "output_type": "execute_result"
    }
   ],
   "source": [
    "df_vector = pd.concat([df_vector, tmp_feature_per_column], axis=1)\n",
    "df_vector"
   ],
   "metadata": {
    "collapsed": false,
    "pycharm": {
     "name": "#%%\n"
    }
   }
  },
  {
   "cell_type": "markdown",
   "source": [
    "# Test Train Split For Vectors\n",
    "No need to standerdize the data as the vectors are standardized"
   ],
   "metadata": {
    "collapsed": false,
    "pycharm": {
     "name": "#%% md\n"
    }
   }
  },
  {
   "cell_type": "code",
   "execution_count": 7,
   "outputs": [
    {
     "data": {
      "text/plain": "                      use   include      also     world   century       one  \\\n0                0.048387  0.032258  0.016129  0.000000  0.000000  0.016129   \nAbiogenesis      0.003003  0.003003  0.000000  0.003003  0.000000  0.000000   \nAbortion         0.012821  0.003205  0.000000  0.016026  0.000000  0.003205   \nAbraham Lincoln  0.000000  0.003058  0.006116  0.000000  0.000000  0.006116   \nAbraham          0.000000  0.005682  0.005682  0.000000  0.011364  0.000000   \n\n                     form      many     state  large  ...  determines  \\\n0                0.000000  0.016129  0.000000    0.0  ...         0.0   \nAbiogenesis      0.006006  0.009009  0.000000    0.0  ...         0.0   \nAbortion         0.000000  0.000000  0.006410    0.0  ...         0.0   \nAbraham Lincoln  0.003058  0.000000  0.027523    0.0  ...         0.0   \nAbraham          0.000000  0.000000  0.000000    0.0  ...         0.0   \n\n                 underwater  street  unfinished  shi  armenian  poetic  iliad  \\\n0                       0.0     0.0         0.0  0.0       0.0     0.0    0.0   \nAbiogenesis             0.0     0.0         0.0  0.0       0.0     0.0    0.0   \nAbortion                0.0     0.0         0.0  0.0       0.0     0.0    0.0   \nAbraham Lincoln         0.0     0.0         0.0  0.0       0.0     0.0    0.0   \nAbraham                 0.0     0.0         0.0  0.0       0.0     0.0    0.0   \n\n                 odyssey  homeric  \n0                    0.0      0.0  \nAbiogenesis          0.0      0.0  \nAbortion             0.0      0.0  \nAbraham Lincoln      0.0      0.0  \nAbraham              0.0      0.0  \n\n[5 rows x 5000 columns]",
      "text/html": "<div>\n<style scoped>\n    .dataframe tbody tr th:only-of-type {\n        vertical-align: middle;\n    }\n\n    .dataframe tbody tr th {\n        vertical-align: top;\n    }\n\n    .dataframe thead th {\n        text-align: right;\n    }\n</style>\n<table border=\"1\" class=\"dataframe\">\n  <thead>\n    <tr style=\"text-align: right;\">\n      <th></th>\n      <th>use</th>\n      <th>include</th>\n      <th>also</th>\n      <th>world</th>\n      <th>century</th>\n      <th>one</th>\n      <th>form</th>\n      <th>many</th>\n      <th>state</th>\n      <th>large</th>\n      <th>...</th>\n      <th>determines</th>\n      <th>underwater</th>\n      <th>street</th>\n      <th>unfinished</th>\n      <th>shi</th>\n      <th>armenian</th>\n      <th>poetic</th>\n      <th>iliad</th>\n      <th>odyssey</th>\n      <th>homeric</th>\n    </tr>\n  </thead>\n  <tbody>\n    <tr>\n      <th>0</th>\n      <td>0.048387</td>\n      <td>0.032258</td>\n      <td>0.016129</td>\n      <td>0.000000</td>\n      <td>0.000000</td>\n      <td>0.016129</td>\n      <td>0.000000</td>\n      <td>0.016129</td>\n      <td>0.000000</td>\n      <td>0.0</td>\n      <td>...</td>\n      <td>0.0</td>\n      <td>0.0</td>\n      <td>0.0</td>\n      <td>0.0</td>\n      <td>0.0</td>\n      <td>0.0</td>\n      <td>0.0</td>\n      <td>0.0</td>\n      <td>0.0</td>\n      <td>0.0</td>\n    </tr>\n    <tr>\n      <th>Abiogenesis</th>\n      <td>0.003003</td>\n      <td>0.003003</td>\n      <td>0.000000</td>\n      <td>0.003003</td>\n      <td>0.000000</td>\n      <td>0.000000</td>\n      <td>0.006006</td>\n      <td>0.009009</td>\n      <td>0.000000</td>\n      <td>0.0</td>\n      <td>...</td>\n      <td>0.0</td>\n      <td>0.0</td>\n      <td>0.0</td>\n      <td>0.0</td>\n      <td>0.0</td>\n      <td>0.0</td>\n      <td>0.0</td>\n      <td>0.0</td>\n      <td>0.0</td>\n      <td>0.0</td>\n    </tr>\n    <tr>\n      <th>Abortion</th>\n      <td>0.012821</td>\n      <td>0.003205</td>\n      <td>0.000000</td>\n      <td>0.016026</td>\n      <td>0.000000</td>\n      <td>0.003205</td>\n      <td>0.000000</td>\n      <td>0.000000</td>\n      <td>0.006410</td>\n      <td>0.0</td>\n      <td>...</td>\n      <td>0.0</td>\n      <td>0.0</td>\n      <td>0.0</td>\n      <td>0.0</td>\n      <td>0.0</td>\n      <td>0.0</td>\n      <td>0.0</td>\n      <td>0.0</td>\n      <td>0.0</td>\n      <td>0.0</td>\n    </tr>\n    <tr>\n      <th>Abraham Lincoln</th>\n      <td>0.000000</td>\n      <td>0.003058</td>\n      <td>0.006116</td>\n      <td>0.000000</td>\n      <td>0.000000</td>\n      <td>0.006116</td>\n      <td>0.003058</td>\n      <td>0.000000</td>\n      <td>0.027523</td>\n      <td>0.0</td>\n      <td>...</td>\n      <td>0.0</td>\n      <td>0.0</td>\n      <td>0.0</td>\n      <td>0.0</td>\n      <td>0.0</td>\n      <td>0.0</td>\n      <td>0.0</td>\n      <td>0.0</td>\n      <td>0.0</td>\n      <td>0.0</td>\n    </tr>\n    <tr>\n      <th>Abraham</th>\n      <td>0.000000</td>\n      <td>0.005682</td>\n      <td>0.005682</td>\n      <td>0.000000</td>\n      <td>0.011364</td>\n      <td>0.000000</td>\n      <td>0.000000</td>\n      <td>0.000000</td>\n      <td>0.000000</td>\n      <td>0.0</td>\n      <td>...</td>\n      <td>0.0</td>\n      <td>0.0</td>\n      <td>0.0</td>\n      <td>0.0</td>\n      <td>0.0</td>\n      <td>0.0</td>\n      <td>0.0</td>\n      <td>0.0</td>\n      <td>0.0</td>\n      <td>0.0</td>\n    </tr>\n  </tbody>\n</table>\n<p>5 rows × 5000 columns</p>\n</div>"
     },
     "execution_count": 7,
     "metadata": {},
     "output_type": "execute_result"
    }
   ],
   "source": [
    "x_vector = df_vector.loc[:, \"use\":].copy()\n",
    "y_vector = df_vector[\"T.Numerical\"].copy()\n",
    "x_vector.head()"
   ],
   "metadata": {
    "collapsed": false,
    "pycharm": {
     "name": "#%%\n"
    }
   }
  },
  {
   "cell_type": "code",
   "execution_count": 8,
   "outputs": [],
   "source": [
    "x_vec_train, x_vec_test, y_vec_train, y_vec_test = train_test_split(x_vector, y_vector, test_size=0.2, random_state=5)"
   ],
   "metadata": {
    "collapsed": false,
    "pycharm": {
     "name": "#%%\n"
    }
   }
  },
  {
   "cell_type": "markdown",
   "source": [
    "Check for NaN"
   ],
   "metadata": {
    "collapsed": false,
    "pycharm": {
     "name": "#%% md\n"
    }
   }
  },
  {
   "cell_type": "code",
   "execution_count": 9,
   "outputs": [
    {
     "name": "stdout",
     "output_type": "stream",
     "text": [
      "False\n",
      "False\n",
      "False\n",
      "False\n"
     ]
    }
   ],
   "source": [
    "tmp = [x_vec_train, x_vec_test, y_vec_train, y_vec_test]\n",
    "\n",
    "for e in tmp:\n",
    "    print(e.isnull().values.any())"
   ],
   "metadata": {
    "collapsed": false,
    "pycharm": {
     "name": "#%%\n"
    }
   }
  },
  {
   "cell_type": "code",
   "execution_count": 10,
   "outputs": [
    {
     "data": {
      "text/plain": "                                                        use   include  \\\nTea                                                0.000000  0.006944   \nHippocrates                                        0.016807  0.000000   \nMedication                                         0.024540  0.006135   \nInternational Red Cross and Red Crescent Movement  0.000000  0.000000   \nBlack Death                                        0.000000  0.000000   \n\n                                                       also     world  \\\nTea                                                0.006944  0.006944   \nHippocrates                                        0.016807  0.000000   \nMedication                                         0.006135  0.006135   \nInternational Red Cross and Red Crescent Movement  0.000000  0.000000   \nBlack Death                                        0.008621  0.008621   \n\n                                                    century       one  \\\nTea                                                0.020833  0.000000   \nHippocrates                                        0.000000  0.008403   \nMedication                                         0.000000  0.006135   \nInternational Red Cross and Red Crescent Movement  0.000000  0.000000   \nBlack Death                                        0.012931  0.008621   \n\n                                                      form      many  state  \\\nTea                                                0.00000  0.006944    0.0   \nHippocrates                                        0.00000  0.000000    0.0   \nMedication                                         0.00000  0.000000    0.0   \nInternational Red Cross and Red Crescent Movement  0.00000  0.000000    0.0   \nBlack Death                                        0.00431  0.000000    0.0   \n\n                                                      large  ...  determines  \\\nTea                                                0.006944  ...         0.0   \nHippocrates                                        0.000000  ...         0.0   \nMedication                                         0.000000  ...         0.0   \nInternational Red Cross and Red Crescent Movement  0.000000  ...         0.0   \nBlack Death                                        0.000000  ...         0.0   \n\n                                                   underwater  street  \\\nTea                                                       0.0     0.0   \nHippocrates                                               0.0     0.0   \nMedication                                                0.0     0.0   \nInternational Red Cross and Red Crescent Movement         0.0     0.0   \nBlack Death                                               0.0     0.0   \n\n                                                   unfinished  shi  armenian  \\\nTea                                                       0.0  0.0       0.0   \nHippocrates                                               0.0  0.0       0.0   \nMedication                                                0.0  0.0       0.0   \nInternational Red Cross and Red Crescent Movement         0.0  0.0       0.0   \nBlack Death                                               0.0  0.0       0.0   \n\n                                                   poetic  iliad  odyssey  \\\nTea                                                   0.0    0.0      0.0   \nHippocrates                                           0.0    0.0      0.0   \nMedication                                            0.0    0.0      0.0   \nInternational Red Cross and Red Crescent Movement     0.0    0.0      0.0   \nBlack Death                                           0.0    0.0      0.0   \n\n                                                   homeric  \nTea                                                    0.0  \nHippocrates                                            0.0  \nMedication                                             0.0  \nInternational Red Cross and Red Crescent Movement      0.0  \nBlack Death                                            0.0  \n\n[5 rows x 5000 columns]",
      "text/html": "<div>\n<style scoped>\n    .dataframe tbody tr th:only-of-type {\n        vertical-align: middle;\n    }\n\n    .dataframe tbody tr th {\n        vertical-align: top;\n    }\n\n    .dataframe thead th {\n        text-align: right;\n    }\n</style>\n<table border=\"1\" class=\"dataframe\">\n  <thead>\n    <tr style=\"text-align: right;\">\n      <th></th>\n      <th>use</th>\n      <th>include</th>\n      <th>also</th>\n      <th>world</th>\n      <th>century</th>\n      <th>one</th>\n      <th>form</th>\n      <th>many</th>\n      <th>state</th>\n      <th>large</th>\n      <th>...</th>\n      <th>determines</th>\n      <th>underwater</th>\n      <th>street</th>\n      <th>unfinished</th>\n      <th>shi</th>\n      <th>armenian</th>\n      <th>poetic</th>\n      <th>iliad</th>\n      <th>odyssey</th>\n      <th>homeric</th>\n    </tr>\n  </thead>\n  <tbody>\n    <tr>\n      <th>Tea</th>\n      <td>0.000000</td>\n      <td>0.006944</td>\n      <td>0.006944</td>\n      <td>0.006944</td>\n      <td>0.020833</td>\n      <td>0.000000</td>\n      <td>0.00000</td>\n      <td>0.006944</td>\n      <td>0.0</td>\n      <td>0.006944</td>\n      <td>...</td>\n      <td>0.0</td>\n      <td>0.0</td>\n      <td>0.0</td>\n      <td>0.0</td>\n      <td>0.0</td>\n      <td>0.0</td>\n      <td>0.0</td>\n      <td>0.0</td>\n      <td>0.0</td>\n      <td>0.0</td>\n    </tr>\n    <tr>\n      <th>Hippocrates</th>\n      <td>0.016807</td>\n      <td>0.000000</td>\n      <td>0.016807</td>\n      <td>0.000000</td>\n      <td>0.000000</td>\n      <td>0.008403</td>\n      <td>0.00000</td>\n      <td>0.000000</td>\n      <td>0.0</td>\n      <td>0.000000</td>\n      <td>...</td>\n      <td>0.0</td>\n      <td>0.0</td>\n      <td>0.0</td>\n      <td>0.0</td>\n      <td>0.0</td>\n      <td>0.0</td>\n      <td>0.0</td>\n      <td>0.0</td>\n      <td>0.0</td>\n      <td>0.0</td>\n    </tr>\n    <tr>\n      <th>Medication</th>\n      <td>0.024540</td>\n      <td>0.006135</td>\n      <td>0.006135</td>\n      <td>0.006135</td>\n      <td>0.000000</td>\n      <td>0.006135</td>\n      <td>0.00000</td>\n      <td>0.000000</td>\n      <td>0.0</td>\n      <td>0.000000</td>\n      <td>...</td>\n      <td>0.0</td>\n      <td>0.0</td>\n      <td>0.0</td>\n      <td>0.0</td>\n      <td>0.0</td>\n      <td>0.0</td>\n      <td>0.0</td>\n      <td>0.0</td>\n      <td>0.0</td>\n      <td>0.0</td>\n    </tr>\n    <tr>\n      <th>International Red Cross and Red Crescent Movement</th>\n      <td>0.000000</td>\n      <td>0.000000</td>\n      <td>0.000000</td>\n      <td>0.000000</td>\n      <td>0.000000</td>\n      <td>0.000000</td>\n      <td>0.00000</td>\n      <td>0.000000</td>\n      <td>0.0</td>\n      <td>0.000000</td>\n      <td>...</td>\n      <td>0.0</td>\n      <td>0.0</td>\n      <td>0.0</td>\n      <td>0.0</td>\n      <td>0.0</td>\n      <td>0.0</td>\n      <td>0.0</td>\n      <td>0.0</td>\n      <td>0.0</td>\n      <td>0.0</td>\n    </tr>\n    <tr>\n      <th>Black Death</th>\n      <td>0.000000</td>\n      <td>0.000000</td>\n      <td>0.008621</td>\n      <td>0.008621</td>\n      <td>0.012931</td>\n      <td>0.008621</td>\n      <td>0.00431</td>\n      <td>0.000000</td>\n      <td>0.0</td>\n      <td>0.000000</td>\n      <td>...</td>\n      <td>0.0</td>\n      <td>0.0</td>\n      <td>0.0</td>\n      <td>0.0</td>\n      <td>0.0</td>\n      <td>0.0</td>\n      <td>0.0</td>\n      <td>0.0</td>\n      <td>0.0</td>\n      <td>0.0</td>\n    </tr>\n  </tbody>\n</table>\n<p>5 rows × 5000 columns</p>\n</div>"
     },
     "execution_count": 10,
     "metadata": {},
     "output_type": "execute_result"
    }
   ],
   "source": [
    "x_vec_test.head()"
   ],
   "metadata": {
    "collapsed": false,
    "pycharm": {
     "name": "#%%\n"
    }
   }
  },
  {
   "cell_type": "code",
   "execution_count": 11,
   "outputs": [
    {
     "data": {
      "text/plain": "Tea                                                  1\nHippocrates                                          6\nMedication                                           3\nInternational Red Cross and Red Crescent Movement    9\nBlack Death                                          4\nName: T.Numerical, dtype: int64"
     },
     "execution_count": 11,
     "metadata": {},
     "output_type": "execute_result"
    }
   ],
   "source": [
    "y_vec_test.head()"
   ],
   "metadata": {
    "collapsed": false,
    "pycharm": {
     "name": "#%%\n"
    }
   }
  },
  {
   "cell_type": "markdown",
   "source": [
    "# Linear Regression"
   ],
   "metadata": {
    "collapsed": false,
    "pycharm": {
     "name": "#%% md\n"
    }
   }
  },
  {
   "cell_type": "code",
   "execution_count": 12,
   "outputs": [],
   "source": [
    "from sklearn import linear_model\n",
    "from sklearn.metrics import mean_squared_error\n",
    "from sklearn.linear_model import LogisticRegression"
   ],
   "metadata": {
    "collapsed": false,
    "pycharm": {
     "name": "#%%\n"
    }
   }
  },
  {
   "cell_type": "code",
   "execution_count": 13,
   "outputs": [
    {
     "name": "stdout",
     "output_type": "stream",
     "text": [
      "Coefficient:\n"
     ]
    },
    {
     "data": {
      "text/plain": "array([['use', '2.3791646012036516'],\n       ['include', '-9.88182827459756'],\n       ['also', '-12.732727668777333'],\n       ...,\n       ['iliad', '0.7756652249437905'],\n       ['odyssey', '-0.08843378303825482'],\n       ['homeric', '4.93890605172706']], dtype='<U32')"
     },
     "execution_count": 13,
     "metadata": {},
     "output_type": "execute_result"
    }
   ],
   "source": [
    "linear_regression = linear_model.LinearRegression()\n",
    "linear_regression.fit(x_vec_train, y_vec_train)\n",
    "coef = linear_regression.coef_\n",
    "print(\"Coefficient:\")\n",
    "np.array([vocabulary, coef]).T"
   ],
   "metadata": {
    "collapsed": false,
    "pycharm": {
     "name": "#%%\n"
    }
   }
  },
  {
   "cell_type": "markdown",
   "source": [
    "# Q: What does it mean in this sense the coefficient?\n",
    "As I understood: I.e. If I were to increase the `use` by +1 then the predicted value for use would increase by 2.38."
   ],
   "metadata": {
    "collapsed": false,
    "pycharm": {
     "name": "#%% md\n"
    }
   }
  },
  {
   "cell_type": "markdown",
   "source": [
    "## Lab: _Run a Linear classifier on the training data set, mark the mean squared error (MSE). What hypothesis can you make about this data set being linearly separable or not?_"
   ],
   "metadata": {
    "collapsed": false,
    "pycharm": {
     "name": "#%% md\n"
    }
   }
  },
  {
   "cell_type": "code",
   "execution_count": 14,
   "outputs": [
    {
     "name": "stdout",
     "output_type": "stream",
     "text": [
      "MSE:\t0.00000000000000000000000000015125862104785390388707\n"
     ]
    }
   ],
   "source": [
    "x_vec_train_pred = linear_regression.predict(x_vec_train)\n",
    "model_error = mean_squared_error(y_vec_train, x_vec_train_pred)\n",
    "print(f\"MSE:\\t{model_error:.50f}\")"
   ],
   "metadata": {
    "collapsed": false,
    "pycharm": {
     "name": "#%%\n"
    }
   }
  },
  {
   "cell_type": "markdown",
   "source": [
    "## A: I guess yes?\n",
    "This is model is for a multiple regression with 5000 features, I guess that makes the MSE low for the training prediction.\n",
    "\n",
    "\n",
    "## Lab: _How well does the linear classifier generalize to new data?_"
   ],
   "metadata": {
    "collapsed": false,
    "pycharm": {
     "name": "#%% md\n"
    }
   }
  },
  {
   "cell_type": "code",
   "execution_count": 15,
   "outputs": [],
   "source": [
    "x_vec_test_pred = linear_regression.predict(x_vec_test)"
   ],
   "metadata": {
    "collapsed": false,
    "pycharm": {
     "name": "#%%\n"
    }
   }
  },
  {
   "cell_type": "code",
   "execution_count": 16,
   "outputs": [
    {
     "name": "stdout",
     "output_type": "stream",
     "text": [
      "MSE:\t 5.735628599777146\n"
     ]
    }
   ],
   "source": [
    "model_error = mean_squared_error(y_vec_test, x_vec_test_pred)\n",
    "print(\"MSE:\\t\", model_error)"
   ],
   "metadata": {
    "collapsed": false,
    "pycharm": {
     "name": "#%%\n"
    }
   }
  },
  {
   "cell_type": "markdown",
   "source": [
    "### A: I don't know. It's hard to interpret as this is multiple regression with 5000 features. The linear regression is in a 5000D space, and it's hard to interpret an error in this environment. I have no idea whether this is good or bad."
   ],
   "metadata": {
    "collapsed": false,
    "pycharm": {
     "name": "#%% md\n"
    }
   }
  },
  {
   "cell_type": "markdown",
   "source": [
    "# Logistic Regression"
   ],
   "metadata": {
    "collapsed": false,
    "pycharm": {
     "name": "#%% md\n"
    }
   }
  },
  {
   "cell_type": "code",
   "execution_count": 17,
   "outputs": [
    {
     "name": "stdout",
     "output_type": "stream",
     "text": [
      "Coefficient:\n"
     ]
    },
    {
     "data": {
      "text/plain": "array([[ 0.00281593,  0.06788922,  0.03250149, ...,  0.00171438,\n         0.00180322,  0.00173704],\n       [ 0.11841402,  0.02530355,  0.01276888, ..., -0.00149299,\n         0.00193733, -0.0014704 ],\n       [-0.43057165, -0.09940201, -0.0773306 , ..., -0.00304977,\n        -0.00285461, -0.00299882],\n       ...,\n       [-0.14287325,  0.01874336, -0.18116155, ..., -0.00597523,\n        -0.00560071, -0.00587704],\n       [ 0.13457328, -0.07854224,  0.17583684, ..., -0.00391911,\n        -0.00367004, -0.00385882],\n       [ 0.7551679 ,  0.09457228,  0.02353351, ..., -0.00264088,\n        -0.00248359, -0.00259875]])"
     },
     "execution_count": 17,
     "metadata": {},
     "output_type": "execute_result"
    }
   ],
   "source": [
    "log_regression = LogisticRegression(solver=\"lbfgs\", random_state=42)\n",
    "log_regression.fit(x_vec_train, y_vec_train)\n",
    "coef = log_regression.coef_\n",
    "print(\"Coefficient:\")\n",
    "coef"
   ],
   "metadata": {
    "collapsed": false,
    "pycharm": {
     "name": "#%%\n"
    }
   }
  },
  {
   "cell_type": "markdown",
   "source": [
    "# Q: How to interpret coefficients for logistics regression?"
   ],
   "metadata": {
    "collapsed": false,
    "pycharm": {
     "name": "#%% md\n"
    }
   }
  },
  {
   "cell_type": "markdown",
   "source": [
    "_Use Logistic regression on your training set. Then measure the error on the training set._"
   ],
   "metadata": {
    "collapsed": false,
    "pycharm": {
     "name": "#%% md\n"
    }
   }
  },
  {
   "cell_type": "code",
   "execution_count": 18,
   "outputs": [
    {
     "name": "stdout",
     "output_type": "stream",
     "text": [
      "MSE:\t13.33836477987421353930130862863734364509582519531250\n"
     ]
    }
   ],
   "source": [
    "x_vec_train_pred = log_regression.predict(x_vec_train)\n",
    "model_error = mean_squared_error(y_vec_train, x_vec_train_pred)\n",
    "print(f\"MSE:\\t{model_error:.50f}\")"
   ],
   "metadata": {
    "collapsed": false,
    "pycharm": {
     "name": "#%%\n"
    }
   }
  },
  {
   "cell_type": "markdown",
   "source": [
    "## A: For Linear Regression the MSE for the training was:\n",
    "0.00000000000000000000000000015125862104785390388707. Compared to that 13.33 is a lot. I assume for this reason Linear Regression was a stronger model?"
   ],
   "metadata": {
    "collapsed": false,
    "pycharm": {
     "name": "#%% md\n"
    }
   }
  },
  {
   "cell_type": "markdown",
   "source": [
    "## Lab: _How well does the logistic classifier generalize to new data?_"
   ],
   "metadata": {
    "collapsed": false,
    "pycharm": {
     "name": "#%% md\n"
    }
   }
  },
  {
   "cell_type": "code",
   "execution_count": 19,
   "outputs": [
    {
     "name": "stdout",
     "output_type": "stream",
     "text": [
      "MSE:\t 13.28643216080402\n"
     ]
    }
   ],
   "source": [
    "x_vec_test_pred = log_regression.predict(x_vec_test)\n",
    "model_error = mean_squared_error(y_vec_test, x_vec_test_pred)\n",
    "print(\"MSE:\\t\", model_error)"
   ],
   "metadata": {
    "collapsed": false,
    "pycharm": {
     "name": "#%%\n"
    }
   }
  },
  {
   "cell_type": "markdown",
   "source": [
    "The MSE was lower for unseen data which is odd. I would have expect that the MSE for the unseen data would have been higher."
   ],
   "metadata": {
    "collapsed": false,
    "pycharm": {
     "name": "#%% md\n"
    }
   }
  },
  {
   "cell_type": "markdown",
   "source": [
    "# Conclusion:\n",
    "* For Linear regression the model didn't perform that well. The MSE for training was: 0.00000000000000000000000000015125862104785390388707 while for the unseen test data it was: 5.735628599777146. The difference is huge.\n",
    "* For Logistic regression the model did perform well. The MSE was for training was: 13.338 while for the unseen data it was: 13.2864. The difference is low.\n"
   ],
   "metadata": {
    "collapsed": false,
    "pycharm": {
     "name": "#%% md\n"
    }
   }
  }
 ],
 "metadata": {
  "kernelspec": {
   "display_name": "Python 3",
   "language": "python",
   "name": "python3"
  },
  "language_info": {
   "codemirror_mode": {
    "name": "ipython",
    "version": 2
   },
   "file_extension": ".py",
   "mimetype": "text/x-python",
   "name": "python",
   "nbconvert_exporter": "python",
   "pygments_lexer": "ipython2",
   "version": "2.7.6"
  }
 },
 "nbformat": 4,
 "nbformat_minor": 0
}