{
 "cells": [
  {
   "cell_type": "code",
   "execution_count": 1,
   "outputs": [],
   "source": [
    "import pandas as pd\n",
    "\n",
    "file_name = \"df_vector.pkl\""
   ],
   "metadata": {
    "collapsed": false,
    "pycharm": {
     "name": "#%%\n"
    }
   }
  },
  {
   "cell_type": "code",
   "execution_count": 2,
   "outputs": [
    {
     "data": {
      "text/plain": "                                       Theme  \\\n0                                Mathematics   \nAbiogenesis                          Science   \nAbortion         Society and social sciences   \nAbraham Lincoln                       People   \nAbraham                               People   \n\n                                                     FeatureVector  \\\n0                [0.04838709677419355, 0.03225806451612903, 0.0...   \nAbiogenesis      [0.003003003003003003, 0.003003003003003003, 0...   \nAbortion         [0.01282051282051282, 0.003205128205128205, 0....   \nAbraham Lincoln  [0.0, 0.0030581039755351682, 0.006116207951070...   \nAbraham          [0.0, 0.005681818181818182, 0.0056818181818181...   \n\n                                                        WordVector  \n0                [0, zero, number, numerical, digit, use, repre...  \nAbiogenesis      [biology, abiogenesis, ‘, ’, greek, bios, ‘, l...  \nAbortion         [abortion, termination, pregnancy, removal, ex...  \nAbraham Lincoln  [abraham, lincoln, link, ən, february, 12, 180...  \nAbraham          [abraham, originally, abram, common, hebrew, p...  ",
      "text/html": "<div>\n<style scoped>\n    .dataframe tbody tr th:only-of-type {\n        vertical-align: middle;\n    }\n\n    .dataframe tbody tr th {\n        vertical-align: top;\n    }\n\n    .dataframe thead th {\n        text-align: right;\n    }\n</style>\n<table border=\"1\" class=\"dataframe\">\n  <thead>\n    <tr style=\"text-align: right;\">\n      <th></th>\n      <th>Theme</th>\n      <th>FeatureVector</th>\n      <th>WordVector</th>\n    </tr>\n  </thead>\n  <tbody>\n    <tr>\n      <th>0</th>\n      <td>Mathematics</td>\n      <td>[0.04838709677419355, 0.03225806451612903, 0.0...</td>\n      <td>[0, zero, number, numerical, digit, use, repre...</td>\n    </tr>\n    <tr>\n      <th>Abiogenesis</th>\n      <td>Science</td>\n      <td>[0.003003003003003003, 0.003003003003003003, 0...</td>\n      <td>[biology, abiogenesis, ‘, ’, greek, bios, ‘, l...</td>\n    </tr>\n    <tr>\n      <th>Abortion</th>\n      <td>Society and social sciences</td>\n      <td>[0.01282051282051282, 0.003205128205128205, 0....</td>\n      <td>[abortion, termination, pregnancy, removal, ex...</td>\n    </tr>\n    <tr>\n      <th>Abraham Lincoln</th>\n      <td>People</td>\n      <td>[0.0, 0.0030581039755351682, 0.006116207951070...</td>\n      <td>[abraham, lincoln, link, ən, february, 12, 180...</td>\n    </tr>\n    <tr>\n      <th>Abraham</th>\n      <td>People</td>\n      <td>[0.0, 0.005681818181818182, 0.0056818181818181...</td>\n      <td>[abraham, originally, abram, common, hebrew, p...</td>\n    </tr>\n  </tbody>\n</table>\n</div>"
     },
     "execution_count": 2,
     "metadata": {},
     "output_type": "execute_result"
    }
   ],
   "source": [
    "df_vector = pd.read_pickle(file_name)\n",
    "df_vector.head()"
   ],
   "metadata": {
    "collapsed": false,
    "pycharm": {
     "name": "#%%\n"
    }
   }
  },
  {
   "cell_type": "markdown",
   "source": [
    "# Test Train Split For Vectors\n",
    "No need to standerdize the data as the vectors are standardized"
   ],
   "metadata": {
    "collapsed": false,
    "pycharm": {
     "name": "#%% md\n"
    }
   }
  },
  {
   "cell_type": "code",
   "execution_count": 3,
   "outputs": [
    {
     "data": {
      "text/plain": "0                                  Mathematics\nAbiogenesis                            Science\nAbortion           Society and social sciences\nAbraham Lincoln                         People\nAbraham                                 People\nName: Theme, dtype: object"
     },
     "execution_count": 3,
     "metadata": {},
     "output_type": "execute_result"
    }
   ],
   "source": [
    "x_vector = df_vector.FeatureVector.copy()\n",
    "y_vector = df_vector.Theme.copy()\n",
    "y_vector.head()"
   ],
   "metadata": {
    "collapsed": false,
    "pycharm": {
     "name": "#%%\n"
    }
   }
  },
  {
   "cell_type": "code",
   "execution_count": 4,
   "outputs": [],
   "source": [
    "from sklearn.model_selection import train_test_split\n",
    "\n",
    "x_vec_train, x_vec_test, y_vec_train, y_vec_test = train_test_split(x_vector, y_vector, test_size=0.2, random_state=5)"
   ],
   "metadata": {
    "collapsed": false,
    "pycharm": {
     "name": "#%%\n"
    }
   }
  },
  {
   "cell_type": "code",
   "execution_count": 5,
   "outputs": [
    {
     "data": {
      "text/plain": "Tea                                                  [0.0, 0.006944444444444444, 0.0069444444444444...\nHippocrates                                          [0.01680672268907563, 0.0, 0.01680672268907563...\nMedication                                           [0.024539877300613498, 0.006134969325153374, 0...\nInternational Red Cross and Red Crescent Movement    [0.0, 0.0, 0.0, 0.0, 0.0, 0.0, 0.0, 0.0, 0.0, ...\nBlack Death                                          [0.0, 0.0, 0.008620689655172414, 0.00862068965...\nName: FeatureVector, dtype: object"
     },
     "execution_count": 5,
     "metadata": {},
     "output_type": "execute_result"
    }
   ],
   "source": [
    "x_vec_test.head()"
   ],
   "metadata": {
    "collapsed": false,
    "pycharm": {
     "name": "#%%\n"
    }
   }
  },
  {
   "cell_type": "code",
   "execution_count": 6,
   "outputs": [
    {
     "data": {
      "text/plain": "Tea                                                                 Everyday life\nHippocrates                                                                People\nMedication                                           Health, medicine and disease\nInternational Red Cross and Red Crescent Movement     Society and social sciences\nBlack Death                                                               History\nName: Theme, dtype: object"
     },
     "execution_count": 6,
     "metadata": {},
     "output_type": "execute_result"
    }
   ],
   "source": [
    "y_vec_test.head()"
   ],
   "metadata": {
    "collapsed": false,
    "pycharm": {
     "name": "#%%\n"
    }
   }
  },
  {
   "cell_type": "markdown",
   "source": [
    "Check for NaN"
   ],
   "metadata": {
    "collapsed": false,
    "pycharm": {
     "name": "#%% md\n"
    }
   }
  },
  {
   "cell_type": "code",
   "execution_count": 7,
   "outputs": [
    {
     "name": "stdout",
     "output_type": "stream",
     "text": [
      "False\n",
      "False\n",
      "False\n",
      "False\n"
     ]
    }
   ],
   "source": [
    "tmp = [x_vec_train, x_vec_test, y_vec_train, y_vec_test]\n",
    "\n",
    "for e in tmp:\n",
    "    print(e.isnull().values.any())"
   ],
   "metadata": {
    "collapsed": false,
    "pycharm": {
     "name": "#%%\n"
    }
   }
  },
  {
   "cell_type": "code",
   "execution_count": 8,
   "outputs": [],
   "source": [
    "x_vec_train = x_vec_train.to_numpy()"
   ],
   "metadata": {
    "collapsed": false,
    "pycharm": {
     "name": "#%%\n"
    }
   }
  },
  {
   "cell_type": "markdown",
   "source": [
    "# K-Means\n"
   ],
   "metadata": {
    "collapsed": false,
    "pycharm": {
     "name": "#%% md\n"
    }
   }
  },
  {
   "cell_type": "code",
   "execution_count": 9,
   "outputs": [],
   "source": [
    "import numpy as np\n",
    "\n",
    "x_vec_train = np.stack(x_vec_train)"
   ],
   "metadata": {
    "collapsed": false,
    "pycharm": {
     "name": "#%%\n"
    }
   }
  },
  {
   "cell_type": "code",
   "execution_count": 10,
   "outputs": [],
   "source": [
    "from sklearn.cluster import KMeans\n",
    "\n",
    "k = 11\n",
    "kmeans = KMeans(n_clusters=k, random_state=42)\n",
    "y_pred = kmeans.fit_predict(x_vec_train)"
   ],
   "metadata": {
    "collapsed": false,
    "pycharm": {
     "name": "#%%\n"
    }
   }
  },
  {
   "cell_type": "code",
   "execution_count": 11,
   "outputs": [
    {
     "data": {
      "text/plain": "array([ 7, 10,  6,  7, 10,  7,  7, 10,  2, 10, 10,  2, 10, 10, 10,  2,  1,\n        2, 10,  2,  2,  7,  2, 10,  3, 10, 10,  7, 10,  2,  7, 10, 10,  2,\n        2, 10,  7, 10, 10,  2,  0, 10, 10,  8, 10, 10, 10, 10,  2, 10, 10,\n       10,  7,  2, 10, 10, 10, 10, 10, 10,  2,  2, 10,  2,  2,  7,  7,  7,\n        2, 10,  3, 10, 10,  7, 10,  7, 10,  7,  2, 10, 10,  7,  7, 10,  7,\n        2,  7, 10,  7, 10,  2, 10, 10,  3,  7, 10, 10, 10, 10,  8,  0, 10,\n        2, 10,  1,  7, 10,  3, 10,  1,  7,  7, 10,  2,  7,  7, 10, 10,  2,\n        7,  2, 10,  7,  2,  2,  3, 10, 10, 10, 10,  7,  7, 10, 10,  8, 10,\n       10,  7,  7,  2,  7, 10,  2, 10, 10, 10,  2, 10,  7, 10, 10, 10, 10,\n       10, 10, 10,  7,  2, 10,  1,  7,  6, 10, 10, 10,  7,  7,  7, 10,  7,\n       10, 10, 10, 10, 10,  7, 10,  7,  7,  7, 10, 10,  7, 10, 10, 10, 10,\n       10, 10, 10,  7,  7,  7,  7,  8,  8,  9, 10,  6,  8, 10,  2,  2, 10,\n        7,  7, 10, 10, 10, 10,  4, 10,  7,  7,  2, 10, 10,  6, 10, 10, 10,\n       10,  2, 10,  2, 10,  2, 10, 10, 10,  2, 10, 10, 10,  2, 10, 10, 10,\n       10,  8,  2, 10,  2, 10,  2, 10, 10, 10, 10,  7,  2,  2,  7, 10,  7,\n        7, 10,  2,  7, 10, 10,  7,  7,  0,  7, 10, 10,  7,  2, 10, 10,  1,\n        6,  2, 10,  7, 10,  2,  7,  7,  7,  2,  2,  2,  2,  2, 10,  2,  0,\n        2, 10,  7,  7,  2,  2,  3, 10,  2, 10,  2,  7,  7, 10, 10,  7, 10,\n        6, 10, 10,  7,  7,  7, 10, 10,  2,  2,  7,  6,  2,  2,  2,  2, 10,\n        2,  2,  6,  7, 10,  2,  7,  2, 10,  7,  7,  7, 10,  2, 10,  2, 10,\n        1,  7, 10, 10,  7, 10, 10, 10,  2,  2,  2, 10,  7,  7, 10, 10,  7,\n       10, 10, 10, 10, 10,  7, 10, 10, 10,  7, 10,  2,  2,  2, 10, 10, 10,\n        7, 10,  7, 10, 10,  7,  7,  7,  2,  7,  6, 10,  2, 10,  7,  7, 10,\n       10, 10, 10,  1, 10, 10,  2, 10,  2,  2,  7,  7,  2,  7,  3,  2, 10,\n       10, 10,  7, 10, 10, 10,  7,  2,  2,  7,  2,  7, 10,  4,  7,  7, 10,\n       10, 10, 10,  5, 10,  1, 10,  2, 10, 10, 10, 10, 10,  8, 10,  7, 10,\n        7, 10, 10,  7,  8,  8,  6,  2, 10,  7,  2, 10, 10,  2,  7,  7,  2,\n       10, 10,  7, 10, 10,  2, 10,  7,  6, 10,  7,  1, 10, 10, 10, 10,  6,\n        7, 10,  1, 10, 10,  7,  7,  2,  7, 10, 10,  2,  8,  7,  0,  7,  7,\n       10,  7,  7, 10,  7, 10, 10,  7, 10, 10,  2, 10, 10,  7,  2,  2,  1,\n       10,  7, 10, 10,  2,  7,  2,  7,  2, 10,  2, 10, 10,  7, 10,  2,  2,\n       10, 10,  2,  2,  7, 10, 10,  2,  2,  7,  2,  2,  7, 10,  2,  2, 10,\n       10,  3,  7,  2,  2,  7,  7,  7,  7, 10,  2, 10,  7, 10, 10, 10, 10,\n       10,  2,  4, 10,  7,  2, 10, 10, 10, 10,  7, 10,  2,  2,  7, 10, 10,\n        7, 10,  7, 10, 10,  2, 10,  2,  2,  2,  2,  2,  2, 10,  2, 10,  2,\n       10,  2, 10, 10,  2,  2, 10,  7, 10,  2, 10,  5,  7,  7,  7,  7,  2,\n       10, 10,  7,  2,  3, 10,  7, 10, 10,  2,  3, 10,  7, 10, 10, 10, 10,\n       10, 10, 10,  8,  8, 10,  7,  6, 10,  7, 10, 10,  7, 10, 10, 10,  2,\n       10, 10, 10, 10, 10,  7,  2,  3,  2, 10, 10, 10,  6,  2,  7,  7, 10,\n        6,  7, 10,  7,  7,  2, 10,  2, 10,  7,  2,  7,  8,  3,  2,  7,  7,\n        7,  7, 10, 10, 10,  7,  6, 10,  7, 10, 10, 10,  7,  7,  7, 10, 10,\n        8,  2,  7,  7,  7, 10, 10,  2, 10,  7,  7, 10, 10,  2,  7,  7, 10,\n        2,  7,  7,  3, 10,  2,  2, 10, 10, 10, 10,  2,  2, 10,  7, 10,  7,\n        7, 10, 10, 10,  6, 10,  7, 10,  7, 10, 10,  2,  7,  7,  7, 10, 10,\n        6,  7,  7,  2, 10, 10,  8, 10,  8,  2, 10,  1, 10, 10,  2,  2,  1,\n        2, 10,  2, 10,  7, 10, 10, 10,  2,  2, 10,  0, 10,  7,  2, 10,  7,\n        7, 10,  2, 10,  7,  4, 10,  7,  2, 10, 10,  2,  7])"
     },
     "execution_count": 11,
     "metadata": {},
     "output_type": "execute_result"
    }
   ],
   "source": [
    "y_pred"
   ],
   "metadata": {
    "collapsed": false,
    "pycharm": {
     "name": "#%%\n"
    }
   }
  }
 ],
 "metadata": {
  "kernelspec": {
   "display_name": "Python 3",
   "language": "python",
   "name": "python3"
  },
  "language_info": {
   "codemirror_mode": {
    "name": "ipython",
    "version": 2
   },
   "file_extension": ".py",
   "mimetype": "text/x-python",
   "name": "python",
   "nbconvert_exporter": "python",
   "pygments_lexer": "ipython2",
   "version": "2.7.6"
  }
 },
 "nbformat": 4,
 "nbformat_minor": 0
}