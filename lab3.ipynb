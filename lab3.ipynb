{
 "cells": [
  {
   "cell_type": "code",
   "execution_count": 1,
   "outputs": [],
   "source": [
    "import os\n",
    "import re\n",
    "\n",
    "import pandas as pd\n",
    "import seaborn as sns\n",
    "import numpy as np\n",
    "from matplotlib import pyplot as plt\n",
    "from nltk.corpus import wordnet\n",
    "\n",
    "SRC_PATH=\"parsed\"\n",
    "\n",
    "# Change the value to True if you want to see the heatmap for correlations\n",
    "display_correlations = False\n",
    "display_accuracy_measures = False"
   ],
   "metadata": {
    "collapsed": false,
    "pycharm": {
     "name": "#%%\n"
    }
   }
  },
  {
   "cell_type": "code",
   "execution_count": 2,
   "outputs": [],
   "source": [
    "def load_housing_data(src=SRC_PATH):\n",
    "    csv_path = os.path.join(src, \"src.csv\")\n",
    "    return pd.read_csv(csv_path)"
   ],
   "metadata": {
    "collapsed": false,
    "pycharm": {
     "name": "#%%\n"
    }
   }
  },
  {
   "cell_type": "code",
   "execution_count": 3,
   "outputs": [
    {
     "data": {
      "text/plain": "                 Title  Links  Categories  Images  References  Length  \\\n0            Hammurabi   1103          45      44          97   15484   \n1           Hatshepsut    755          49      18          97   33266   \n2          Ramesses II    662          43      25         119   32507   \n3      Cyrus the Great    515          61      32         213   47616   \n4  Alexander the Great   1910          71      75         401   89053   \n\n   Quality   Theme  \n0      4.0  People  \n1      3.0  People  \n2      2.0  People  \n3      2.0  People  \n4      4.0  People  ",
      "text/html": "<div>\n<style scoped>\n    .dataframe tbody tr th:only-of-type {\n        vertical-align: middle;\n    }\n\n    .dataframe tbody tr th {\n        vertical-align: top;\n    }\n\n    .dataframe thead th {\n        text-align: right;\n    }\n</style>\n<table border=\"1\" class=\"dataframe\">\n  <thead>\n    <tr style=\"text-align: right;\">\n      <th></th>\n      <th>Title</th>\n      <th>Links</th>\n      <th>Categories</th>\n      <th>Images</th>\n      <th>References</th>\n      <th>Length</th>\n      <th>Quality</th>\n      <th>Theme</th>\n    </tr>\n  </thead>\n  <tbody>\n    <tr>\n      <th>0</th>\n      <td>Hammurabi</td>\n      <td>1103</td>\n      <td>45</td>\n      <td>44</td>\n      <td>97</td>\n      <td>15484</td>\n      <td>4.0</td>\n      <td>People</td>\n    </tr>\n    <tr>\n      <th>1</th>\n      <td>Hatshepsut</td>\n      <td>755</td>\n      <td>49</td>\n      <td>18</td>\n      <td>97</td>\n      <td>33266</td>\n      <td>3.0</td>\n      <td>People</td>\n    </tr>\n    <tr>\n      <th>2</th>\n      <td>Ramesses II</td>\n      <td>662</td>\n      <td>43</td>\n      <td>25</td>\n      <td>119</td>\n      <td>32507</td>\n      <td>2.0</td>\n      <td>People</td>\n    </tr>\n    <tr>\n      <th>3</th>\n      <td>Cyrus the Great</td>\n      <td>515</td>\n      <td>61</td>\n      <td>32</td>\n      <td>213</td>\n      <td>47616</td>\n      <td>2.0</td>\n      <td>People</td>\n    </tr>\n    <tr>\n      <th>4</th>\n      <td>Alexander the Great</td>\n      <td>1910</td>\n      <td>71</td>\n      <td>75</td>\n      <td>401</td>\n      <td>89053</td>\n      <td>4.0</td>\n      <td>People</td>\n    </tr>\n  </tbody>\n</table>\n</div>"
     },
     "execution_count": 3,
     "metadata": {},
     "output_type": "execute_result"
    }
   ],
   "source": [
    "df = load_housing_data()\n",
    "df.head()"
   ],
   "metadata": {
    "collapsed": false,
    "pycharm": {
     "name": "#%%\n"
    }
   }
  },
  {
   "cell_type": "code",
   "execution_count": 4,
   "outputs": [
    {
     "name": "stdout",
     "output_type": "stream",
     "text": [
      "<class 'pandas.core.frame.DataFrame'>\n",
      "RangeIndex: 998 entries, 0 to 997\n",
      "Data columns (total 8 columns):\n",
      " #   Column      Non-Null Count  Dtype  \n",
      "---  ------      --------------  -----  \n",
      " 0   Title       998 non-null    object \n",
      " 1   Links       998 non-null    int64  \n",
      " 2   Categories  998 non-null    int64  \n",
      " 3   Images      998 non-null    int64  \n",
      " 4   References  998 non-null    int64  \n",
      " 5   Length      998 non-null    int64  \n",
      " 6   Quality     997 non-null    float64\n",
      " 7   Theme       998 non-null    object \n",
      "dtypes: float64(1), int64(5), object(2)\n",
      "memory usage: 62.5+ KB\n"
     ]
    }
   ],
   "source": [
    "df.info()"
   ],
   "metadata": {
    "collapsed": false,
    "pycharm": {
     "name": "#%%\n"
    }
   }
  },
  {
   "cell_type": "code",
   "execution_count": 5,
   "outputs": [
    {
     "data": {
      "text/plain": "Science                         210\nSociety and social sciences     146\nPeople                          112\nGeography                       106\nTechnology                       98\nHistory                          83\nEveryday life                    57\nPhilosophy and religion          55\nArts                             45\nMathematics                      45\nHealth, medicine and disease     41\nName: Theme, dtype: int64"
     },
     "execution_count": 5,
     "metadata": {},
     "output_type": "execute_result"
    }
   ],
   "source": [
    "df[\"Theme\"].value_counts()"
   ],
   "metadata": {
    "collapsed": false,
    "pycharm": {
     "name": "#%%\n"
    }
   }
  },
  {
   "cell_type": "code",
   "execution_count": 6,
   "outputs": [
    {
     "data": {
      "text/plain": "             Links  Categories      Images   References         Length  \\\ncount   998.000000  998.000000  998.000000   998.000000     998.000000   \nmean    859.871743   38.109218   41.362725   218.013026   50315.901804   \nstd     513.129578   25.571013   37.425723   181.221618   25837.048931   \nmin      99.000000    7.000000    2.000000     6.000000    7047.000000   \n25%     477.000000   21.000000   21.000000    86.000000   30272.000000   \n50%     733.000000   30.000000   31.000000   157.000000   46976.500000   \n75%    1140.750000   44.000000   48.750000   297.750000   63421.500000   \nmax    3662.000000  153.000000  339.000000  1310.000000  165877.000000   \n\n          Quality  \ncount  997.000000  \nmean     2.749248  \nstd      0.959685  \nmin      1.000000  \n25%      2.000000  \n50%      3.000000  \n75%      3.000000  \nmax      5.000000  ",
      "text/html": "<div>\n<style scoped>\n    .dataframe tbody tr th:only-of-type {\n        vertical-align: middle;\n    }\n\n    .dataframe tbody tr th {\n        vertical-align: top;\n    }\n\n    .dataframe thead th {\n        text-align: right;\n    }\n</style>\n<table border=\"1\" class=\"dataframe\">\n  <thead>\n    <tr style=\"text-align: right;\">\n      <th></th>\n      <th>Links</th>\n      <th>Categories</th>\n      <th>Images</th>\n      <th>References</th>\n      <th>Length</th>\n      <th>Quality</th>\n    </tr>\n  </thead>\n  <tbody>\n    <tr>\n      <th>count</th>\n      <td>998.000000</td>\n      <td>998.000000</td>\n      <td>998.000000</td>\n      <td>998.000000</td>\n      <td>998.000000</td>\n      <td>997.000000</td>\n    </tr>\n    <tr>\n      <th>mean</th>\n      <td>859.871743</td>\n      <td>38.109218</td>\n      <td>41.362725</td>\n      <td>218.013026</td>\n      <td>50315.901804</td>\n      <td>2.749248</td>\n    </tr>\n    <tr>\n      <th>std</th>\n      <td>513.129578</td>\n      <td>25.571013</td>\n      <td>37.425723</td>\n      <td>181.221618</td>\n      <td>25837.048931</td>\n      <td>0.959685</td>\n    </tr>\n    <tr>\n      <th>min</th>\n      <td>99.000000</td>\n      <td>7.000000</td>\n      <td>2.000000</td>\n      <td>6.000000</td>\n      <td>7047.000000</td>\n      <td>1.000000</td>\n    </tr>\n    <tr>\n      <th>25%</th>\n      <td>477.000000</td>\n      <td>21.000000</td>\n      <td>21.000000</td>\n      <td>86.000000</td>\n      <td>30272.000000</td>\n      <td>2.000000</td>\n    </tr>\n    <tr>\n      <th>50%</th>\n      <td>733.000000</td>\n      <td>30.000000</td>\n      <td>31.000000</td>\n      <td>157.000000</td>\n      <td>46976.500000</td>\n      <td>3.000000</td>\n    </tr>\n    <tr>\n      <th>75%</th>\n      <td>1140.750000</td>\n      <td>44.000000</td>\n      <td>48.750000</td>\n      <td>297.750000</td>\n      <td>63421.500000</td>\n      <td>3.000000</td>\n    </tr>\n    <tr>\n      <th>max</th>\n      <td>3662.000000</td>\n      <td>153.000000</td>\n      <td>339.000000</td>\n      <td>1310.000000</td>\n      <td>165877.000000</td>\n      <td>5.000000</td>\n    </tr>\n  </tbody>\n</table>\n</div>"
     },
     "execution_count": 6,
     "metadata": {},
     "output_type": "execute_result"
    }
   ],
   "source": [
    "df.describe()"
   ],
   "metadata": {
    "collapsed": false,
    "pycharm": {
     "name": "#%%\n"
    }
   }
  },
  {
   "cell_type": "code",
   "execution_count": 7,
   "outputs": [],
   "source": [
    "if display_correlations:\n",
    "    corr_matrix = df.corr()\n",
    "    sns.heatmap(corr_matrix, annot=True)"
   ],
   "metadata": {
    "collapsed": false,
    "pycharm": {
     "name": "#%%\n"
    }
   }
  },
  {
   "cell_type": "code",
   "execution_count": 8,
   "outputs": [
    {
     "data": {
      "text/plain": "               Title  Links  Categories  Images  References  Length  Quality  \\\n301         The arts   1055          23      33          83   21772      2.0   \n302              Art    519          30      36         256   57072      2.0   \n303  Prehistoric art    849          12      46          80   50775      2.0   \n304          Fashion   1548          31      26         104   54418      2.0   \n305           Museum    441          29      30         131   44326      2.0   \n\n    Theme  \n301  Arts  \n302  Arts  \n303  Arts  \n304  Arts  \n305  Arts  ",
      "text/html": "<div>\n<style scoped>\n    .dataframe tbody tr th:only-of-type {\n        vertical-align: middle;\n    }\n\n    .dataframe tbody tr th {\n        vertical-align: top;\n    }\n\n    .dataframe thead th {\n        text-align: right;\n    }\n</style>\n<table border=\"1\" class=\"dataframe\">\n  <thead>\n    <tr style=\"text-align: right;\">\n      <th></th>\n      <th>Title</th>\n      <th>Links</th>\n      <th>Categories</th>\n      <th>Images</th>\n      <th>References</th>\n      <th>Length</th>\n      <th>Quality</th>\n      <th>Theme</th>\n    </tr>\n  </thead>\n  <tbody>\n    <tr>\n      <th>301</th>\n      <td>The arts</td>\n      <td>1055</td>\n      <td>23</td>\n      <td>33</td>\n      <td>83</td>\n      <td>21772</td>\n      <td>2.0</td>\n      <td>Arts</td>\n    </tr>\n    <tr>\n      <th>302</th>\n      <td>Art</td>\n      <td>519</td>\n      <td>30</td>\n      <td>36</td>\n      <td>256</td>\n      <td>57072</td>\n      <td>2.0</td>\n      <td>Arts</td>\n    </tr>\n    <tr>\n      <th>303</th>\n      <td>Prehistoric art</td>\n      <td>849</td>\n      <td>12</td>\n      <td>46</td>\n      <td>80</td>\n      <td>50775</td>\n      <td>2.0</td>\n      <td>Arts</td>\n    </tr>\n    <tr>\n      <th>304</th>\n      <td>Fashion</td>\n      <td>1548</td>\n      <td>31</td>\n      <td>26</td>\n      <td>104</td>\n      <td>54418</td>\n      <td>2.0</td>\n      <td>Arts</td>\n    </tr>\n    <tr>\n      <th>305</th>\n      <td>Museum</td>\n      <td>441</td>\n      <td>29</td>\n      <td>30</td>\n      <td>131</td>\n      <td>44326</td>\n      <td>2.0</td>\n      <td>Arts</td>\n    </tr>\n  </tbody>\n</table>\n</div>"
     },
     "execution_count": 8,
     "metadata": {},
     "output_type": "execute_result"
    }
   ],
   "source": [
    "# Alternative way of filtering\n",
    "# df_filtered = df[df[\"Theme\"] == \"Arts\"]\n",
    "\n",
    "df_filtered_just_arts = df.query(\"Theme == 'Arts'\")\n",
    "df_filtered_just_arts.head()"
   ],
   "metadata": {
    "collapsed": false,
    "pycharm": {
     "name": "#%%\n"
    }
   }
  },
  {
   "cell_type": "code",
   "execution_count": 9,
   "outputs": [],
   "source": [
    "categories = sorted(set(df['Theme']))"
   ],
   "metadata": {
    "collapsed": false,
    "pycharm": {
     "name": "#%%\n"
    }
   }
  },
  {
   "cell_type": "code",
   "execution_count": 10,
   "outputs": [],
   "source": [
    "def corr_for_category(category):\n",
    "    df_filtered = df.query(f\"Theme == '{category}'\")\n",
    "    corr_within_category = df_filtered.corr(numeric_only=True)\n",
    "    mask = np.triu(np.ones_like(corr_within_category, dtype=bool))\n",
    "    ax[i].set_title(category)\n",
    "    sns.heatmap(corr_within_category, mask=mask, annot=True, ax=ax[i])\n",
    "if display_correlations:\n",
    "    length = len(categories)\n",
    "    fig, ax = plt.subplots(length,1, figsize=(6.4, 24))\n",
    "    i = 0\n",
    "\n",
    "    # plt.figure(figsize=(6.4, 24))\n",
    "    for category in categories:\n",
    "        corr_for_category(category)\n",
    "        i+=1\n",
    "\n",
    "    plt.tight_layout()"
   ],
   "metadata": {
    "collapsed": false,
    "pycharm": {
     "name": "#%%\n"
    }
   }
  },
  {
   "cell_type": "code",
   "execution_count": 11,
   "outputs": [
    {
     "data": {
      "text/plain": "                             Title  Links  Categories  Images  References  \\\n645                        Science    661          32      29         416   \n646              Scientific method    769          17      21         151   \n647                    Measurement    304          16      10          38   \n648  International System of Units    681          31      19         195   \n649                         Nature    746          22      59         207   \n\n     Length  Quality    Theme  \n645   45955      3.0  Science  \n646   73762      3.0  Science  \n647   20674      2.0  Science  \n648   58608      4.0  Science  \n649   37866      4.0  Science  ",
      "text/html": "<div>\n<style scoped>\n    .dataframe tbody tr th:only-of-type {\n        vertical-align: middle;\n    }\n\n    .dataframe tbody tr th {\n        vertical-align: top;\n    }\n\n    .dataframe thead th {\n        text-align: right;\n    }\n</style>\n<table border=\"1\" class=\"dataframe\">\n  <thead>\n    <tr style=\"text-align: right;\">\n      <th></th>\n      <th>Title</th>\n      <th>Links</th>\n      <th>Categories</th>\n      <th>Images</th>\n      <th>References</th>\n      <th>Length</th>\n      <th>Quality</th>\n      <th>Theme</th>\n    </tr>\n  </thead>\n  <tbody>\n    <tr>\n      <th>645</th>\n      <td>Science</td>\n      <td>661</td>\n      <td>32</td>\n      <td>29</td>\n      <td>416</td>\n      <td>45955</td>\n      <td>3.0</td>\n      <td>Science</td>\n    </tr>\n    <tr>\n      <th>646</th>\n      <td>Scientific method</td>\n      <td>769</td>\n      <td>17</td>\n      <td>21</td>\n      <td>151</td>\n      <td>73762</td>\n      <td>3.0</td>\n      <td>Science</td>\n    </tr>\n    <tr>\n      <th>647</th>\n      <td>Measurement</td>\n      <td>304</td>\n      <td>16</td>\n      <td>10</td>\n      <td>38</td>\n      <td>20674</td>\n      <td>2.0</td>\n      <td>Science</td>\n    </tr>\n    <tr>\n      <th>648</th>\n      <td>International System of Units</td>\n      <td>681</td>\n      <td>31</td>\n      <td>19</td>\n      <td>195</td>\n      <td>58608</td>\n      <td>4.0</td>\n      <td>Science</td>\n    </tr>\n    <tr>\n      <th>649</th>\n      <td>Nature</td>\n      <td>746</td>\n      <td>22</td>\n      <td>59</td>\n      <td>207</td>\n      <td>37866</td>\n      <td>4.0</td>\n      <td>Science</td>\n    </tr>\n  </tbody>\n</table>\n</div>"
     },
     "execution_count": 11,
     "metadata": {},
     "output_type": "execute_result"
    }
   ],
   "source": [
    "# Science subset w every attribute\n",
    "df_science = df.query(\"Theme == 'Science'\")\n",
    "df_science.head()"
   ],
   "metadata": {
    "collapsed": false,
    "pycharm": {
     "name": "#%%\n"
    }
   }
  },
  {
   "cell_type": "code",
   "execution_count": 12,
   "outputs": [
    {
     "data": {
      "text/plain": "               Title  Links  Categories  Images  References  Length  Quality  \\\n301         The arts   1055          23      33          83   21772      2.0   \n302              Art    519          30      36         256   57072      2.0   \n303  Prehistoric art    849          12      46          80   50775      2.0   \n304          Fashion   1548          31      26         104   54418      2.0   \n305           Museum    441          29      30         131   44326      2.0   \n\n    Theme  \n301  Arts  \n302  Arts  \n303  Arts  \n304  Arts  \n305  Arts  ",
      "text/html": "<div>\n<style scoped>\n    .dataframe tbody tr th:only-of-type {\n        vertical-align: middle;\n    }\n\n    .dataframe tbody tr th {\n        vertical-align: top;\n    }\n\n    .dataframe thead th {\n        text-align: right;\n    }\n</style>\n<table border=\"1\" class=\"dataframe\">\n  <thead>\n    <tr style=\"text-align: right;\">\n      <th></th>\n      <th>Title</th>\n      <th>Links</th>\n      <th>Categories</th>\n      <th>Images</th>\n      <th>References</th>\n      <th>Length</th>\n      <th>Quality</th>\n      <th>Theme</th>\n    </tr>\n  </thead>\n  <tbody>\n    <tr>\n      <th>301</th>\n      <td>The arts</td>\n      <td>1055</td>\n      <td>23</td>\n      <td>33</td>\n      <td>83</td>\n      <td>21772</td>\n      <td>2.0</td>\n      <td>Arts</td>\n    </tr>\n    <tr>\n      <th>302</th>\n      <td>Art</td>\n      <td>519</td>\n      <td>30</td>\n      <td>36</td>\n      <td>256</td>\n      <td>57072</td>\n      <td>2.0</td>\n      <td>Arts</td>\n    </tr>\n    <tr>\n      <th>303</th>\n      <td>Prehistoric art</td>\n      <td>849</td>\n      <td>12</td>\n      <td>46</td>\n      <td>80</td>\n      <td>50775</td>\n      <td>2.0</td>\n      <td>Arts</td>\n    </tr>\n    <tr>\n      <th>304</th>\n      <td>Fashion</td>\n      <td>1548</td>\n      <td>31</td>\n      <td>26</td>\n      <td>104</td>\n      <td>54418</td>\n      <td>2.0</td>\n      <td>Arts</td>\n    </tr>\n    <tr>\n      <th>305</th>\n      <td>Museum</td>\n      <td>441</td>\n      <td>29</td>\n      <td>30</td>\n      <td>131</td>\n      <td>44326</td>\n      <td>2.0</td>\n      <td>Arts</td>\n    </tr>\n  </tbody>\n</table>\n</div>"
     },
     "execution_count": 12,
     "metadata": {},
     "output_type": "execute_result"
    }
   ],
   "source": [
    "df_arts_without_quality = df.query(\"Theme == 'Arts'\")\n",
    "df_arts_without_quality.drop(columns=[\"Quality\"])\n",
    "df_arts_without_quality.head()"
   ],
   "metadata": {
    "collapsed": false,
    "pycharm": {
     "name": "#%%\n"
    }
   }
  },
  {
   "cell_type": "code",
   "execution_count": 13,
   "outputs": [
    {
     "data": {
      "text/plain": "                 Title  Links  Categories  Images  References  Length   Theme\n0            Hammurabi   1103          45      44          97   15484  People\n1           Hatshepsut    755          49      18          97   33266  People\n2          Ramesses II    662          43      25         119   32507  People\n3      Cyrus the Great    515          61      32         213   47616  People\n4  Alexander the Great   1910          71      75         401   89053  People",
      "text/html": "<div>\n<style scoped>\n    .dataframe tbody tr th:only-of-type {\n        vertical-align: middle;\n    }\n\n    .dataframe tbody tr th {\n        vertical-align: top;\n    }\n\n    .dataframe thead th {\n        text-align: right;\n    }\n</style>\n<table border=\"1\" class=\"dataframe\">\n  <thead>\n    <tr style=\"text-align: right;\">\n      <th></th>\n      <th>Title</th>\n      <th>Links</th>\n      <th>Categories</th>\n      <th>Images</th>\n      <th>References</th>\n      <th>Length</th>\n      <th>Theme</th>\n    </tr>\n  </thead>\n  <tbody>\n    <tr>\n      <th>0</th>\n      <td>Hammurabi</td>\n      <td>1103</td>\n      <td>45</td>\n      <td>44</td>\n      <td>97</td>\n      <td>15484</td>\n      <td>People</td>\n    </tr>\n    <tr>\n      <th>1</th>\n      <td>Hatshepsut</td>\n      <td>755</td>\n      <td>49</td>\n      <td>18</td>\n      <td>97</td>\n      <td>33266</td>\n      <td>People</td>\n    </tr>\n    <tr>\n      <th>2</th>\n      <td>Ramesses II</td>\n      <td>662</td>\n      <td>43</td>\n      <td>25</td>\n      <td>119</td>\n      <td>32507</td>\n      <td>People</td>\n    </tr>\n    <tr>\n      <th>3</th>\n      <td>Cyrus the Great</td>\n      <td>515</td>\n      <td>61</td>\n      <td>32</td>\n      <td>213</td>\n      <td>47616</td>\n      <td>People</td>\n    </tr>\n    <tr>\n      <th>4</th>\n      <td>Alexander the Great</td>\n      <td>1910</td>\n      <td>71</td>\n      <td>75</td>\n      <td>401</td>\n      <td>89053</td>\n      <td>People</td>\n    </tr>\n  </tbody>\n</table>\n</div>"
     },
     "execution_count": 13,
     "metadata": {},
     "output_type": "execute_result"
    }
   ],
   "source": [
    "df_without_quality = df.drop(columns=[\"Quality\"])\n",
    "df_without_quality.head()"
   ],
   "metadata": {
    "collapsed": false,
    "pycharm": {
     "name": "#%%\n"
    }
   }
  },
  {
   "cell_type": "code",
   "execution_count": 14,
   "outputs": [],
   "source": [
    "def corr_for_old_and_new_category(category):\n",
    "    df_filtered = df.query(f\"Theme == '{category}'\")\n",
    "    corr_within_category_for_df = df_filtered.corr(numeric_only=True)\n",
    "    mask = np.triu(np.ones_like(corr_within_category_for_df, dtype=bool))\n",
    "    ax[i,0].set_title(category)\n",
    "    sns.heatmap(corr_within_category_for_df, mask=mask, annot=True, ax=ax[i,0])\n",
    "\n",
    "    df_filtered = df_without_quality.query(f\"Theme == '{category}'\")\n",
    "    corr_within_category_for_df_filtered = df_filtered.corr(numeric_only=True)\n",
    "    mask = np.triu(np.ones_like(corr_within_category_for_df_filtered, dtype=bool))\n",
    "    ax[i,1].set_title(\"without Quality\")\n",
    "    sns.heatmap(corr_within_category_for_df_filtered, mask=mask, annot=True, ax=ax[i,1])\n",
    "if display_correlations:\n",
    "    length = len(categories)\n",
    "    fig, ax = plt.subplots(length,2, figsize=(8, 24))\n",
    "    i = 0\n",
    "\n",
    "    for category in categories:\n",
    "        corr_for_old_and_new_category(category)\n",
    "        i+=1\n",
    "\n",
    "    plt.tight_layout()"
   ],
   "metadata": {
    "collapsed": false,
    "pycharm": {
     "name": "#%%\n"
    }
   }
  },
  {
   "cell_type": "markdown",
   "source": [
    "# Correlation with non-numerical values"
   ],
   "metadata": {
    "collapsed": false,
    "pycharm": {
     "name": "#%% md\n"
    }
   }
  },
  {
   "cell_type": "code",
   "execution_count": 15,
   "outputs": [
    {
     "data": {
      "text/plain": "    Title  Links  Categories  Images  References  Length  Quality    Theme\n846  Wind    563          11      23         277   41140      NaN  Science",
      "text/html": "<div>\n<style scoped>\n    .dataframe tbody tr th:only-of-type {\n        vertical-align: middle;\n    }\n\n    .dataframe tbody tr th {\n        vertical-align: top;\n    }\n\n    .dataframe thead th {\n        text-align: right;\n    }\n</style>\n<table border=\"1\" class=\"dataframe\">\n  <thead>\n    <tr style=\"text-align: right;\">\n      <th></th>\n      <th>Title</th>\n      <th>Links</th>\n      <th>Categories</th>\n      <th>Images</th>\n      <th>References</th>\n      <th>Length</th>\n      <th>Quality</th>\n      <th>Theme</th>\n    </tr>\n  </thead>\n  <tbody>\n    <tr>\n      <th>846</th>\n      <td>Wind</td>\n      <td>563</td>\n      <td>11</td>\n      <td>23</td>\n      <td>277</td>\n      <td>41140</td>\n      <td>NaN</td>\n      <td>Science</td>\n    </tr>\n  </tbody>\n</table>\n</div>"
     },
     "execution_count": 15,
     "metadata": {},
     "output_type": "execute_result"
    }
   ],
   "source": [
    "df[df.isna().any(axis=1)]"
   ],
   "metadata": {
    "collapsed": false,
    "pycharm": {
     "name": "#%%\n"
    }
   }
  },
  {
   "cell_type": "code",
   "execution_count": 16,
   "outputs": [],
   "source": [
    "# Drop missing values\n",
    "df = df.dropna()"
   ],
   "metadata": {
    "collapsed": false,
    "pycharm": {
     "name": "#%%\n"
    }
   }
  },
  {
   "cell_type": "code",
   "execution_count": 17,
   "outputs": [
    {
     "data": {
      "text/plain": "Empty DataFrame\nColumns: [Title, Links, Categories, Images, References, Length, Quality, Theme]\nIndex: []",
      "text/html": "<div>\n<style scoped>\n    .dataframe tbody tr th:only-of-type {\n        vertical-align: middle;\n    }\n\n    .dataframe tbody tr th {\n        vertical-align: top;\n    }\n\n    .dataframe thead th {\n        text-align: right;\n    }\n</style>\n<table border=\"1\" class=\"dataframe\">\n  <thead>\n    <tr style=\"text-align: right;\">\n      <th></th>\n      <th>Title</th>\n      <th>Links</th>\n      <th>Categories</th>\n      <th>Images</th>\n      <th>References</th>\n      <th>Length</th>\n      <th>Quality</th>\n      <th>Theme</th>\n    </tr>\n  </thead>\n  <tbody>\n  </tbody>\n</table>\n</div>"
     },
     "execution_count": 17,
     "metadata": {},
     "output_type": "execute_result"
    }
   ],
   "source": [
    "df[df.isna().any(axis=1)]"
   ],
   "metadata": {
    "collapsed": false,
    "pycharm": {
     "name": "#%%\n"
    }
   }
  },
  {
   "cell_type": "code",
   "execution_count": 18,
   "outputs": [
    {
     "data": {
      "text/plain": "                 Title  Links  Categories  Images  References  Length  \\\n0            Hammurabi   1103          45      44          97   15484   \n1           Hatshepsut    755          49      18          97   33266   \n2          Ramesses II    662          43      25         119   32507   \n3      Cyrus the Great    515          61      32         213   47616   \n4  Alexander the Great   1910          71      75         401   89053   \n\n   Quality   Theme  \n0      4.0  People  \n1      3.0  People  \n2      2.0  People  \n3      2.0  People  \n4      4.0  People  ",
      "text/html": "<div>\n<style scoped>\n    .dataframe tbody tr th:only-of-type {\n        vertical-align: middle;\n    }\n\n    .dataframe tbody tr th {\n        vertical-align: top;\n    }\n\n    .dataframe thead th {\n        text-align: right;\n    }\n</style>\n<table border=\"1\" class=\"dataframe\">\n  <thead>\n    <tr style=\"text-align: right;\">\n      <th></th>\n      <th>Title</th>\n      <th>Links</th>\n      <th>Categories</th>\n      <th>Images</th>\n      <th>References</th>\n      <th>Length</th>\n      <th>Quality</th>\n      <th>Theme</th>\n    </tr>\n  </thead>\n  <tbody>\n    <tr>\n      <th>0</th>\n      <td>Hammurabi</td>\n      <td>1103</td>\n      <td>45</td>\n      <td>44</td>\n      <td>97</td>\n      <td>15484</td>\n      <td>4.0</td>\n      <td>People</td>\n    </tr>\n    <tr>\n      <th>1</th>\n      <td>Hatshepsut</td>\n      <td>755</td>\n      <td>49</td>\n      <td>18</td>\n      <td>97</td>\n      <td>33266</td>\n      <td>3.0</td>\n      <td>People</td>\n    </tr>\n    <tr>\n      <th>2</th>\n      <td>Ramesses II</td>\n      <td>662</td>\n      <td>43</td>\n      <td>25</td>\n      <td>119</td>\n      <td>32507</td>\n      <td>2.0</td>\n      <td>People</td>\n    </tr>\n    <tr>\n      <th>3</th>\n      <td>Cyrus the Great</td>\n      <td>515</td>\n      <td>61</td>\n      <td>32</td>\n      <td>213</td>\n      <td>47616</td>\n      <td>2.0</td>\n      <td>People</td>\n    </tr>\n    <tr>\n      <th>4</th>\n      <td>Alexander the Great</td>\n      <td>1910</td>\n      <td>71</td>\n      <td>75</td>\n      <td>401</td>\n      <td>89053</td>\n      <td>4.0</td>\n      <td>People</td>\n    </tr>\n  </tbody>\n</table>\n</div>"
     },
     "execution_count": 18,
     "metadata": {},
     "output_type": "execute_result"
    }
   ],
   "source": [
    "df_all_numerical = df.copy()\n",
    "df_all_numerical.head()"
   ],
   "metadata": {
    "collapsed": false,
    "pycharm": {
     "name": "#%%\n"
    }
   }
  },
  {
   "cell_type": "code",
   "execution_count": 19,
   "outputs": [
    {
     "data": {
      "text/plain": "                 Title  Links  Categories  Images  References  Length  \\\n0            Hammurabi   1103          45      44          97   15484   \n1           Hatshepsut    755          49      18          97   33266   \n2          Ramesses II    662          43      25         119   32507   \n3      Cyrus the Great    515          61      32         213   47616   \n4  Alexander the Great   1910          71      75         401   89053   \n\n   Quality   Theme  T.Numerical  \n0      4.0  People            6  \n1      3.0  People            6  \n2      2.0  People            6  \n3      2.0  People            6  \n4      4.0  People            6  ",
      "text/html": "<div>\n<style scoped>\n    .dataframe tbody tr th:only-of-type {\n        vertical-align: middle;\n    }\n\n    .dataframe tbody tr th {\n        vertical-align: top;\n    }\n\n    .dataframe thead th {\n        text-align: right;\n    }\n</style>\n<table border=\"1\" class=\"dataframe\">\n  <thead>\n    <tr style=\"text-align: right;\">\n      <th></th>\n      <th>Title</th>\n      <th>Links</th>\n      <th>Categories</th>\n      <th>Images</th>\n      <th>References</th>\n      <th>Length</th>\n      <th>Quality</th>\n      <th>Theme</th>\n      <th>T.Numerical</th>\n    </tr>\n  </thead>\n  <tbody>\n    <tr>\n      <th>0</th>\n      <td>Hammurabi</td>\n      <td>1103</td>\n      <td>45</td>\n      <td>44</td>\n      <td>97</td>\n      <td>15484</td>\n      <td>4.0</td>\n      <td>People</td>\n      <td>6</td>\n    </tr>\n    <tr>\n      <th>1</th>\n      <td>Hatshepsut</td>\n      <td>755</td>\n      <td>49</td>\n      <td>18</td>\n      <td>97</td>\n      <td>33266</td>\n      <td>3.0</td>\n      <td>People</td>\n      <td>6</td>\n    </tr>\n    <tr>\n      <th>2</th>\n      <td>Ramesses II</td>\n      <td>662</td>\n      <td>43</td>\n      <td>25</td>\n      <td>119</td>\n      <td>32507</td>\n      <td>2.0</td>\n      <td>People</td>\n      <td>6</td>\n    </tr>\n    <tr>\n      <th>3</th>\n      <td>Cyrus the Great</td>\n      <td>515</td>\n      <td>61</td>\n      <td>32</td>\n      <td>213</td>\n      <td>47616</td>\n      <td>2.0</td>\n      <td>People</td>\n      <td>6</td>\n    </tr>\n    <tr>\n      <th>4</th>\n      <td>Alexander the Great</td>\n      <td>1910</td>\n      <td>71</td>\n      <td>75</td>\n      <td>401</td>\n      <td>89053</td>\n      <td>4.0</td>\n      <td>People</td>\n      <td>6</td>\n    </tr>\n  </tbody>\n</table>\n</div>"
     },
     "execution_count": 19,
     "metadata": {},
     "output_type": "execute_result"
    }
   ],
   "source": [
    "i = 0\n",
    "mapping = {}\n",
    "for category in categories:\n",
    "    mapping.update({category: i})\n",
    "    i+=1\n",
    "\n",
    "df_all_numerical[\"T.Numerical\"] = df_all_numerical.Theme.map(mapping)\n",
    "df_all_numerical.head()"
   ],
   "metadata": {
    "collapsed": false,
    "pycharm": {
     "name": "#%%\n"
    }
   }
  },
  {
   "cell_type": "code",
   "execution_count": 20,
   "outputs": [
    {
     "name": "stdout",
     "output_type": "stream",
     "text": [
      "<class 'pandas.core.frame.DataFrame'>\n",
      "Int64Index: 997 entries, 0 to 997\n",
      "Data columns (total 9 columns):\n",
      " #   Column       Non-Null Count  Dtype  \n",
      "---  ------       --------------  -----  \n",
      " 0   Title        997 non-null    object \n",
      " 1   Links        997 non-null    int64  \n",
      " 2   Categories   997 non-null    int64  \n",
      " 3   Images       997 non-null    int64  \n",
      " 4   References   997 non-null    int64  \n",
      " 5   Length       997 non-null    int64  \n",
      " 6   Quality      997 non-null    float64\n",
      " 7   Theme        997 non-null    object \n",
      " 8   T.Numerical  997 non-null    int64  \n",
      "dtypes: float64(1), int64(6), object(2)\n",
      "memory usage: 77.9+ KB\n"
     ]
    }
   ],
   "source": [
    "df_all_numerical.info()"
   ],
   "metadata": {
    "collapsed": false,
    "pycharm": {
     "name": "#%%\n"
    }
   }
  },
  {
   "cell_type": "code",
   "execution_count": 21,
   "outputs": [],
   "source": [
    "if display_correlations:\n",
    "    corr_matrix = df_all_numerical.corr()\n",
    "    sns.heatmap(corr_matrix, annot=True)"
   ],
   "metadata": {
    "collapsed": false,
    "pycharm": {
     "name": "#%%\n"
    }
   }
  },
  {
   "cell_type": "code",
   "execution_count": 22,
   "outputs": [],
   "source": [
    "def corr_for_category_all_numerical(category):\n",
    "    df_filtered = df_all_numerical.query(f\"Theme == '{category}'\")\n",
    "    corr_within_category = df_filtered.corr(numeric_only=True)\n",
    "    mask = np.triu(np.ones_like(corr_within_category, dtype=bool))\n",
    "    ax[i].set_title(category)\n",
    "    sns.heatmap(corr_within_category, mask=mask, annot=True, ax=ax[i])\n",
    "\n",
    "if display_correlations:\n",
    "    length = len(categories)\n",
    "    fig, ax = plt.subplots(length,1, figsize=(6.4, 24))\n",
    "    i = 0\n",
    "\n",
    "    # plt.figure(figsize=(6.4, 24))\n",
    "    for category in categories:\n",
    "        corr_for_category_all_numerical(category)\n",
    "        i+=1\n",
    "\n",
    "    plt.tight_layout()"
   ],
   "metadata": {
    "collapsed": false,
    "pycharm": {
     "name": "#%%\n"
    }
   }
  },
  {
   "cell_type": "markdown",
   "source": [
    "# Test and Train\n",
    "\n",
    "Splitting the data before normalization"
   ],
   "metadata": {
    "collapsed": false,
    "pycharm": {
     "name": "#%% md\n"
    }
   }
  },
  {
   "cell_type": "code",
   "execution_count": 23,
   "outputs": [
    {
     "name": "stdout",
     "output_type": "stream",
     "text": [
      "[[1 0 0 ... 0 0 0]\n",
      " [1 0 0 ... 0 0 0]\n",
      " [0 1 0 ... 0 0 0]\n",
      " ...\n",
      " [0 0 0 ... 0 1 0]\n",
      " [0 0 0 ... 0 0 0]\n",
      " [0 0 0 ... 0 0 0]]\n"
     ]
    }
   ],
   "source": [
    "from sklearn.model_selection import train_test_split\n",
    "from sklearn.preprocessing import label_binarize\n",
    "attributes = [\"Links\", \"Categories\", \"Images\", \"References\", \"Length\", \"Quality\"]\n",
    "\n",
    "X = df[attributes]\n",
    "Y = df[\"Theme\"]\n",
    "classes=['Science', 'Society and social sciences', 'People', 'Geography', 'Technology', 'History', 'Everyday life', 'Philosophy and religion', 'Arts', 'Mathematics', 'Health, medicine and disease']\n",
    "Yb = label_binarize(Y, classes=['Science', 'Society and social sciences', 'People', 'Geography', 'Technology', 'History', 'Everyday life', 'Philosophy and religion', 'Arts', 'Mathematics', 'Health, medicine and disease'])\n",
    "\n",
    "X_train, X_test, Y_train, Y_test = train_test_split(X, Y, test_size=0.2)\n",
    "\n",
    "X_trainb, X_testb, Y_trainb, Y_testb = train_test_split(X, Yb, test_size=0.2)\n",
    "\n",
    "n_classes = Yb.shape[1]\n",
    "\n",
    "\n",
    "print(Y_trainb)"
   ],
   "metadata": {
    "collapsed": false,
    "pycharm": {
     "name": "#%%\n"
    }
   }
  },
  {
   "cell_type": "markdown",
   "source": [
    "Check for NaN"
   ],
   "metadata": {
    "collapsed": false,
    "pycharm": {
     "name": "#%% md\n"
    }
   }
  },
  {
   "cell_type": "code",
   "execution_count": 24,
   "outputs": [
    {
     "data": {
      "text/plain": "Empty DataFrame\nColumns: [Links, Categories, Images, References, Length, Quality]\nIndex: []",
      "text/html": "<div>\n<style scoped>\n    .dataframe tbody tr th:only-of-type {\n        vertical-align: middle;\n    }\n\n    .dataframe tbody tr th {\n        vertical-align: top;\n    }\n\n    .dataframe thead th {\n        text-align: right;\n    }\n</style>\n<table border=\"1\" class=\"dataframe\">\n  <thead>\n    <tr style=\"text-align: right;\">\n      <th></th>\n      <th>Links</th>\n      <th>Categories</th>\n      <th>Images</th>\n      <th>References</th>\n      <th>Length</th>\n      <th>Quality</th>\n    </tr>\n  </thead>\n  <tbody>\n  </tbody>\n</table>\n</div>"
     },
     "execution_count": 24,
     "metadata": {},
     "output_type": "execute_result"
    }
   ],
   "source": [
    "X_train[X_train.isna().any(axis=1)]"
   ],
   "metadata": {
    "collapsed": false,
    "pycharm": {
     "name": "#%%\n"
    }
   }
  },
  {
   "cell_type": "markdown",
   "source": [
    "# Standardization\n",
    "\n",
    "After the test split"
   ],
   "metadata": {
    "collapsed": false,
    "pycharm": {
     "name": "#%% md\n"
    }
   }
  },
  {
   "cell_type": "code",
   "execution_count": 25,
   "outputs": [
    {
     "data": {
      "text/plain": "     Links  Categories  Images  References  Length  Quality\n405    522          26      14         150   41809      2.0\n541    272          20      11          33   18606      1.0\n860    407          33      23         112   36399      2.0\n595   1836          34      44          58   24500      2.0\n500   1698          45      44         516   71198      2.0",
      "text/html": "<div>\n<style scoped>\n    .dataframe tbody tr th:only-of-type {\n        vertical-align: middle;\n    }\n\n    .dataframe tbody tr th {\n        vertical-align: top;\n    }\n\n    .dataframe thead th {\n        text-align: right;\n    }\n</style>\n<table border=\"1\" class=\"dataframe\">\n  <thead>\n    <tr style=\"text-align: right;\">\n      <th></th>\n      <th>Links</th>\n      <th>Categories</th>\n      <th>Images</th>\n      <th>References</th>\n      <th>Length</th>\n      <th>Quality</th>\n    </tr>\n  </thead>\n  <tbody>\n    <tr>\n      <th>405</th>\n      <td>522</td>\n      <td>26</td>\n      <td>14</td>\n      <td>150</td>\n      <td>41809</td>\n      <td>2.0</td>\n    </tr>\n    <tr>\n      <th>541</th>\n      <td>272</td>\n      <td>20</td>\n      <td>11</td>\n      <td>33</td>\n      <td>18606</td>\n      <td>1.0</td>\n    </tr>\n    <tr>\n      <th>860</th>\n      <td>407</td>\n      <td>33</td>\n      <td>23</td>\n      <td>112</td>\n      <td>36399</td>\n      <td>2.0</td>\n    </tr>\n    <tr>\n      <th>595</th>\n      <td>1836</td>\n      <td>34</td>\n      <td>44</td>\n      <td>58</td>\n      <td>24500</td>\n      <td>2.0</td>\n    </tr>\n    <tr>\n      <th>500</th>\n      <td>1698</td>\n      <td>45</td>\n      <td>44</td>\n      <td>516</td>\n      <td>71198</td>\n      <td>2.0</td>\n    </tr>\n  </tbody>\n</table>\n</div>"
     },
     "execution_count": 25,
     "metadata": {},
     "output_type": "execute_result"
    }
   ],
   "source": [
    "X_train.head()"
   ],
   "metadata": {
    "collapsed": false,
    "pycharm": {
     "name": "#%%\n"
    }
   }
  },
  {
   "cell_type": "markdown",
   "source": [
    "### Z-score normalization or standardization\n",
    "Step 1: Standardize the train set"
   ],
   "metadata": {
    "collapsed": false,
    "pycharm": {
     "name": "#%% md\n"
    }
   }
  },
  {
   "cell_type": "code",
   "execution_count": 26,
   "outputs": [
    {
     "data": {
      "text/plain": "      Links  Categories    Images  References    Length   Quality\n0 -0.647951   -0.471348 -0.722431   -0.381708 -0.315934 -0.773463\n1 -1.127693   -0.704198 -0.802341   -1.033361 -1.208245 -1.823634\n2 -0.868633   -0.199690 -0.482701   -0.593356 -0.523985 -0.773463\n3  1.873572   -0.160882  0.076668   -0.894119 -0.981581 -0.773463\n4  1.608755    0.266010  0.076668    1.656794  0.814269 -0.773463",
      "text/html": "<div>\n<style scoped>\n    .dataframe tbody tr th:only-of-type {\n        vertical-align: middle;\n    }\n\n    .dataframe tbody tr th {\n        vertical-align: top;\n    }\n\n    .dataframe thead th {\n        text-align: right;\n    }\n</style>\n<table border=\"1\" class=\"dataframe\">\n  <thead>\n    <tr style=\"text-align: right;\">\n      <th></th>\n      <th>Links</th>\n      <th>Categories</th>\n      <th>Images</th>\n      <th>References</th>\n      <th>Length</th>\n      <th>Quality</th>\n    </tr>\n  </thead>\n  <tbody>\n    <tr>\n      <th>0</th>\n      <td>-0.647951</td>\n      <td>-0.471348</td>\n      <td>-0.722431</td>\n      <td>-0.381708</td>\n      <td>-0.315934</td>\n      <td>-0.773463</td>\n    </tr>\n    <tr>\n      <th>1</th>\n      <td>-1.127693</td>\n      <td>-0.704198</td>\n      <td>-0.802341</td>\n      <td>-1.033361</td>\n      <td>-1.208245</td>\n      <td>-1.823634</td>\n    </tr>\n    <tr>\n      <th>2</th>\n      <td>-0.868633</td>\n      <td>-0.199690</td>\n      <td>-0.482701</td>\n      <td>-0.593356</td>\n      <td>-0.523985</td>\n      <td>-0.773463</td>\n    </tr>\n    <tr>\n      <th>3</th>\n      <td>1.873572</td>\n      <td>-0.160882</td>\n      <td>0.076668</td>\n      <td>-0.894119</td>\n      <td>-0.981581</td>\n      <td>-0.773463</td>\n    </tr>\n    <tr>\n      <th>4</th>\n      <td>1.608755</td>\n      <td>0.266010</td>\n      <td>0.076668</td>\n      <td>1.656794</td>\n      <td>0.814269</td>\n      <td>-0.773463</td>\n    </tr>\n  </tbody>\n</table>\n</div>"
     },
     "execution_count": 26,
     "metadata": {},
     "output_type": "execute_result"
    }
   ],
   "source": [
    "from sklearn.preprocessing import StandardScaler\n",
    "\n",
    "sc = StandardScaler()\n",
    "X_train_std = pd.DataFrame(sc.fit_transform(X_train),columns = X_train.columns)\n",
    "X_train_std.head()"
   ],
   "metadata": {
    "collapsed": false,
    "pycharm": {
     "name": "#%%\n"
    }
   }
  },
  {
   "cell_type": "markdown",
   "source": [
    "Step 2: Standardize the test set with the train set's parameters."
   ],
   "metadata": {
    "collapsed": false,
    "pycharm": {
     "name": "#%% md\n"
    }
   }
  },
  {
   "cell_type": "code",
   "execution_count": 27,
   "outputs": [
    {
     "data": {
      "text/plain": "     Links  Categories  Images  References  Length  Quality\n271   1393          87     160         472  108053      3.0\n881    440          17      13          74   53211      3.0\n403    474          33      98          51   24822      2.0\n390   1202          27      40          59   75016      3.0\n493    785          37     262          77   57406      3.0",
      "text/html": "<div>\n<style scoped>\n    .dataframe tbody tr th:only-of-type {\n        vertical-align: middle;\n    }\n\n    .dataframe tbody tr th {\n        vertical-align: top;\n    }\n\n    .dataframe thead th {\n        text-align: right;\n    }\n</style>\n<table border=\"1\" class=\"dataframe\">\n  <thead>\n    <tr style=\"text-align: right;\">\n      <th></th>\n      <th>Links</th>\n      <th>Categories</th>\n      <th>Images</th>\n      <th>References</th>\n      <th>Length</th>\n      <th>Quality</th>\n    </tr>\n  </thead>\n  <tbody>\n    <tr>\n      <th>271</th>\n      <td>1393</td>\n      <td>87</td>\n      <td>160</td>\n      <td>472</td>\n      <td>108053</td>\n      <td>3.0</td>\n    </tr>\n    <tr>\n      <th>881</th>\n      <td>440</td>\n      <td>17</td>\n      <td>13</td>\n      <td>74</td>\n      <td>53211</td>\n      <td>3.0</td>\n    </tr>\n    <tr>\n      <th>403</th>\n      <td>474</td>\n      <td>33</td>\n      <td>98</td>\n      <td>51</td>\n      <td>24822</td>\n      <td>2.0</td>\n    </tr>\n    <tr>\n      <th>390</th>\n      <td>1202</td>\n      <td>27</td>\n      <td>40</td>\n      <td>59</td>\n      <td>75016</td>\n      <td>3.0</td>\n    </tr>\n    <tr>\n      <th>493</th>\n      <td>785</td>\n      <td>37</td>\n      <td>262</td>\n      <td>77</td>\n      <td>57406</td>\n      <td>3.0</td>\n    </tr>\n  </tbody>\n</table>\n</div>"
     },
     "execution_count": 27,
     "metadata": {},
     "output_type": "execute_result"
    }
   ],
   "source": [
    "X_test.head()"
   ],
   "metadata": {
    "collapsed": false,
    "pycharm": {
     "name": "#%%\n"
    }
   }
  },
  {
   "cell_type": "code",
   "execution_count": 28,
   "outputs": [
    {
     "data": {
      "text/plain": "      Links  Categories    Images  References    Length   Quality\n0  1.023469    1.895958  3.166519    1.411728  2.231591  0.276707\n1 -0.805307   -0.820623 -0.749068   -0.805004  0.122549  0.276707\n2 -0.740062   -0.199690  1.515047   -0.933106 -0.969198 -0.773463\n3  0.656947   -0.432540 -0.029878   -0.888549  0.961097  0.276707\n4 -0.143263   -0.044457  5.883456   -0.788295  0.283875  0.276707",
      "text/html": "<div>\n<style scoped>\n    .dataframe tbody tr th:only-of-type {\n        vertical-align: middle;\n    }\n\n    .dataframe tbody tr th {\n        vertical-align: top;\n    }\n\n    .dataframe thead th {\n        text-align: right;\n    }\n</style>\n<table border=\"1\" class=\"dataframe\">\n  <thead>\n    <tr style=\"text-align: right;\">\n      <th></th>\n      <th>Links</th>\n      <th>Categories</th>\n      <th>Images</th>\n      <th>References</th>\n      <th>Length</th>\n      <th>Quality</th>\n    </tr>\n  </thead>\n  <tbody>\n    <tr>\n      <th>0</th>\n      <td>1.023469</td>\n      <td>1.895958</td>\n      <td>3.166519</td>\n      <td>1.411728</td>\n      <td>2.231591</td>\n      <td>0.276707</td>\n    </tr>\n    <tr>\n      <th>1</th>\n      <td>-0.805307</td>\n      <td>-0.820623</td>\n      <td>-0.749068</td>\n      <td>-0.805004</td>\n      <td>0.122549</td>\n      <td>0.276707</td>\n    </tr>\n    <tr>\n      <th>2</th>\n      <td>-0.740062</td>\n      <td>-0.199690</td>\n      <td>1.515047</td>\n      <td>-0.933106</td>\n      <td>-0.969198</td>\n      <td>-0.773463</td>\n    </tr>\n    <tr>\n      <th>3</th>\n      <td>0.656947</td>\n      <td>-0.432540</td>\n      <td>-0.029878</td>\n      <td>-0.888549</td>\n      <td>0.961097</td>\n      <td>0.276707</td>\n    </tr>\n    <tr>\n      <th>4</th>\n      <td>-0.143263</td>\n      <td>-0.044457</td>\n      <td>5.883456</td>\n      <td>-0.788295</td>\n      <td>0.283875</td>\n      <td>0.276707</td>\n    </tr>\n  </tbody>\n</table>\n</div>"
     },
     "execution_count": 28,
     "metadata": {},
     "output_type": "execute_result"
    }
   ],
   "source": [
    "X_test_std = pd.DataFrame(sc.transform(X_test),columns = X_test.columns)\n",
    "X_test_std.head()"
   ],
   "metadata": {
    "collapsed": false,
    "pycharm": {
     "name": "#%%\n"
    }
   }
  },
  {
   "cell_type": "markdown",
   "source": [
    "### Min-max scaling or normalization\n",
    "[Doc](https://scikit-learn.org/stable/modules/generated/sklearn.preprocessing.MinMaxScaler.html)\n",
    "Step 1: Normalize the train set"
   ],
   "metadata": {
    "collapsed": false,
    "pycharm": {
     "name": "#%% md\n"
    }
   }
  },
  {
   "cell_type": "code",
   "execution_count": 29,
   "outputs": [
    {
     "data": {
      "text/plain": "     Links  Categories  Images  References  Length  Quality\n405    522          26      14         150   41809      2.0\n541    272          20      11          33   18606      1.0\n860    407          33      23         112   36399      2.0\n595   1836          34      44          58   24500      2.0\n500   1698          45      44         516   71198      2.0",
      "text/html": "<div>\n<style scoped>\n    .dataframe tbody tr th:only-of-type {\n        vertical-align: middle;\n    }\n\n    .dataframe tbody tr th {\n        vertical-align: top;\n    }\n\n    .dataframe thead th {\n        text-align: right;\n    }\n</style>\n<table border=\"1\" class=\"dataframe\">\n  <thead>\n    <tr style=\"text-align: right;\">\n      <th></th>\n      <th>Links</th>\n      <th>Categories</th>\n      <th>Images</th>\n      <th>References</th>\n      <th>Length</th>\n      <th>Quality</th>\n    </tr>\n  </thead>\n  <tbody>\n    <tr>\n      <th>405</th>\n      <td>522</td>\n      <td>26</td>\n      <td>14</td>\n      <td>150</td>\n      <td>41809</td>\n      <td>2.0</td>\n    </tr>\n    <tr>\n      <th>541</th>\n      <td>272</td>\n      <td>20</td>\n      <td>11</td>\n      <td>33</td>\n      <td>18606</td>\n      <td>1.0</td>\n    </tr>\n    <tr>\n      <th>860</th>\n      <td>407</td>\n      <td>33</td>\n      <td>23</td>\n      <td>112</td>\n      <td>36399</td>\n      <td>2.0</td>\n    </tr>\n    <tr>\n      <th>595</th>\n      <td>1836</td>\n      <td>34</td>\n      <td>44</td>\n      <td>58</td>\n      <td>24500</td>\n      <td>2.0</td>\n    </tr>\n    <tr>\n      <th>500</th>\n      <td>1698</td>\n      <td>45</td>\n      <td>44</td>\n      <td>516</td>\n      <td>71198</td>\n      <td>2.0</td>\n    </tr>\n  </tbody>\n</table>\n</div>"
     },
     "execution_count": 29,
     "metadata": {},
     "output_type": "execute_result"
    }
   ],
   "source": [
    "X_train.head()"
   ],
   "metadata": {
    "collapsed": false,
    "pycharm": {
     "name": "#%%\n"
    }
   }
  },
  {
   "cell_type": "code",
   "execution_count": 30,
   "outputs": [
    {
     "data": {
      "text/plain": "      Links  Categories    Images  References    Length  Quality\n0  0.118720    0.130137  0.035608    0.107692  0.218863     0.25\n1  0.048555    0.089041  0.026706    0.017692  0.072776     0.00\n2  0.086444    0.178082  0.062315    0.078462  0.184801     0.25\n3  0.487511    0.184932  0.124629    0.036923  0.109885     0.25\n4  0.448779    0.260274  0.124629    0.389231  0.403897     0.25",
      "text/html": "<div>\n<style scoped>\n    .dataframe tbody tr th:only-of-type {\n        vertical-align: middle;\n    }\n\n    .dataframe tbody tr th {\n        vertical-align: top;\n    }\n\n    .dataframe thead th {\n        text-align: right;\n    }\n</style>\n<table border=\"1\" class=\"dataframe\">\n  <thead>\n    <tr style=\"text-align: right;\">\n      <th></th>\n      <th>Links</th>\n      <th>Categories</th>\n      <th>Images</th>\n      <th>References</th>\n      <th>Length</th>\n      <th>Quality</th>\n    </tr>\n  </thead>\n  <tbody>\n    <tr>\n      <th>0</th>\n      <td>0.118720</td>\n      <td>0.130137</td>\n      <td>0.035608</td>\n      <td>0.107692</td>\n      <td>0.218863</td>\n      <td>0.25</td>\n    </tr>\n    <tr>\n      <th>1</th>\n      <td>0.048555</td>\n      <td>0.089041</td>\n      <td>0.026706</td>\n      <td>0.017692</td>\n      <td>0.072776</td>\n      <td>0.00</td>\n    </tr>\n    <tr>\n      <th>2</th>\n      <td>0.086444</td>\n      <td>0.178082</td>\n      <td>0.062315</td>\n      <td>0.078462</td>\n      <td>0.184801</td>\n      <td>0.25</td>\n    </tr>\n    <tr>\n      <th>3</th>\n      <td>0.487511</td>\n      <td>0.184932</td>\n      <td>0.124629</td>\n      <td>0.036923</td>\n      <td>0.109885</td>\n      <td>0.25</td>\n    </tr>\n    <tr>\n      <th>4</th>\n      <td>0.448779</td>\n      <td>0.260274</td>\n      <td>0.124629</td>\n      <td>0.389231</td>\n      <td>0.403897</td>\n      <td>0.25</td>\n    </tr>\n  </tbody>\n</table>\n</div>"
     },
     "execution_count": 30,
     "metadata": {},
     "output_type": "execute_result"
    }
   ],
   "source": [
    "# Normalized to a min value of 0 and max value of 1\n",
    "from sklearn.preprocessing import MinMaxScaler\n",
    "\n",
    "min_max_scaler = MinMaxScaler()\n",
    "X_train_nrml = pd.DataFrame(min_max_scaler.fit_transform(X_train),columns = X_train.columns)\n",
    "X_train_nrml.head()"
   ],
   "metadata": {
    "collapsed": false,
    "pycharm": {
     "name": "#%%\n"
    }
   }
  },
  {
   "cell_type": "markdown",
   "source": [
    "Step 2: Normalize the test set with the train set’s parameters."
   ],
   "metadata": {
    "collapsed": false,
    "pycharm": {
     "name": "#%% md\n"
    }
   }
  },
  {
   "cell_type": "code",
   "execution_count": 31,
   "outputs": [
    {
     "data": {
      "text/plain": "     Links  Categories  Images  References  Length  Quality\n271   1393          87     160         472  108053      3.0\n881    440          17      13          74   53211      3.0\n403    474          33      98          51   24822      2.0\n390   1202          27      40          59   75016      3.0\n493    785          37     262          77   57406      3.0",
      "text/html": "<div>\n<style scoped>\n    .dataframe tbody tr th:only-of-type {\n        vertical-align: middle;\n    }\n\n    .dataframe tbody tr th {\n        vertical-align: top;\n    }\n\n    .dataframe thead th {\n        text-align: right;\n    }\n</style>\n<table border=\"1\" class=\"dataframe\">\n  <thead>\n    <tr style=\"text-align: right;\">\n      <th></th>\n      <th>Links</th>\n      <th>Categories</th>\n      <th>Images</th>\n      <th>References</th>\n      <th>Length</th>\n      <th>Quality</th>\n    </tr>\n  </thead>\n  <tbody>\n    <tr>\n      <th>271</th>\n      <td>1393</td>\n      <td>87</td>\n      <td>160</td>\n      <td>472</td>\n      <td>108053</td>\n      <td>3.0</td>\n    </tr>\n    <tr>\n      <th>881</th>\n      <td>440</td>\n      <td>17</td>\n      <td>13</td>\n      <td>74</td>\n      <td>53211</td>\n      <td>3.0</td>\n    </tr>\n    <tr>\n      <th>403</th>\n      <td>474</td>\n      <td>33</td>\n      <td>98</td>\n      <td>51</td>\n      <td>24822</td>\n      <td>2.0</td>\n    </tr>\n    <tr>\n      <th>390</th>\n      <td>1202</td>\n      <td>27</td>\n      <td>40</td>\n      <td>59</td>\n      <td>75016</td>\n      <td>3.0</td>\n    </tr>\n    <tr>\n      <th>493</th>\n      <td>785</td>\n      <td>37</td>\n      <td>262</td>\n      <td>77</td>\n      <td>57406</td>\n      <td>3.0</td>\n    </tr>\n  </tbody>\n</table>\n</div>"
     },
     "execution_count": 31,
     "metadata": {},
     "output_type": "execute_result"
    }
   ],
   "source": [
    "X_test.head()"
   ],
   "metadata": {
    "collapsed": false,
    "pycharm": {
     "name": "#%%\n"
    }
   }
  },
  {
   "cell_type": "code",
   "execution_count": 32,
   "outputs": [
    {
     "data": {
      "text/plain": "      Links  Categories    Images  References    Length  Quality\n0  0.537856    0.551724  0.601562    0.500537  0.751357     0.50\n1  0.120788    0.068966  0.027344    0.073040  0.324962     0.50\n2  0.135667    0.179310  0.359375    0.048335  0.104239     0.25\n3  0.454267    0.137931  0.132812    0.056928  0.494495     0.50\n4  0.271772    0.206897  1.000000    0.076262  0.357578     0.50",
      "text/html": "<div>\n<style scoped>\n    .dataframe tbody tr th:only-of-type {\n        vertical-align: middle;\n    }\n\n    .dataframe tbody tr th {\n        vertical-align: top;\n    }\n\n    .dataframe thead th {\n        text-align: right;\n    }\n</style>\n<table border=\"1\" class=\"dataframe\">\n  <thead>\n    <tr style=\"text-align: right;\">\n      <th></th>\n      <th>Links</th>\n      <th>Categories</th>\n      <th>Images</th>\n      <th>References</th>\n      <th>Length</th>\n      <th>Quality</th>\n    </tr>\n  </thead>\n  <tbody>\n    <tr>\n      <th>0</th>\n      <td>0.537856</td>\n      <td>0.551724</td>\n      <td>0.601562</td>\n      <td>0.500537</td>\n      <td>0.751357</td>\n      <td>0.50</td>\n    </tr>\n    <tr>\n      <th>1</th>\n      <td>0.120788</td>\n      <td>0.068966</td>\n      <td>0.027344</td>\n      <td>0.073040</td>\n      <td>0.324962</td>\n      <td>0.50</td>\n    </tr>\n    <tr>\n      <th>2</th>\n      <td>0.135667</td>\n      <td>0.179310</td>\n      <td>0.359375</td>\n      <td>0.048335</td>\n      <td>0.104239</td>\n      <td>0.25</td>\n    </tr>\n    <tr>\n      <th>3</th>\n      <td>0.454267</td>\n      <td>0.137931</td>\n      <td>0.132812</td>\n      <td>0.056928</td>\n      <td>0.494495</td>\n      <td>0.50</td>\n    </tr>\n    <tr>\n      <th>4</th>\n      <td>0.271772</td>\n      <td>0.206897</td>\n      <td>1.000000</td>\n      <td>0.076262</td>\n      <td>0.357578</td>\n      <td>0.50</td>\n    </tr>\n  </tbody>\n</table>\n</div>"
     },
     "execution_count": 32,
     "metadata": {},
     "output_type": "execute_result"
    }
   ],
   "source": [
    "X_test_nrml = pd.DataFrame(min_max_scaler.fit_transform(X_test),columns = X_test.columns)\n",
    "X_test_nrml.head()"
   ],
   "metadata": {
    "collapsed": false,
    "pycharm": {
     "name": "#%%\n"
    }
   }
  },
  {
   "cell_type": "markdown",
   "source": [
    "# Support Vector Machine\n",
    "\n",
    "[SVMDocumentation](https://scikit-learn.org/stable/modules/svm.html)"
   ],
   "metadata": {
    "collapsed": false,
    "pycharm": {
     "name": "#%% md\n"
    }
   }
  },
  {
   "cell_type": "markdown",
   "source": [
    "## Normalized"
   ],
   "metadata": {
    "collapsed": false,
    "pycharm": {
     "name": "#%% md\n"
    }
   }
  },
  {
   "cell_type": "code",
   "execution_count": 33,
   "outputs": [
    {
     "data": {
      "text/plain": "SVC(kernel='linear')",
      "text/html": "<style>#sk-container-id-1 {color: black;background-color: white;}#sk-container-id-1 pre{padding: 0;}#sk-container-id-1 div.sk-toggleable {background-color: white;}#sk-container-id-1 label.sk-toggleable__label {cursor: pointer;display: block;width: 100%;margin-bottom: 0;padding: 0.3em;box-sizing: border-box;text-align: center;}#sk-container-id-1 label.sk-toggleable__label-arrow:before {content: \"▸\";float: left;margin-right: 0.25em;color: #696969;}#sk-container-id-1 label.sk-toggleable__label-arrow:hover:before {color: black;}#sk-container-id-1 div.sk-estimator:hover label.sk-toggleable__label-arrow:before {color: black;}#sk-container-id-1 div.sk-toggleable__content {max-height: 0;max-width: 0;overflow: hidden;text-align: left;background-color: #f0f8ff;}#sk-container-id-1 div.sk-toggleable__content pre {margin: 0.2em;color: black;border-radius: 0.25em;background-color: #f0f8ff;}#sk-container-id-1 input.sk-toggleable__control:checked~div.sk-toggleable__content {max-height: 200px;max-width: 100%;overflow: auto;}#sk-container-id-1 input.sk-toggleable__control:checked~label.sk-toggleable__label-arrow:before {content: \"▾\";}#sk-container-id-1 div.sk-estimator input.sk-toggleable__control:checked~label.sk-toggleable__label {background-color: #d4ebff;}#sk-container-id-1 div.sk-label input.sk-toggleable__control:checked~label.sk-toggleable__label {background-color: #d4ebff;}#sk-container-id-1 input.sk-hidden--visually {border: 0;clip: rect(1px 1px 1px 1px);clip: rect(1px, 1px, 1px, 1px);height: 1px;margin: -1px;overflow: hidden;padding: 0;position: absolute;width: 1px;}#sk-container-id-1 div.sk-estimator {font-family: monospace;background-color: #f0f8ff;border: 1px dotted black;border-radius: 0.25em;box-sizing: border-box;margin-bottom: 0.5em;}#sk-container-id-1 div.sk-estimator:hover {background-color: #d4ebff;}#sk-container-id-1 div.sk-parallel-item::after {content: \"\";width: 100%;border-bottom: 1px solid gray;flex-grow: 1;}#sk-container-id-1 div.sk-label:hover label.sk-toggleable__label {background-color: #d4ebff;}#sk-container-id-1 div.sk-serial::before {content: \"\";position: absolute;border-left: 1px solid gray;box-sizing: border-box;top: 0;bottom: 0;left: 50%;z-index: 0;}#sk-container-id-1 div.sk-serial {display: flex;flex-direction: column;align-items: center;background-color: white;padding-right: 0.2em;padding-left: 0.2em;position: relative;}#sk-container-id-1 div.sk-item {position: relative;z-index: 1;}#sk-container-id-1 div.sk-parallel {display: flex;align-items: stretch;justify-content: center;background-color: white;position: relative;}#sk-container-id-1 div.sk-item::before, #sk-container-id-1 div.sk-parallel-item::before {content: \"\";position: absolute;border-left: 1px solid gray;box-sizing: border-box;top: 0;bottom: 0;left: 50%;z-index: -1;}#sk-container-id-1 div.sk-parallel-item {display: flex;flex-direction: column;z-index: 1;position: relative;background-color: white;}#sk-container-id-1 div.sk-parallel-item:first-child::after {align-self: flex-end;width: 50%;}#sk-container-id-1 div.sk-parallel-item:last-child::after {align-self: flex-start;width: 50%;}#sk-container-id-1 div.sk-parallel-item:only-child::after {width: 0;}#sk-container-id-1 div.sk-dashed-wrapped {border: 1px dashed gray;margin: 0 0.4em 0.5em 0.4em;box-sizing: border-box;padding-bottom: 0.4em;background-color: white;}#sk-container-id-1 div.sk-label label {font-family: monospace;font-weight: bold;display: inline-block;line-height: 1.2em;}#sk-container-id-1 div.sk-label-container {text-align: center;}#sk-container-id-1 div.sk-container {/* jupyter's `normalize.less` sets `[hidden] { display: none; }` but bootstrap.min.css set `[hidden] { display: none !important; }` so we also need the `!important` here to be able to override the default hidden behavior on the sphinx rendered scikit-learn.org. See: https://github.com/scikit-learn/scikit-learn/issues/21755 */display: inline-block !important;position: relative;}#sk-container-id-1 div.sk-text-repr-fallback {display: none;}</style><div id=\"sk-container-id-1\" class=\"sk-top-container\"><div class=\"sk-text-repr-fallback\"><pre>SVC(kernel=&#x27;linear&#x27;)</pre><b>In a Jupyter environment, please rerun this cell to show the HTML representation or trust the notebook. <br />On GitHub, the HTML representation is unable to render, please try loading this page with nbviewer.org.</b></div><div class=\"sk-container\" hidden><div class=\"sk-item\"><div class=\"sk-estimator sk-toggleable\"><input class=\"sk-toggleable__control sk-hidden--visually\" id=\"sk-estimator-id-1\" type=\"checkbox\" checked><label for=\"sk-estimator-id-1\" class=\"sk-toggleable__label sk-toggleable__label-arrow\">SVC</label><div class=\"sk-toggleable__content\"><pre>SVC(kernel=&#x27;linear&#x27;)</pre></div></div></div></div></div>"
     },
     "execution_count": 33,
     "metadata": {},
     "output_type": "execute_result"
    }
   ],
   "source": [
    "from sklearn.svm import SVC\n",
    "\n",
    "svm_nrml = SVC(kernel=\"linear\")\n",
    "svm_nrml.fit(X_train_nrml, Y_train)"
   ],
   "metadata": {
    "collapsed": false,
    "pycharm": {
     "name": "#%%\n"
    }
   }
  },
  {
   "cell_type": "code",
   "execution_count": 34,
   "outputs": [
    {
     "data": {
      "text/plain": "0.44165621079046424"
     },
     "execution_count": 34,
     "metadata": {},
     "output_type": "execute_result"
    }
   ],
   "source": [
    "svm_nrml.score(X_train_nrml, Y_train)"
   ],
   "metadata": {
    "collapsed": false,
    "pycharm": {
     "name": "#%%\n"
    }
   }
  },
  {
   "cell_type": "code",
   "execution_count": 35,
   "outputs": [
    {
     "name": "stdout",
     "output_type": "stream",
     "text": [
      "0.43 accuracy with a standard deviation of 0.01\n"
     ]
    }
   ],
   "source": [
    "from sklearn.model_selection import cross_val_score\n",
    "scores = cross_val_score(svm_nrml, X_train_nrml, Y_train, cv=5, scoring=\"accuracy\")\n",
    "print(\"%0.2f accuracy with a standard deviation of %0.2f\" % (scores.mean(), scores.std()))"
   ],
   "metadata": {
    "collapsed": false,
    "pycharm": {
     "name": "#%%\n"
    }
   }
  },
  {
   "cell_type": "code",
   "execution_count": 36,
   "outputs": [
    {
     "data": {
      "text/plain": "0.375"
     },
     "execution_count": 36,
     "metadata": {},
     "output_type": "execute_result"
    }
   ],
   "source": [
    "svm_nrml.score(X_test_nrml, Y_test)"
   ],
   "metadata": {
    "collapsed": false,
    "pycharm": {
     "name": "#%%\n"
    }
   }
  },
  {
   "cell_type": "markdown",
   "source": [
    "### Confusion matrix\n",
    "[Documentation](https://scikit-learn.org/stable/modules/generated/sklearn.metrics.confusion_matrix.html#sklearn.metrics.confusion_matrix)"
   ],
   "metadata": {
    "collapsed": false,
    "pycharm": {
     "name": "#%% md\n"
    }
   }
  },
  {
   "cell_type": "code",
   "execution_count": 37,
   "outputs": [
    {
     "name": "stderr",
     "output_type": "stream",
     "text": [
      "C:\\Users\\Peter\\OneDrive - Heriot-Watt University\\HW\\Semester\\3\\F21DL - ML\\notebook\\venv\\lib\\site-packages\\sklearn\\model_selection\\_split.py:684: UserWarning: The least populated class in y has only 3 members, which is less than n_splits=5.\n",
      "  warnings.warn(\n"
     ]
    }
   ],
   "source": [
    "from sklearn.metrics import confusion_matrix\n",
    "from sklearn.model_selection import cross_val_predict\n",
    "\n",
    "y_pred_nrml = svm_nrml.predict(X_test_nrml)\n",
    "y_pred_cross = cross_val_predict(svm_nrml, X_test_nrml, Y_test, cv=5)\n",
    "cmn = confusion_matrix(Y_test, y_pred_nrml)\n",
    "cmc = confusion_matrix(Y_test, y_pred_cross)\n",
    "\n",
    "# Include the text\n",
    "# Problems w class imbalance"
   ],
   "metadata": {
    "collapsed": false,
    "pycharm": {
     "name": "#%%\n"
    }
   }
  },
  {
   "cell_type": "markdown",
   "source": [
    "[Display Documentation](https://scikit-learn.org/stable/modules/generated/sklearn.metrics.ConfusionMatrixDisplay.html#sklearn.metrics.ConfusionMatrixDisplay)"
   ],
   "metadata": {
    "collapsed": false,
    "pycharm": {
     "name": "#%% md\n"
    }
   }
  },
  {
   "cell_type": "code",
   "execution_count": 38,
   "outputs": [
    {
     "data": {
      "text/plain": "<Figure size 640x480 with 2 Axes>",
      "image/png": "[encoded data removed]"
     },
     "metadata": {},
     "output_type": "display_data"
    }
   ],
   "source": [
    "from sklearn.metrics import ConfusionMatrixDisplay\n",
    "\n",
    "disp = ConfusionMatrixDisplay(confusion_matrix=cmn, display_labels=svm_nrml.classes_)\n",
    "disp.plot(xticks_rotation=90)\n",
    "\n",
    "plt.tight_layout()"
   ],
   "metadata": {
    "collapsed": false,
    "pycharm": {
     "name": "#%%\n"
    }
   }
  },
  {
   "cell_type": "code",
   "execution_count": 39,
   "outputs": [
    {
     "data": {
      "text/plain": "<Figure size 640x480 with 2 Axes>",
      "image/png": "[encoded data removed]"
     },
     "metadata": {},
     "output_type": "display_data"
    }
   ],
   "source": [
    "from sklearn.metrics import ConfusionMatrixDisplay\n",
    "\n",
    "disp = ConfusionMatrixDisplay(confusion_matrix=cmc, display_labels=svm_nrml.classes_)\n",
    "disp.plot(xticks_rotation=90)\n",
    "\n",
    "plt.tight_layout()"
   ],
   "metadata": {
    "collapsed": false,
    "pycharm": {
     "name": "#%%\n"
    }
   }
  },
  {
   "cell_type": "markdown",
   "source": [
    "## Standardized"
   ],
   "metadata": {
    "collapsed": false,
    "pycharm": {
     "name": "#%% md\n"
    }
   }
  },
  {
   "cell_type": "code",
   "execution_count": 40,
   "outputs": [
    {
     "data": {
      "text/plain": "SVC(kernel='linear')",
      "text/html": "<style>#sk-container-id-2 {color: black;background-color: white;}#sk-container-id-2 pre{padding: 0;}#sk-container-id-2 div.sk-toggleable {background-color: white;}#sk-container-id-2 label.sk-toggleable__label {cursor: pointer;display: block;width: 100%;margin-bottom: 0;padding: 0.3em;box-sizing: border-box;text-align: center;}#sk-container-id-2 label.sk-toggleable__label-arrow:before {content: \"▸\";float: left;margin-right: 0.25em;color: #696969;}#sk-container-id-2 label.sk-toggleable__label-arrow:hover:before {color: black;}#sk-container-id-2 div.sk-estimator:hover label.sk-toggleable__label-arrow:before {color: black;}#sk-container-id-2 div.sk-toggleable__content {max-height: 0;max-width: 0;overflow: hidden;text-align: left;background-color: #f0f8ff;}#sk-container-id-2 div.sk-toggleable__content pre {margin: 0.2em;color: black;border-radius: 0.25em;background-color: #f0f8ff;}#sk-container-id-2 input.sk-toggleable__control:checked~div.sk-toggleable__content {max-height: 200px;max-width: 100%;overflow: auto;}#sk-container-id-2 input.sk-toggleable__control:checked~label.sk-toggleable__label-arrow:before {content: \"▾\";}#sk-container-id-2 div.sk-estimator input.sk-toggleable__control:checked~label.sk-toggleable__label {background-color: #d4ebff;}#sk-container-id-2 div.sk-label input.sk-toggleable__control:checked~label.sk-toggleable__label {background-color: #d4ebff;}#sk-container-id-2 input.sk-hidden--visually {border: 0;clip: rect(1px 1px 1px 1px);clip: rect(1px, 1px, 1px, 1px);height: 1px;margin: -1px;overflow: hidden;padding: 0;position: absolute;width: 1px;}#sk-container-id-2 div.sk-estimator {font-family: monospace;background-color: #f0f8ff;border: 1px dotted black;border-radius: 0.25em;box-sizing: border-box;margin-bottom: 0.5em;}#sk-container-id-2 div.sk-estimator:hover {background-color: #d4ebff;}#sk-container-id-2 div.sk-parallel-item::after {content: \"\";width: 100%;border-bottom: 1px solid gray;flex-grow: 1;}#sk-container-id-2 div.sk-label:hover label.sk-toggleable__label {background-color: #d4ebff;}#sk-container-id-2 div.sk-serial::before {content: \"\";position: absolute;border-left: 1px solid gray;box-sizing: border-box;top: 0;bottom: 0;left: 50%;z-index: 0;}#sk-container-id-2 div.sk-serial {display: flex;flex-direction: column;align-items: center;background-color: white;padding-right: 0.2em;padding-left: 0.2em;position: relative;}#sk-container-id-2 div.sk-item {position: relative;z-index: 1;}#sk-container-id-2 div.sk-parallel {display: flex;align-items: stretch;justify-content: center;background-color: white;position: relative;}#sk-container-id-2 div.sk-item::before, #sk-container-id-2 div.sk-parallel-item::before {content: \"\";position: absolute;border-left: 1px solid gray;box-sizing: border-box;top: 0;bottom: 0;left: 50%;z-index: -1;}#sk-container-id-2 div.sk-parallel-item {display: flex;flex-direction: column;z-index: 1;position: relative;background-color: white;}#sk-container-id-2 div.sk-parallel-item:first-child::after {align-self: flex-end;width: 50%;}#sk-container-id-2 div.sk-parallel-item:last-child::after {align-self: flex-start;width: 50%;}#sk-container-id-2 div.sk-parallel-item:only-child::after {width: 0;}#sk-container-id-2 div.sk-dashed-wrapped {border: 1px dashed gray;margin: 0 0.4em 0.5em 0.4em;box-sizing: border-box;padding-bottom: 0.4em;background-color: white;}#sk-container-id-2 div.sk-label label {font-family: monospace;font-weight: bold;display: inline-block;line-height: 1.2em;}#sk-container-id-2 div.sk-label-container {text-align: center;}#sk-container-id-2 div.sk-container {/* jupyter's `normalize.less` sets `[hidden] { display: none; }` but bootstrap.min.css set `[hidden] { display: none !important; }` so we also need the `!important` here to be able to override the default hidden behavior on the sphinx rendered scikit-learn.org. See: https://github.com/scikit-learn/scikit-learn/issues/21755 */display: inline-block !important;position: relative;}#sk-container-id-2 div.sk-text-repr-fallback {display: none;}</style><div id=\"sk-container-id-2\" class=\"sk-top-container\"><div class=\"sk-text-repr-fallback\"><pre>SVC(kernel=&#x27;linear&#x27;)</pre><b>In a Jupyter environment, please rerun this cell to show the HTML representation or trust the notebook. <br />On GitHub, the HTML representation is unable to render, please try loading this page with nbviewer.org.</b></div><div class=\"sk-container\" hidden><div class=\"sk-item\"><div class=\"sk-estimator sk-toggleable\"><input class=\"sk-toggleable__control sk-hidden--visually\" id=\"sk-estimator-id-2\" type=\"checkbox\" checked><label for=\"sk-estimator-id-2\" class=\"sk-toggleable__label sk-toggleable__label-arrow\">SVC</label><div class=\"sk-toggleable__content\"><pre>SVC(kernel=&#x27;linear&#x27;)</pre></div></div></div></div></div>"
     },
     "execution_count": 40,
     "metadata": {},
     "output_type": "execute_result"
    }
   ],
   "source": [
    "svm_std = SVC(kernel=\"linear\")\n",
    "svm_std.fit(X_train_std, Y_train)"
   ],
   "metadata": {
    "collapsed": false,
    "pycharm": {
     "name": "#%%\n"
    }
   }
  },
  {
   "cell_type": "code",
   "execution_count": 41,
   "outputs": [
    {
     "data": {
      "text/plain": "0.4918444165621079"
     },
     "execution_count": 41,
     "metadata": {},
     "output_type": "execute_result"
    }
   ],
   "source": [
    "svm_std.score(X_train_std, Y_train)"
   ],
   "metadata": {
    "collapsed": false,
    "pycharm": {
     "name": "#%%\n"
    }
   }
  },
  {
   "cell_type": "code",
   "execution_count": 42,
   "outputs": [
    {
     "name": "stdout",
     "output_type": "stream",
     "text": [
      "0.45 accuracy with a standard deviation of 0.02\n"
     ]
    }
   ],
   "source": [
    "from sklearn.model_selection import cross_val_score\n",
    "scores = cross_val_score(svm_std, X_train_std, Y_train, cv=5, scoring=\"accuracy\")\n",
    "print(\"%0.2f accuracy with a standard deviation of %0.2f\" % (scores.mean(), scores.std()))"
   ],
   "metadata": {
    "collapsed": false,
    "pycharm": {
     "name": "#%%\n"
    }
   }
  },
  {
   "cell_type": "code",
   "execution_count": 43,
   "outputs": [
    {
     "data": {
      "text/plain": "0.415"
     },
     "execution_count": 43,
     "metadata": {},
     "output_type": "execute_result"
    }
   ],
   "source": [
    "svm_std.score(X_test_std, Y_test)"
   ],
   "metadata": {
    "collapsed": false,
    "pycharm": {
     "name": "#%%\n"
    }
   }
  },
  {
   "cell_type": "markdown",
   "source": [
    "### Confusion matrix\n",
    "[Documentation](https://scikit-learn.org/stable/modules/generated/sklearn.metrics.confusion_matrix.html#sklearn.metrics.confusion_matrix)"
   ],
   "metadata": {
    "collapsed": false,
    "pycharm": {
     "name": "#%% md\n"
    }
   }
  },
  {
   "cell_type": "code",
   "execution_count": 44,
   "outputs": [
    {
     "name": "stderr",
     "output_type": "stream",
     "text": [
      "C:\\Users\\Peter\\OneDrive - Heriot-Watt University\\HW\\Semester\\3\\F21DL - ML\\notebook\\venv\\lib\\site-packages\\sklearn\\model_selection\\_split.py:684: UserWarning: The least populated class in y has only 3 members, which is less than n_splits=5.\n",
      "  warnings.warn(\n"
     ]
    }
   ],
   "source": [
    "y_pred_std = svm_std.predict(X_test_std)\n",
    "y_pred_cross = cross_val_predict(svm_std, X_test_std, Y_test, cv=5)\n",
    "cmn = confusion_matrix(Y_test, y_pred_std)\n",
    "cmc = confusion_matrix(Y_test, y_pred_cross)\n"
   ],
   "metadata": {
    "collapsed": false,
    "pycharm": {
     "name": "#%%\n"
    }
   }
  },
  {
   "cell_type": "markdown",
   "source": [
    "[Display Documentation](https://scikit-learn.org/stable/modules/generated/sklearn.metrics.ConfusionMatrixDisplay.html#sklearn.metrics.ConfusionMatrixDisplay)"
   ],
   "metadata": {
    "collapsed": false,
    "pycharm": {
     "name": "#%% md\n"
    }
   }
  },
  {
   "cell_type": "code",
   "execution_count": 45,
   "outputs": [
    {
     "data": {
      "text/plain": "<Figure size 640x480 with 2 Axes>",
      "image/png": "[encoded data removed]"
     },
     "metadata": {},
     "output_type": "display_data"
    }
   ],
   "source": [
    "disp = ConfusionMatrixDisplay(confusion_matrix=cmn, display_labels=svm_std.classes_)\n",
    "disp.plot(xticks_rotation=90)\n",
    "\n",
    "plt.tight_layout()"
   ],
   "metadata": {
    "collapsed": false,
    "pycharm": {
     "name": "#%%\n"
    }
   }
  },
  {
   "cell_type": "code",
   "execution_count": 46,
   "outputs": [
    {
     "data": {
      "text/plain": "<Figure size 640x480 with 2 Axes>",
      "image/png": "[encoded data removed]"
     },
     "metadata": {},
     "output_type": "display_data"
    }
   ],
   "source": [
    "disp = ConfusionMatrixDisplay(confusion_matrix=cmc, display_labels=svm_std.classes_)\n",
    "disp.plot(xticks_rotation=90)\n",
    "\n",
    "plt.tight_layout()"
   ],
   "metadata": {
    "collapsed": false,
    "pycharm": {
     "name": "#%%\n"
    }
   }
  },
  {
   "cell_type": "code",
   "execution_count": 47,
   "outputs": [
    {
     "data": {
      "text/plain": "0.395"
     },
     "execution_count": 47,
     "metadata": {},
     "output_type": "execute_result"
    }
   ],
   "source": [
    "from sklearn.metrics import precision_score, recall_score\n",
    "\n",
    "precision_score(Y_test, y_pred_cross, average='micro')"
   ],
   "metadata": {
    "collapsed": false,
    "pycharm": {
     "name": "#%%\n"
    }
   }
  },
  {
   "cell_type": "code",
   "execution_count": 48,
   "outputs": [
    {
     "data": {
      "text/plain": "0.395"
     },
     "execution_count": 48,
     "metadata": {},
     "output_type": "execute_result"
    }
   ],
   "source": [
    "recall_score(Y_test, y_pred_cross, average='micro')"
   ],
   "metadata": {
    "collapsed": false,
    "pycharm": {
     "name": "#%%\n"
    }
   }
  },
  {
   "cell_type": "code",
   "execution_count": 49,
   "outputs": [
    {
     "data": {
      "text/plain": "0.395"
     },
     "execution_count": 49,
     "metadata": {},
     "output_type": "execute_result"
    }
   ],
   "source": [
    "from sklearn.metrics import f1_score\n",
    "\n",
    "f1_score(Y_test, y_pred_cross, average='micro')"
   ],
   "metadata": {
    "collapsed": false,
    "pycharm": {
     "name": "#%%\n"
    }
   }
  },
  {
   "cell_type": "markdown",
   "source": [
    "Precision/Recall Trade-off"
   ],
   "metadata": {
    "collapsed": false,
    "pycharm": {
     "name": "#%% md\n"
    }
   }
  },
  {
   "cell_type": "code",
   "execution_count": 50,
   "outputs": [],
   "source": [
    "y_scores = svm_std.decision_function(X)"
   ],
   "metadata": {
    "collapsed": false,
    "pycharm": {
     "name": "#%%\n"
    }
   }
  },
  {
   "cell_type": "code",
   "execution_count": 51,
   "outputs": [],
   "source": [
    "# threshold = 0\n",
    "# y_some_digit_pred = (y_scores > threshold)"
   ],
   "metadata": {
    "collapsed": false,
    "pycharm": {
     "name": "#%%\n"
    }
   }
  },
  {
   "cell_type": "code",
   "execution_count": 52,
   "outputs": [],
   "source": [
    "threshold = 8000\n",
    "y_some_digit_pred = (y_scores > threshold)"
   ],
   "metadata": {
    "collapsed": false,
    "pycharm": {
     "name": "#%%\n"
    }
   }
  },
  {
   "cell_type": "code",
   "execution_count": 53,
   "outputs": [],
   "source": [
    "if display_accuracy_measures:\n",
    "    from sklearn.multiclass import OneVsRestClassifier\n",
    "    from sklearn import svm, datasets\n",
    "\n",
    "\n",
    "    classifier = OneVsRestClassifier(svm.SVC(kernel='linear', probability=True,\n",
    "                                     random_state=0))\n",
    "    y_scoresb = classifier.fit(X_trainb, Y_trainb).decision_function(X_testb)\n",
    "\n"
   ],
   "metadata": {
    "collapsed": false,
    "pycharm": {
     "name": "#%%\n"
    }
   }
  },
  {
   "cell_type": "markdown",
   "source": [
    "Roc curves\n"
   ],
   "metadata": {
    "collapsed": false,
    "pycharm": {
     "name": "#%% md\n"
    }
   }
  },
  {
   "cell_type": "code",
   "execution_count": 54,
   "outputs": [],
   "source": [
    "if display_accuracy_measures:\n",
    "    import matplotlib.pyplot as plt\n",
    "    from itertools import cycle\n",
    "    from sklearn.metrics import roc_curve, auc\n",
    "    from sklearn.metrics import precision_recall_curve\n",
    "\n",
    "    lw = 2\n",
    "    fpr = dict()\n",
    "    tpr = dict()\n",
    "    roc_auc = dict()\n",
    "    precision = dict()\n",
    "    recall = dict()\n",
    "    threshold = dict()\n",
    "    for i in range(n_classes):\n",
    "        fpr[i], tpr[i], _ = roc_curve(Y_testb[:, i], y_scoresb[:, i])\n",
    "        precision[i], recall[i], threshold[i] = precision_recall_curve(Y_testb[:, i], y_scoresb[:, i])\n",
    "        roc_auc[i] = auc(fpr[i], tpr[i])\n",
    "\n",
    "    colors = cycle(['blue', 'red', 'green', 'yellow', 'orange', 'purple', 'pink', 'black', 'white','pink', 'brown'])\n",
    "\n",
    "    for i, color in zip(range(n_classes), colors):\n",
    "        plt.plot(fpr[i], tpr[i], color=color, lw=lw,\n",
    "                 label='ROC curve of class {0} (area = {1:0.2f})'\n",
    "                 ''.format(classes[i], roc_auc[i]))\n",
    "    plt.plot([0, 1], [0, 1], 'k--', lw=lw)\n",
    "    plt.xlim([-0.05, 1.0])\n",
    "    plt.ylim([0.0, 1.05])\n",
    "    plt.xlabel('False Positive Rate')\n",
    "    plt.ylabel('True Positive Rate')\n",
    "    plt.title('Receiver operating characteristic for multi-class data')\n",
    "    plt.legend(loc=\"lower right\")\n",
    "    plt.show()"
   ],
   "metadata": {
    "collapsed": false,
    "pycharm": {
     "name": "#%%\n"
    }
   }
  },
  {
   "cell_type": "code",
   "execution_count": 55,
   "outputs": [],
   "source": [
    "if display_accuracy_measures:\n",
    "    for i, color in zip(range(n_classes), colors):\n",
    "        plt.plot(threshold[i], precision[i][:-1], color=color, lw=lw,\n",
    "                 label='Precision of class {0}'\n",
    "                 ''.format(classes[i]))\n",
    "        plt.plot(threshold[i], recall[i][:-1], color=color, linestyle='dashed', lw=lw,\n",
    "                 label='Recall of class {0}'\n",
    "                   ''.format(classes[i]))\n",
    "\n",
    "    plt.xlabel('Threshold')\n",
    "    plt.title('Precision and recall evolution with threshold')\n",
    "    plt.legend(loc=\"lower right\", prop={'size': 5})\n",
    "    plt.show()"
   ],
   "metadata": {
    "collapsed": false,
    "pycharm": {
     "name": "#%%\n"
    }
   }
  },
  {
   "cell_type": "code",
   "execution_count": 56,
   "outputs": [],
   "source": [
    "if display_accuracy_measures:\n",
    "    for i, color in zip(range(n_classes), colors):\n",
    "        plt.plot(precision[i], recall[i], color=color, lw=lw,\n",
    "                 label='Precision vs recall of class {0}'\n",
    "                 ''.format(classes[i]))\n",
    "    plt.plot([0, 1], [0, 1], 'k--', lw=lw)\n",
    "    plt.xlim([-0.05, 1.0])\n",
    "    plt.ylim([0.0, 1.05])\n",
    "    plt.xlabel('Recall')\n",
    "    plt.ylabel('Precision')\n",
    "    plt.title('Precision vs recall')\n",
    "    plt.legend(loc=\"lower right\", prop={'size': 5})\n",
    "    plt.show()"
   ],
   "metadata": {
    "collapsed": false,
    "pycharm": {
     "name": "#%%\n"
    }
   }
  },
  {
   "cell_type": "code",
   "execution_count": 57,
   "outputs": [],
   "source": [
    "if display_accuracy_measures:\n",
    "    from sklearn.ensemble import RandomForestClassifier\n",
    "    forest_clf = RandomForestClassifier(n_estimators=100, random_state=42)\n",
    "\n",
    "    y_scores_forest = cross_val_predict(forest_clf, X_testb, Y_testb, cv=5,\n",
    "                                        method=\"predict_proba\")"
   ],
   "metadata": {
    "collapsed": false,
    "pycharm": {
     "name": "#%%\n"
    }
   }
  },
  {
   "cell_type": "code",
   "execution_count": 58,
   "outputs": [],
   "source": [
    "if display_accuracy_measures:\n",
    "    fpr_forest = dict()\n",
    "    tpr_forest = dict()\n",
    "    thresholds_forest = dict()\n",
    "\n",
    "    for i in range(n_classes):\n",
    "        fpr_forest[i], tpr_forest[i], thresholds_forest[i] = roc_curve(Y_testb[:, i], y_scores_forest[i][:, 1])\n",
    "\n"
   ],
   "metadata": {
    "collapsed": false,
    "pycharm": {
     "name": "#%%\n"
    }
   }
  },
  {
   "cell_type": "code",
   "execution_count": 59,
   "outputs": [],
   "source": [
    "if display_accuracy_measures:\n",
    "    for i, color in zip(range(n_classes), colors):\n",
    "        plt.plot(fpr_forest[i], tpr_forest[i], color=color, lw=lw,\n",
    "                 label='ROC forest curve of class {0} (area = {1:0.2f})'\n",
    "                 ''.format(classes[i], roc_auc[i]))\n",
    "    plt.plot([0, 1], [0, 1], 'k--', lw=lw)\n",
    "    plt.xlim([-0.05, 1.0])\n",
    "    plt.ylim([0.0, 1.05])\n",
    "    plt.xlabel('False Positive Rate')\n",
    "    plt.ylabel('True Positive Rate')\n",
    "    plt.title('Receiver operating characteristic for multi-class data with forest classifier')\n",
    "    plt.legend(loc=\"lower right\", prop={'size': 5})\n",
    "    plt.show()"
   ],
   "metadata": {
    "collapsed": false,
    "pycharm": {
     "name": "#%%\n"
    }
   }
  },
  {
   "cell_type": "code",
   "execution_count": 60,
   "outputs": [],
   "source": [
    "if display_accuracy_measures:\n",
    "    y_pred_std = svm_std.predict(X_test_std)\n",
    "    y_pred_cross = cross_val_predict(svm_std, X_test_std, Y_test, cv=5)\n",
    "    cmn = confusion_matrix(Y_test, y_pred_std)\n",
    "    cmc = confusion_matrix(Y_test, y_pred_cross)\n"
   ],
   "metadata": {
    "collapsed": false,
    "pycharm": {
     "name": "#%%\n"
    }
   }
  },
  {
   "cell_type": "markdown",
   "source": [
    "[Display Documentation](https://scikit-learn.org/stable/modules/generated/sklearn.metrics.ConfusionMatrixDisplay.html#sklearn.metrics.ConfusionMatrixDisplay)"
   ],
   "metadata": {
    "collapsed": false,
    "pycharm": {
     "name": "#%% md\n"
    }
   }
  },
  {
   "cell_type": "code",
   "execution_count": 61,
   "outputs": [],
   "source": [
    "if display_accuracy_measures:\n",
    "    disp = ConfusionMatrixDisplay(confusion_matrix=cmn, display_labels=svm_std.classes_)\n",
    "    disp.plot(xticks_rotation=90)\n",
    "\n",
    "    plt.tight_layout()"
   ],
   "metadata": {
    "collapsed": false,
    "pycharm": {
     "name": "#%%\n"
    }
   }
  },
  {
   "cell_type": "code",
   "execution_count": 62,
   "outputs": [],
   "source": [
    "if display_accuracy_measures:\n",
    "    disp = ConfusionMatrixDisplay(confusion_matrix=cmc, display_labels=svm_std.classes_)\n",
    "    disp.plot(xticks_rotation=90)\n",
    "\n",
    "    plt.tight_layout()"
   ],
   "metadata": {
    "collapsed": false,
    "pycharm": {
     "name": "#%%\n"
    }
   }
  },
  {
   "cell_type": "code",
   "execution_count": 63,
   "outputs": [],
   "source": [
    "if display_accuracy_measures:\n",
    "    from sklearn.metrics import precision_score, recall_score\n",
    "\n",
    "    precision_score(Y_test, y_pred_cross, average='micro')"
   ],
   "metadata": {
    "collapsed": false,
    "pycharm": {
     "name": "#%%\n"
    }
   }
  },
  {
   "cell_type": "code",
   "execution_count": 64,
   "outputs": [],
   "source": [
    "if display_accuracy_measures:\n",
    "    recall_score(Y_test, y_pred_cross, average='micro')"
   ],
   "metadata": {
    "collapsed": false,
    "pycharm": {
     "name": "#%%\n"
    }
   }
  },
  {
   "cell_type": "code",
   "execution_count": 65,
   "outputs": [],
   "source": [
    "if display_accuracy_measures:\n",
    "    from sklearn.metrics import f1_score\n",
    "\n",
    "    f1_score(Y_test, y_pred_cross, average='micro')"
   ],
   "metadata": {
    "collapsed": false,
    "pycharm": {
     "name": "#%%\n"
    }
   }
  },
  {
   "cell_type": "markdown",
   "source": [
    "Precision/Recall Trade-off"
   ],
   "metadata": {
    "collapsed": false,
    "pycharm": {
     "name": "#%% md\n"
    }
   }
  },
  {
   "cell_type": "code",
   "execution_count": 66,
   "outputs": [],
   "source": [
    "if display_accuracy_measures:\n",
    "    y_scores = svm_std.decision_function(X)"
   ],
   "metadata": {
    "collapsed": false,
    "pycharm": {
     "name": "#%%\n"
    }
   }
  },
  {
   "cell_type": "code",
   "execution_count": 67,
   "outputs": [],
   "source": [
    "# threshold = 0\n",
    "# y_some_digit_pred = (y_scores > threshold)"
   ],
   "metadata": {
    "collapsed": false,
    "pycharm": {
     "name": "#%%\n"
    }
   }
  },
  {
   "cell_type": "code",
   "execution_count": 68,
   "outputs": [],
   "source": [
    "if display_accuracy_measures:\n",
    "    threshold = 8000\n",
    "    y_some_digit_pred = (y_scores > threshold)"
   ],
   "metadata": {
    "collapsed": false,
    "pycharm": {
     "name": "#%%\n"
    }
   }
  },
  {
   "cell_type": "code",
   "execution_count": 69,
   "outputs": [],
   "source": [
    "if display_accuracy_measures:\n",
    "    from sklearn.multiclass import OneVsRestClassifier\n",
    "    from sklearn import svm, datasets\n",
    "\n",
    "\n",
    "    classifier = OneVsRestClassifier(svm.SVC(kernel='linear', probability=True,\n",
    "                                     random_state=0))\n",
    "    y_scoresb = classifier.fit(X_trainb, Y_trainb).decision_function(X_testb)\n",
    "\n"
   ],
   "metadata": {
    "collapsed": false,
    "pycharm": {
     "name": "#%%\n"
    }
   }
  },
  {
   "cell_type": "markdown",
   "source": [
    "Roc curves\n"
   ],
   "metadata": {
    "collapsed": false,
    "pycharm": {
     "name": "#%% md\n"
    }
   }
  },
  {
   "cell_type": "code",
   "execution_count": 70,
   "outputs": [],
   "source": [
    "if display_accuracy_measures:\n",
    "    import matplotlib.pyplot as plt\n",
    "    from itertools import cycle\n",
    "    from sklearn.metrics import roc_curve, auc\n",
    "    from sklearn.metrics import precision_recall_curve\n",
    "\n",
    "    lw = 2\n",
    "    fpr = dict()\n",
    "    tpr = dict()\n",
    "    roc_auc = dict()\n",
    "    precision = dict()\n",
    "    recall = dict()\n",
    "    threshold = dict()\n",
    "    for i in range(n_classes):\n",
    "        fpr[i], tpr[i], _ = roc_curve(Y_testb[:, i], y_scoresb[:, i])\n",
    "        precision[i], recall[i], threshold[i] = precision_recall_curve(Y_testb[:, i], y_scoresb[:, i])\n",
    "        roc_auc[i] = auc(fpr[i], tpr[i])\n",
    "\n",
    "    colors = cycle(['blue', 'red', 'green', 'yellow', 'orange', 'purple', 'pink', 'black', 'white','pink', 'brown'])\n",
    "\n",
    "    for i, color in zip(range(n_classes), colors):\n",
    "        plt.plot(fpr[i], tpr[i], color=color, lw=lw,\n",
    "                 label='ROC curve of class {0} (area = {1:0.2f})'\n",
    "                 ''.format(classes[i], roc_auc[i]))\n",
    "    plt.plot([0, 1], [0, 1], 'k--', lw=lw)\n",
    "    plt.xlim([-0.05, 1.0])\n",
    "    plt.ylim([0.0, 1.05])\n",
    "    plt.xlabel('False Positive Rate')\n",
    "    plt.ylabel('True Positive Rate')\n",
    "    plt.title('Receiver operating characteristic for multi-class data')\n",
    "    plt.legend(loc=\"lower right\")\n",
    "    plt.show()"
   ],
   "metadata": {
    "collapsed": false,
    "pycharm": {
     "name": "#%%\n"
    }
   }
  },
  {
   "cell_type": "code",
   "execution_count": 71,
   "outputs": [],
   "source": [
    "if display_accuracy_measures:\n",
    "    for i, color in zip(range(n_classes), colors):\n",
    "        plt.plot(threshold[i], precision[i][:-1], color=color, lw=lw,\n",
    "                 label='Precision of class {0}'\n",
    "                 ''.format(classes[i]))\n",
    "        plt.plot(threshold[i], recall[i][:-1], color=color, linestyle='dashed', lw=lw,\n",
    "                 label='Recall of class {0}'\n",
    "                   ''.format(classes[i]))\n",
    "\n",
    "    plt.xlabel('Threshold')\n",
    "    plt.title('Precision and recall evolution with threshold')\n",
    "    plt.legend(loc=\"lower right\", prop={'size': 5})\n",
    "    plt.show()"
   ],
   "metadata": {
    "collapsed": false,
    "pycharm": {
     "name": "#%%\n"
    }
   }
  },
  {
   "cell_type": "code",
   "execution_count": 72,
   "outputs": [],
   "source": [
    "if display_accuracy_measures:\n",
    "    for i, color in zip(range(n_classes), colors):\n",
    "        plt.plot(precision[i], recall[i], color=color, lw=lw,\n",
    "                 label='Precision vs recall of class {0}'\n",
    "                 ''.format(classes[i]))\n",
    "    plt.plot([0, 1], [0, 1], 'k--', lw=lw)\n",
    "    plt.xlim([-0.05, 1.0])\n",
    "    plt.ylim([0.0, 1.05])\n",
    "    plt.xlabel('Recall')\n",
    "    plt.ylabel('Precision')\n",
    "    plt.title('Precision vs recall')\n",
    "    plt.legend(loc=\"lower right\", prop={'size': 5})\n",
    "    plt.show()"
   ],
   "metadata": {
    "collapsed": false,
    "pycharm": {
     "name": "#%%\n"
    }
   }
  },
  {
   "cell_type": "code",
   "execution_count": 73,
   "outputs": [],
   "source": [
    "if display_accuracy_measures:\n",
    "    from sklearn.ensemble import RandomForestClassifier\n",
    "    forest_clf = RandomForestClassifier(n_estimators=100, random_state=42)\n",
    "\n",
    "    y_scores_forest = cross_val_predict(forest_clf, X_testb, Y_testb, cv=5,\n",
    "                                        method=\"predict_proba\")"
   ],
   "metadata": {
    "collapsed": false,
    "pycharm": {
     "name": "#%%\n"
    }
   }
  },
  {
   "cell_type": "code",
   "execution_count": 74,
   "outputs": [],
   "source": [
    "if display_accuracy_measures:\n",
    "\n",
    "    fpr_forest = dict()\n",
    "    tpr_forest = dict()\n",
    "    thresholds_forest = dict()\n",
    "\n",
    "    for i in range(n_classes):\n",
    "        fpr_forest[i], tpr_forest[i], thresholds_forest[i] = roc_curve(Y_testb[:, i], y_scores_forest[i][:, 1])\n",
    "\n"
   ],
   "metadata": {
    "collapsed": false,
    "pycharm": {
     "name": "#%%\n"
    }
   }
  },
  {
   "cell_type": "code",
   "execution_count": 75,
   "outputs": [],
   "source": [
    "if display_accuracy_measures:\n",
    "    for i, color in zip(range(n_classes), colors):\n",
    "        plt.plot(fpr_forest[i], tpr_forest[i], color=color, lw=lw,\n",
    "                 label='ROC forest curve of class {0} (area = {1:0.2f})'\n",
    "                 ''.format(classes[i], roc_auc[i]))\n",
    "    plt.plot([0, 1], [0, 1], 'k--', lw=lw)\n",
    "    plt.xlim([-0.05, 1.0])\n",
    "    plt.ylim([0.0, 1.05])\n",
    "    plt.xlabel('False Positive Rate')\n",
    "    plt.ylabel('True Positive Rate')\n",
    "    plt.title('Receiver operating characteristic for multi-class data with forest classifier')\n",
    "    plt.legend(loc=\"lower right\", prop={'size': 5})\n",
    "    plt.show()"
   ],
   "metadata": {
    "collapsed": false,
    "pycharm": {
     "name": "#%%\n"
    }
   }
  },
  {
   "cell_type": "code",
   "execution_count": 76,
   "outputs": [],
   "source": [
    "if display_accuracy_measures:\n",
    "    from sklearn.model_selection import cross_val_score\n",
    "    scores = cross_val_score(svm_std, X_train_std, Y_train, cv=5, scoring=\"accuracy\")\n",
    "    print(\"%0.2f accuracy with a standard deviation of %0.2f\" % (scores.mean(), scores.std()))"
   ],
   "metadata": {
    "collapsed": false,
    "pycharm": {
     "name": "#%%\n"
    }
   }
  },
  {
   "cell_type": "code",
   "execution_count": 77,
   "outputs": [],
   "source": [
    "if display_accuracy_measures:\n",
    "    svm_std.score(X_test_std, Y_test)"
   ],
   "metadata": {
    "collapsed": false,
    "pycharm": {
     "name": "#%%\n"
    }
   }
  },
  {
   "cell_type": "markdown",
   "source": [
    "### Confusion matrix\n",
    "[Documentation](https://scikit-learn.org/stable/modules/generated/sklearn.metrics.confusion_matrix.html#sklearn.metrics.confusion_matrix)"
   ],
   "metadata": {
    "collapsed": false,
    "pycharm": {
     "name": "#%% md\n"
    }
   }
  },
  {
   "cell_type": "code",
   "execution_count": 78,
   "outputs": [],
   "source": [
    "if display_accuracy_measures:\n",
    "    y_pred_std = svm_std.predict(X_test_std)\n",
    "    y_pred_cross = cross_val_predict(svm_std, X_test_std, Y_test, cv=5)\n",
    "    cmn = confusion_matrix(Y_test, y_pred_std)\n",
    "    cmc = confusion_matrix(Y_test, y_pred_cross)\n"
   ],
   "metadata": {
    "collapsed": false,
    "pycharm": {
     "name": "#%%\n"
    }
   }
  },
  {
   "cell_type": "markdown",
   "source": [
    "[Display Documentation](https://scikit-learn.org/stable/modules/generated/sklearn.metrics.ConfusionMatrixDisplay.html#sklearn.metrics.ConfusionMatrixDisplay)"
   ],
   "metadata": {
    "collapsed": false,
    "pycharm": {
     "name": "#%% md\n"
    }
   }
  },
  {
   "cell_type": "code",
   "execution_count": 79,
   "outputs": [],
   "source": [
    "if display_accuracy_measures:\n",
    "    disp = ConfusionMatrixDisplay(confusion_matrix=cmn, display_labels=svm_std.classes_)\n",
    "    disp.plot(xticks_rotation=90)\n",
    "\n",
    "    plt.tight_layout()"
   ],
   "metadata": {
    "collapsed": false,
    "pycharm": {
     "name": "#%%\n"
    }
   }
  },
  {
   "cell_type": "code",
   "execution_count": 80,
   "outputs": [],
   "source": [
    "if display_accuracy_measures:\n",
    "    disp = ConfusionMatrixDisplay(confusion_matrix=cmc, display_labels=svm_std.classes_)\n",
    "    disp.plot(xticks_rotation=90)\n",
    "\n",
    "    plt.tight_layout()"
   ],
   "metadata": {
    "collapsed": false,
    "pycharm": {
     "name": "#%%\n"
    }
   }
  },
  {
   "cell_type": "code",
   "execution_count": 81,
   "outputs": [],
   "source": [
    "if display_accuracy_measures:\n",
    "    from sklearn.metrics import precision_score, recall_score\n",
    "\n",
    "    precision_score(Y_test, y_pred_cross, average='micro')"
   ],
   "metadata": {
    "collapsed": false,
    "pycharm": {
     "name": "#%%\n"
    }
   }
  },
  {
   "cell_type": "code",
   "execution_count": 82,
   "outputs": [],
   "source": [
    "if display_accuracy_measures:\n",
    "    recall_score(Y_test, y_pred_cross, average='micro')"
   ],
   "metadata": {
    "collapsed": false,
    "pycharm": {
     "name": "#%%\n"
    }
   }
  },
  {
   "cell_type": "code",
   "execution_count": 83,
   "outputs": [],
   "source": [
    "if display_accuracy_measures:\n",
    "    from sklearn.metrics import f1_score\n",
    "\n",
    "    f1_score(Y_test, y_pred_cross, average='micro')"
   ],
   "metadata": {
    "collapsed": false,
    "pycharm": {
     "name": "#%%\n"
    }
   }
  },
  {
   "cell_type": "markdown",
   "source": [
    "Precision/Recall Trade-off"
   ],
   "metadata": {
    "collapsed": false,
    "pycharm": {
     "name": "#%% md\n"
    }
   }
  },
  {
   "cell_type": "code",
   "execution_count": 84,
   "outputs": [],
   "source": [
    "if display_accuracy_measures:\n",
    "    y_scores = svm_std.decision_function(X)"
   ],
   "metadata": {
    "collapsed": false,
    "pycharm": {
     "name": "#%%\n"
    }
   }
  },
  {
   "cell_type": "code",
   "execution_count": 85,
   "outputs": [],
   "source": [
    "# threshold = 0\n",
    "# y_some_digit_pred = (y_scores > threshold)"
   ],
   "metadata": {
    "collapsed": false,
    "pycharm": {
     "name": "#%%\n"
    }
   }
  },
  {
   "cell_type": "code",
   "execution_count": 86,
   "outputs": [],
   "source": [
    "if display_accuracy_measures:\n",
    "    threshold = 8000\n",
    "    y_some_digit_pred = (y_scores > threshold)"
   ],
   "metadata": {
    "collapsed": false,
    "pycharm": {
     "name": "#%%\n"
    }
   }
  },
  {
   "cell_type": "code",
   "execution_count": 87,
   "outputs": [],
   "source": [
    "if display_accuracy_measures:\n",
    "    from sklearn.multiclass import OneVsRestClassifier\n",
    "    from sklearn import svm, datasets\n",
    "\n",
    "\n",
    "    classifier = OneVsRestClassifier(svm.SVC(kernel='linear', probability=True,\n",
    "                                     random_state=0))\n",
    "    y_scoresb = classifier.fit(X_trainb, Y_trainb).decision_function(X_testb)\n",
    "\n"
   ],
   "metadata": {
    "collapsed": false,
    "pycharm": {
     "name": "#%%\n"
    }
   }
  },
  {
   "cell_type": "markdown",
   "source": [
    "Roc curves\n"
   ],
   "metadata": {
    "collapsed": false,
    "pycharm": {
     "name": "#%% md\n"
    }
   }
  },
  {
   "cell_type": "code",
   "execution_count": 88,
   "outputs": [],
   "source": [
    "if display_accuracy_measures:\n",
    "    import matplotlib.pyplot as plt\n",
    "    from itertools import cycle\n",
    "    from sklearn.metrics import roc_curve, auc\n",
    "    from sklearn.metrics import precision_recall_curve\n",
    "\n",
    "    lw = 2\n",
    "    fpr = dict()\n",
    "    tpr = dict()\n",
    "    roc_auc = dict()\n",
    "    precision = dict()\n",
    "    recall = dict()\n",
    "    threshold = dict()\n",
    "    for i in range(n_classes):\n",
    "        fpr[i], tpr[i], _ = roc_curve(Y_testb[:, i], y_scoresb[:, i])\n",
    "        precision[i], recall[i], threshold[i] = precision_recall_curve(Y_testb[:, i], y_scoresb[:, i])\n",
    "        roc_auc[i] = auc(fpr[i], tpr[i])\n",
    "\n",
    "    colors = cycle(['blue', 'red', 'green', 'yellow', 'orange', 'purple', 'pink', 'black', 'white','pink', 'brown'])\n",
    "\n",
    "    for i, color in zip(range(n_classes), colors):\n",
    "        plt.plot(fpr[i], tpr[i], color=color, lw=lw,\n",
    "                 label='ROC curve of class {0} (area = {1:0.2f})'\n",
    "                 ''.format(classes[i], roc_auc[i]))\n",
    "    plt.plot([0, 1], [0, 1], 'k--', lw=lw)\n",
    "    plt.xlim([-0.05, 1.0])\n",
    "    plt.ylim([0.0, 1.05])\n",
    "    plt.xlabel('False Positive Rate')\n",
    "    plt.ylabel('True Positive Rate')\n",
    "    plt.title('Receiver operating characteristic for multi-class data')\n",
    "    plt.legend(loc=\"lower right\")\n",
    "    plt.show()"
   ],
   "metadata": {
    "collapsed": false,
    "pycharm": {
     "name": "#%%\n"
    }
   }
  },
  {
   "cell_type": "code",
   "execution_count": 89,
   "outputs": [],
   "source": [
    "if display_accuracy_measures:\n",
    "    for i, color in zip(range(n_classes), colors):\n",
    "        plt.plot(threshold[i], precision[i][:-1], color=color, lw=lw,\n",
    "                 label='Precision of class {0}'\n",
    "                 ''.format(classes[i]))\n",
    "        plt.plot(threshold[i], recall[i][:-1], color=color, linestyle='dashed', lw=lw,\n",
    "                 label='Recall of class {0}'\n",
    "                   ''.format(classes[i]))\n",
    "\n",
    "    plt.xlabel('Threshold')\n",
    "    plt.title('Precision and recall evolution with threshold')\n",
    "    plt.legend(loc=\"lower right\", prop={'size': 5})\n",
    "    plt.show()"
   ],
   "metadata": {
    "collapsed": false,
    "pycharm": {
     "name": "#%%\n"
    }
   }
  },
  {
   "cell_type": "code",
   "execution_count": 90,
   "outputs": [],
   "source": [
    "if display_accuracy_measures:\n",
    "    for i, color in zip(range(n_classes), colors):\n",
    "        plt.plot(precision[i], recall[i], color=color, lw=lw,\n",
    "                 label='Precision vs recall of class {0}'\n",
    "                 ''.format(classes[i]))\n",
    "    plt.plot([0, 1], [0, 1], 'k--', lw=lw)\n",
    "    plt.xlim([-0.05, 1.0])\n",
    "    plt.ylim([0.0, 1.05])\n",
    "    plt.xlabel('Recall')\n",
    "    plt.ylabel('Precision')\n",
    "    plt.title('Precision vs recall')\n",
    "    plt.legend(loc=\"lower right\", prop={'size': 5})\n",
    "    plt.show()"
   ],
   "metadata": {
    "collapsed": false,
    "pycharm": {
     "name": "#%%\n"
    }
   }
  },
  {
   "cell_type": "code",
   "execution_count": 91,
   "outputs": [],
   "source": [
    "if display_accuracy_measures:\n",
    "    from sklearn.ensemble import RandomForestClassifier\n",
    "    forest_clf = RandomForestClassifier(n_estimators=100, random_state=42)\n",
    "\n",
    "    y_scores_forest = cross_val_predict(forest_clf, X_testb, Y_testb, cv=5,\n",
    "                                        method=\"predict_proba\")"
   ],
   "metadata": {
    "collapsed": false,
    "pycharm": {
     "name": "#%%\n"
    }
   }
  },
  {
   "cell_type": "code",
   "execution_count": 92,
   "outputs": [],
   "source": [
    "if display_accuracy_measures:\n",
    "\n",
    "    fpr_forest = dict()\n",
    "    tpr_forest = dict()\n",
    "    thresholds_forest = dict()\n",
    "\n",
    "    for i in range(n_classes):\n",
    "        fpr_forest[i], tpr_forest[i], thresholds_forest[i] = roc_curve(Y_testb[:, i], y_scores_forest[i][:, 1])\n",
    "\n"
   ],
   "metadata": {
    "collapsed": false,
    "pycharm": {
     "name": "#%%\n"
    }
   }
  },
  {
   "cell_type": "code",
   "execution_count": 93,
   "outputs": [],
   "source": [
    "if display_accuracy_measures:\n",
    "    for i, color in zip(range(n_classes), colors):\n",
    "        plt.plot(fpr_forest[i], tpr_forest[i], color=color, lw=lw,\n",
    "                 label='ROC forest curve of class {0} (area = {1:0.2f})'\n",
    "                 ''.format(classes[i], roc_auc[i]))\n",
    "    plt.plot([0, 1], [0, 1], 'k--', lw=lw)\n",
    "    plt.xlim([-0.05, 1.0])\n",
    "    plt.ylim([0.0, 1.05])\n",
    "    plt.xlabel('False Positive Rate')\n",
    "    plt.ylabel('True Positive Rate')\n",
    "    plt.title('Receiver operating characteristic for multi-class data with forest classifier')\n",
    "    plt.legend(loc=\"lower right\", prop={'size': 5})\n",
    "    plt.show()"
   ],
   "metadata": {
    "collapsed": false,
    "pycharm": {
     "name": "#%%\n"
    }
   }
  },
  {
   "cell_type": "code",
   "execution_count": 94,
   "outputs": [],
   "source": [
    "if display_accuracy_measures:\n",
    "    y_pred_std = svm_std.predict(X_test_std)\n",
    "    y_pred_cross = cross_val_predict(svm_std, X_test_std, Y_test, cv=5)\n",
    "    cmn = confusion_matrix(Y_test, y_pred_std)\n",
    "    cmc = confusion_matrix(Y_test, y_pred_cross)\n"
   ],
   "metadata": {
    "collapsed": false,
    "pycharm": {
     "name": "#%%\n"
    }
   }
  },
  {
   "cell_type": "markdown",
   "source": [
    "[Display Documentation](https://scikit-learn.org/stable/modules/generated/sklearn.metrics.ConfusionMatrixDisplay.html#sklearn.metrics.ConfusionMatrixDisplay)"
   ],
   "metadata": {
    "collapsed": false,
    "pycharm": {
     "name": "#%% md\n"
    }
   }
  },
  {
   "cell_type": "code",
   "execution_count": 95,
   "outputs": [],
   "source": [
    "if display_accuracy_measures:\n",
    "    disp = ConfusionMatrixDisplay(confusion_matrix=cmn, display_labels=svm_std.classes_)\n",
    "    disp.plot(xticks_rotation=90)\n",
    "\n",
    "    plt.tight_layout()"
   ],
   "metadata": {
    "collapsed": false,
    "pycharm": {
     "name": "#%%\n"
    }
   }
  },
  {
   "cell_type": "code",
   "execution_count": 96,
   "outputs": [],
   "source": [
    "if display_accuracy_measures:\n",
    "    disp = ConfusionMatrixDisplay(confusion_matrix=cmc, display_labels=svm_std.classes_)\n",
    "    disp.plot(xticks_rotation=90)\n",
    "\n",
    "    plt.tight_layout()"
   ],
   "metadata": {
    "collapsed": false,
    "pycharm": {
     "name": "#%%\n"
    }
   }
  },
  {
   "cell_type": "code",
   "execution_count": 97,
   "outputs": [],
   "source": [
    "if display_accuracy_measures:\n",
    "    from sklearn.metrics import precision_score, recall_score\n",
    "\n",
    "    precision_score(Y_test, y_pred_cross, average='micro')"
   ],
   "metadata": {
    "collapsed": false,
    "pycharm": {
     "name": "#%%\n"
    }
   }
  },
  {
   "cell_type": "code",
   "execution_count": 98,
   "outputs": [],
   "source": [
    "if display_accuracy_measures:\n",
    "    recall_score(Y_test, y_pred_cross, average='micro')"
   ],
   "metadata": {
    "collapsed": false,
    "pycharm": {
     "name": "#%%\n"
    }
   }
  },
  {
   "cell_type": "code",
   "execution_count": 99,
   "outputs": [],
   "source": [
    "if display_accuracy_measures:\n",
    "    from sklearn.metrics import f1_score\n",
    "\n",
    "    f1_score(Y_test, y_pred_cross, average='micro')"
   ],
   "metadata": {
    "collapsed": false,
    "pycharm": {
     "name": "#%%\n"
    }
   }
  },
  {
   "cell_type": "markdown",
   "source": [
    "Precision/Recall Trade-off"
   ],
   "metadata": {
    "collapsed": false,
    "pycharm": {
     "name": "#%% md\n"
    }
   }
  },
  {
   "cell_type": "code",
   "execution_count": 100,
   "outputs": [],
   "source": [
    "if display_accuracy_measures:\n",
    "   y_scores = svm_std.decision_function(X)"
   ],
   "metadata": {
    "collapsed": false,
    "pycharm": {
     "name": "#%%\n"
    }
   }
  },
  {
   "cell_type": "code",
   "execution_count": 101,
   "outputs": [],
   "source": [
    "    # threshold = 0\n",
    "    # y_some_digit_pred = (y_scores > threshold)"
   ],
   "metadata": {
    "collapsed": false,
    "pycharm": {
     "name": "#%%\n"
    }
   }
  },
  {
   "cell_type": "code",
   "execution_count": 102,
   "outputs": [],
   "source": [
    "if display_accuracy_measures:\n",
    "    threshold = 8000\n",
    "    y_some_digit_pred = (y_scores > threshold)"
   ],
   "metadata": {
    "collapsed": false,
    "pycharm": {
     "name": "#%%\n"
    }
   }
  },
  {
   "cell_type": "code",
   "execution_count": 103,
   "outputs": [],
   "source": [
    "if display_accuracy_measures:\n",
    "    from sklearn.multiclass import OneVsRestClassifier\n",
    "    from sklearn import svm, datasets\n",
    "\n",
    "\n",
    "    classifier = OneVsRestClassifier(svm.SVC(kernel='linear', probability=True,\n",
    "                                     random_state=0))\n",
    "    y_scoresb = classifier.fit(X_trainb, Y_trainb).decision_function(X_testb)\n",
    "\n"
   ],
   "metadata": {
    "collapsed": false,
    "pycharm": {
     "name": "#%%\n"
    }
   }
  },
  {
   "cell_type": "markdown",
   "source": [
    "Roc curves\n"
   ],
   "metadata": {
    "collapsed": false,
    "pycharm": {
     "name": "#%% md\n"
    }
   }
  },
  {
   "cell_type": "code",
   "execution_count": 104,
   "outputs": [],
   "source": [
    "if display_accuracy_measures:\n",
    "    import matplotlib.pyplot as plt\n",
    "    from itertools import cycle\n",
    "    from sklearn.metrics import roc_curve, auc\n",
    "    from sklearn.metrics import precision_recall_curve\n",
    "\n",
    "    if display_accuracy_measures:\n",
    "        lw = 2\n",
    "        fpr = dict()\n",
    "        tpr = dict()\n",
    "        roc_auc = dict()\n",
    "        precision = dict()\n",
    "        recall = dict()\n",
    "        threshold = dict()\n",
    "        for i in range(n_classes):\n",
    "            fpr[i], tpr[i], _ = roc_curve(Y_testb[:, i], y_scoresb[:, i])\n",
    "            precision[i], recall[i], threshold[i] = precision_recall_curve(Y_testb[:, i], y_scoresb[:, i])\n",
    "            roc_auc[i] = auc(fpr[i], tpr[i])\n",
    "\n",
    "        colors = cycle(['blue', 'red', 'green', 'yellow', 'orange', 'purple', 'pink', 'black', 'white','pink', 'brown'])\n",
    "\n",
    "        for i, color in zip(range(n_classes), colors):\n",
    "            plt.plot(fpr[i], tpr[i], color=color, lw=lw,\n",
    "                     label='ROC curve of class {0} (area = {1:0.2f})'\n",
    "                     ''.format(classes[i], roc_auc[i]))\n",
    "        plt.plot([0, 1], [0, 1], 'k--', lw=lw)\n",
    "        plt.xlim([-0.05, 1.0])\n",
    "        plt.ylim([0.0, 1.05])\n",
    "        plt.xlabel('False Positive Rate')\n",
    "        plt.ylabel('True Positive Rate')\n",
    "        plt.title('Receiver operating characteristic for multi-class data')\n",
    "        plt.legend(loc=\"lower right\")\n",
    "        plt.show()"
   ],
   "metadata": {
    "collapsed": false,
    "pycharm": {
     "name": "#%%\n"
    }
   }
  },
  {
   "cell_type": "code",
   "execution_count": 105,
   "outputs": [],
   "source": [
    "if display_accuracy_measures:\n",
    "    for i, color in zip(range(n_classes), colors):\n",
    "        plt.plot(threshold[i], precision[i][:-1], color=color, lw=lw,\n",
    "                 label='Precision of class {0}'\n",
    "                 ''.format(classes[i]))\n",
    "        plt.plot(threshold[i], recall[i][:-1], color=color, linestyle='dashed', lw=lw,\n",
    "                 label='Recall of class {0}'\n",
    "                   ''.format(classes[i]))\n",
    "\n",
    "    plt.xlabel('Threshold')\n",
    "    plt.title('Precision and recall evolution with threshold')\n",
    "    plt.legend(loc=\"lower right\", prop={'size': 5})\n",
    "    plt.show()"
   ],
   "metadata": {
    "collapsed": false,
    "pycharm": {
     "name": "#%%\n"
    }
   }
  },
  {
   "cell_type": "code",
   "execution_count": 106,
   "outputs": [],
   "source": [
    "if display_accuracy_measures:\n",
    "    for i, color in zip(range(n_classes), colors):\n",
    "        plt.plot(precision[i], recall[i], color=color, lw=lw,\n",
    "                 label='Precision vs recall of class {0}'\n",
    "                 ''.format(classes[i]))\n",
    "    plt.plot([0, 1], [0, 1], 'k--', lw=lw)\n",
    "    plt.xlim([-0.05, 1.0])\n",
    "    plt.ylim([0.0, 1.05])\n",
    "    plt.xlabel('Recall')\n",
    "    plt.ylabel('Precision')\n",
    "    plt.title('Precision vs recall')\n",
    "    plt.legend(loc=\"lower right\", prop={'size': 5})\n",
    "    plt.show()"
   ],
   "metadata": {
    "collapsed": false,
    "pycharm": {
     "name": "#%%\n"
    }
   }
  },
  {
   "cell_type": "code",
   "execution_count": 107,
   "outputs": [],
   "source": [
    "if display_accuracy_measures:\n",
    "    from sklearn.ensemble import RandomForestClassifier\n",
    "    forest_clf = RandomForestClassifier(n_estimators=100, random_state=42)\n",
    "\n",
    "    y_scores_forest = cross_val_predict(forest_clf, X_testb, Y_testb, cv=5,\n",
    "                                        method=\"predict_proba\")"
   ],
   "metadata": {
    "collapsed": false,
    "pycharm": {
     "name": "#%%\n"
    }
   }
  },
  {
   "cell_type": "code",
   "execution_count": 108,
   "outputs": [],
   "source": [
    "if display_accuracy_measures:\n",
    "    fpr_forest = dict()\n",
    "    tpr_forest = dict()\n",
    "    thresholds_forest = dict()\n",
    "\n",
    "    for i in range(n_classes):\n",
    "        fpr_forest[i], tpr_forest[i], thresholds_forest[i] = roc_curve(Y_testb[:, i], y_scores_forest[i][:, 1])\n",
    "\n"
   ],
   "metadata": {
    "collapsed": false,
    "pycharm": {
     "name": "#%%\n"
    }
   }
  },
  {
   "cell_type": "code",
   "execution_count": 109,
   "outputs": [],
   "source": [
    "if display_accuracy_measures:\n",
    "    for i, color in zip(range(n_classes), colors):\n",
    "        plt.plot(fpr_forest[i], tpr_forest[i], color=color, lw=lw,\n",
    "                 label='ROC forest curve of class {0} (area = {1:0.2f})'\n",
    "                 ''.format(classes[i], roc_auc[i]))\n",
    "    plt.plot([0, 1], [0, 1], 'k--', lw=lw)\n",
    "    plt.xlim([-0.05, 1.0])\n",
    "    plt.ylim([0.0, 1.05])\n",
    "    plt.xlabel('False Positive Rate')\n",
    "    plt.ylabel('True Positive Rate')\n",
    "    plt.title('Receiver operating characteristic for multi-class data with forest classifier')\n",
    "    plt.legend(loc=\"lower right\", prop={'size': 5})\n",
    "    plt.show()"
   ],
   "metadata": {
    "collapsed": false,
    "pycharm": {
     "name": "#%%\n"
    }
   }
  },
  {
   "cell_type": "code",
   "execution_count": 110,
   "outputs": [],
   "source": [
    "# Importing the necessary functions\n",
    "from nltk.tokenize import word_tokenize\n",
    "import nltk\n",
    "from nltk.corpus import wordnet, stopwords\n",
    "from nltk.stem import WordNetLemmatizer\n",
    "import re, string\n",
    "\n",
    "\n",
    "def lemmatise(text):\n",
    "    \"\"\"Returns lemmatised tokens from the text.\"\"\"\n",
    "    \"\"\"Based on our lab3_preprocessing.ipynb code.\"\"\"\n",
    "    text = text.lower().strip()\n",
    "    text = re.compile('<.*?>').sub('', text)\n",
    "    text = re.compile('[%s]' % re.escape(string.punctuation)).sub(' ', text)\n",
    "    text = re.sub('\\s+', ' ', text)\n",
    "\n",
    "    # We will use a tokenizer from the NLTK library\n",
    "    filtered_sentence = []\n",
    "    # Stop word lists can be adjusted for your problem\n",
    "    stop_words = nltk.corpus.stopwords.words('english')\n",
    "\n",
    "    # Tokenize the sentence\n",
    "    words = word_tokenize(text)\n",
    "    for w in words:\n",
    "        if w not in stop_words:\n",
    "            filtered_sentence.append(w)\n",
    "    text = \" \".join(filtered_sentence)\n",
    "\n",
    "    # Initialize the lemmatizer\n",
    "    wl = WordNetLemmatizer()\n",
    "\n",
    "    # This is a helper function to map NTLK position tags\n",
    "    # Full list is available here: https://www.ling.upenn.edu/courses/Fall_2003/ling001/penn_treebank_pos.html\n",
    "    def get_wordnet_pos(tag):\n",
    "        if tag.startswith('J'):\n",
    "            return wordnet.ADJ\n",
    "        elif tag.startswith('V'):\n",
    "            return wordnet.VERB\n",
    "        elif tag.startswith('N'):\n",
    "            return wordnet.NOUN\n",
    "        elif tag.startswith('R'):\n",
    "            return wordnet.ADV\n",
    "        else:\n",
    "            return wordnet.NOUN\n",
    "\n",
    "    lemmatized_sentence = []\n",
    "    # Tokenize the sentence\n",
    "    words = word_tokenize(text)\n",
    "    # Get position tags\n",
    "    word_pos_tags = nltk.pos_tag(words)\n",
    "    # Map the position tag and lemmatize the word/token\n",
    "    for idx, tag in enumerate(word_pos_tags):\n",
    "        lemmatized_sentence.append(wl.lemmatize(tag[0], get_wordnet_pos(tag[1])))\n",
    "\n",
    "    return lemmatized_sentence"
   ],
   "metadata": {
    "collapsed": false,
    "pycharm": {
     "name": "#%%\n"
    }
   }
  },
  {
   "cell_type": "code",
   "execution_count": 111,
   "outputs": [
    {
     "name": "stderr",
     "output_type": "stream",
     "text": [
      "[nltk_data] Downloading package omw-1.4 to\n",
      "[nltk_data]     C:\\Users\\Peter\\AppData\\Roaming\\nltk_data...\n",
      "[nltk_data]   Package omw-1.4 is already up-to-date!\n",
      "[nltk_data] Downloading package punkt to\n",
      "[nltk_data]     C:\\Users\\Peter\\AppData\\Roaming\\nltk_data...\n",
      "[nltk_data]   Package punkt is already up-to-date!\n",
      "[nltk_data] Downloading package averaged_perceptron_tagger to\n",
      "[nltk_data]     C:\\Users\\Peter\\AppData\\Roaming\\nltk_data...\n",
      "[nltk_data]   Package averaged_perceptron_tagger is already up-to-\n",
      "[nltk_data]       date!\n",
      "[nltk_data] Downloading package wordnet to\n",
      "[nltk_data]     C:\\Users\\Peter\\AppData\\Roaming\\nltk_data...\n",
      "[nltk_data]   Package wordnet is already up-to-date!\n"
     ]
    }
   ],
   "source": [
    "from wikipedia_page_data_fetcher import get_article_data_from_file\n",
    "import os\n",
    "\n",
    "# assign directory\n",
    "directory = 'articles'\n",
    "\n",
    "LIST_OF_ARTICLES = [x.removesuffix(\".txt\") for x in os.listdir(directory)]\n",
    "# LIST_OF_ARTICLES = [\"0\", \"Aircraft\"]\n",
    "all_article_data = {name: get_article_data_from_file(name, use_lemmatised_version = False) for name in LIST_OF_ARTICLES}\n",
    "\n",
    "word_list = []\n",
    "article_list = {}\n",
    "start_of_lines = \"####### SUMMARY\"\n",
    "end_of_line = \"####### CONTENT\"\n",
    "\n",
    "for filename in LIST_OF_ARTICLES:\n",
    "    summary = lemmatise(all_article_data[filename][\"Summary\"])\n",
    "    article_list[filename] = summary\n",
    "    word_list.append(summary)\n"
   ],
   "metadata": {
    "collapsed": false,
    "pycharm": {
     "name": "#%%\n"
    }
   }
  },
  {
   "cell_type": "code",
   "execution_count": 112,
   "outputs": [],
   "source": [
    "# Flatten the word list\n",
    "import functools\n",
    "import operator\n",
    "word_list = functools.reduce(operator.concat, word_list)"
   ],
   "metadata": {
    "collapsed": false,
    "pycharm": {
     "name": "#%%\n"
    }
   }
  },
  {
   "cell_type": "code",
   "execution_count": 113,
   "outputs": [
    {
     "data": {
      "text/plain": "['use',\n 'include',\n 'also',\n 'world',\n 'century',\n 'one',\n 'form',\n 'many',\n 'state',\n 'large',\n 'system',\n 'human',\n 'may',\n 'first',\n 'country',\n 'know',\n 'call',\n 'time',\n 'number',\n 'early',\n 'language',\n 'city',\n 'year',\n 'modern',\n 'often',\n 'empire',\n 'term',\n 'become',\n 'area',\n 'two',\n 'make',\n 'million',\n 'war',\n 'people',\n 'part',\n 'new',\n 'work',\n 'well',\n 'earth',\n 'study',\n 'power',\n 'age',\n 'period',\n 'history',\n 'high',\n 'culture',\n 'lead',\n 'great',\n 'life',\n 'social',\n 'begin',\n '1',\n 'develop',\n 'science',\n 'development',\n 'region',\n 'process',\n 'different',\n 'europe',\n 'population',\n 'natural',\n 'group',\n 'water',\n 'east',\n 'energy',\n 'political',\n 'since',\n 'consider',\n 'around',\n 'asia',\n 'western',\n 'theory',\n 'ancient',\n '000',\n 'european',\n 'art',\n 'cause',\n 'south',\n 'type',\n 'write',\n 'major',\n 'change',\n 'specie',\n 'base',\n 'animal',\n 'result',\n 'body',\n 'various',\n 'united',\n 'example',\n 'chemical',\n 'within',\n 'greek',\n 'follow',\n 'force',\n 'field',\n 'name',\n 'refer',\n 'common',\n 'non',\n 'africa',\n 'produce',\n 'north',\n 'economic',\n 'plant',\n 'space',\n 'second',\n 'element',\n 'usually',\n 'although',\n 'long',\n 'government',\n 'object',\n 'three',\n 'several',\n 'small',\n 'material',\n 'death',\n 'nation',\n 'bc',\n 'light',\n 'range',\n 'right',\n '2',\n 'later',\n 'however',\n 'mean',\n 'military',\n 'increase',\n 'law',\n 'music',\n 'food',\n 'physical',\n 'international',\n 'control',\n 'society',\n 'end',\n 'religion',\n 'among',\n 'like',\n 'live',\n 'middle',\n 'occur',\n 'movement',\n 'cell',\n 'sea',\n 'generally',\n '–',\n 'old',\n 'influence',\n 'india',\n 'day',\n 'disease',\n 'provide',\n 'set',\n 'describe',\n 'structure',\n 'individual',\n 'trade',\n 'establish',\n 'important',\n 'source',\n 'give',\n 'land',\n 'property',\n 'america',\n 'e',\n 'china',\n 'member',\n 'define',\n 'mass',\n 'english',\n 'central',\n 'take',\n 'union',\n 'cultural',\n 'word',\n 'global',\n 'function',\n 'religious',\n 'rule',\n 'way',\n 'sometimes',\n 'due',\n 'philosophy',\n 'practice',\n 'chinese',\n 'late',\n 'find',\n 'create',\n 'revolution',\n 'kingdom',\n 'activity',\n 'republic',\n 'wave',\n 'tradition',\n '20th',\n 'scientific',\n 'game',\n 'latin',\n 'capital',\n 'place',\n 'french',\n 'remain',\n 'much',\n 'economy',\n 'general',\n 'play',\n 'contain',\n 'roman',\n 'role',\n 'ocean',\n 'planet',\n 'surface',\n 'production',\n 'method',\n 'concept',\n 'event',\n 'exist',\n 'health',\n 'british',\n 'involve',\n '3',\n 'classical',\n 'typically',\n 'eastern',\n '19th',\n 'definition',\n 'complex',\n 'mathematics',\n 'continue',\n 'widely',\n 'organism',\n 'technology',\n 'present',\n 'river',\n 'particle',\n 'level',\n 'public',\n 'territory',\n 'indian',\n 'rise',\n 'west',\n 'effect',\n 'case',\n 'civilization',\n 'commonly',\n 'organization',\n 'see',\n 'c',\n 'record',\n 'product',\n 'along',\n 'variety',\n 'another',\n 'think',\n 'matter',\n 'national',\n 'g',\n 'across',\n 'reaction',\n 'american',\n 'estimate',\n 'gas',\n 'nature',\n 'four',\n '5',\n 'low',\n 'person',\n 'consist',\n 'come',\n '4',\n 'billion',\n 'physic',\n 'metal',\n 'others',\n 'church',\n 'regard',\n 'reach',\n 'order',\n 'especially',\n 'third',\n 'support',\n 'rock',\n 'family',\n 'hold',\n 'value',\n 'allow',\n 'model',\n 'spread',\n 'single',\n 'act',\n 'dynasty',\n 'throughout',\n 'emerge',\n 'research',\n 'blood',\n 'solar',\n 'party',\n 'era',\n 'community',\n 'spanish',\n 'vary',\n 'information',\n 'represent',\n 'compound',\n 'last',\n 'knowledge',\n 'either',\n 'mi',\n 'share',\n 'service',\n 'bce',\n 'island',\n 'standard',\n 'move',\n 'cover',\n 'unit',\n 'branch',\n 'ago',\n 'view',\n 'german',\n 'significant',\n 'carbon',\n 'traditional',\n 'child',\n 'climate',\n 'though',\n 'good',\n 'medium',\n 'continent',\n 'main',\n 'grow',\n 'nuclear',\n 'b',\n 'approximately',\n 'god',\n 'experience',\n 'industrial',\n 'point',\n 'atom',\n 'computer',\n 'specific',\n 'even',\n 'total',\n 'accord',\n 'today',\n 'free',\n 'industry',\n 'primarily',\n 'focus',\n 'particular',\n 'school',\n 'wide',\n 'reason',\n 'subject',\n 'would',\n 'certain',\n 'electron',\n 'soviet',\n 'divide',\n 'displaystyle',\n 'interaction',\n 'date',\n 'southern',\n 'book',\n 'associate',\n 'environment',\n 'heat',\n 'behavior',\n 'affect',\n 'temperature',\n 'u',\n 'least',\n 'market',\n 'five',\n 'fuel',\n 'class',\n 'border',\n 'egypt',\n 'official',\n 'sense',\n 'x',\n 'star',\n 'derive',\n 'ii',\n 'depend',\n 'muslim',\n 'root',\n 'self',\n 'appear',\n 'woman',\n 'serve',\n 'application',\n 'together',\n 'size',\n 'electromagnetic',\n 'home',\n 'maintain',\n 'found',\n 'mathematical',\n 'almost',\n 'particularly',\n 'start',\n 'france',\n 'speak',\n 'idea',\n 'air',\n 'iron',\n 'electric',\n 'real',\n 'leave',\n 'series',\n 'far',\n 'japan',\n 'half',\n 'factor',\n '7',\n 'engineering',\n 'sun',\n 'less',\n 'civil',\n 'scale',\n 'belief',\n 'discipline',\n 'design',\n 'compose',\n '10',\n 'northern',\n 'center',\n 'feature',\n 'engine',\n 'strong',\n 'education',\n 'shape',\n 'scholar',\n 'worldwide',\n 'condition',\n 'current',\n 'without',\n 'drug',\n 'indigenous',\n 'separate',\n 'wind',\n 'limit',\n 'popular',\n 'historical',\n 'numerous',\n 'extend',\n 'primary',\n 'aspect',\n '6',\n 'apply',\n 'communication',\n 'problem',\n 'african',\n 'amount',\n 'technique',\n 'rate',\n 'square',\n 'account',\n 'populous',\n 'biological',\n 'classify',\n 'expand',\n 'atmosphere',\n 'device',\n 'measure',\n 'purpose',\n 'relationship',\n 'need',\n 'growth',\n 'addition',\n 'require',\n 'per',\n 'mediterranean',\n 'de',\n 'concern',\n 'impact',\n 'carry',\n 'agriculture',\n 'help',\n '0',\n 'rank',\n 'attempt',\n 'perform',\n 'policy',\n 'philosopher',\n 'orbit',\n 'build',\n 'universe',\n 'pressure',\n 'line',\n 'figure',\n 'internal',\n 'distinct',\n '8',\n 'n',\n 'origin',\n 'risk',\n 'whether',\n 'fundamental',\n 'majority',\n 'discovery',\n 'medical',\n 'black',\n 'every',\n 'sexual',\n 'islam',\n 'renaissance',\n 'centre',\n 'mid',\n 'oxygen',\n 'ice',\n 'radio',\n 'legal',\n 'text',\n 'image',\n 'still',\n 'southeast',\n 'literature',\n 'achieve',\n 'basic',\n 'evolve',\n 'similar',\n 'thus',\n 'islamic',\n 'mark',\n 'action',\n 'back',\n 'lake',\n 'biology',\n 'determine',\n 'medicine',\n 'mental',\n 'recognize',\n 'independence',\n 'sport',\n 'native',\n 'bond',\n 'fossil',\n 'highly',\n 'italy',\n 'motion',\n 'italian',\n 'historically',\n 'distinguish',\n 'saw',\n 'resource',\n 'simple',\n 'component',\n 'evidence',\n 'style',\n 'position',\n 'substance',\n 'russian',\n 'hydrogen',\n 'network',\n 'institution',\n 'ad',\n 'film',\n 'sex',\n 'approach',\n 'radiation',\n 'contrast',\n 'conflict',\n 'principle',\n 'environmental',\n 'past',\n 'pacific',\n 'catholic',\n 'loss',\n 'quantum',\n 'reduce',\n 'fall',\n 'mechanical',\n 'mostly',\n 'russia',\n 'molecule',\n 'protein',\n 'show',\n 'birth',\n 'direct',\n 'father',\n 'relate',\n 'diverse',\n 'broad',\n 'speed',\n 'best',\n '9',\n 'hand',\n 'sq',\n 'mountain',\n 'christian',\n 'mexico',\n 'acid',\n 'brain',\n 'independent',\n 'germany',\n 'equation',\n 'characteristic',\n 'gender',\n 'tool',\n 'genetic',\n 'bear',\n 'academic',\n 'atlantic',\n 'machine',\n 'emperor',\n 'arabic',\n 'entity',\n 'upon',\n 'possible',\n '18th',\n 'basis',\n 'geometry',\n 'ottoman',\n 'charge',\n 'context',\n 'proton',\n 'near',\n 'king',\n 'britain',\n 'ethnic',\n 'widespread',\n 'scientist',\n 'colony',\n 'instrument',\n 'infection',\n 'satellite',\n 'moon',\n 'business',\n 'gene',\n 'travel',\n 'local',\n 'mineral',\n 'distance',\n 'chemistry',\n 'refers',\n 'receive',\n 'question',\n 'adult',\n 'thousand',\n 'learn',\n 'organisms',\n 'symbol',\n 'company',\n 'advance',\n 'location',\n 'side',\n 'neutron',\n 'identify',\n 'lack',\n 'decade',\n 'degree',\n 'negative',\n 'short',\n 'mechanic',\n '100',\n 'govern',\n 'mammal',\n 'originate',\n 'rome',\n 'virus',\n 'largely',\n 'seek',\n 'construction',\n 'locate',\n 'authority',\n 'tissue',\n 'rather',\n 'goal',\n 'quantity',\n 'signal',\n 'understand',\n 'bacteria',\n 'say',\n 'university',\n 'conquest',\n 'expression',\n 'volume',\n 'cycle',\n 'could',\n 'al',\n 'contribute',\n 'dna',\n 'unite',\n 'politics',\n 'six',\n 'publish',\n 'phenomenon',\n 'surround',\n 'portuguese',\n 'simply',\n 'soil',\n 'multiple',\n 'seven',\n 'identity',\n 'road',\n 'introduce',\n 'crop',\n 'nearly',\n 'flow',\n 'transport',\n 'analysis',\n '16th',\n 'constitution',\n 'whose',\n 'adopt',\n 'positive',\n 'sound',\n 'close',\n 'speaker',\n 'relatively',\n 'letter',\n 'molecular',\n 'post',\n 'leader',\n 'influential',\n 'christianity',\n 'encompass',\n 'meaning',\n 'character',\n 'personal',\n 'combine',\n 'fish',\n 'urban',\n 'financial',\n 'organic',\n 'key',\n 'freedom',\n 'contemporary',\n 'traditionally',\n 'listen',\n 'die',\n 'mind',\n 'cold',\n 'spain',\n 'mainly',\n 'response',\n 'survive',\n 'generate',\n 'officially',\n 'bronze',\n 'television',\n 'via',\n 'beyond',\n 'gdp',\n 'evolution',\n 'pre',\n 'explain',\n 'universal',\n 'data',\n 'care',\n 'special',\n 'logic',\n 'complete',\n 'division',\n 'sign',\n 'atomic',\n 'solid',\n 'available',\n 'bird',\n 'observation',\n 'nucleus',\n 'electricity',\n 'formation',\n 'believe',\n '30',\n 'open',\n 'related',\n 'formal',\n 'building',\n 'rapid',\n 'expansion',\n 'court',\n 'equal',\n 'claim',\n 'millennium',\n 'raise',\n 'historian',\n 'imperial',\n 'interest',\n 'democracy',\n 'australia',\n 'roughly',\n 'oil',\n 'heart',\n 'supply',\n 'magnetic',\n 'comprise',\n 'japanese',\n 'site',\n 'quality',\n 'direction',\n 'relation',\n 'recent',\n 'federal',\n 'draw',\n 'disorder',\n 'video',\n '20',\n 'turn',\n 'transfer',\n 'philosophical',\n 'mathematician',\n 'stone',\n 'improve',\n 'compare',\n 'regional',\n 'instead',\n 'invention',\n 'medieval',\n 'difference',\n 'musical',\n 'debate',\n 'issue',\n 'treatment',\n 'persian',\n 'color',\n 'composition',\n 'characterize',\n 'core',\n 'replace',\n 'young',\n 'memory',\n 'directly',\n '500',\n 'agricultural',\n 'reign',\n 'thing',\n 'average',\n 'york',\n 'council',\n 'algebra',\n 'usage',\n 'despite',\n '17th',\n 'bring',\n 'reform',\n 'electrical',\n 'copper',\n 'forest',\n 'fourth',\n 'antiquity',\n 'emotion',\n 'seed',\n 'stage',\n 'aim',\n 'combination',\n 'campaign',\n 'ally',\n 'generation',\n 'span',\n 'constitute',\n 'prevent',\n '2020',\n 'arab',\n 'script',\n 'ability',\n 'plane',\n 'convert',\n 'sugar',\n 'category',\n 'visual',\n 'release',\n 'pollution',\n 'accept',\n 'architecture',\n 'discover',\n 'dominant',\n 'living',\n 'active',\n 'lose',\n 'hundred',\n 'corporation',\n 'organisation',\n 'measurement',\n 'private',\n 'integer',\n 'return',\n 'gain',\n 'express',\n 'reflect',\n 'ce',\n 'ten',\n 'operation',\n 'foreign',\n 'test',\n 'outside',\n 'tax',\n 'bank',\n 'arise',\n 'true',\n 'relative',\n 'hunt',\n 'oral',\n 'decay',\n 'transmit',\n 'digital',\n 'cloud',\n 'external',\n 'white',\n 'plan',\n 'visible',\n 'pattern',\n 'cost',\n '300',\n 'capture',\n 'cancer',\n 'coast',\n 'colonial',\n 'print',\n 'peace',\n 'relativity',\n 'keep',\n 'weapon',\n 'consumption',\n 'classification',\n 'organ',\n 'symptom',\n 'break',\n 'eventually',\n 'alphabet',\n 'peninsula',\n 'towards',\n 'tree',\n 'speech',\n 'existence',\n 'essential',\n 'poetry',\n 'red',\n 'go',\n 'exploration',\n 'monarchy',\n 'gravity',\n 'commercial',\n 'observe',\n 'eye',\n 'gold',\n 'asian',\n 'han',\n 'decline',\n 'ray',\n 'whole',\n 'folk',\n 'female',\n 'bone',\n 'communist',\n 'transition',\n '14',\n 'army',\n 'artist',\n 'buddhism',\n 'defeat',\n 'male',\n 'dominate',\n 'domesticate',\n 'vehicle',\n '2019',\n 'acquire',\n 'potential',\n 'basin',\n 'practical',\n 'sequence',\n '13',\n 'salt',\n 'lung',\n 'unique',\n 'galaxy',\n 'genre',\n 'entertainment',\n '12',\n '15',\n 'closely',\n 'selection',\n 'theoretical',\n 'valley',\n 'conquer',\n 'exchange',\n 'program',\n 'paper',\n 'ft',\n 'km',\n 'greatly',\n 'desert',\n 'organize',\n 'little',\n 'democratic',\n 'muhammad',\n 'liquid',\n 'distinction',\n 'writing',\n 'subcontinent',\n 'treaty',\n 'pass',\n 'diabetes',\n 'vast',\n 'indo',\n 'london',\n ...]"
     },
     "execution_count": 113,
     "metadata": {},
     "output_type": "execute_result"
    }
   ],
   "source": [
    "from collections import Counter\n",
    "\n",
    "# import matlab.mode\n",
    "# [my_value,my_frequency]= mode(word_list)\n",
    "# Counter(word_list).most_common()\n",
    "\n",
    "freq = Counter(word_list)\n",
    "freq = sorted(freq, key=freq.get, reverse=True)\n",
    "freq"
   ],
   "metadata": {
    "collapsed": false,
    "pycharm": {
     "name": "#%%\n"
    }
   }
  },
  {
   "cell_type": "code",
   "execution_count": 114,
   "outputs": [
    {
     "data": {
      "text/plain": "['use',\n 'include',\n 'also',\n 'world',\n 'century',\n 'one',\n 'form',\n 'many',\n 'state',\n 'large',\n 'system',\n 'human',\n 'may',\n 'first',\n 'country',\n 'know',\n 'call',\n 'time',\n 'number',\n 'early',\n 'language',\n 'city',\n 'year',\n 'modern',\n 'often',\n 'empire',\n 'term',\n 'become',\n 'area',\n 'two',\n 'make',\n 'million',\n 'war',\n 'people',\n 'part',\n 'new',\n 'work',\n 'well',\n 'earth',\n 'study',\n 'power',\n 'age',\n 'period',\n 'history',\n 'high',\n 'culture',\n 'lead',\n 'great',\n 'life',\n 'social',\n 'begin',\n '1',\n 'develop',\n 'science',\n 'development',\n 'region',\n 'process',\n 'different',\n 'europe',\n 'population',\n 'natural',\n 'group',\n 'water',\n 'east',\n 'energy',\n 'political',\n 'since',\n 'consider',\n 'around',\n 'asia',\n 'western',\n 'theory',\n 'ancient',\n '000',\n 'european',\n 'art',\n 'cause',\n 'south',\n 'type',\n 'write',\n 'major',\n 'change',\n 'specie',\n 'base',\n 'animal',\n 'result',\n 'body',\n 'various',\n 'united',\n 'example',\n 'chemical',\n 'within',\n 'greek',\n 'follow',\n 'force',\n 'field',\n 'name',\n 'refer',\n 'common',\n 'non',\n 'africa',\n 'produce',\n 'north',\n 'economic',\n 'plant',\n 'space',\n 'second',\n 'element',\n 'usually',\n 'although',\n 'long',\n 'government',\n 'object',\n 'three',\n 'several',\n 'small',\n 'material',\n 'death',\n 'nation',\n 'bc',\n 'light',\n 'range',\n 'right',\n '2',\n 'later',\n 'however',\n 'mean',\n 'military',\n 'increase',\n 'law',\n 'music',\n 'food',\n 'physical',\n 'international',\n 'control',\n 'society',\n 'end',\n 'religion',\n 'among',\n 'like',\n 'live',\n 'middle',\n 'occur',\n 'movement',\n 'cell',\n 'sea',\n 'generally',\n '–',\n 'old',\n 'influence',\n 'india',\n 'day',\n 'disease',\n 'provide',\n 'set',\n 'describe',\n 'structure',\n 'individual',\n 'trade',\n 'establish',\n 'important',\n 'source',\n 'give',\n 'land',\n 'property',\n 'america',\n 'e',\n 'china',\n 'member',\n 'define',\n 'mass',\n 'english',\n 'central',\n 'take',\n 'union',\n 'cultural',\n 'word',\n 'global',\n 'function',\n 'religious',\n 'rule',\n 'way',\n 'sometimes',\n 'due',\n 'philosophy',\n 'practice',\n 'chinese',\n 'late',\n 'find',\n 'create',\n 'revolution',\n 'kingdom',\n 'activity',\n 'republic',\n 'wave',\n 'tradition',\n '20th',\n 'scientific',\n 'game',\n 'latin',\n 'capital',\n 'place',\n 'french',\n 'remain',\n 'much',\n 'economy',\n 'general',\n 'play',\n 'contain',\n 'roman',\n 'role',\n 'ocean',\n 'planet',\n 'surface',\n 'production',\n 'method',\n 'concept',\n 'event',\n 'exist',\n 'health',\n 'british',\n 'involve',\n '3',\n 'classical',\n 'typically',\n 'eastern',\n '19th',\n 'definition',\n 'complex',\n 'mathematics',\n 'continue',\n 'widely',\n 'organism',\n 'technology',\n 'present',\n 'river',\n 'particle',\n 'level',\n 'public',\n 'territory',\n 'indian',\n 'rise',\n 'west',\n 'effect',\n 'case',\n 'civilization',\n 'commonly',\n 'organization',\n 'see',\n 'c',\n 'record',\n 'product',\n 'along',\n 'variety',\n 'another',\n 'think',\n 'matter',\n 'national',\n 'g',\n 'across',\n 'reaction',\n 'american',\n 'estimate',\n 'gas',\n 'nature',\n 'four',\n '5',\n 'low',\n 'person',\n 'consist',\n 'come',\n '4',\n 'billion',\n 'physic',\n 'metal',\n 'others',\n 'church',\n 'regard',\n 'reach',\n 'order',\n 'especially',\n 'third',\n 'support',\n 'rock',\n 'family',\n 'hold',\n 'value',\n 'allow',\n 'model',\n 'spread',\n 'single',\n 'act',\n 'dynasty',\n 'throughout',\n 'emerge',\n 'research',\n 'blood',\n 'solar',\n 'party',\n 'era',\n 'community',\n 'spanish',\n 'vary',\n 'information',\n 'represent',\n 'compound',\n 'last',\n 'knowledge',\n 'either',\n 'mi',\n 'share',\n 'service',\n 'bce',\n 'island',\n 'standard',\n 'move',\n 'cover',\n 'unit',\n 'branch',\n 'ago',\n 'view',\n 'german',\n 'significant',\n 'carbon',\n 'traditional',\n 'child',\n 'climate',\n 'though',\n 'good',\n 'medium',\n 'continent',\n 'main',\n 'grow',\n 'nuclear',\n 'b',\n 'approximately',\n 'god',\n 'experience',\n 'industrial',\n 'point',\n 'atom',\n 'computer',\n 'specific',\n 'even',\n 'total',\n 'accord',\n 'today',\n 'free',\n 'industry',\n 'primarily',\n 'focus',\n 'particular',\n 'school',\n 'wide',\n 'reason',\n 'subject',\n 'would',\n 'certain',\n 'electron',\n 'soviet',\n 'divide',\n 'displaystyle',\n 'interaction',\n 'date',\n 'southern',\n 'book',\n 'associate',\n 'environment',\n 'heat',\n 'behavior',\n 'affect',\n 'temperature',\n 'u',\n 'least',\n 'market',\n 'five',\n 'fuel',\n 'class',\n 'border',\n 'egypt',\n 'official',\n 'sense',\n 'x',\n 'star',\n 'derive',\n 'ii',\n 'depend',\n 'muslim',\n 'root',\n 'self',\n 'appear',\n 'woman',\n 'serve',\n 'application',\n 'together',\n 'size',\n 'electromagnetic',\n 'home',\n 'maintain',\n 'found',\n 'mathematical',\n 'almost',\n 'particularly',\n 'start',\n 'france',\n 'speak',\n 'idea',\n 'air',\n 'iron',\n 'electric',\n 'real',\n 'leave',\n 'series',\n 'far',\n 'japan',\n 'half',\n 'factor',\n '7',\n 'engineering',\n 'sun',\n 'less',\n 'civil',\n 'scale',\n 'belief',\n 'discipline',\n 'design',\n 'compose',\n '10',\n 'northern',\n 'center',\n 'feature',\n 'engine',\n 'strong',\n 'education',\n 'shape',\n 'scholar',\n 'worldwide',\n 'condition',\n 'current',\n 'without',\n 'drug',\n 'indigenous',\n 'separate',\n 'wind',\n 'limit',\n 'popular',\n 'historical',\n 'numerous',\n 'extend',\n 'primary',\n 'aspect',\n '6',\n 'apply',\n 'communication',\n 'problem',\n 'african',\n 'amount',\n 'technique',\n 'rate',\n 'square',\n 'account',\n 'populous',\n 'biological',\n 'classify',\n 'expand',\n 'atmosphere',\n 'device',\n 'measure',\n 'purpose',\n 'relationship',\n 'need',\n 'growth',\n 'addition',\n 'require',\n 'per',\n 'mediterranean',\n 'de',\n 'concern',\n 'impact',\n 'carry',\n 'agriculture',\n 'help',\n '0',\n 'rank',\n 'attempt',\n 'perform',\n 'policy',\n 'philosopher',\n 'orbit',\n 'build',\n 'universe',\n 'pressure',\n 'line',\n 'figure',\n 'internal',\n 'distinct',\n '8',\n 'n',\n 'origin',\n 'risk',\n 'whether',\n 'fundamental',\n 'majority',\n 'discovery',\n 'medical',\n 'black',\n 'every',\n 'sexual',\n 'islam',\n 'renaissance',\n 'centre',\n 'mid',\n 'oxygen',\n 'ice',\n 'radio',\n 'legal',\n 'text',\n 'image',\n 'still',\n 'southeast',\n 'literature',\n 'achieve',\n 'basic',\n 'evolve',\n 'similar',\n 'thus',\n 'islamic',\n 'mark',\n 'action',\n 'back',\n 'lake',\n 'biology',\n 'determine',\n 'medicine',\n 'mental',\n 'recognize',\n 'independence',\n 'sport',\n 'native',\n 'bond',\n 'fossil',\n 'highly',\n 'italy',\n 'motion',\n 'italian',\n 'historically',\n 'distinguish',\n 'saw',\n 'resource',\n 'simple',\n 'component',\n 'evidence',\n 'style',\n 'position',\n 'substance',\n 'russian',\n 'hydrogen',\n 'network',\n 'institution',\n 'ad',\n 'film',\n 'sex',\n 'approach',\n 'radiation',\n 'contrast',\n 'conflict',\n 'principle',\n 'environmental',\n 'past',\n 'pacific',\n 'catholic',\n 'loss',\n 'quantum',\n 'reduce',\n 'fall',\n 'mechanical',\n 'mostly',\n 'russia',\n 'molecule',\n 'protein',\n 'show',\n 'birth',\n 'direct',\n 'father',\n 'relate',\n 'diverse',\n 'broad',\n 'speed',\n 'best',\n '9',\n 'hand',\n 'sq',\n 'mountain',\n 'christian',\n 'mexico',\n 'acid',\n 'brain',\n 'independent',\n 'germany',\n 'equation',\n 'characteristic',\n 'gender',\n 'tool',\n 'genetic',\n 'bear',\n 'academic',\n 'atlantic',\n 'machine',\n 'emperor',\n 'arabic',\n 'entity',\n 'upon',\n 'possible',\n '18th',\n 'basis',\n 'geometry',\n 'ottoman',\n 'charge',\n 'context',\n 'proton',\n 'near',\n 'king',\n 'britain',\n 'ethnic',\n 'widespread',\n 'scientist',\n 'colony',\n 'instrument',\n 'infection',\n 'satellite',\n 'moon',\n 'business',\n 'gene',\n 'travel',\n 'local',\n 'mineral',\n 'distance',\n 'chemistry',\n 'refers',\n 'receive',\n 'question',\n 'adult',\n 'thousand',\n 'learn',\n 'organisms',\n 'symbol',\n 'company',\n 'advance',\n 'location',\n 'side',\n 'neutron',\n 'identify',\n 'lack',\n 'decade',\n 'degree',\n 'negative',\n 'short',\n 'mechanic',\n '100',\n 'govern',\n 'mammal',\n 'originate',\n 'rome',\n 'virus',\n 'largely',\n 'seek',\n 'construction',\n 'locate',\n 'authority',\n 'tissue',\n 'rather',\n 'goal',\n 'quantity',\n 'signal',\n 'understand',\n 'bacteria',\n 'say',\n 'university',\n 'conquest',\n 'expression',\n 'volume',\n 'cycle',\n 'could',\n 'al',\n 'contribute',\n 'dna',\n 'unite',\n 'politics',\n 'six',\n 'publish',\n 'phenomenon',\n 'surround',\n 'portuguese',\n 'simply',\n 'soil',\n 'multiple',\n 'seven',\n 'identity',\n 'road',\n 'introduce',\n 'crop',\n 'nearly',\n 'flow',\n 'transport',\n 'analysis',\n '16th',\n 'constitution',\n 'whose',\n 'adopt',\n 'positive',\n 'sound',\n 'close',\n 'speaker',\n 'relatively',\n 'letter',\n 'molecular',\n 'post',\n 'leader',\n 'influential',\n 'christianity',\n 'encompass',\n 'meaning',\n 'character',\n 'personal',\n 'combine',\n 'fish',\n 'urban',\n 'financial',\n 'organic',\n 'key',\n 'freedom',\n 'contemporary',\n 'traditionally',\n 'listen',\n 'die',\n 'mind',\n 'cold',\n 'spain',\n 'mainly',\n 'response',\n 'survive',\n 'generate',\n 'officially',\n 'bronze',\n 'television',\n 'via',\n 'beyond',\n 'gdp',\n 'evolution',\n 'pre',\n 'explain',\n 'universal',\n 'data',\n 'care',\n 'special',\n 'logic',\n 'complete',\n 'division',\n 'sign',\n 'atomic',\n 'solid',\n 'available',\n 'bird',\n 'observation',\n 'nucleus',\n 'electricity',\n 'formation',\n 'believe',\n '30',\n 'open',\n 'related',\n 'formal',\n 'building',\n 'rapid',\n 'expansion',\n 'court',\n 'equal',\n 'claim',\n 'millennium',\n 'raise',\n 'historian',\n 'imperial',\n 'interest',\n 'democracy',\n 'australia',\n 'roughly',\n 'oil',\n 'heart',\n 'supply',\n 'magnetic',\n 'comprise',\n 'japanese',\n 'site',\n 'quality',\n 'direction',\n 'relation',\n 'recent',\n 'federal',\n 'draw',\n 'disorder',\n 'video',\n '20',\n 'turn',\n 'transfer',\n 'philosophical',\n 'mathematician',\n 'stone',\n 'improve',\n 'compare',\n 'regional',\n 'instead',\n 'invention',\n 'medieval',\n 'difference',\n 'musical',\n 'debate',\n 'issue',\n 'treatment',\n 'persian',\n 'color',\n 'composition',\n 'characterize',\n 'core',\n 'replace',\n 'young',\n 'memory',\n 'directly',\n '500',\n 'agricultural',\n 'reign',\n 'thing',\n 'average',\n 'york',\n 'council',\n 'algebra',\n 'usage',\n 'despite',\n '17th',\n 'bring',\n 'reform',\n 'electrical',\n 'copper',\n 'forest',\n 'fourth',\n 'antiquity',\n 'emotion',\n 'seed',\n 'stage',\n 'aim',\n 'combination',\n 'campaign',\n 'ally',\n 'generation',\n 'span',\n 'constitute',\n 'prevent',\n '2020',\n 'arab',\n 'script',\n 'ability',\n 'plane',\n 'convert',\n 'sugar',\n 'category',\n 'visual',\n 'release',\n 'pollution',\n 'accept',\n 'architecture',\n 'discover',\n 'dominant',\n 'living',\n 'active',\n 'lose',\n 'hundred',\n 'corporation',\n 'organisation',\n 'measurement',\n 'private',\n 'integer',\n 'return',\n 'gain',\n 'express',\n 'reflect',\n 'ce',\n 'ten',\n 'operation',\n 'foreign',\n 'test',\n 'outside',\n 'tax',\n 'bank',\n 'arise',\n 'true',\n 'relative',\n 'hunt',\n 'oral',\n 'decay',\n 'transmit',\n 'digital',\n 'cloud',\n 'external',\n 'white',\n 'plan',\n 'visible',\n 'pattern',\n 'cost',\n '300',\n 'capture',\n 'cancer',\n 'coast',\n 'colonial',\n 'print',\n 'peace',\n 'relativity',\n 'keep',\n 'weapon',\n 'consumption',\n 'classification',\n 'organ',\n 'symptom',\n 'break',\n 'eventually',\n 'alphabet',\n 'peninsula',\n 'towards',\n 'tree',\n 'speech',\n 'existence',\n 'essential',\n 'poetry',\n 'red',\n 'go',\n 'exploration',\n 'monarchy',\n 'gravity',\n 'commercial',\n 'observe',\n 'eye',\n 'gold',\n 'asian',\n 'han',\n 'decline',\n 'ray',\n 'whole',\n 'folk',\n 'female',\n 'bone',\n 'communist',\n 'transition',\n '14',\n 'army',\n 'artist',\n 'buddhism',\n 'defeat',\n 'male',\n 'dominate',\n 'domesticate',\n 'vehicle',\n '2019',\n 'acquire',\n 'potential',\n 'basin',\n 'practical',\n 'sequence',\n '13',\n 'salt',\n 'lung',\n 'unique',\n 'galaxy',\n 'genre',\n 'entertainment',\n '12',\n '15',\n 'closely',\n 'selection',\n 'theoretical',\n 'valley',\n 'conquer',\n 'exchange',\n 'program',\n 'paper',\n 'ft',\n 'km',\n 'greatly',\n 'desert',\n 'organize',\n 'little',\n 'democratic',\n 'muhammad',\n 'liquid',\n 'distinction',\n 'writing',\n 'subcontinent',\n 'treaty',\n 'pass',\n 'diabetes',\n 'vast',\n 'indo',\n 'london',\n ...]"
     },
     "execution_count": 114,
     "metadata": {},
     "output_type": "execute_result"
    }
   ],
   "source": [
    "vocabulary = freq[:5000]\n",
    "vocabulary\n",
    "\n",
    "# ToDo: Improve stop words"
   ],
   "metadata": {
    "collapsed": false,
    "pycharm": {
     "name": "#%%\n"
    }
   }
  },
  {
   "cell_type": "code",
   "execution_count": 115,
   "outputs": [],
   "source": [
    "#debug\n",
    "adsadsadsadsa = 1"
   ],
   "metadata": {
    "collapsed": false,
    "pycharm": {
     "name": "#%%\n"
    }
   }
  }
 ],
 "metadata": {
  "kernelspec": {
   "display_name": "Python 3 (ipykernel)",
   "language": "python",
   "name": "python3"
  },
  "language_info": {
   "codemirror_mode": {
    "name": "ipython",
    "version": 3
   },
   "file_extension": ".py",
   "mimetype": "text/x-python",
   "name": "python",
   "nbconvert_exporter": "python",
   "pygments_lexer": "ipython3",
   "version": "3.10.7"
  }
 },
 "nbformat": 4,
 "nbformat_minor": 1
}