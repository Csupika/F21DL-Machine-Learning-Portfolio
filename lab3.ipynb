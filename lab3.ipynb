{
 "cells": [
  {
   "cell_type": "code",
   "execution_count": 1,
   "metadata": {
    "pycharm": {
     "name": "#%%\n"
    }
   },
   "outputs": [],
   "source": [
    "import os\n",
    "import pandas as pd\n",
    "import seaborn as sns\n",
    "import numpy as np\n",
    "from matplotlib import pyplot as plt\n",
    "SRC_PATH=\"parsed\"\n",
    "\n",
    "# Change the value to True if you want to see the heatmap for correlations\n",
    "display_correlations = False"
   ]
  },
  {
   "cell_type": "code",
   "execution_count": 2,
   "metadata": {
    "collapsed": true,
    "pycharm": {
     "name": "#%%\n"
    }
   },
   "outputs": [],
   "source": [
    "def load_housing_data(src=SRC_PATH):\n",
    "    csv_path = os.path.join(src, \"src.csv\")\n",
    "    return pd.read_csv(csv_path)"
   ]
  },
  {
   "cell_type": "code",
   "execution_count": 3,
   "metadata": {
    "pycharm": {
     "name": "#%%\n"
    }
   },
   "outputs": [
    {
     "data": {
      "text/plain": "                 Title  Links  Categories  Images  References  Length  \\\n0            Hammurabi   1103          45      44          97   15484   \n1           Hatshepsut    755          49      18          97   33266   \n2          Ramesses II    662          43      25         119   32507   \n3      Cyrus the Great    515          61      32         213   47616   \n4  Alexander the Great   1910          71      75         401   89053   \n\n   Quality   Theme  \n0      4.0  People  \n1      3.0  People  \n2      2.0  People  \n3      2.0  People  \n4      4.0  People  ",
      "text/html": "<div>\n<style scoped>\n    .dataframe tbody tr th:only-of-type {\n        vertical-align: middle;\n    }\n\n    .dataframe tbody tr th {\n        vertical-align: top;\n    }\n\n    .dataframe thead th {\n        text-align: right;\n    }\n</style>\n<table border=\"1\" class=\"dataframe\">\n  <thead>\n    <tr style=\"text-align: right;\">\n      <th></th>\n      <th>Title</th>\n      <th>Links</th>\n      <th>Categories</th>\n      <th>Images</th>\n      <th>References</th>\n      <th>Length</th>\n      <th>Quality</th>\n      <th>Theme</th>\n    </tr>\n  </thead>\n  <tbody>\n    <tr>\n      <th>0</th>\n      <td>Hammurabi</td>\n      <td>1103</td>\n      <td>45</td>\n      <td>44</td>\n      <td>97</td>\n      <td>15484</td>\n      <td>4.0</td>\n      <td>People</td>\n    </tr>\n    <tr>\n      <th>1</th>\n      <td>Hatshepsut</td>\n      <td>755</td>\n      <td>49</td>\n      <td>18</td>\n      <td>97</td>\n      <td>33266</td>\n      <td>3.0</td>\n      <td>People</td>\n    </tr>\n    <tr>\n      <th>2</th>\n      <td>Ramesses II</td>\n      <td>662</td>\n      <td>43</td>\n      <td>25</td>\n      <td>119</td>\n      <td>32507</td>\n      <td>2.0</td>\n      <td>People</td>\n    </tr>\n    <tr>\n      <th>3</th>\n      <td>Cyrus the Great</td>\n      <td>515</td>\n      <td>61</td>\n      <td>32</td>\n      <td>213</td>\n      <td>47616</td>\n      <td>2.0</td>\n      <td>People</td>\n    </tr>\n    <tr>\n      <th>4</th>\n      <td>Alexander the Great</td>\n      <td>1910</td>\n      <td>71</td>\n      <td>75</td>\n      <td>401</td>\n      <td>89053</td>\n      <td>4.0</td>\n      <td>People</td>\n    </tr>\n  </tbody>\n</table>\n</div>"
     },
     "execution_count": 3,
     "metadata": {},
     "output_type": "execute_result"
    }
   ],
   "source": [
    "df = load_housing_data()\n",
    "df.head()"
   ]
  },
  {
   "cell_type": "code",
   "execution_count": 4,
   "metadata": {
    "pycharm": {
     "name": "#%%\n"
    }
   },
   "outputs": [
    {
     "name": "stdout",
     "output_type": "stream",
     "text": [
      "<class 'pandas.core.frame.DataFrame'>\n",
      "RangeIndex: 998 entries, 0 to 997\n",
      "Data columns (total 8 columns):\n",
      " #   Column      Non-Null Count  Dtype  \n",
      "---  ------      --------------  -----  \n",
      " 0   Title       998 non-null    object \n",
      " 1   Links       998 non-null    int64  \n",
      " 2   Categories  998 non-null    int64  \n",
      " 3   Images      998 non-null    int64  \n",
      " 4   References  998 non-null    int64  \n",
      " 5   Length      998 non-null    int64  \n",
      " 6   Quality     997 non-null    float64\n",
      " 7   Theme       998 non-null    object \n",
      "dtypes: float64(1), int64(5), object(2)\n",
      "memory usage: 62.5+ KB\n"
     ]
    }
   ],
   "source": [
    "df.info()"
   ]
  },
  {
   "cell_type": "code",
   "execution_count": 5,
   "metadata": {
    "pycharm": {
     "name": "#%%\n"
    }
   },
   "outputs": [
    {
     "data": {
      "text/plain": "Science                         210\nSociety and social sciences     146\nPeople                          112\nGeography                       106\nTechnology                       98\nHistory                          83\nEveryday life                    57\nPhilosophy and religion          55\nArts                             45\nMathematics                      45\nHealth, medicine and disease     41\nName: Theme, dtype: int64"
     },
     "execution_count": 5,
     "metadata": {},
     "output_type": "execute_result"
    }
   ],
   "source": [
    "df[\"Theme\"].value_counts()"
   ]
  },
  {
   "cell_type": "code",
   "execution_count": 6,
   "metadata": {
    "pycharm": {
     "name": "#%%\n"
    }
   },
   "outputs": [
    {
     "data": {
      "text/plain": "             Links  Categories      Images   References         Length  \\\ncount   998.000000  998.000000  998.000000   998.000000     998.000000   \nmean    859.871743   38.109218   41.362725   218.013026   50315.901804   \nstd     513.129578   25.571013   37.425723   181.221618   25837.048931   \nmin      99.000000    7.000000    2.000000     6.000000    7047.000000   \n25%     477.000000   21.000000   21.000000    86.000000   30272.000000   \n50%     733.000000   30.000000   31.000000   157.000000   46976.500000   \n75%    1140.750000   44.000000   48.750000   297.750000   63421.500000   \nmax    3662.000000  153.000000  339.000000  1310.000000  165877.000000   \n\n          Quality  \ncount  997.000000  \nmean     2.749248  \nstd      0.959685  \nmin      1.000000  \n25%      2.000000  \n50%      3.000000  \n75%      3.000000  \nmax      5.000000  ",
      "text/html": "<div>\n<style scoped>\n    .dataframe tbody tr th:only-of-type {\n        vertical-align: middle;\n    }\n\n    .dataframe tbody tr th {\n        vertical-align: top;\n    }\n\n    .dataframe thead th {\n        text-align: right;\n    }\n</style>\n<table border=\"1\" class=\"dataframe\">\n  <thead>\n    <tr style=\"text-align: right;\">\n      <th></th>\n      <th>Links</th>\n      <th>Categories</th>\n      <th>Images</th>\n      <th>References</th>\n      <th>Length</th>\n      <th>Quality</th>\n    </tr>\n  </thead>\n  <tbody>\n    <tr>\n      <th>count</th>\n      <td>998.000000</td>\n      <td>998.000000</td>\n      <td>998.000000</td>\n      <td>998.000000</td>\n      <td>998.000000</td>\n      <td>997.000000</td>\n    </tr>\n    <tr>\n      <th>mean</th>\n      <td>859.871743</td>\n      <td>38.109218</td>\n      <td>41.362725</td>\n      <td>218.013026</td>\n      <td>50315.901804</td>\n      <td>2.749248</td>\n    </tr>\n    <tr>\n      <th>std</th>\n      <td>513.129578</td>\n      <td>25.571013</td>\n      <td>37.425723</td>\n      <td>181.221618</td>\n      <td>25837.048931</td>\n      <td>0.959685</td>\n    </tr>\n    <tr>\n      <th>min</th>\n      <td>99.000000</td>\n      <td>7.000000</td>\n      <td>2.000000</td>\n      <td>6.000000</td>\n      <td>7047.000000</td>\n      <td>1.000000</td>\n    </tr>\n    <tr>\n      <th>25%</th>\n      <td>477.000000</td>\n      <td>21.000000</td>\n      <td>21.000000</td>\n      <td>86.000000</td>\n      <td>30272.000000</td>\n      <td>2.000000</td>\n    </tr>\n    <tr>\n      <th>50%</th>\n      <td>733.000000</td>\n      <td>30.000000</td>\n      <td>31.000000</td>\n      <td>157.000000</td>\n      <td>46976.500000</td>\n      <td>3.000000</td>\n    </tr>\n    <tr>\n      <th>75%</th>\n      <td>1140.750000</td>\n      <td>44.000000</td>\n      <td>48.750000</td>\n      <td>297.750000</td>\n      <td>63421.500000</td>\n      <td>3.000000</td>\n    </tr>\n    <tr>\n      <th>max</th>\n      <td>3662.000000</td>\n      <td>153.000000</td>\n      <td>339.000000</td>\n      <td>1310.000000</td>\n      <td>165877.000000</td>\n      <td>5.000000</td>\n    </tr>\n  </tbody>\n</table>\n</div>"
     },
     "execution_count": 6,
     "metadata": {},
     "output_type": "execute_result"
    }
   ],
   "source": [
    "df.describe()"
   ]
  },
  {
   "cell_type": "code",
   "execution_count": 7,
   "metadata": {
    "pycharm": {
     "name": "#%%\n"
    }
   },
   "outputs": [],
   "source": [
    "if display_correlations:\n",
    "    corr_matrix = df.corr()\n",
    "    sns.heatmap(corr_matrix, annot=True)"
   ]
  },
  {
   "cell_type": "code",
   "execution_count": 8,
   "metadata": {
    "pycharm": {
     "name": "#%%\n"
    }
   },
   "outputs": [
    {
     "data": {
      "text/plain": "               Title  Links  Categories  Images  References  Length  Quality  \\\n301         The arts   1055          23      33          83   21772      2.0   \n302              Art    519          30      36         256   57072      2.0   \n303  Prehistoric art    849          12      46          80   50775      2.0   \n304          Fashion   1548          31      26         104   54418      2.0   \n305           Museum    441          29      30         131   44326      2.0   \n\n    Theme  \n301  Arts  \n302  Arts  \n303  Arts  \n304  Arts  \n305  Arts  ",
      "text/html": "<div>\n<style scoped>\n    .dataframe tbody tr th:only-of-type {\n        vertical-align: middle;\n    }\n\n    .dataframe tbody tr th {\n        vertical-align: top;\n    }\n\n    .dataframe thead th {\n        text-align: right;\n    }\n</style>\n<table border=\"1\" class=\"dataframe\">\n  <thead>\n    <tr style=\"text-align: right;\">\n      <th></th>\n      <th>Title</th>\n      <th>Links</th>\n      <th>Categories</th>\n      <th>Images</th>\n      <th>References</th>\n      <th>Length</th>\n      <th>Quality</th>\n      <th>Theme</th>\n    </tr>\n  </thead>\n  <tbody>\n    <tr>\n      <th>301</th>\n      <td>The arts</td>\n      <td>1055</td>\n      <td>23</td>\n      <td>33</td>\n      <td>83</td>\n      <td>21772</td>\n      <td>2.0</td>\n      <td>Arts</td>\n    </tr>\n    <tr>\n      <th>302</th>\n      <td>Art</td>\n      <td>519</td>\n      <td>30</td>\n      <td>36</td>\n      <td>256</td>\n      <td>57072</td>\n      <td>2.0</td>\n      <td>Arts</td>\n    </tr>\n    <tr>\n      <th>303</th>\n      <td>Prehistoric art</td>\n      <td>849</td>\n      <td>12</td>\n      <td>46</td>\n      <td>80</td>\n      <td>50775</td>\n      <td>2.0</td>\n      <td>Arts</td>\n    </tr>\n    <tr>\n      <th>304</th>\n      <td>Fashion</td>\n      <td>1548</td>\n      <td>31</td>\n      <td>26</td>\n      <td>104</td>\n      <td>54418</td>\n      <td>2.0</td>\n      <td>Arts</td>\n    </tr>\n    <tr>\n      <th>305</th>\n      <td>Museum</td>\n      <td>441</td>\n      <td>29</td>\n      <td>30</td>\n      <td>131</td>\n      <td>44326</td>\n      <td>2.0</td>\n      <td>Arts</td>\n    </tr>\n  </tbody>\n</table>\n</div>"
     },
     "execution_count": 8,
     "metadata": {},
     "output_type": "execute_result"
    }
   ],
   "source": [
    "# Alternative way of filtering\n",
    "# df_filtered = df[df[\"Theme\"] == \"Arts\"]\n",
    "\n",
    "df_filtered_just_arts = df.query(\"Theme == 'Arts'\")\n",
    "df_filtered_just_arts.head()"
   ]
  },
  {
   "cell_type": "code",
   "execution_count": 9,
   "metadata": {
    "pycharm": {
     "name": "#%%\n"
    }
   },
   "outputs": [],
   "source": [
    "categories = sorted(set(df['Theme']))"
   ]
  },
  {
   "cell_type": "code",
   "execution_count": 10,
   "metadata": {
    "pycharm": {
     "name": "#%%\n"
    }
   },
   "outputs": [],
   "source": [
    "def corr_for_category(category):\n",
    "    df_filtered = df.query(f\"Theme == '{category}'\")\n",
    "    corr_within_category = df_filtered.corr(numeric_only=True)\n",
    "    mask = np.triu(np.ones_like(corr_within_category, dtype=bool))\n",
    "    ax[i].set_title(category)\n",
    "    sns.heatmap(corr_within_category, mask=mask, annot=True, ax=ax[i])\n",
    "if display_correlations:\n",
    "    length = len(categories)\n",
    "    fig, ax = plt.subplots(length,1, figsize=(6.4, 24))\n",
    "    i = 0\n",
    "\n",
    "    # plt.figure(figsize=(6.4, 24))\n",
    "    for category in categories:\n",
    "        corr_for_category(category)\n",
    "        i+=1\n",
    "\n",
    "    plt.tight_layout()"
   ]
  },
  {
   "cell_type": "code",
   "execution_count": 11,
   "metadata": {
    "pycharm": {
     "name": "#%%\n"
    }
   },
   "outputs": [
    {
     "data": {
      "text/plain": "                             Title  Links  Categories  Images  References  \\\n645                        Science    661          32      29         416   \n646              Scientific method    769          17      21         151   \n647                    Measurement    304          16      10          38   \n648  International System of Units    681          31      19         195   \n649                         Nature    746          22      59         207   \n\n     Length  Quality    Theme  \n645   45955      3.0  Science  \n646   73762      3.0  Science  \n647   20674      2.0  Science  \n648   58608      4.0  Science  \n649   37866      4.0  Science  ",
      "text/html": "<div>\n<style scoped>\n    .dataframe tbody tr th:only-of-type {\n        vertical-align: middle;\n    }\n\n    .dataframe tbody tr th {\n        vertical-align: top;\n    }\n\n    .dataframe thead th {\n        text-align: right;\n    }\n</style>\n<table border=\"1\" class=\"dataframe\">\n  <thead>\n    <tr style=\"text-align: right;\">\n      <th></th>\n      <th>Title</th>\n      <th>Links</th>\n      <th>Categories</th>\n      <th>Images</th>\n      <th>References</th>\n      <th>Length</th>\n      <th>Quality</th>\n      <th>Theme</th>\n    </tr>\n  </thead>\n  <tbody>\n    <tr>\n      <th>645</th>\n      <td>Science</td>\n      <td>661</td>\n      <td>32</td>\n      <td>29</td>\n      <td>416</td>\n      <td>45955</td>\n      <td>3.0</td>\n      <td>Science</td>\n    </tr>\n    <tr>\n      <th>646</th>\n      <td>Scientific method</td>\n      <td>769</td>\n      <td>17</td>\n      <td>21</td>\n      <td>151</td>\n      <td>73762</td>\n      <td>3.0</td>\n      <td>Science</td>\n    </tr>\n    <tr>\n      <th>647</th>\n      <td>Measurement</td>\n      <td>304</td>\n      <td>16</td>\n      <td>10</td>\n      <td>38</td>\n      <td>20674</td>\n      <td>2.0</td>\n      <td>Science</td>\n    </tr>\n    <tr>\n      <th>648</th>\n      <td>International System of Units</td>\n      <td>681</td>\n      <td>31</td>\n      <td>19</td>\n      <td>195</td>\n      <td>58608</td>\n      <td>4.0</td>\n      <td>Science</td>\n    </tr>\n    <tr>\n      <th>649</th>\n      <td>Nature</td>\n      <td>746</td>\n      <td>22</td>\n      <td>59</td>\n      <td>207</td>\n      <td>37866</td>\n      <td>4.0</td>\n      <td>Science</td>\n    </tr>\n  </tbody>\n</table>\n</div>"
     },
     "execution_count": 11,
     "metadata": {},
     "output_type": "execute_result"
    }
   ],
   "source": [
    "# Science subset w every attribute\n",
    "df_science = df.query(\"Theme == 'Science'\")\n",
    "df_science.head()"
   ]
  },
  {
   "cell_type": "code",
   "execution_count": 12,
   "metadata": {
    "pycharm": {
     "name": "#%%\n"
    }
   },
   "outputs": [
    {
     "data": {
      "text/plain": "               Title  Links  Categories  Images  References  Length  Quality  \\\n301         The arts   1055          23      33          83   21772      2.0   \n302              Art    519          30      36         256   57072      2.0   \n303  Prehistoric art    849          12      46          80   50775      2.0   \n304          Fashion   1548          31      26         104   54418      2.0   \n305           Museum    441          29      30         131   44326      2.0   \n\n    Theme  \n301  Arts  \n302  Arts  \n303  Arts  \n304  Arts  \n305  Arts  ",
      "text/html": "<div>\n<style scoped>\n    .dataframe tbody tr th:only-of-type {\n        vertical-align: middle;\n    }\n\n    .dataframe tbody tr th {\n        vertical-align: top;\n    }\n\n    .dataframe thead th {\n        text-align: right;\n    }\n</style>\n<table border=\"1\" class=\"dataframe\">\n  <thead>\n    <tr style=\"text-align: right;\">\n      <th></th>\n      <th>Title</th>\n      <th>Links</th>\n      <th>Categories</th>\n      <th>Images</th>\n      <th>References</th>\n      <th>Length</th>\n      <th>Quality</th>\n      <th>Theme</th>\n    </tr>\n  </thead>\n  <tbody>\n    <tr>\n      <th>301</th>\n      <td>The arts</td>\n      <td>1055</td>\n      <td>23</td>\n      <td>33</td>\n      <td>83</td>\n      <td>21772</td>\n      <td>2.0</td>\n      <td>Arts</td>\n    </tr>\n    <tr>\n      <th>302</th>\n      <td>Art</td>\n      <td>519</td>\n      <td>30</td>\n      <td>36</td>\n      <td>256</td>\n      <td>57072</td>\n      <td>2.0</td>\n      <td>Arts</td>\n    </tr>\n    <tr>\n      <th>303</th>\n      <td>Prehistoric art</td>\n      <td>849</td>\n      <td>12</td>\n      <td>46</td>\n      <td>80</td>\n      <td>50775</td>\n      <td>2.0</td>\n      <td>Arts</td>\n    </tr>\n    <tr>\n      <th>304</th>\n      <td>Fashion</td>\n      <td>1548</td>\n      <td>31</td>\n      <td>26</td>\n      <td>104</td>\n      <td>54418</td>\n      <td>2.0</td>\n      <td>Arts</td>\n    </tr>\n    <tr>\n      <th>305</th>\n      <td>Museum</td>\n      <td>441</td>\n      <td>29</td>\n      <td>30</td>\n      <td>131</td>\n      <td>44326</td>\n      <td>2.0</td>\n      <td>Arts</td>\n    </tr>\n  </tbody>\n</table>\n</div>"
     },
     "execution_count": 12,
     "metadata": {},
     "output_type": "execute_result"
    }
   ],
   "source": [
    "df_arts_without_quality = df.query(\"Theme == 'Arts'\")\n",
    "df_arts_without_quality.drop(columns=[\"Quality\"])\n",
    "df_arts_without_quality.head()"
   ]
  },
  {
   "cell_type": "code",
   "execution_count": 13,
   "metadata": {
    "pycharm": {
     "name": "#%%\n"
    }
   },
   "outputs": [
    {
     "data": {
      "text/plain": "                 Title  Links  Categories  Images  References  Length   Theme\n0            Hammurabi   1103          45      44          97   15484  People\n1           Hatshepsut    755          49      18          97   33266  People\n2          Ramesses II    662          43      25         119   32507  People\n3      Cyrus the Great    515          61      32         213   47616  People\n4  Alexander the Great   1910          71      75         401   89053  People",
      "text/html": "<div>\n<style scoped>\n    .dataframe tbody tr th:only-of-type {\n        vertical-align: middle;\n    }\n\n    .dataframe tbody tr th {\n        vertical-align: top;\n    }\n\n    .dataframe thead th {\n        text-align: right;\n    }\n</style>\n<table border=\"1\" class=\"dataframe\">\n  <thead>\n    <tr style=\"text-align: right;\">\n      <th></th>\n      <th>Title</th>\n      <th>Links</th>\n      <th>Categories</th>\n      <th>Images</th>\n      <th>References</th>\n      <th>Length</th>\n      <th>Theme</th>\n    </tr>\n  </thead>\n  <tbody>\n    <tr>\n      <th>0</th>\n      <td>Hammurabi</td>\n      <td>1103</td>\n      <td>45</td>\n      <td>44</td>\n      <td>97</td>\n      <td>15484</td>\n      <td>People</td>\n    </tr>\n    <tr>\n      <th>1</th>\n      <td>Hatshepsut</td>\n      <td>755</td>\n      <td>49</td>\n      <td>18</td>\n      <td>97</td>\n      <td>33266</td>\n      <td>People</td>\n    </tr>\n    <tr>\n      <th>2</th>\n      <td>Ramesses II</td>\n      <td>662</td>\n      <td>43</td>\n      <td>25</td>\n      <td>119</td>\n      <td>32507</td>\n      <td>People</td>\n    </tr>\n    <tr>\n      <th>3</th>\n      <td>Cyrus the Great</td>\n      <td>515</td>\n      <td>61</td>\n      <td>32</td>\n      <td>213</td>\n      <td>47616</td>\n      <td>People</td>\n    </tr>\n    <tr>\n      <th>4</th>\n      <td>Alexander the Great</td>\n      <td>1910</td>\n      <td>71</td>\n      <td>75</td>\n      <td>401</td>\n      <td>89053</td>\n      <td>People</td>\n    </tr>\n  </tbody>\n</table>\n</div>"
     },
     "execution_count": 13,
     "metadata": {},
     "output_type": "execute_result"
    }
   ],
   "source": [
    "df_without_quality = df.drop(columns=[\"Quality\"])\n",
    "df_without_quality.head()"
   ]
  },
  {
   "cell_type": "code",
   "execution_count": 14,
   "outputs": [],
   "source": [
    "def corr_for_old_and_new_category(category):\n",
    "    df_filtered = df.query(f\"Theme == '{category}'\")\n",
    "    corr_within_category_for_df = df_filtered.corr(numeric_only=True)\n",
    "    mask = np.triu(np.ones_like(corr_within_category_for_df, dtype=bool))\n",
    "    ax[i,0].set_title(category)\n",
    "    sns.heatmap(corr_within_category_for_df, mask=mask, annot=True, ax=ax[i,0])\n",
    "\n",
    "    df_filtered = df_without_quality.query(f\"Theme == '{category}'\")\n",
    "    corr_within_category_for_df_filtered = df_filtered.corr(numeric_only=True)\n",
    "    mask = np.triu(np.ones_like(corr_within_category_for_df_filtered, dtype=bool))\n",
    "    ax[i,1].set_title(\"without Quality\")\n",
    "    sns.heatmap(corr_within_category_for_df_filtered, mask=mask, annot=True, ax=ax[i,1])\n",
    "if display_correlations:\n",
    "    length = len(categories)\n",
    "    fig, ax = plt.subplots(length,2, figsize=(8, 24))\n",
    "    i = 0\n",
    "\n",
    "    for category in categories:\n",
    "        corr_for_old_and_new_category(category)\n",
    "        i+=1\n",
    "\n",
    "    plt.tight_layout()"
   ],
   "metadata": {
    "collapsed": false,
    "pycharm": {
     "name": "#%%\n"
    }
   }
  },
  {
   "cell_type": "markdown",
   "source": [
    "# Correlation with non-numerical values"
   ],
   "metadata": {
    "collapsed": false,
    "pycharm": {
     "name": "#%% md\n"
    }
   }
  },
  {
   "cell_type": "code",
   "execution_count": 15,
   "outputs": [
    {
     "data": {
      "text/plain": "    Title  Links  Categories  Images  References  Length  Quality    Theme\n846  Wind    563          11      23         277   41140      NaN  Science",
      "text/html": "<div>\n<style scoped>\n    .dataframe tbody tr th:only-of-type {\n        vertical-align: middle;\n    }\n\n    .dataframe tbody tr th {\n        vertical-align: top;\n    }\n\n    .dataframe thead th {\n        text-align: right;\n    }\n</style>\n<table border=\"1\" class=\"dataframe\">\n  <thead>\n    <tr style=\"text-align: right;\">\n      <th></th>\n      <th>Title</th>\n      <th>Links</th>\n      <th>Categories</th>\n      <th>Images</th>\n      <th>References</th>\n      <th>Length</th>\n      <th>Quality</th>\n      <th>Theme</th>\n    </tr>\n  </thead>\n  <tbody>\n    <tr>\n      <th>846</th>\n      <td>Wind</td>\n      <td>563</td>\n      <td>11</td>\n      <td>23</td>\n      <td>277</td>\n      <td>41140</td>\n      <td>NaN</td>\n      <td>Science</td>\n    </tr>\n  </tbody>\n</table>\n</div>"
     },
     "execution_count": 15,
     "metadata": {},
     "output_type": "execute_result"
    }
   ],
   "source": [
    "df[df.isna().any(axis=1)]"
   ],
   "metadata": {
    "collapsed": false,
    "pycharm": {
     "name": "#%%\n"
    }
   }
  },
  {
   "cell_type": "code",
   "execution_count": 16,
   "outputs": [],
   "source": [
    "# Drop missing values\n",
    "df = df.dropna()"
   ],
   "metadata": {
    "collapsed": false,
    "pycharm": {
     "name": "#%%\n"
    }
   }
  },
  {
   "cell_type": "code",
   "execution_count": 17,
   "outputs": [
    {
     "data": {
      "text/plain": "Empty DataFrame\nColumns: [Title, Links, Categories, Images, References, Length, Quality, Theme]\nIndex: []",
      "text/html": "<div>\n<style scoped>\n    .dataframe tbody tr th:only-of-type {\n        vertical-align: middle;\n    }\n\n    .dataframe tbody tr th {\n        vertical-align: top;\n    }\n\n    .dataframe thead th {\n        text-align: right;\n    }\n</style>\n<table border=\"1\" class=\"dataframe\">\n  <thead>\n    <tr style=\"text-align: right;\">\n      <th></th>\n      <th>Title</th>\n      <th>Links</th>\n      <th>Categories</th>\n      <th>Images</th>\n      <th>References</th>\n      <th>Length</th>\n      <th>Quality</th>\n      <th>Theme</th>\n    </tr>\n  </thead>\n  <tbody>\n  </tbody>\n</table>\n</div>"
     },
     "execution_count": 17,
     "metadata": {},
     "output_type": "execute_result"
    }
   ],
   "source": [
    "df[df.isna().any(axis=1)]"
   ],
   "metadata": {
    "collapsed": false,
    "pycharm": {
     "name": "#%%\n"
    }
   }
  },
  {
   "cell_type": "code",
   "execution_count": 18,
   "outputs": [
    {
     "data": {
      "text/plain": "                 Title  Links  Categories  Images  References  Length  \\\n0            Hammurabi   1103          45      44          97   15484   \n1           Hatshepsut    755          49      18          97   33266   \n2          Ramesses II    662          43      25         119   32507   \n3      Cyrus the Great    515          61      32         213   47616   \n4  Alexander the Great   1910          71      75         401   89053   \n\n   Quality   Theme  \n0      4.0  People  \n1      3.0  People  \n2      2.0  People  \n3      2.0  People  \n4      4.0  People  ",
      "text/html": "<div>\n<style scoped>\n    .dataframe tbody tr th:only-of-type {\n        vertical-align: middle;\n    }\n\n    .dataframe tbody tr th {\n        vertical-align: top;\n    }\n\n    .dataframe thead th {\n        text-align: right;\n    }\n</style>\n<table border=\"1\" class=\"dataframe\">\n  <thead>\n    <tr style=\"text-align: right;\">\n      <th></th>\n      <th>Title</th>\n      <th>Links</th>\n      <th>Categories</th>\n      <th>Images</th>\n      <th>References</th>\n      <th>Length</th>\n      <th>Quality</th>\n      <th>Theme</th>\n    </tr>\n  </thead>\n  <tbody>\n    <tr>\n      <th>0</th>\n      <td>Hammurabi</td>\n      <td>1103</td>\n      <td>45</td>\n      <td>44</td>\n      <td>97</td>\n      <td>15484</td>\n      <td>4.0</td>\n      <td>People</td>\n    </tr>\n    <tr>\n      <th>1</th>\n      <td>Hatshepsut</td>\n      <td>755</td>\n      <td>49</td>\n      <td>18</td>\n      <td>97</td>\n      <td>33266</td>\n      <td>3.0</td>\n      <td>People</td>\n    </tr>\n    <tr>\n      <th>2</th>\n      <td>Ramesses II</td>\n      <td>662</td>\n      <td>43</td>\n      <td>25</td>\n      <td>119</td>\n      <td>32507</td>\n      <td>2.0</td>\n      <td>People</td>\n    </tr>\n    <tr>\n      <th>3</th>\n      <td>Cyrus the Great</td>\n      <td>515</td>\n      <td>61</td>\n      <td>32</td>\n      <td>213</td>\n      <td>47616</td>\n      <td>2.0</td>\n      <td>People</td>\n    </tr>\n    <tr>\n      <th>4</th>\n      <td>Alexander the Great</td>\n      <td>1910</td>\n      <td>71</td>\n      <td>75</td>\n      <td>401</td>\n      <td>89053</td>\n      <td>4.0</td>\n      <td>People</td>\n    </tr>\n  </tbody>\n</table>\n</div>"
     },
     "execution_count": 18,
     "metadata": {},
     "output_type": "execute_result"
    }
   ],
   "source": [
    "df_all_numerical = df.copy()\n",
    "df_all_numerical.head()"
   ],
   "metadata": {
    "collapsed": false,
    "pycharm": {
     "name": "#%%\n"
    }
   }
  },
  {
   "cell_type": "code",
   "execution_count": 19,
   "outputs": [
    {
     "data": {
      "text/plain": "                 Title  Links  Categories  Images  References  Length  \\\n0            Hammurabi   1103          45      44          97   15484   \n1           Hatshepsut    755          49      18          97   33266   \n2          Ramesses II    662          43      25         119   32507   \n3      Cyrus the Great    515          61      32         213   47616   \n4  Alexander the Great   1910          71      75         401   89053   \n\n   Quality   Theme  T.Numerical  \n0      4.0  People            6  \n1      3.0  People            6  \n2      2.0  People            6  \n3      2.0  People            6  \n4      4.0  People            6  ",
      "text/html": "<div>\n<style scoped>\n    .dataframe tbody tr th:only-of-type {\n        vertical-align: middle;\n    }\n\n    .dataframe tbody tr th {\n        vertical-align: top;\n    }\n\n    .dataframe thead th {\n        text-align: right;\n    }\n</style>\n<table border=\"1\" class=\"dataframe\">\n  <thead>\n    <tr style=\"text-align: right;\">\n      <th></th>\n      <th>Title</th>\n      <th>Links</th>\n      <th>Categories</th>\n      <th>Images</th>\n      <th>References</th>\n      <th>Length</th>\n      <th>Quality</th>\n      <th>Theme</th>\n      <th>T.Numerical</th>\n    </tr>\n  </thead>\n  <tbody>\n    <tr>\n      <th>0</th>\n      <td>Hammurabi</td>\n      <td>1103</td>\n      <td>45</td>\n      <td>44</td>\n      <td>97</td>\n      <td>15484</td>\n      <td>4.0</td>\n      <td>People</td>\n      <td>6</td>\n    </tr>\n    <tr>\n      <th>1</th>\n      <td>Hatshepsut</td>\n      <td>755</td>\n      <td>49</td>\n      <td>18</td>\n      <td>97</td>\n      <td>33266</td>\n      <td>3.0</td>\n      <td>People</td>\n      <td>6</td>\n    </tr>\n    <tr>\n      <th>2</th>\n      <td>Ramesses II</td>\n      <td>662</td>\n      <td>43</td>\n      <td>25</td>\n      <td>119</td>\n      <td>32507</td>\n      <td>2.0</td>\n      <td>People</td>\n      <td>6</td>\n    </tr>\n    <tr>\n      <th>3</th>\n      <td>Cyrus the Great</td>\n      <td>515</td>\n      <td>61</td>\n      <td>32</td>\n      <td>213</td>\n      <td>47616</td>\n      <td>2.0</td>\n      <td>People</td>\n      <td>6</td>\n    </tr>\n    <tr>\n      <th>4</th>\n      <td>Alexander the Great</td>\n      <td>1910</td>\n      <td>71</td>\n      <td>75</td>\n      <td>401</td>\n      <td>89053</td>\n      <td>4.0</td>\n      <td>People</td>\n      <td>6</td>\n    </tr>\n  </tbody>\n</table>\n</div>"
     },
     "execution_count": 19,
     "metadata": {},
     "output_type": "execute_result"
    }
   ],
   "source": [
    "i = 0\n",
    "mapping = {}\n",
    "for category in categories:\n",
    "    mapping.update({category: i})\n",
    "    i+=1\n",
    "\n",
    "df_all_numerical[\"T.Numerical\"] = df_all_numerical.Theme.map(mapping)\n",
    "df_all_numerical.head()"
   ],
   "metadata": {
    "collapsed": false,
    "pycharm": {
     "name": "#%%\n"
    }
   }
  },
  {
   "cell_type": "code",
   "execution_count": 20,
   "outputs": [
    {
     "name": "stdout",
     "output_type": "stream",
     "text": [
      "<class 'pandas.core.frame.DataFrame'>\n",
      "Int64Index: 997 entries, 0 to 997\n",
      "Data columns (total 9 columns):\n",
      " #   Column       Non-Null Count  Dtype  \n",
      "---  ------       --------------  -----  \n",
      " 0   Title        997 non-null    object \n",
      " 1   Links        997 non-null    int64  \n",
      " 2   Categories   997 non-null    int64  \n",
      " 3   Images       997 non-null    int64  \n",
      " 4   References   997 non-null    int64  \n",
      " 5   Length       997 non-null    int64  \n",
      " 6   Quality      997 non-null    float64\n",
      " 7   Theme        997 non-null    object \n",
      " 8   T.Numerical  997 non-null    int64  \n",
      "dtypes: float64(1), int64(6), object(2)\n",
      "memory usage: 77.9+ KB\n"
     ]
    }
   ],
   "source": [
    "df_all_numerical.info()"
   ],
   "metadata": {
    "collapsed": false,
    "pycharm": {
     "name": "#%%\n"
    }
   }
  },
  {
   "cell_type": "code",
   "execution_count": 21,
   "outputs": [],
   "source": [
    "if display_correlations:\n",
    "    corr_matrix = df_all_numerical.corr()\n",
    "    sns.heatmap(corr_matrix, annot=True)"
   ],
   "metadata": {
    "collapsed": false,
    "pycharm": {
     "name": "#%%\n"
    }
   }
  },
  {
   "cell_type": "code",
   "execution_count": 22,
   "outputs": [],
   "source": [
    "def corr_for_category_all_numerical(category):\n",
    "    df_filtered = df_all_numerical.query(f\"Theme == '{category}'\")\n",
    "    corr_within_category = df_filtered.corr(numeric_only=True)\n",
    "    mask = np.triu(np.ones_like(corr_within_category, dtype=bool))\n",
    "    ax[i].set_title(category)\n",
    "    sns.heatmap(corr_within_category, mask=mask, annot=True, ax=ax[i])\n",
    "\n",
    "if display_correlations:\n",
    "    length = len(categories)\n",
    "    fig, ax = plt.subplots(length,1, figsize=(6.4, 24))\n",
    "    i = 0\n",
    "\n",
    "    # plt.figure(figsize=(6.4, 24))\n",
    "    for category in categories:\n",
    "        corr_for_category_all_numerical(category)\n",
    "        i+=1\n",
    "\n",
    "    plt.tight_layout()"
   ],
   "metadata": {
    "collapsed": false,
    "pycharm": {
     "name": "#%%\n"
    }
   }
  },
  {
   "cell_type": "markdown",
   "source": [
    "# Test and Train\n",
    "\n",
    "Splitting the data before normalization"
   ],
   "metadata": {
    "collapsed": false,
    "pycharm": {
     "name": "#%% md\n"
    }
   }
  },
  {
   "cell_type": "code",
   "execution_count": 23,
   "outputs": [
    {
     "data": {
      "text/plain": "((797, 6), (200, 6), (797,), (200,))"
     },
     "execution_count": 23,
     "metadata": {},
     "output_type": "execute_result"
    }
   ],
   "source": [
    "from sklearn.model_selection import train_test_split\n",
    "attributes = [\"Links\", \"Categories\", \"Images\", \"References\", \"Length\", \"Quality\"]\n",
    "\n",
    "X = df[attributes]\n",
    "Y = df[\"Theme\"]\n",
    "\n",
    "X_train, X_test, Y_train, Y_test = train_test_split(X, Y, test_size=0.2)\n",
    "X_train.shape, X_test.shape, Y_train.shape, Y_test.shape"
   ],
   "metadata": {
    "collapsed": false,
    "pycharm": {
     "name": "#%%\n"
    }
   }
  },
  {
   "cell_type": "markdown",
   "source": [
    "Check for NaN"
   ],
   "metadata": {
    "collapsed": false,
    "pycharm": {
     "name": "#%% md\n"
    }
   }
  },
  {
   "cell_type": "code",
   "execution_count": 24,
   "outputs": [
    {
     "data": {
      "text/plain": "Empty DataFrame\nColumns: [Links, Categories, Images, References, Length, Quality]\nIndex: []",
      "text/html": "<div>\n<style scoped>\n    .dataframe tbody tr th:only-of-type {\n        vertical-align: middle;\n    }\n\n    .dataframe tbody tr th {\n        vertical-align: top;\n    }\n\n    .dataframe thead th {\n        text-align: right;\n    }\n</style>\n<table border=\"1\" class=\"dataframe\">\n  <thead>\n    <tr style=\"text-align: right;\">\n      <th></th>\n      <th>Links</th>\n      <th>Categories</th>\n      <th>Images</th>\n      <th>References</th>\n      <th>Length</th>\n      <th>Quality</th>\n    </tr>\n  </thead>\n  <tbody>\n  </tbody>\n</table>\n</div>"
     },
     "execution_count": 24,
     "metadata": {},
     "output_type": "execute_result"
    }
   ],
   "source": [
    "X_train[X_train.isna().any(axis=1)]"
   ],
   "metadata": {
    "collapsed": false,
    "pycharm": {
     "name": "#%%\n"
    }
   }
  },
  {
   "cell_type": "markdown",
   "source": [
    "# Standardization\n",
    "\n",
    "After the test split"
   ],
   "metadata": {
    "collapsed": false,
    "pycharm": {
     "name": "#%% md\n"
    }
   }
  },
  {
   "cell_type": "code",
   "execution_count": 25,
   "outputs": [
    {
     "data": {
      "text/plain": "     Links  Categories  Images  References  Length  Quality\n265   1910          80     166         627  106716      3.0\n94     364          85      24         287   45609      3.0\n584   2020          40      29          64   22055      3.0\n669    606          23      64          83   16179      2.0\n798    365          19      19         155   25886      4.0",
      "text/html": "<div>\n<style scoped>\n    .dataframe tbody tr th:only-of-type {\n        vertical-align: middle;\n    }\n\n    .dataframe tbody tr th {\n        vertical-align: top;\n    }\n\n    .dataframe thead th {\n        text-align: right;\n    }\n</style>\n<table border=\"1\" class=\"dataframe\">\n  <thead>\n    <tr style=\"text-align: right;\">\n      <th></th>\n      <th>Links</th>\n      <th>Categories</th>\n      <th>Images</th>\n      <th>References</th>\n      <th>Length</th>\n      <th>Quality</th>\n    </tr>\n  </thead>\n  <tbody>\n    <tr>\n      <th>265</th>\n      <td>1910</td>\n      <td>80</td>\n      <td>166</td>\n      <td>627</td>\n      <td>106716</td>\n      <td>3.0</td>\n    </tr>\n    <tr>\n      <th>94</th>\n      <td>364</td>\n      <td>85</td>\n      <td>24</td>\n      <td>287</td>\n      <td>45609</td>\n      <td>3.0</td>\n    </tr>\n    <tr>\n      <th>584</th>\n      <td>2020</td>\n      <td>40</td>\n      <td>29</td>\n      <td>64</td>\n      <td>22055</td>\n      <td>3.0</td>\n    </tr>\n    <tr>\n      <th>669</th>\n      <td>606</td>\n      <td>23</td>\n      <td>64</td>\n      <td>83</td>\n      <td>16179</td>\n      <td>2.0</td>\n    </tr>\n    <tr>\n      <th>798</th>\n      <td>365</td>\n      <td>19</td>\n      <td>19</td>\n      <td>155</td>\n      <td>25886</td>\n      <td>4.0</td>\n    </tr>\n  </tbody>\n</table>\n</div>"
     },
     "execution_count": 25,
     "metadata": {},
     "output_type": "execute_result"
    }
   ],
   "source": [
    "X_train.head()"
   ],
   "metadata": {
    "collapsed": false,
    "pycharm": {
     "name": "#%%\n"
    }
   }
  },
  {
   "cell_type": "markdown",
   "source": [
    "### Z-score normalization or standardization\n",
    "Step 1: Standardize the train set"
   ],
   "metadata": {
    "collapsed": false,
    "pycharm": {
     "name": "#%% md\n"
    }
   }
  },
  {
   "cell_type": "code",
   "execution_count": 26,
   "outputs": [
    {
     "data": {
      "text/plain": "      Links  Categories    Images  References    Length   Quality\n0  2.124409    1.675766  3.303233    2.324396  2.127246  0.288082\n1 -0.953108    1.873989 -0.449202    0.410919 -0.182925  0.288082\n2  2.343378    0.089984 -0.317074   -0.844096 -1.073392  0.288082\n3 -0.471375   -0.583974  0.607822   -0.737166 -1.295537 -0.769988\n4 -0.951117   -0.742552 -0.581330   -0.331960 -0.928560  1.346152",
      "text/html": "<div>\n<style scoped>\n    .dataframe tbody tr th:only-of-type {\n        vertical-align: middle;\n    }\n\n    .dataframe tbody tr th {\n        vertical-align: top;\n    }\n\n    .dataframe thead th {\n        text-align: right;\n    }\n</style>\n<table border=\"1\" class=\"dataframe\">\n  <thead>\n    <tr style=\"text-align: right;\">\n      <th></th>\n      <th>Links</th>\n      <th>Categories</th>\n      <th>Images</th>\n      <th>References</th>\n      <th>Length</th>\n      <th>Quality</th>\n    </tr>\n  </thead>\n  <tbody>\n    <tr>\n      <th>0</th>\n      <td>2.124409</td>\n      <td>1.675766</td>\n      <td>3.303233</td>\n      <td>2.324396</td>\n      <td>2.127246</td>\n      <td>0.288082</td>\n    </tr>\n    <tr>\n      <th>1</th>\n      <td>-0.953108</td>\n      <td>1.873989</td>\n      <td>-0.449202</td>\n      <td>0.410919</td>\n      <td>-0.182925</td>\n      <td>0.288082</td>\n    </tr>\n    <tr>\n      <th>2</th>\n      <td>2.343378</td>\n      <td>0.089984</td>\n      <td>-0.317074</td>\n      <td>-0.844096</td>\n      <td>-1.073392</td>\n      <td>0.288082</td>\n    </tr>\n    <tr>\n      <th>3</th>\n      <td>-0.471375</td>\n      <td>-0.583974</td>\n      <td>0.607822</td>\n      <td>-0.737166</td>\n      <td>-1.295537</td>\n      <td>-0.769988</td>\n    </tr>\n    <tr>\n      <th>4</th>\n      <td>-0.951117</td>\n      <td>-0.742552</td>\n      <td>-0.581330</td>\n      <td>-0.331960</td>\n      <td>-0.928560</td>\n      <td>1.346152</td>\n    </tr>\n  </tbody>\n</table>\n</div>"
     },
     "execution_count": 26,
     "metadata": {},
     "output_type": "execute_result"
    }
   ],
   "source": [
    "from sklearn.preprocessing import StandardScaler\n",
    "\n",
    "sc = StandardScaler()\n",
    "X_train_std = pd.DataFrame(sc.fit_transform(X_train),columns = X_train.columns)\n",
    "X_train_std.head()"
   ],
   "metadata": {
    "collapsed": false,
    "pycharm": {
     "name": "#%%\n"
    }
   }
  },
  {
   "cell_type": "markdown",
   "source": [
    "Step 2: Standardize the test set with the train set's parameters."
   ],
   "metadata": {
    "collapsed": false,
    "pycharm": {
     "name": "#%% md\n"
    }
   }
  },
  {
   "cell_type": "code",
   "execution_count": 27,
   "outputs": [
    {
     "data": {
      "text/plain": "     Links  Categories  Images  References  Length  Quality\n650    804          28      43         235   45746      4.0\n668    518          34      49         749   53690      4.0\n364   1591          22      37          87   52472      3.0\n676    645          21      33         173   37514      2.0\n698    996          27      30         428   56023      5.0",
      "text/html": "<div>\n<style scoped>\n    .dataframe tbody tr th:only-of-type {\n        vertical-align: middle;\n    }\n\n    .dataframe tbody tr th {\n        vertical-align: top;\n    }\n\n    .dataframe thead th {\n        text-align: right;\n    }\n</style>\n<table border=\"1\" class=\"dataframe\">\n  <thead>\n    <tr style=\"text-align: right;\">\n      <th></th>\n      <th>Links</th>\n      <th>Categories</th>\n      <th>Images</th>\n      <th>References</th>\n      <th>Length</th>\n      <th>Quality</th>\n    </tr>\n  </thead>\n  <tbody>\n    <tr>\n      <th>650</th>\n      <td>804</td>\n      <td>28</td>\n      <td>43</td>\n      <td>235</td>\n      <td>45746</td>\n      <td>4.0</td>\n    </tr>\n    <tr>\n      <th>668</th>\n      <td>518</td>\n      <td>34</td>\n      <td>49</td>\n      <td>749</td>\n      <td>53690</td>\n      <td>4.0</td>\n    </tr>\n    <tr>\n      <th>364</th>\n      <td>1591</td>\n      <td>22</td>\n      <td>37</td>\n      <td>87</td>\n      <td>52472</td>\n      <td>3.0</td>\n    </tr>\n    <tr>\n      <th>676</th>\n      <td>645</td>\n      <td>21</td>\n      <td>33</td>\n      <td>173</td>\n      <td>37514</td>\n      <td>2.0</td>\n    </tr>\n    <tr>\n      <th>698</th>\n      <td>996</td>\n      <td>27</td>\n      <td>30</td>\n      <td>428</td>\n      <td>56023</td>\n      <td>5.0</td>\n    </tr>\n  </tbody>\n</table>\n</div>"
     },
     "execution_count": 27,
     "metadata": {},
     "output_type": "execute_result"
    }
   ],
   "source": [
    "X_test.head()"
   ],
   "metadata": {
    "collapsed": false,
    "pycharm": {
     "name": "#%%\n"
    }
   }
  },
  {
   "cell_type": "code",
   "execution_count": 28,
   "outputs": [
    {
     "data": {
      "text/plain": "      Links  Categories    Images  References    Length   Quality\n0 -0.077230   -0.385751  0.052884    0.118270 -0.177746  1.346152\n1 -0.646551   -0.147884  0.211438    3.010996  0.122580  1.346152\n2  1.489397   -0.623618 -0.105669   -0.714655  0.076533  0.288082\n3 -0.393740   -0.663263 -0.211372   -0.230658 -0.488960 -0.769988\n4  0.304971   -0.425396 -0.290648    1.204449  0.210780  2.404222",
      "text/html": "<div>\n<style scoped>\n    .dataframe tbody tr th:only-of-type {\n        vertical-align: middle;\n    }\n\n    .dataframe tbody tr th {\n        vertical-align: top;\n    }\n\n    .dataframe thead th {\n        text-align: right;\n    }\n</style>\n<table border=\"1\" class=\"dataframe\">\n  <thead>\n    <tr style=\"text-align: right;\">\n      <th></th>\n      <th>Links</th>\n      <th>Categories</th>\n      <th>Images</th>\n      <th>References</th>\n      <th>Length</th>\n      <th>Quality</th>\n    </tr>\n  </thead>\n  <tbody>\n    <tr>\n      <th>0</th>\n      <td>-0.077230</td>\n      <td>-0.385751</td>\n      <td>0.052884</td>\n      <td>0.118270</td>\n      <td>-0.177746</td>\n      <td>1.346152</td>\n    </tr>\n    <tr>\n      <th>1</th>\n      <td>-0.646551</td>\n      <td>-0.147884</td>\n      <td>0.211438</td>\n      <td>3.010996</td>\n      <td>0.122580</td>\n      <td>1.346152</td>\n    </tr>\n    <tr>\n      <th>2</th>\n      <td>1.489397</td>\n      <td>-0.623618</td>\n      <td>-0.105669</td>\n      <td>-0.714655</td>\n      <td>0.076533</td>\n      <td>0.288082</td>\n    </tr>\n    <tr>\n      <th>3</th>\n      <td>-0.393740</td>\n      <td>-0.663263</td>\n      <td>-0.211372</td>\n      <td>-0.230658</td>\n      <td>-0.488960</td>\n      <td>-0.769988</td>\n    </tr>\n    <tr>\n      <th>4</th>\n      <td>0.304971</td>\n      <td>-0.425396</td>\n      <td>-0.290648</td>\n      <td>1.204449</td>\n      <td>0.210780</td>\n      <td>2.404222</td>\n    </tr>\n  </tbody>\n</table>\n</div>"
     },
     "execution_count": 28,
     "metadata": {},
     "output_type": "execute_result"
    }
   ],
   "source": [
    "X_test_std = pd.DataFrame(sc.transform(X_test),columns = X_test.columns)\n",
    "X_test_std.head()"
   ],
   "metadata": {
    "collapsed": false,
    "pycharm": {
     "name": "#%%\n"
    }
   }
  },
  {
   "cell_type": "markdown",
   "source": [
    "### Min-max scaling or normalization\n",
    "[Doc](https://scikit-learn.org/stable/modules/generated/sklearn.preprocessing.MinMaxScaler.html)\n",
    "Step 1: Normalize the train set"
   ],
   "metadata": {
    "collapsed": false,
    "pycharm": {
     "name": "#%% md\n"
    }
   }
  },
  {
   "cell_type": "code",
   "execution_count": 29,
   "outputs": [
    {
     "data": {
      "text/plain": "     Links  Categories  Images  References  Length  Quality\n265   1910          80     166         627  106716      3.0\n94     364          85      24         287   45609      3.0\n584   2020          40      29          64   22055      3.0\n669    606          23      64          83   16179      2.0\n798    365          19      19         155   25886      4.0",
      "text/html": "<div>\n<style scoped>\n    .dataframe tbody tr th:only-of-type {\n        vertical-align: middle;\n    }\n\n    .dataframe tbody tr th {\n        vertical-align: top;\n    }\n\n    .dataframe thead th {\n        text-align: right;\n    }\n</style>\n<table border=\"1\" class=\"dataframe\">\n  <thead>\n    <tr style=\"text-align: right;\">\n      <th></th>\n      <th>Links</th>\n      <th>Categories</th>\n      <th>Images</th>\n      <th>References</th>\n      <th>Length</th>\n      <th>Quality</th>\n    </tr>\n  </thead>\n  <tbody>\n    <tr>\n      <th>265</th>\n      <td>1910</td>\n      <td>80</td>\n      <td>166</td>\n      <td>627</td>\n      <td>106716</td>\n      <td>3.0</td>\n    </tr>\n    <tr>\n      <th>94</th>\n      <td>364</td>\n      <td>85</td>\n      <td>24</td>\n      <td>287</td>\n      <td>45609</td>\n      <td>3.0</td>\n    </tr>\n    <tr>\n      <th>584</th>\n      <td>2020</td>\n      <td>40</td>\n      <td>29</td>\n      <td>64</td>\n      <td>22055</td>\n      <td>3.0</td>\n    </tr>\n    <tr>\n      <th>669</th>\n      <td>606</td>\n      <td>23</td>\n      <td>64</td>\n      <td>83</td>\n      <td>16179</td>\n      <td>2.0</td>\n    </tr>\n    <tr>\n      <th>798</th>\n      <td>365</td>\n      <td>19</td>\n      <td>19</td>\n      <td>155</td>\n      <td>25886</td>\n      <td>4.0</td>\n    </tr>\n  </tbody>\n</table>\n</div>"
     },
     "execution_count": 29,
     "metadata": {},
     "output_type": "execute_result"
    }
   ],
   "source": [
    "X_train.head()"
   ],
   "metadata": {
    "collapsed": false,
    "pycharm": {
     "name": "#%%\n"
    }
   }
  },
  {
   "cell_type": "code",
   "execution_count": 30,
   "outputs": [
    {
     "data": {
      "text/plain": "      Links  Categories    Images  References    Length  Quality\n0  0.625561    0.500000  0.486647    0.571823  0.627520     0.50\n1  0.091537    0.534247  0.065282    0.258748  0.242788     0.50\n2  0.663558    0.226027  0.080119    0.053407  0.094491     0.50\n3  0.175130    0.109589  0.183976    0.070902  0.057495     0.25\n4  0.091883    0.082192  0.050445    0.137201  0.118611     0.75",
      "text/html": "<div>\n<style scoped>\n    .dataframe tbody tr th:only-of-type {\n        vertical-align: middle;\n    }\n\n    .dataframe tbody tr th {\n        vertical-align: top;\n    }\n\n    .dataframe thead th {\n        text-align: right;\n    }\n</style>\n<table border=\"1\" class=\"dataframe\">\n  <thead>\n    <tr style=\"text-align: right;\">\n      <th></th>\n      <th>Links</th>\n      <th>Categories</th>\n      <th>Images</th>\n      <th>References</th>\n      <th>Length</th>\n      <th>Quality</th>\n    </tr>\n  </thead>\n  <tbody>\n    <tr>\n      <th>0</th>\n      <td>0.625561</td>\n      <td>0.500000</td>\n      <td>0.486647</td>\n      <td>0.571823</td>\n      <td>0.627520</td>\n      <td>0.50</td>\n    </tr>\n    <tr>\n      <th>1</th>\n      <td>0.091537</td>\n      <td>0.534247</td>\n      <td>0.065282</td>\n      <td>0.258748</td>\n      <td>0.242788</td>\n      <td>0.50</td>\n    </tr>\n    <tr>\n      <th>2</th>\n      <td>0.663558</td>\n      <td>0.226027</td>\n      <td>0.080119</td>\n      <td>0.053407</td>\n      <td>0.094491</td>\n      <td>0.50</td>\n    </tr>\n    <tr>\n      <th>3</th>\n      <td>0.175130</td>\n      <td>0.109589</td>\n      <td>0.183976</td>\n      <td>0.070902</td>\n      <td>0.057495</td>\n      <td>0.25</td>\n    </tr>\n    <tr>\n      <th>4</th>\n      <td>0.091883</td>\n      <td>0.082192</td>\n      <td>0.050445</td>\n      <td>0.137201</td>\n      <td>0.118611</td>\n      <td>0.75</td>\n    </tr>\n  </tbody>\n</table>\n</div>"
     },
     "execution_count": 30,
     "metadata": {},
     "output_type": "execute_result"
    }
   ],
   "source": [
    "# Normalized to a min value of 0 and max value of 1\n",
    "from sklearn.preprocessing import MinMaxScaler\n",
    "\n",
    "min_max_scaler = MinMaxScaler()\n",
    "X_train_nrml = pd.DataFrame(min_max_scaler.fit_transform(X_train),columns = X_train.columns)\n",
    "X_train_nrml.head()"
   ],
   "metadata": {
    "collapsed": false,
    "pycharm": {
     "name": "#%%\n"
    }
   }
  },
  {
   "cell_type": "markdown",
   "source": [
    "Step 2: Normalize the test set with the train set’s parameters."
   ],
   "metadata": {
    "collapsed": false,
    "pycharm": {
     "name": "#%% md\n"
    }
   }
  },
  {
   "cell_type": "code",
   "execution_count": 31,
   "outputs": [
    {
     "data": {
      "text/plain": "     Links  Categories  Images  References  Length  Quality\n650    804          28      43         235   45746      4.0\n668    518          34      49         749   53690      4.0\n364   1591          22      37          87   52472      3.0\n676    645          21      33         173   37514      2.0\n698    996          27      30         428   56023      5.0",
      "text/html": "<div>\n<style scoped>\n    .dataframe tbody tr th:only-of-type {\n        vertical-align: middle;\n    }\n\n    .dataframe tbody tr th {\n        vertical-align: top;\n    }\n\n    .dataframe thead th {\n        text-align: right;\n    }\n</style>\n<table border=\"1\" class=\"dataframe\">\n  <thead>\n    <tr style=\"text-align: right;\">\n      <th></th>\n      <th>Links</th>\n      <th>Categories</th>\n      <th>Images</th>\n      <th>References</th>\n      <th>Length</th>\n      <th>Quality</th>\n    </tr>\n  </thead>\n  <tbody>\n    <tr>\n      <th>650</th>\n      <td>804</td>\n      <td>28</td>\n      <td>43</td>\n      <td>235</td>\n      <td>45746</td>\n      <td>4.0</td>\n    </tr>\n    <tr>\n      <th>668</th>\n      <td>518</td>\n      <td>34</td>\n      <td>49</td>\n      <td>749</td>\n      <td>53690</td>\n      <td>4.0</td>\n    </tr>\n    <tr>\n      <th>364</th>\n      <td>1591</td>\n      <td>22</td>\n      <td>37</td>\n      <td>87</td>\n      <td>52472</td>\n      <td>3.0</td>\n    </tr>\n    <tr>\n      <th>676</th>\n      <td>645</td>\n      <td>21</td>\n      <td>33</td>\n      <td>173</td>\n      <td>37514</td>\n      <td>2.0</td>\n    </tr>\n    <tr>\n      <th>698</th>\n      <td>996</td>\n      <td>27</td>\n      <td>30</td>\n      <td>428</td>\n      <td>56023</td>\n      <td>5.0</td>\n    </tr>\n  </tbody>\n</table>\n</div>"
     },
     "execution_count": 31,
     "metadata": {},
     "output_type": "execute_result"
    }
   ],
   "source": [
    "X_test.head()"
   ],
   "metadata": {
    "collapsed": false,
    "pycharm": {
     "name": "#%%\n"
    }
   }
  },
  {
   "cell_type": "code",
   "execution_count": 32,
   "outputs": [
    {
     "data": {
      "text/plain": "      Links  Categories    Images  References    Length  Quality\n0  0.181792    0.146341  0.138462    0.163424  0.303988     0.75\n1  0.099914    0.195122  0.161538    0.563424  0.371028     0.75\n2  0.407100    0.097561  0.115385    0.048249  0.360749     0.50\n3  0.136273    0.089431  0.100000    0.115175  0.234516     0.25\n4  0.236759    0.138211  0.088462    0.313619  0.390717     1.00",
      "text/html": "<div>\n<style scoped>\n    .dataframe tbody tr th:only-of-type {\n        vertical-align: middle;\n    }\n\n    .dataframe tbody tr th {\n        vertical-align: top;\n    }\n\n    .dataframe thead th {\n        text-align: right;\n    }\n</style>\n<table border=\"1\" class=\"dataframe\">\n  <thead>\n    <tr style=\"text-align: right;\">\n      <th></th>\n      <th>Links</th>\n      <th>Categories</th>\n      <th>Images</th>\n      <th>References</th>\n      <th>Length</th>\n      <th>Quality</th>\n    </tr>\n  </thead>\n  <tbody>\n    <tr>\n      <th>0</th>\n      <td>0.181792</td>\n      <td>0.146341</td>\n      <td>0.138462</td>\n      <td>0.163424</td>\n      <td>0.303988</td>\n      <td>0.75</td>\n    </tr>\n    <tr>\n      <th>1</th>\n      <td>0.099914</td>\n      <td>0.195122</td>\n      <td>0.161538</td>\n      <td>0.563424</td>\n      <td>0.371028</td>\n      <td>0.75</td>\n    </tr>\n    <tr>\n      <th>2</th>\n      <td>0.407100</td>\n      <td>0.097561</td>\n      <td>0.115385</td>\n      <td>0.048249</td>\n      <td>0.360749</td>\n      <td>0.50</td>\n    </tr>\n    <tr>\n      <th>3</th>\n      <td>0.136273</td>\n      <td>0.089431</td>\n      <td>0.100000</td>\n      <td>0.115175</td>\n      <td>0.234516</td>\n      <td>0.25</td>\n    </tr>\n    <tr>\n      <th>4</th>\n      <td>0.236759</td>\n      <td>0.138211</td>\n      <td>0.088462</td>\n      <td>0.313619</td>\n      <td>0.390717</td>\n      <td>1.00</td>\n    </tr>\n  </tbody>\n</table>\n</div>"
     },
     "execution_count": 32,
     "metadata": {},
     "output_type": "execute_result"
    }
   ],
   "source": [
    "X_test_nrml = pd.DataFrame(min_max_scaler.fit_transform(X_test),columns = X_test.columns)\n",
    "X_test_nrml.head()"
   ],
   "metadata": {
    "collapsed": false,
    "pycharm": {
     "name": "#%%\n"
    }
   }
  },
  {
   "cell_type": "markdown",
   "source": [
    "# Support Vector Machine\n",
    "\n",
    "[SVMDocumentation](https://scikit-learn.org/stable/modules/svm.html)"
   ],
   "metadata": {
    "collapsed": false,
    "pycharm": {
     "name": "#%% md\n"
    }
   }
  },
  {
   "cell_type": "markdown",
   "source": [
    "## Normalized"
   ],
   "metadata": {
    "collapsed": false,
    "pycharm": {
     "name": "#%% md\n"
    }
   }
  },
  {
   "cell_type": "code",
   "execution_count": 33,
   "outputs": [
    {
     "data": {
      "text/plain": "SVC(kernel='linear')",
      "text/html": "<style>#sk-container-id-1 {color: black;background-color: white;}#sk-container-id-1 pre{padding: 0;}#sk-container-id-1 div.sk-toggleable {background-color: white;}#sk-container-id-1 label.sk-toggleable__label {cursor: pointer;display: block;width: 100%;margin-bottom: 0;padding: 0.3em;box-sizing: border-box;text-align: center;}#sk-container-id-1 label.sk-toggleable__label-arrow:before {content: \"▸\";float: left;margin-right: 0.25em;color: #696969;}#sk-container-id-1 label.sk-toggleable__label-arrow:hover:before {color: black;}#sk-container-id-1 div.sk-estimator:hover label.sk-toggleable__label-arrow:before {color: black;}#sk-container-id-1 div.sk-toggleable__content {max-height: 0;max-width: 0;overflow: hidden;text-align: left;background-color: #f0f8ff;}#sk-container-id-1 div.sk-toggleable__content pre {margin: 0.2em;color: black;border-radius: 0.25em;background-color: #f0f8ff;}#sk-container-id-1 input.sk-toggleable__control:checked~div.sk-toggleable__content {max-height: 200px;max-width: 100%;overflow: auto;}#sk-container-id-1 input.sk-toggleable__control:checked~label.sk-toggleable__label-arrow:before {content: \"▾\";}#sk-container-id-1 div.sk-estimator input.sk-toggleable__control:checked~label.sk-toggleable__label {background-color: #d4ebff;}#sk-container-id-1 div.sk-label input.sk-toggleable__control:checked~label.sk-toggleable__label {background-color: #d4ebff;}#sk-container-id-1 input.sk-hidden--visually {border: 0;clip: rect(1px 1px 1px 1px);clip: rect(1px, 1px, 1px, 1px);height: 1px;margin: -1px;overflow: hidden;padding: 0;position: absolute;width: 1px;}#sk-container-id-1 div.sk-estimator {font-family: monospace;background-color: #f0f8ff;border: 1px dotted black;border-radius: 0.25em;box-sizing: border-box;margin-bottom: 0.5em;}#sk-container-id-1 div.sk-estimator:hover {background-color: #d4ebff;}#sk-container-id-1 div.sk-parallel-item::after {content: \"\";width: 100%;border-bottom: 1px solid gray;flex-grow: 1;}#sk-container-id-1 div.sk-label:hover label.sk-toggleable__label {background-color: #d4ebff;}#sk-container-id-1 div.sk-serial::before {content: \"\";position: absolute;border-left: 1px solid gray;box-sizing: border-box;top: 0;bottom: 0;left: 50%;z-index: 0;}#sk-container-id-1 div.sk-serial {display: flex;flex-direction: column;align-items: center;background-color: white;padding-right: 0.2em;padding-left: 0.2em;position: relative;}#sk-container-id-1 div.sk-item {position: relative;z-index: 1;}#sk-container-id-1 div.sk-parallel {display: flex;align-items: stretch;justify-content: center;background-color: white;position: relative;}#sk-container-id-1 div.sk-item::before, #sk-container-id-1 div.sk-parallel-item::before {content: \"\";position: absolute;border-left: 1px solid gray;box-sizing: border-box;top: 0;bottom: 0;left: 50%;z-index: -1;}#sk-container-id-1 div.sk-parallel-item {display: flex;flex-direction: column;z-index: 1;position: relative;background-color: white;}#sk-container-id-1 div.sk-parallel-item:first-child::after {align-self: flex-end;width: 50%;}#sk-container-id-1 div.sk-parallel-item:last-child::after {align-self: flex-start;width: 50%;}#sk-container-id-1 div.sk-parallel-item:only-child::after {width: 0;}#sk-container-id-1 div.sk-dashed-wrapped {border: 1px dashed gray;margin: 0 0.4em 0.5em 0.4em;box-sizing: border-box;padding-bottom: 0.4em;background-color: white;}#sk-container-id-1 div.sk-label label {font-family: monospace;font-weight: bold;display: inline-block;line-height: 1.2em;}#sk-container-id-1 div.sk-label-container {text-align: center;}#sk-container-id-1 div.sk-container {/* jupyter's `normalize.less` sets `[hidden] { display: none; }` but bootstrap.min.css set `[hidden] { display: none !important; }` so we also need the `!important` here to be able to override the default hidden behavior on the sphinx rendered scikit-learn.org. See: https://github.com/scikit-learn/scikit-learn/issues/21755 */display: inline-block !important;position: relative;}#sk-container-id-1 div.sk-text-repr-fallback {display: none;}</style><div id=\"sk-container-id-1\" class=\"sk-top-container\"><div class=\"sk-text-repr-fallback\"><pre>SVC(kernel=&#x27;linear&#x27;)</pre><b>In a Jupyter environment, please rerun this cell to show the HTML representation or trust the notebook. <br />On GitHub, the HTML representation is unable to render, please try loading this page with nbviewer.org.</b></div><div class=\"sk-container\" hidden><div class=\"sk-item\"><div class=\"sk-estimator sk-toggleable\"><input class=\"sk-toggleable__control sk-hidden--visually\" id=\"sk-estimator-id-1\" type=\"checkbox\" checked><label for=\"sk-estimator-id-1\" class=\"sk-toggleable__label sk-toggleable__label-arrow\">SVC</label><div class=\"sk-toggleable__content\"><pre>SVC(kernel=&#x27;linear&#x27;)</pre></div></div></div></div></div>"
     },
     "execution_count": 33,
     "metadata": {},
     "output_type": "execute_result"
    }
   ],
   "source": [
    "from sklearn.svm import SVC\n",
    "\n",
    "svm_nrml = SVC(kernel=\"linear\")\n",
    "svm_nrml.fit(X_train_nrml, Y_train)"
   ],
   "metadata": {
    "collapsed": false,
    "pycharm": {
     "name": "#%%\n"
    }
   }
  },
  {
   "cell_type": "code",
   "execution_count": 34,
   "outputs": [
    {
     "data": {
      "text/plain": "0.4328732747804266"
     },
     "execution_count": 34,
     "metadata": {},
     "output_type": "execute_result"
    }
   ],
   "source": [
    "svm_nrml.score(X_train_nrml, Y_train)"
   ],
   "metadata": {
    "collapsed": false,
    "pycharm": {
     "name": "#%%\n"
    }
   }
  },
  {
   "cell_type": "code",
   "execution_count": 35,
   "outputs": [
    {
     "data": {
      "text/plain": "0.48"
     },
     "execution_count": 35,
     "metadata": {},
     "output_type": "execute_result"
    }
   ],
   "source": [
    "svm_nrml.score(X_test_nrml, Y_test)"
   ],
   "metadata": {
    "collapsed": false,
    "pycharm": {
     "name": "#%%\n"
    }
   }
  },
  {
   "cell_type": "markdown",
   "source": [
    "### Confusion matrix\n",
    "[Documentation](https://scikit-learn.org/stable/modules/generated/sklearn.metrics.confusion_matrix.html#sklearn.metrics.confusion_matrix)"
   ],
   "metadata": {
    "collapsed": false,
    "pycharm": {
     "name": "#%% md\n"
    }
   }
  },
  {
   "cell_type": "code",
   "execution_count": 36,
   "outputs": [
    {
     "data": {
      "text/plain": "array([[ 0,  0,  0,  0,  1,  0,  0,  0,  4,  7,  0],\n       [ 0,  0,  0,  0,  0,  0,  0,  0,  5,  2,  0],\n       [ 0,  0, 12,  0,  1,  0,  1,  0,  3,  9,  0],\n       [ 0,  0,  0,  0,  0,  0,  0,  0,  6,  1,  0],\n       [ 0,  0,  1,  0,  7,  0,  1,  0,  3,  8,  0],\n       [ 0,  0,  0,  0,  0,  0,  0,  0,  1,  0,  0],\n       [ 0,  0,  0,  0,  0,  0, 24,  0,  0,  0,  0],\n       [ 0,  0,  0,  0,  6,  0,  0,  0,  4,  9,  0],\n       [ 0,  0,  0,  0,  0,  0,  0,  0, 40,  3,  0],\n       [ 0,  0,  1,  0,  1,  0,  4,  0,  8, 13,  0],\n       [ 0,  0,  0,  0,  0,  0,  0,  0, 10,  4,  0]], dtype=int64)"
     },
     "execution_count": 36,
     "metadata": {},
     "output_type": "execute_result"
    }
   ],
   "source": [
    "from sklearn.metrics import confusion_matrix\n",
    "\n",
    "y_pred_nrml = svm_nrml.predict(X_test_nrml)\n",
    "cm = confusion_matrix(Y_test, y_pred_nrml)\n",
    "cm\n",
    "\n",
    "# Include the text\n",
    "# Problems w class imbalance"
   ],
   "metadata": {
    "collapsed": false,
    "pycharm": {
     "name": "#%%\n"
    }
   }
  },
  {
   "cell_type": "markdown",
   "source": [
    "[Display Documentation](https://scikit-learn.org/stable/modules/generated/sklearn.metrics.ConfusionMatrixDisplay.html#sklearn.metrics.ConfusionMatrixDisplay)"
   ],
   "metadata": {
    "collapsed": false,
    "pycharm": {
     "name": "#%% md\n"
    }
   }
  },
  {
   "cell_type": "code",
   "execution_count": 37,
   "outputs": [
    {
     "data": {
      "text/plain": "<Figure size 640x480 with 2 Axes>",
      "image/png": "[encoded data removed]"
     },
     "metadata": {},
     "output_type": "display_data"
    }
   ],
   "source": [
    "from sklearn.metrics import ConfusionMatrixDisplay\n",
    "\n",
    "disp = ConfusionMatrixDisplay(confusion_matrix=cm, display_labels=svm_nrml.classes_)\n",
    "disp.plot(xticks_rotation=90)\n",
    "\n",
    "plt.tight_layout()"
   ],
   "metadata": {
    "collapsed": false,
    "pycharm": {
     "name": "#%%\n"
    }
   }
  },
  {
   "cell_type": "markdown",
   "source": [
    "## Standardized"
   ],
   "metadata": {
    "collapsed": false,
    "pycharm": {
     "name": "#%% md\n"
    }
   }
  },
  {
   "cell_type": "code",
   "execution_count": 38,
   "outputs": [
    {
     "data": {
      "text/plain": "SVC(kernel='linear')",
      "text/html": "<style>#sk-container-id-2 {color: black;background-color: white;}#sk-container-id-2 pre{padding: 0;}#sk-container-id-2 div.sk-toggleable {background-color: white;}#sk-container-id-2 label.sk-toggleable__label {cursor: pointer;display: block;width: 100%;margin-bottom: 0;padding: 0.3em;box-sizing: border-box;text-align: center;}#sk-container-id-2 label.sk-toggleable__label-arrow:before {content: \"▸\";float: left;margin-right: 0.25em;color: #696969;}#sk-container-id-2 label.sk-toggleable__label-arrow:hover:before {color: black;}#sk-container-id-2 div.sk-estimator:hover label.sk-toggleable__label-arrow:before {color: black;}#sk-container-id-2 div.sk-toggleable__content {max-height: 0;max-width: 0;overflow: hidden;text-align: left;background-color: #f0f8ff;}#sk-container-id-2 div.sk-toggleable__content pre {margin: 0.2em;color: black;border-radius: 0.25em;background-color: #f0f8ff;}#sk-container-id-2 input.sk-toggleable__control:checked~div.sk-toggleable__content {max-height: 200px;max-width: 100%;overflow: auto;}#sk-container-id-2 input.sk-toggleable__control:checked~label.sk-toggleable__label-arrow:before {content: \"▾\";}#sk-container-id-2 div.sk-estimator input.sk-toggleable__control:checked~label.sk-toggleable__label {background-color: #d4ebff;}#sk-container-id-2 div.sk-label input.sk-toggleable__control:checked~label.sk-toggleable__label {background-color: #d4ebff;}#sk-container-id-2 input.sk-hidden--visually {border: 0;clip: rect(1px 1px 1px 1px);clip: rect(1px, 1px, 1px, 1px);height: 1px;margin: -1px;overflow: hidden;padding: 0;position: absolute;width: 1px;}#sk-container-id-2 div.sk-estimator {font-family: monospace;background-color: #f0f8ff;border: 1px dotted black;border-radius: 0.25em;box-sizing: border-box;margin-bottom: 0.5em;}#sk-container-id-2 div.sk-estimator:hover {background-color: #d4ebff;}#sk-container-id-2 div.sk-parallel-item::after {content: \"\";width: 100%;border-bottom: 1px solid gray;flex-grow: 1;}#sk-container-id-2 div.sk-label:hover label.sk-toggleable__label {background-color: #d4ebff;}#sk-container-id-2 div.sk-serial::before {content: \"\";position: absolute;border-left: 1px solid gray;box-sizing: border-box;top: 0;bottom: 0;left: 50%;z-index: 0;}#sk-container-id-2 div.sk-serial {display: flex;flex-direction: column;align-items: center;background-color: white;padding-right: 0.2em;padding-left: 0.2em;position: relative;}#sk-container-id-2 div.sk-item {position: relative;z-index: 1;}#sk-container-id-2 div.sk-parallel {display: flex;align-items: stretch;justify-content: center;background-color: white;position: relative;}#sk-container-id-2 div.sk-item::before, #sk-container-id-2 div.sk-parallel-item::before {content: \"\";position: absolute;border-left: 1px solid gray;box-sizing: border-box;top: 0;bottom: 0;left: 50%;z-index: -1;}#sk-container-id-2 div.sk-parallel-item {display: flex;flex-direction: column;z-index: 1;position: relative;background-color: white;}#sk-container-id-2 div.sk-parallel-item:first-child::after {align-self: flex-end;width: 50%;}#sk-container-id-2 div.sk-parallel-item:last-child::after {align-self: flex-start;width: 50%;}#sk-container-id-2 div.sk-parallel-item:only-child::after {width: 0;}#sk-container-id-2 div.sk-dashed-wrapped {border: 1px dashed gray;margin: 0 0.4em 0.5em 0.4em;box-sizing: border-box;padding-bottom: 0.4em;background-color: white;}#sk-container-id-2 div.sk-label label {font-family: monospace;font-weight: bold;display: inline-block;line-height: 1.2em;}#sk-container-id-2 div.sk-label-container {text-align: center;}#sk-container-id-2 div.sk-container {/* jupyter's `normalize.less` sets `[hidden] { display: none; }` but bootstrap.min.css set `[hidden] { display: none !important; }` so we also need the `!important` here to be able to override the default hidden behavior on the sphinx rendered scikit-learn.org. See: https://github.com/scikit-learn/scikit-learn/issues/21755 */display: inline-block !important;position: relative;}#sk-container-id-2 div.sk-text-repr-fallback {display: none;}</style><div id=\"sk-container-id-2\" class=\"sk-top-container\"><div class=\"sk-text-repr-fallback\"><pre>SVC(kernel=&#x27;linear&#x27;)</pre><b>In a Jupyter environment, please rerun this cell to show the HTML representation or trust the notebook. <br />On GitHub, the HTML representation is unable to render, please try loading this page with nbviewer.org.</b></div><div class=\"sk-container\" hidden><div class=\"sk-item\"><div class=\"sk-estimator sk-toggleable\"><input class=\"sk-toggleable__control sk-hidden--visually\" id=\"sk-estimator-id-2\" type=\"checkbox\" checked><label for=\"sk-estimator-id-2\" class=\"sk-toggleable__label sk-toggleable__label-arrow\">SVC</label><div class=\"sk-toggleable__content\"><pre>SVC(kernel=&#x27;linear&#x27;)</pre></div></div></div></div></div>"
     },
     "execution_count": 38,
     "metadata": {},
     "output_type": "execute_result"
    }
   ],
   "source": [
    "svm_std = SVC(kernel=\"linear\")\n",
    "svm_std.fit(X_train_std, Y_train)"
   ],
   "metadata": {
    "collapsed": false,
    "pycharm": {
     "name": "#%%\n"
    }
   }
  },
  {
   "cell_type": "code",
   "execution_count": 39,
   "outputs": [
    {
     "data": {
      "text/plain": "0.48180677540777916"
     },
     "execution_count": 39,
     "metadata": {},
     "output_type": "execute_result"
    }
   ],
   "source": [
    "svm_std.score(X_train_std, Y_train)"
   ],
   "metadata": {
    "collapsed": false,
    "pycharm": {
     "name": "#%%\n"
    }
   }
  },
  {
   "cell_type": "code",
   "execution_count": 40,
   "outputs": [
    {
     "data": {
      "text/plain": "0.51"
     },
     "execution_count": 40,
     "metadata": {},
     "output_type": "execute_result"
    }
   ],
   "source": [
    "svm_std.score(X_test_std, Y_test)"
   ],
   "metadata": {
    "collapsed": false,
    "pycharm": {
     "name": "#%%\n"
    }
   }
  },
  {
   "cell_type": "markdown",
   "source": [
    "### Confusion matrix\n",
    "[Documentation](https://scikit-learn.org/stable/modules/generated/sklearn.metrics.confusion_matrix.html#sklearn.metrics.confusion_matrix)"
   ],
   "metadata": {
    "collapsed": false,
    "pycharm": {
     "name": "#%% md\n"
    }
   }
  },
  {
   "cell_type": "code",
   "execution_count": 41,
   "outputs": [
    {
     "data": {
      "text/plain": "array([[ 0,  0,  0,  0,  2,  0,  0,  1,  4,  4,  1],\n       [ 0,  0,  1,  0,  0,  0,  0,  0,  3,  3,  0],\n       [ 0,  0, 15,  0,  0,  0,  0,  4,  3,  4,  0],\n       [ 0,  0,  0,  1,  0,  0,  0,  0,  5,  1,  0],\n       [ 1,  0,  0,  0,  4,  0,  1,  2,  4,  6,  2],\n       [ 0,  0,  0,  0,  0,  0,  0,  0,  1,  0,  0],\n       [ 0,  0,  1,  0,  0,  0, 23,  0,  0,  0,  0],\n       [ 0,  0,  0,  0,  3,  0,  0,  8,  3,  5,  0],\n       [ 0,  0,  0,  1,  0,  0,  0,  1, 40,  1,  0],\n       [ 0,  0,  3,  0,  1,  0,  3,  1,  8, 11,  0],\n       [ 0,  0,  0,  0,  0,  0,  0,  0, 10,  4,  0]], dtype=int64)"
     },
     "execution_count": 41,
     "metadata": {},
     "output_type": "execute_result"
    }
   ],
   "source": [
    "y_pred_std = svm_std.predict(X_test_std)\n",
    "cm = confusion_matrix(Y_test, y_pred_std)\n",
    "cm"
   ],
   "metadata": {
    "collapsed": false,
    "pycharm": {
     "name": "#%%\n"
    }
   }
  },
  {
   "cell_type": "markdown",
   "source": [
    "[Display Documentation](https://scikit-learn.org/stable/modules/generated/sklearn.metrics.ConfusionMatrixDisplay.html#sklearn.metrics.ConfusionMatrixDisplay)"
   ],
   "metadata": {
    "collapsed": false,
    "pycharm": {
     "name": "#%% md\n"
    }
   }
  },
  {
   "cell_type": "code",
   "execution_count": 42,
   "outputs": [
    {
     "data": {
      "text/plain": "<Figure size 640x480 with 2 Axes>",
      "image/png": "[encoded data removed]"
     },
     "metadata": {},
     "output_type": "display_data"
    }
   ],
   "source": [
    "disp = ConfusionMatrixDisplay(confusion_matrix=cm, display_labels=svm_std.classes_)\n",
    "disp.plot(xticks_rotation=90)\n",
    "\n",
    "plt.tight_layout()"
   ],
   "metadata": {
    "collapsed": false,
    "pycharm": {
     "name": "#%%\n"
    }
   }
  }
 ],
 "metadata": {
  "kernelspec": {
   "display_name": "Python 3 (ipykernel)",
   "language": "python",
   "name": "python3"
  },
  "language_info": {
   "codemirror_mode": {
    "name": "ipython",
    "version": 3
   },
   "file_extension": ".py",
   "mimetype": "text/x-python",
   "name": "python",
   "nbconvert_exporter": "python",
   "pygments_lexer": "ipython3",
   "version": "3.10.7"
  }
 },
 "nbformat": 4,
 "nbformat_minor": 1
}