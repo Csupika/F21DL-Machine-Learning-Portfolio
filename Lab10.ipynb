{
 "cells": [
  {
   "cell_type": "code",
   "execution_count": 1,
   "outputs": [],
   "source": [
    "# !pip show tensorflow\n",
    "# !pip show keras"
   ],
   "metadata": {
    "collapsed": false,
    "pycharm": {
     "name": "#%%\n"
    }
   }
  },
  {
   "cell_type": "code",
   "execution_count": 2,
   "outputs": [],
   "source": [
    "# !pip install tensorflow\n",
    "# !pip install keras"
   ],
   "metadata": {
    "collapsed": false,
    "pycharm": {
     "name": "#%%\n"
    }
   }
  },
  {
   "cell_type": "code",
   "execution_count": 3,
   "metadata": {
    "pycharm": {
     "name": "#%%\n"
    }
   },
   "outputs": [],
   "source": [
    "import numpy as np\n",
    "import time\n",
    "import keras\n",
    "import pandas as pd\n",
    "from sklearn.model_selection import train_test_split\n",
    "from sklearn.metrics import confusion_matrix"
   ]
  },
  {
   "cell_type": "code",
   "execution_count": 4,
   "metadata": {
    "collapsed": true,
    "pycharm": {
     "name": "#%%\n"
    }
   },
   "outputs": [],
   "source": [
    "X = np.squeeze(np.load('src/smiley_X.npy'))\n",
    "y = np.load('src/smiley_y.npy')"
   ]
  },
  {
   "cell_type": "code",
   "execution_count": 5,
   "outputs": [
    {
     "data": {
      "text/plain": "(144, 9, 9)"
     },
     "execution_count": 5,
     "metadata": {},
     "output_type": "execute_result"
    }
   ],
   "source": [
    "X.shape"
   ],
   "metadata": {
    "collapsed": false,
    "pycharm": {
     "name": "#%%\n"
    }
   }
  },
  {
   "cell_type": "markdown",
   "source": [
    "# Binary Classification Model\n"
   ],
   "metadata": {
    "collapsed": false,
    "pycharm": {
     "name": "#%% md\n"
    }
   }
  },
  {
   "cell_type": "markdown",
   "source": [
    "### Test Train Split"
   ],
   "metadata": {
    "collapsed": false,
    "pycharm": {
     "name": "#%% md\n"
    }
   }
  },
  {
   "cell_type": "code",
   "execution_count": 6,
   "outputs": [],
   "source": [
    "x_train, x_test, y_train, y_test = train_test_split(X, y, test_size=0.2, random_state=5)"
   ],
   "metadata": {
    "collapsed": false,
    "pycharm": {
     "name": "#%%\n"
    }
   }
  },
  {
   "cell_type": "code",
   "execution_count": 7,
   "outputs": [
    {
     "data": {
      "text/plain": "(29,)"
     },
     "execution_count": 7,
     "metadata": {},
     "output_type": "execute_result"
    }
   ],
   "source": [
    "y_test.shape"
   ],
   "metadata": {
    "collapsed": false,
    "pycharm": {
     "name": "#%%\n"
    }
   }
  },
  {
   "cell_type": "markdown",
   "source": [
    "Sigmoid is used for the output layer and there's only 1 output node."
   ],
   "metadata": {
    "collapsed": false,
    "pycharm": {
     "name": "#%% md\n"
    }
   }
  },
  {
   "cell_type": "code",
   "execution_count": 8,
   "outputs": [],
   "source": [
    "model = keras.models.Sequential([\n",
    "    keras.layers.Flatten(input_shape=[9, 9]),\n",
    "    keras.layers.Dense(30, activation=\"relu\"),\n",
    "    keras.layers.Dense(10, activation=\"relu\"),\n",
    "    keras.layers.Dense(1, activation=\"sigmoid\")\n",
    "])"
   ],
   "metadata": {
    "collapsed": false,
    "pycharm": {
     "name": "#%%\n"
    }
   }
  },
  {
   "cell_type": "code",
   "execution_count": 9,
   "outputs": [],
   "source": [
    "model.compile(loss=keras.losses.BinaryCrossentropy(from_logits=True),\n",
    "              optimizer=keras.optimizers.SGD(),\n",
    "              metrics=[keras.metrics.binary_accuracy])"
   ],
   "metadata": {
    "collapsed": false,
    "pycharm": {
     "name": "#%%\n"
    }
   }
  },
  {
   "cell_type": "code",
   "execution_count": 10,
   "outputs": [
    {
     "name": "stdout",
     "output_type": "stream",
     "text": [
      "Epoch 1/10\n"
     ]
    },
    {
     "name": "stderr",
     "output_type": "stream",
     "text": [
      "C:\\Users\\Peter\\OneDrive - Heriot-Watt University\\HW\\Semester\\3\\F21DL - ML\\notebook\\venv\\lib\\site-packages\\keras\\backend.py:5673: UserWarning: \"`binary_crossentropy` received `from_logits=True`, but the `output` argument was produced by a Sigmoid activation and thus does not represent logits. Was this intended?\n",
      "  output, from_logits = _get_logits(\n"
     ]
    },
    {
     "name": "stdout",
     "output_type": "stream",
     "text": [
      "4/4 [==============================] - 1s 3ms/step - loss: 0.6963 - binary_accuracy: 0.4870\n",
      "Epoch 2/10\n",
      "4/4 [==============================] - 0s 3ms/step - loss: 0.6890 - binary_accuracy: 0.4870\n",
      "Epoch 3/10\n",
      "4/4 [==============================] - 0s 3ms/step - loss: 0.6818 - binary_accuracy: 0.5130\n",
      "Epoch 4/10\n",
      "4/4 [==============================] - 0s 4ms/step - loss: 0.6745 - binary_accuracy: 0.5304\n",
      "Epoch 5/10\n",
      "4/4 [==============================] - 0s 6ms/step - loss: 0.6678 - binary_accuracy: 0.5478\n",
      "Epoch 6/10\n",
      "4/4 [==============================] - 0s 5ms/step - loss: 0.6609 - binary_accuracy: 0.5739\n",
      "Epoch 7/10\n",
      "4/4 [==============================] - 0s 3ms/step - loss: 0.6539 - binary_accuracy: 0.6261\n",
      "Epoch 8/10\n",
      "4/4 [==============================] - 0s 4ms/step - loss: 0.6471 - binary_accuracy: 0.6609\n",
      "Epoch 9/10\n",
      "4/4 [==============================] - 0s 3ms/step - loss: 0.6410 - binary_accuracy: 0.6783\n",
      "Epoch 10/10\n",
      "4/4 [==============================] - 0s 3ms/step - loss: 0.6346 - binary_accuracy: 0.7130\n"
     ]
    },
    {
     "data": {
      "text/plain": "<keras.callbacks.History at 0x23224b8b4c0>"
     },
     "execution_count": 10,
     "metadata": {},
     "output_type": "execute_result"
    }
   ],
   "source": [
    "model.fit(x_train, y_train, epochs=10)"
   ],
   "metadata": {
    "collapsed": false,
    "pycharm": {
     "name": "#%%\n"
    }
   }
  },
  {
   "cell_type": "markdown",
   "source": [
    "### Metrics\n",
    "Loss and Accuracy"
   ],
   "metadata": {
    "collapsed": false,
    "pycharm": {
     "name": "#%% md\n"
    }
   }
  },
  {
   "cell_type": "code",
   "execution_count": 11,
   "outputs": [
    {
     "name": "stdout",
     "output_type": "stream",
     "text": [
      "1/1 [==============================] - 0s 313ms/step - loss: 0.6090 - binary_accuracy: 0.6897\n"
     ]
    },
    {
     "data": {
      "text/plain": "[0.6089975237846375, 0.6896551847457886]"
     },
     "execution_count": 11,
     "metadata": {},
     "output_type": "execute_result"
    }
   ],
   "source": [
    "model.evaluate(x_test, y_test)"
   ],
   "metadata": {
    "collapsed": false,
    "pycharm": {
     "name": "#%%\n"
    }
   }
  },
  {
   "cell_type": "markdown",
   "source": [
    "### Confusion Matrix"
   ],
   "metadata": {
    "collapsed": false,
    "pycharm": {
     "name": "#%% md\n"
    }
   }
  },
  {
   "cell_type": "code",
   "execution_count": 12,
   "outputs": [
    {
     "name": "stdout",
     "output_type": "stream",
     "text": [
      "1/1 [==============================] - 0s 187ms/step\n"
     ]
    },
    {
     "data": {
      "text/plain": "array([[0.62068966, 0.        ],\n       [0.37931034, 0.        ]])"
     },
     "execution_count": 12,
     "metadata": {},
     "output_type": "execute_result"
    }
   ],
   "source": [
    "#Predict\n",
    "y_prediction = np.argmax(model.predict(x_test), axis=1)\n",
    "\n",
    "#Create confusion matrix and normalizes it over predicted (columns)\n",
    "confusion_matrix(y_test, y_prediction , normalize='pred')"
   ],
   "metadata": {
    "collapsed": false,
    "pycharm": {
     "name": "#%%\n"
    }
   }
  },
  {
   "cell_type": "markdown",
   "source": [
    "# 🔷 Q: I don't get why it's 0 here for the confusion matrix?"
   ],
   "metadata": {
    "collapsed": false,
    "pycharm": {
     "name": "#%% md\n"
    }
   }
  },
  {
   "cell_type": "markdown",
   "source": [
    "# Categorical Classification Model"
   ],
   "metadata": {
    "collapsed": false,
    "pycharm": {
     "name": "#%% md\n"
    }
   }
  },
  {
   "cell_type": "markdown",
   "source": [
    "### One-hot encode y and new test train split"
   ],
   "metadata": {
    "collapsed": false,
    "pycharm": {
     "name": "#%% md\n"
    }
   }
  },
  {
   "cell_type": "code",
   "execution_count": 13,
   "outputs": [],
   "source": [
    "y = keras.utils.to_categorical(y-1, num_classes = 2)"
   ],
   "metadata": {
    "collapsed": false,
    "pycharm": {
     "name": "#%%\n"
    }
   }
  },
  {
   "cell_type": "code",
   "execution_count": 14,
   "outputs": [],
   "source": [
    "x_train, x_test, y_train, y_test = train_test_split(X, y, test_size=0.2, random_state=5)"
   ],
   "metadata": {
    "collapsed": false,
    "pycharm": {
     "name": "#%%\n"
    }
   }
  },
  {
   "cell_type": "code",
   "execution_count": 15,
   "outputs": [
    {
     "name": "stdout",
     "output_type": "stream",
     "text": [
      "Epoch 1/10\n",
      "4/4 [==============================] - 2s 3ms/step - loss: 0.7183 - categorical_accuracy: 0.4783 - true_positives: 55.0000 - false_positives: 60.0000 - true_negatives: 55.0000 - false_negatives: 60.0000 - precision: 0.4783 - recall: 0.4783\n",
      "Epoch 2/10\n",
      "4/4 [==============================] - 0s 3ms/step - loss: 0.7023 - categorical_accuracy: 0.4957 - true_positives: 57.0000 - false_positives: 58.0000 - true_negatives: 57.0000 - false_negatives: 58.0000 - precision: 0.4957 - recall: 0.4957\n",
      "Epoch 3/10\n",
      "4/4 [==============================] - 0s 4ms/step - loss: 0.6875 - categorical_accuracy: 0.4870 - true_positives: 56.0000 - false_positives: 59.0000 - true_negatives: 56.0000 - false_negatives: 59.0000 - precision: 0.4870 - recall: 0.4870\n",
      "Epoch 4/10\n",
      "4/4 [==============================] - 0s 5ms/step - loss: 0.6756 - categorical_accuracy: 0.4957 - true_positives: 57.0000 - false_positives: 58.0000 - true_negatives: 57.0000 - false_negatives: 58.0000 - precision: 0.4957 - recall: 0.4957\n",
      "Epoch 5/10\n",
      "4/4 [==============================] - 0s 4ms/step - loss: 0.6652 - categorical_accuracy: 0.5130 - true_positives: 59.0000 - false_positives: 56.0000 - true_negatives: 59.0000 - false_negatives: 56.0000 - precision: 0.5130 - recall: 0.5130\n",
      "Epoch 6/10\n",
      "4/4 [==============================] - 0s 4ms/step - loss: 0.6561 - categorical_accuracy: 0.5217 - true_positives: 60.0000 - false_positives: 55.0000 - true_negatives: 60.0000 - false_negatives: 55.0000 - precision: 0.5217 - recall: 0.5217\n",
      "Epoch 7/10\n",
      "4/4 [==============================] - 0s 5ms/step - loss: 0.6482 - categorical_accuracy: 0.5304 - true_positives: 61.0000 - false_positives: 54.0000 - true_negatives: 61.0000 - false_negatives: 54.0000 - precision: 0.5304 - recall: 0.5304\n",
      "Epoch 8/10\n",
      "4/4 [==============================] - 0s 4ms/step - loss: 0.6403 - categorical_accuracy: 0.5391 - true_positives: 62.0000 - false_positives: 53.0000 - true_negatives: 62.0000 - false_negatives: 53.0000 - precision: 0.5391 - recall: 0.5391\n",
      "Epoch 9/10\n",
      "4/4 [==============================] - 0s 4ms/step - loss: 0.6328 - categorical_accuracy: 0.5565 - true_positives: 64.0000 - false_positives: 51.0000 - true_negatives: 64.0000 - false_negatives: 51.0000 - precision: 0.5565 - recall: 0.5565\n",
      "Epoch 10/10\n",
      "4/4 [==============================] - 0s 3ms/step - loss: 0.6258 - categorical_accuracy: 0.5565 - true_positives: 64.0000 - false_positives: 51.0000 - true_negatives: 64.0000 - false_negatives: 51.0000 - precision: 0.5565 - recall: 0.5565\n"
     ]
    },
    {
     "data": {
      "text/plain": "<keras.callbacks.History at 0x23225eb11e0>"
     },
     "execution_count": 15,
     "metadata": {},
     "output_type": "execute_result"
    }
   ],
   "source": [
    "model = keras.models.Sequential([\n",
    "    keras.layers.Flatten(input_shape=[9, 9]),\n",
    "    keras.layers.Dense(30, activation=\"relu\"),\n",
    "    keras.layers.Dense(10, activation=\"relu\"),\n",
    "    keras.layers.Dense(2, activation=\"softmax\")\n",
    "])\n",
    "model.compile(loss=keras.losses.categorical_crossentropy,\n",
    "              optimizer=keras.optimizers.SGD(learning_rate=0.01),\n",
    "              metrics=[keras.metrics.categorical_accuracy, keras.metrics.TruePositives(), keras.metrics.FalsePositives(), keras.metrics.TrueNegatives(), keras.metrics.FalseNegatives(), keras.metrics.Precision(), keras.metrics.Recall()])\n",
    "model.fit(x_train, y_train, epochs=10)\n",
    "# The metrics are for the train data"
   ],
   "metadata": {
    "collapsed": false,
    "pycharm": {
     "name": "#%%\n"
    }
   }
  },
  {
   "cell_type": "markdown",
   "source": [
    "### Metrics\n",
    "Loss, Accuracy, TP, FP, TN, FN, Precision, Recall"
   ],
   "metadata": {
    "collapsed": false,
    "pycharm": {
     "name": "#%% md\n"
    }
   }
  },
  {
   "cell_type": "code",
   "execution_count": 16,
   "outputs": [
    {
     "name": "stdout",
     "output_type": "stream",
     "text": [
      "1/1 [==============================] - 1s 828ms/step - loss: 0.5640 - categorical_accuracy: 0.7241 - true_positives: 21.0000 - false_positives: 8.0000 - true_negatives: 21.0000 - false_negatives: 8.0000 - precision: 0.7241 - recall: 0.7241\n"
     ]
    },
    {
     "data": {
      "text/plain": "[0.5640305280685425,\n 0.7241379022598267,\n 21.0,\n 8.0,\n 21.0,\n 8.0,\n 0.7241379022598267,\n 0.7241379022598267]"
     },
     "execution_count": 16,
     "metadata": {},
     "output_type": "execute_result"
    }
   ],
   "source": [
    "model.evaluate(x_test, y_test)"
   ],
   "metadata": {
    "collapsed": false,
    "pycharm": {
     "name": "#%%\n"
    }
   }
  },
  {
   "cell_type": "markdown",
   "source": [
    "# Experiment With Various Parameters That Control The Learning\n",
    "Configuration Suite"
   ],
   "metadata": {
    "collapsed": false,
    "pycharm": {
     "name": "#%% md\n"
    }
   }
  },
  {
   "cell_type": "code",
   "execution_count": 17,
   "outputs": [],
   "source": [
    "layers_list = [[64,16,2],[32,8,2],[16,4,2],[5,3,2]]\n",
    "η_list = [0.1, 0.01, 0.001, 0.0001, 0.00001]\n",
    "epochs = [3, 5, 10, 50, 100]\n",
    "optimisations = [keras.optimizers.SGD, keras.optimizers.RMSprop, keras.optimizers.Adam, keras.optimizers.Nadam]\n",
    "activations = [\"sigmoid\", \"tanh\", \"relu\", \"LeakyReLU\"]"
   ],
   "metadata": {
    "collapsed": false,
    "pycharm": {
     "name": "#%%\n"
    }
   }
  },
  {
   "cell_type": "code",
   "execution_count": 18,
   "outputs": [],
   "source": [
    "run_config_suit = False\n",
    "file_name = \"df_lab10.pkl\"\n",
    "\n",
    "if run_config_suit:\n",
    "    start = time.time()\n",
    "    list_of_results = []\n",
    "    for layer in layers_list:\n",
    "        for opt in optimisations:\n",
    "            for η in η_list:\n",
    "                for act in activations:\n",
    "                    print(\"\\n####################################################################################\")\n",
    "                    print(\"Layers      Eta Act.    <Optimisation>\")\n",
    "                    print(f\"{layer} {η} {act} {opt}\")\n",
    "                    print(\"Epoch: [Loss, Accuracy, TP, FP, TN, FN, Precision, Recall]\")\n",
    "                    for epoch in epochs:\n",
    "                        model = keras.models.Sequential([\n",
    "                            keras.layers.Flatten(input_shape=[9, 9]),\n",
    "                            keras.layers.Dense(layer[0], activation=act),\n",
    "                            keras.layers.Dense(layer[1], activation=act),\n",
    "                            keras.layers.Dense(2, activation=\"softmax\")\n",
    "                        ])\n",
    "                        model.compile(loss=keras.losses.categorical_crossentropy,\n",
    "                                      optimizer=opt(learning_rate=η),\n",
    "                                      metrics=[keras.metrics.categorical_accuracy, keras.metrics.TruePositives(), keras.metrics.FalsePositives(), keras.metrics.TrueNegatives(), keras.metrics.FalseNegatives(), keras.metrics.Precision(), keras.metrics.Recall()])\n",
    "                        model.fit(x_train, y_train, epochs=epoch, verbose= 0)\n",
    "                        result = model.evaluate(x_test, y_test, verbose= 0)\n",
    "                        config = [layer, opt, η, act, epoch]\n",
    "                        list_of_results.append(result + config)\n",
    "                        print(f\"\\t{epoch}: {result}\")\n",
    "\n",
    "    print(\"\\n\\n############## DONE\")\n",
    "    print(time.time() - start)\n",
    "\n",
    "    labels = [\"Loss\", \"Accuracy\", \"TP\", \"FP\", \"TN\", \"FN\", \"Precision\", \"Recall\", \"Layers\", \"optimiser\", \"η\", \"activation\", \"epoch\"]\n",
    "    df = pd.DataFrame(data = list_of_results, columns=labels)\n",
    "    df.to_pickle(file_name)\n",
    "\n",
    "else:\n",
    "    df = pd.read_pickle(file_name)"
   ],
   "metadata": {
    "collapsed": false,
    "pycharm": {
     "name": "#%%\n"
    }
   }
  },
  {
   "cell_type": "markdown",
   "source": [
    "It took 4414.6s (~1.2hrs) to run the configuration suite on G Drive"
   ],
   "metadata": {
    "collapsed": false,
    "pycharm": {
     "name": "#%% md\n"
    }
   }
  },
  {
   "cell_type": "markdown",
   "source": [
    "Overall 1600 model was generated with different hyperparameters.\n",
    "* layers_list = 4 variation\n",
    "* η_list = 5 variation\n",
    "* epochs = 5 variation\n",
    "* optimisations = 4 variation\n",
    "* activations = 4 variation\n",
    "\n",
    "4 × 5 × 5 × 4 × 4 = 1600.\n",
    "\n",
    "The dataframe holds the metrics for each configuration and the configuration details."
   ],
   "metadata": {
    "collapsed": false,
    "pycharm": {
     "name": "#%% md\n"
    }
   }
  },
  {
   "cell_type": "code",
   "execution_count": 19,
   "outputs": [
    {
     "data": {
      "text/plain": "          Loss  Accuracy    TP    FP    TN    FN  Precision    Recall  \\\n0     0.725694  0.379310  11.0  18.0  11.0  18.0   0.379310  0.379310   \n1     0.708019  0.379310  11.0  18.0  11.0  18.0   0.379310  0.379310   \n2     0.682639  0.413793  12.0  17.0  12.0  17.0   0.413793  0.413793   \n3     0.589108  0.965517  28.0   1.0  28.0   1.0   0.965517  0.965517   \n4     0.084866  1.000000  29.0   0.0  29.0   0.0   1.000000  1.000000   \n...        ...       ...   ...   ...   ...   ...        ...       ...   \n1595  0.562120  0.758621  22.0   7.0  22.0   7.0   0.758621  0.758621   \n1596  0.656760  0.724138  21.0   8.0  21.0   8.0   0.724138  0.724138   \n1597  0.812644  0.275862   8.0  21.0   8.0  21.0   0.275862  0.275862   \n1598  0.824477  0.620690  18.0  11.0  18.0  11.0   0.620690  0.620690   \n1599  0.751345  0.344828  10.0  19.0  10.0  19.0   0.344828  0.344828   \n\n           Layers                                          optimiser        η  \\\n0     [64, 16, 2]  <class 'keras.optimizers.optimizer_v2.gradient...  0.10000   \n1     [64, 16, 2]  <class 'keras.optimizers.optimizer_v2.gradient...  0.10000   \n2     [64, 16, 2]  <class 'keras.optimizers.optimizer_v2.gradient...  0.10000   \n3     [64, 16, 2]  <class 'keras.optimizers.optimizer_v2.gradient...  0.10000   \n4     [64, 16, 2]  <class 'keras.optimizers.optimizer_v2.gradient...  0.10000   \n...           ...                                                ...      ...   \n1595    [5, 3, 2]  <class 'keras.optimizers.optimizer_v2.nadam.Na...  0.00001   \n1596    [5, 3, 2]  <class 'keras.optimizers.optimizer_v2.nadam.Na...  0.00001   \n1597    [5, 3, 2]  <class 'keras.optimizers.optimizer_v2.nadam.Na...  0.00001   \n1598    [5, 3, 2]  <class 'keras.optimizers.optimizer_v2.nadam.Na...  0.00001   \n1599    [5, 3, 2]  <class 'keras.optimizers.optimizer_v2.nadam.Na...  0.00001   \n\n     activation  epoch  \n0       sigmoid      3  \n1       sigmoid      5  \n2       sigmoid     10  \n3       sigmoid     50  \n4       sigmoid    100  \n...         ...    ...  \n1595  LeakyReLU      3  \n1596  LeakyReLU      5  \n1597  LeakyReLU     10  \n1598  LeakyReLU     50  \n1599  LeakyReLU    100  \n\n[1600 rows x 13 columns]",
      "text/html": "<div>\n<style scoped>\n    .dataframe tbody tr th:only-of-type {\n        vertical-align: middle;\n    }\n\n    .dataframe tbody tr th {\n        vertical-align: top;\n    }\n\n    .dataframe thead th {\n        text-align: right;\n    }\n</style>\n<table border=\"1\" class=\"dataframe\">\n  <thead>\n    <tr style=\"text-align: right;\">\n      <th></th>\n      <th>Loss</th>\n      <th>Accuracy</th>\n      <th>TP</th>\n      <th>FP</th>\n      <th>TN</th>\n      <th>FN</th>\n      <th>Precision</th>\n      <th>Recall</th>\n      <th>Layers</th>\n      <th>optimiser</th>\n      <th>η</th>\n      <th>activation</th>\n      <th>epoch</th>\n    </tr>\n  </thead>\n  <tbody>\n    <tr>\n      <th>0</th>\n      <td>0.725694</td>\n      <td>0.379310</td>\n      <td>11.0</td>\n      <td>18.0</td>\n      <td>11.0</td>\n      <td>18.0</td>\n      <td>0.379310</td>\n      <td>0.379310</td>\n      <td>[64, 16, 2]</td>\n      <td>&lt;class 'keras.optimizers.optimizer_v2.gradient...</td>\n      <td>0.10000</td>\n      <td>sigmoid</td>\n      <td>3</td>\n    </tr>\n    <tr>\n      <th>1</th>\n      <td>0.708019</td>\n      <td>0.379310</td>\n      <td>11.0</td>\n      <td>18.0</td>\n      <td>11.0</td>\n      <td>18.0</td>\n      <td>0.379310</td>\n      <td>0.379310</td>\n      <td>[64, 16, 2]</td>\n      <td>&lt;class 'keras.optimizers.optimizer_v2.gradient...</td>\n      <td>0.10000</td>\n      <td>sigmoid</td>\n      <td>5</td>\n    </tr>\n    <tr>\n      <th>2</th>\n      <td>0.682639</td>\n      <td>0.413793</td>\n      <td>12.0</td>\n      <td>17.0</td>\n      <td>12.0</td>\n      <td>17.0</td>\n      <td>0.413793</td>\n      <td>0.413793</td>\n      <td>[64, 16, 2]</td>\n      <td>&lt;class 'keras.optimizers.optimizer_v2.gradient...</td>\n      <td>0.10000</td>\n      <td>sigmoid</td>\n      <td>10</td>\n    </tr>\n    <tr>\n      <th>3</th>\n      <td>0.589108</td>\n      <td>0.965517</td>\n      <td>28.0</td>\n      <td>1.0</td>\n      <td>28.0</td>\n      <td>1.0</td>\n      <td>0.965517</td>\n      <td>0.965517</td>\n      <td>[64, 16, 2]</td>\n      <td>&lt;class 'keras.optimizers.optimizer_v2.gradient...</td>\n      <td>0.10000</td>\n      <td>sigmoid</td>\n      <td>50</td>\n    </tr>\n    <tr>\n      <th>4</th>\n      <td>0.084866</td>\n      <td>1.000000</td>\n      <td>29.0</td>\n      <td>0.0</td>\n      <td>29.0</td>\n      <td>0.0</td>\n      <td>1.000000</td>\n      <td>1.000000</td>\n      <td>[64, 16, 2]</td>\n      <td>&lt;class 'keras.optimizers.optimizer_v2.gradient...</td>\n      <td>0.10000</td>\n      <td>sigmoid</td>\n      <td>100</td>\n    </tr>\n    <tr>\n      <th>...</th>\n      <td>...</td>\n      <td>...</td>\n      <td>...</td>\n      <td>...</td>\n      <td>...</td>\n      <td>...</td>\n      <td>...</td>\n      <td>...</td>\n      <td>...</td>\n      <td>...</td>\n      <td>...</td>\n      <td>...</td>\n      <td>...</td>\n    </tr>\n    <tr>\n      <th>1595</th>\n      <td>0.562120</td>\n      <td>0.758621</td>\n      <td>22.0</td>\n      <td>7.0</td>\n      <td>22.0</td>\n      <td>7.0</td>\n      <td>0.758621</td>\n      <td>0.758621</td>\n      <td>[5, 3, 2]</td>\n      <td>&lt;class 'keras.optimizers.optimizer_v2.nadam.Na...</td>\n      <td>0.00001</td>\n      <td>LeakyReLU</td>\n      <td>3</td>\n    </tr>\n    <tr>\n      <th>1596</th>\n      <td>0.656760</td>\n      <td>0.724138</td>\n      <td>21.0</td>\n      <td>8.0</td>\n      <td>21.0</td>\n      <td>8.0</td>\n      <td>0.724138</td>\n      <td>0.724138</td>\n      <td>[5, 3, 2]</td>\n      <td>&lt;class 'keras.optimizers.optimizer_v2.nadam.Na...</td>\n      <td>0.00001</td>\n      <td>LeakyReLU</td>\n      <td>5</td>\n    </tr>\n    <tr>\n      <th>1597</th>\n      <td>0.812644</td>\n      <td>0.275862</td>\n      <td>8.0</td>\n      <td>21.0</td>\n      <td>8.0</td>\n      <td>21.0</td>\n      <td>0.275862</td>\n      <td>0.275862</td>\n      <td>[5, 3, 2]</td>\n      <td>&lt;class 'keras.optimizers.optimizer_v2.nadam.Na...</td>\n      <td>0.00001</td>\n      <td>LeakyReLU</td>\n      <td>10</td>\n    </tr>\n    <tr>\n      <th>1598</th>\n      <td>0.824477</td>\n      <td>0.620690</td>\n      <td>18.0</td>\n      <td>11.0</td>\n      <td>18.0</td>\n      <td>11.0</td>\n      <td>0.620690</td>\n      <td>0.620690</td>\n      <td>[5, 3, 2]</td>\n      <td>&lt;class 'keras.optimizers.optimizer_v2.nadam.Na...</td>\n      <td>0.00001</td>\n      <td>LeakyReLU</td>\n      <td>50</td>\n    </tr>\n    <tr>\n      <th>1599</th>\n      <td>0.751345</td>\n      <td>0.344828</td>\n      <td>10.0</td>\n      <td>19.0</td>\n      <td>10.0</td>\n      <td>19.0</td>\n      <td>0.344828</td>\n      <td>0.344828</td>\n      <td>[5, 3, 2]</td>\n      <td>&lt;class 'keras.optimizers.optimizer_v2.nadam.Na...</td>\n      <td>0.00001</td>\n      <td>LeakyReLU</td>\n      <td>100</td>\n    </tr>\n  </tbody>\n</table>\n<p>1600 rows × 13 columns</p>\n</div>"
     },
     "execution_count": 19,
     "metadata": {},
     "output_type": "execute_result"
    }
   ],
   "source": [
    "df"
   ],
   "metadata": {
    "collapsed": false,
    "pycharm": {
     "name": "#%%\n"
    }
   }
  },
  {
   "cell_type": "markdown",
   "source": [
    "Filter for 0 loss\n",
    "- 5  epochs\n",
    "- 10 epochs\n",
    "\n",
    "The lower the loss the better so 0 is the most desirable. Same is true for epochs. The fewer epochs it has to run the better it is."
   ],
   "metadata": {
    "collapsed": false,
    "pycharm": {
     "name": "#%% md\n"
    }
   }
  },
  {
   "cell_type": "code",
   "execution_count": 20,
   "outputs": [
    {
     "data": {
      "text/plain": "      Loss  Accuracy    TP   FP    TN   FN  Precision  Recall       Layers  \\\n104    0.0       1.0  29.0  0.0  29.0  0.0        1.0     1.0  [64, 16, 2]   \n109    0.0       1.0  29.0  0.0  29.0  0.0        1.0     1.0  [64, 16, 2]   \n114    0.0       1.0  29.0  0.0  29.0  0.0        1.0     1.0  [64, 16, 2]   \n118    0.0       1.0  29.0  0.0  29.0  0.0        1.0     1.0  [64, 16, 2]   \n119    0.0       1.0  29.0  0.0  29.0  0.0        1.0     1.0  [64, 16, 2]   \n124    0.0       1.0  29.0  0.0  29.0  0.0        1.0     1.0  [64, 16, 2]   \n129    0.0       1.0  29.0  0.0  29.0  0.0        1.0     1.0  [64, 16, 2]   \n134    0.0       1.0  29.0  0.0  29.0  0.0        1.0     1.0  [64, 16, 2]   \n139    0.0       1.0  29.0  0.0  29.0  0.0        1.0     1.0  [64, 16, 2]   \n211    0.0       1.0  29.0  0.0  29.0  0.0        1.0     1.0  [64, 16, 2]   \n214    0.0       1.0  29.0  0.0  29.0  0.0        1.0     1.0  [64, 16, 2]   \n216    0.0       1.0  29.0  0.0  29.0  0.0        1.0     1.0  [64, 16, 2]   \n217    0.0       1.0  29.0  0.0  29.0  0.0        1.0     1.0  [64, 16, 2]   \n218    0.0       1.0  29.0  0.0  29.0  0.0        1.0     1.0  [64, 16, 2]   \n504    0.0       1.0  29.0  0.0  29.0  0.0        1.0     1.0   [32, 8, 2]   \n509    0.0       1.0  29.0  0.0  29.0  0.0        1.0     1.0   [32, 8, 2]   \n514    0.0       1.0  29.0  0.0  29.0  0.0        1.0     1.0   [32, 8, 2]   \n519    0.0       1.0  29.0  0.0  29.0  0.0        1.0     1.0   [32, 8, 2]   \n529    0.0       1.0  29.0  0.0  29.0  0.0        1.0     1.0   [32, 8, 2]   \n534    0.0       1.0  29.0  0.0  29.0  0.0        1.0     1.0   [32, 8, 2]   \n539    0.0       1.0  29.0  0.0  29.0  0.0        1.0     1.0   [32, 8, 2]   \n618    0.0       1.0  29.0  0.0  29.0  0.0        1.0     1.0   [32, 8, 2]   \n619    0.0       1.0  29.0  0.0  29.0  0.0        1.0     1.0   [32, 8, 2]   \n904    0.0       1.0  29.0  0.0  29.0  0.0        1.0     1.0   [16, 4, 2]   \n909    0.0       1.0  29.0  0.0  29.0  0.0        1.0     1.0   [16, 4, 2]   \n914    0.0       1.0  29.0  0.0  29.0  0.0        1.0     1.0   [16, 4, 2]   \n919    0.0       1.0  29.0  0.0  29.0  0.0        1.0     1.0   [16, 4, 2]   \n929    0.0       1.0  29.0  0.0  29.0  0.0        1.0     1.0   [16, 4, 2]   \n934    0.0       1.0  29.0  0.0  29.0  0.0        1.0     1.0   [16, 4, 2]   \n939    0.0       1.0  29.0  0.0  29.0  0.0        1.0     1.0   [16, 4, 2]   \n1013   0.0       1.0  29.0  0.0  29.0  0.0        1.0     1.0   [16, 4, 2]   \n1017   0.0       1.0  29.0  0.0  29.0  0.0        1.0     1.0   [16, 4, 2]   \n1018   0.0       1.0  29.0  0.0  29.0  0.0        1.0     1.0   [16, 4, 2]   \n1019   0.0       1.0  29.0  0.0  29.0  0.0        1.0     1.0   [16, 4, 2]   \n1304   0.0       1.0  29.0  0.0  29.0  0.0        1.0     1.0    [5, 3, 2]   \n1309   0.0       1.0  29.0  0.0  29.0  0.0        1.0     1.0    [5, 3, 2]   \n1314   0.0       1.0  29.0  0.0  29.0  0.0        1.0     1.0    [5, 3, 2]   \n1319   0.0       1.0  29.0  0.0  29.0  0.0        1.0     1.0    [5, 3, 2]   \n1334   0.0       1.0  29.0  0.0  29.0  0.0        1.0     1.0    [5, 3, 2]   \n1339   0.0       1.0  29.0  0.0  29.0  0.0        1.0     1.0    [5, 3, 2]   \n1414   0.0       1.0  29.0  0.0  29.0  0.0        1.0     1.0    [5, 3, 2]   \n1418   0.0       1.0  29.0  0.0  29.0  0.0        1.0     1.0    [5, 3, 2]   \n1419   0.0       1.0  29.0  0.0  29.0  0.0        1.0     1.0    [5, 3, 2]   \n\n                                              optimiser     η activation  \\\n104   <class 'keras.optimizers.optimizer_v2.rmsprop....  0.10    sigmoid   \n109   <class 'keras.optimizers.optimizer_v2.rmsprop....  0.10       tanh   \n114   <class 'keras.optimizers.optimizer_v2.rmsprop....  0.10       relu   \n118   <class 'keras.optimizers.optimizer_v2.rmsprop....  0.10  LeakyReLU   \n119   <class 'keras.optimizers.optimizer_v2.rmsprop....  0.10  LeakyReLU   \n124   <class 'keras.optimizers.optimizer_v2.rmsprop....  0.01    sigmoid   \n129   <class 'keras.optimizers.optimizer_v2.rmsprop....  0.01       tanh   \n134   <class 'keras.optimizers.optimizer_v2.rmsprop....  0.01       relu   \n139   <class 'keras.optimizers.optimizer_v2.rmsprop....  0.01  LeakyReLU   \n211   <class 'keras.optimizers.optimizer_v2.adam.Adam'>  0.10       relu   \n214   <class 'keras.optimizers.optimizer_v2.adam.Adam'>  0.10       relu   \n216   <class 'keras.optimizers.optimizer_v2.adam.Adam'>  0.10  LeakyReLU   \n217   <class 'keras.optimizers.optimizer_v2.adam.Adam'>  0.10  LeakyReLU   \n218   <class 'keras.optimizers.optimizer_v2.adam.Adam'>  0.10  LeakyReLU   \n504   <class 'keras.optimizers.optimizer_v2.rmsprop....  0.10    sigmoid   \n509   <class 'keras.optimizers.optimizer_v2.rmsprop....  0.10       tanh   \n514   <class 'keras.optimizers.optimizer_v2.rmsprop....  0.10       relu   \n519   <class 'keras.optimizers.optimizer_v2.rmsprop....  0.10  LeakyReLU   \n529   <class 'keras.optimizers.optimizer_v2.rmsprop....  0.01       tanh   \n534   <class 'keras.optimizers.optimizer_v2.rmsprop....  0.01       relu   \n539   <class 'keras.optimizers.optimizer_v2.rmsprop....  0.01  LeakyReLU   \n618   <class 'keras.optimizers.optimizer_v2.adam.Adam'>  0.10  LeakyReLU   \n619   <class 'keras.optimizers.optimizer_v2.adam.Adam'>  0.10  LeakyReLU   \n904   <class 'keras.optimizers.optimizer_v2.rmsprop....  0.10    sigmoid   \n909   <class 'keras.optimizers.optimizer_v2.rmsprop....  0.10       tanh   \n914   <class 'keras.optimizers.optimizer_v2.rmsprop....  0.10       relu   \n919   <class 'keras.optimizers.optimizer_v2.rmsprop....  0.10  LeakyReLU   \n929   <class 'keras.optimizers.optimizer_v2.rmsprop....  0.01       tanh   \n934   <class 'keras.optimizers.optimizer_v2.rmsprop....  0.01       relu   \n939   <class 'keras.optimizers.optimizer_v2.rmsprop....  0.01  LeakyReLU   \n1013  <class 'keras.optimizers.optimizer_v2.adam.Adam'>  0.10       relu   \n1017  <class 'keras.optimizers.optimizer_v2.adam.Adam'>  0.10  LeakyReLU   \n1018  <class 'keras.optimizers.optimizer_v2.adam.Adam'>  0.10  LeakyReLU   \n1019  <class 'keras.optimizers.optimizer_v2.adam.Adam'>  0.10  LeakyReLU   \n1304  <class 'keras.optimizers.optimizer_v2.rmsprop....  0.10    sigmoid   \n1309  <class 'keras.optimizers.optimizer_v2.rmsprop....  0.10       tanh   \n1314  <class 'keras.optimizers.optimizer_v2.rmsprop....  0.10       relu   \n1319  <class 'keras.optimizers.optimizer_v2.rmsprop....  0.10  LeakyReLU   \n1334  <class 'keras.optimizers.optimizer_v2.rmsprop....  0.01       relu   \n1339  <class 'keras.optimizers.optimizer_v2.rmsprop....  0.01  LeakyReLU   \n1414  <class 'keras.optimizers.optimizer_v2.adam.Adam'>  0.10       relu   \n1418  <class 'keras.optimizers.optimizer_v2.adam.Adam'>  0.10  LeakyReLU   \n1419  <class 'keras.optimizers.optimizer_v2.adam.Adam'>  0.10  LeakyReLU   \n\n      epoch  \n104     100  \n109     100  \n114     100  \n118      50  \n119     100  \n124     100  \n129     100  \n134     100  \n139     100  \n211       5  \n214     100  \n216       5  \n217      10  \n218      50  \n504     100  \n509     100  \n514     100  \n519     100  \n529     100  \n534     100  \n539     100  \n618      50  \n619     100  \n904     100  \n909     100  \n914     100  \n919     100  \n929     100  \n934     100  \n939     100  \n1013     50  \n1017     10  \n1018     50  \n1019    100  \n1304    100  \n1309    100  \n1314    100  \n1319    100  \n1334    100  \n1339    100  \n1414    100  \n1418     50  \n1419    100  ",
      "text/html": "<div>\n<style scoped>\n    .dataframe tbody tr th:only-of-type {\n        vertical-align: middle;\n    }\n\n    .dataframe tbody tr th {\n        vertical-align: top;\n    }\n\n    .dataframe thead th {\n        text-align: right;\n    }\n</style>\n<table border=\"1\" class=\"dataframe\">\n  <thead>\n    <tr style=\"text-align: right;\">\n      <th></th>\n      <th>Loss</th>\n      <th>Accuracy</th>\n      <th>TP</th>\n      <th>FP</th>\n      <th>TN</th>\n      <th>FN</th>\n      <th>Precision</th>\n      <th>Recall</th>\n      <th>Layers</th>\n      <th>optimiser</th>\n      <th>η</th>\n      <th>activation</th>\n      <th>epoch</th>\n    </tr>\n  </thead>\n  <tbody>\n    <tr>\n      <th>104</th>\n      <td>0.0</td>\n      <td>1.0</td>\n      <td>29.0</td>\n      <td>0.0</td>\n      <td>29.0</td>\n      <td>0.0</td>\n      <td>1.0</td>\n      <td>1.0</td>\n      <td>[64, 16, 2]</td>\n      <td>&lt;class 'keras.optimizers.optimizer_v2.rmsprop....</td>\n      <td>0.10</td>\n      <td>sigmoid</td>\n      <td>100</td>\n    </tr>\n    <tr>\n      <th>109</th>\n      <td>0.0</td>\n      <td>1.0</td>\n      <td>29.0</td>\n      <td>0.0</td>\n      <td>29.0</td>\n      <td>0.0</td>\n      <td>1.0</td>\n      <td>1.0</td>\n      <td>[64, 16, 2]</td>\n      <td>&lt;class 'keras.optimizers.optimizer_v2.rmsprop....</td>\n      <td>0.10</td>\n      <td>tanh</td>\n      <td>100</td>\n    </tr>\n    <tr>\n      <th>114</th>\n      <td>0.0</td>\n      <td>1.0</td>\n      <td>29.0</td>\n      <td>0.0</td>\n      <td>29.0</td>\n      <td>0.0</td>\n      <td>1.0</td>\n      <td>1.0</td>\n      <td>[64, 16, 2]</td>\n      <td>&lt;class 'keras.optimizers.optimizer_v2.rmsprop....</td>\n      <td>0.10</td>\n      <td>relu</td>\n      <td>100</td>\n    </tr>\n    <tr>\n      <th>118</th>\n      <td>0.0</td>\n      <td>1.0</td>\n      <td>29.0</td>\n      <td>0.0</td>\n      <td>29.0</td>\n      <td>0.0</td>\n      <td>1.0</td>\n      <td>1.0</td>\n      <td>[64, 16, 2]</td>\n      <td>&lt;class 'keras.optimizers.optimizer_v2.rmsprop....</td>\n      <td>0.10</td>\n      <td>LeakyReLU</td>\n      <td>50</td>\n    </tr>\n    <tr>\n      <th>119</th>\n      <td>0.0</td>\n      <td>1.0</td>\n      <td>29.0</td>\n      <td>0.0</td>\n      <td>29.0</td>\n      <td>0.0</td>\n      <td>1.0</td>\n      <td>1.0</td>\n      <td>[64, 16, 2]</td>\n      <td>&lt;class 'keras.optimizers.optimizer_v2.rmsprop....</td>\n      <td>0.10</td>\n      <td>LeakyReLU</td>\n      <td>100</td>\n    </tr>\n    <tr>\n      <th>124</th>\n      <td>0.0</td>\n      <td>1.0</td>\n      <td>29.0</td>\n      <td>0.0</td>\n      <td>29.0</td>\n      <td>0.0</td>\n      <td>1.0</td>\n      <td>1.0</td>\n      <td>[64, 16, 2]</td>\n      <td>&lt;class 'keras.optimizers.optimizer_v2.rmsprop....</td>\n      <td>0.01</td>\n      <td>sigmoid</td>\n      <td>100</td>\n    </tr>\n    <tr>\n      <th>129</th>\n      <td>0.0</td>\n      <td>1.0</td>\n      <td>29.0</td>\n      <td>0.0</td>\n      <td>29.0</td>\n      <td>0.0</td>\n      <td>1.0</td>\n      <td>1.0</td>\n      <td>[64, 16, 2]</td>\n      <td>&lt;class 'keras.optimizers.optimizer_v2.rmsprop....</td>\n      <td>0.01</td>\n      <td>tanh</td>\n      <td>100</td>\n    </tr>\n    <tr>\n      <th>134</th>\n      <td>0.0</td>\n      <td>1.0</td>\n      <td>29.0</td>\n      <td>0.0</td>\n      <td>29.0</td>\n      <td>0.0</td>\n      <td>1.0</td>\n      <td>1.0</td>\n      <td>[64, 16, 2]</td>\n      <td>&lt;class 'keras.optimizers.optimizer_v2.rmsprop....</td>\n      <td>0.01</td>\n      <td>relu</td>\n      <td>100</td>\n    </tr>\n    <tr>\n      <th>139</th>\n      <td>0.0</td>\n      <td>1.0</td>\n      <td>29.0</td>\n      <td>0.0</td>\n      <td>29.0</td>\n      <td>0.0</td>\n      <td>1.0</td>\n      <td>1.0</td>\n      <td>[64, 16, 2]</td>\n      <td>&lt;class 'keras.optimizers.optimizer_v2.rmsprop....</td>\n      <td>0.01</td>\n      <td>LeakyReLU</td>\n      <td>100</td>\n    </tr>\n    <tr>\n      <th>211</th>\n      <td>0.0</td>\n      <td>1.0</td>\n      <td>29.0</td>\n      <td>0.0</td>\n      <td>29.0</td>\n      <td>0.0</td>\n      <td>1.0</td>\n      <td>1.0</td>\n      <td>[64, 16, 2]</td>\n      <td>&lt;class 'keras.optimizers.optimizer_v2.adam.Adam'&gt;</td>\n      <td>0.10</td>\n      <td>relu</td>\n      <td>5</td>\n    </tr>\n    <tr>\n      <th>214</th>\n      <td>0.0</td>\n      <td>1.0</td>\n      <td>29.0</td>\n      <td>0.0</td>\n      <td>29.0</td>\n      <td>0.0</td>\n      <td>1.0</td>\n      <td>1.0</td>\n      <td>[64, 16, 2]</td>\n      <td>&lt;class 'keras.optimizers.optimizer_v2.adam.Adam'&gt;</td>\n      <td>0.10</td>\n      <td>relu</td>\n      <td>100</td>\n    </tr>\n    <tr>\n      <th>216</th>\n      <td>0.0</td>\n      <td>1.0</td>\n      <td>29.0</td>\n      <td>0.0</td>\n      <td>29.0</td>\n      <td>0.0</td>\n      <td>1.0</td>\n      <td>1.0</td>\n      <td>[64, 16, 2]</td>\n      <td>&lt;class 'keras.optimizers.optimizer_v2.adam.Adam'&gt;</td>\n      <td>0.10</td>\n      <td>LeakyReLU</td>\n      <td>5</td>\n    </tr>\n    <tr>\n      <th>217</th>\n      <td>0.0</td>\n      <td>1.0</td>\n      <td>29.0</td>\n      <td>0.0</td>\n      <td>29.0</td>\n      <td>0.0</td>\n      <td>1.0</td>\n      <td>1.0</td>\n      <td>[64, 16, 2]</td>\n      <td>&lt;class 'keras.optimizers.optimizer_v2.adam.Adam'&gt;</td>\n      <td>0.10</td>\n      <td>LeakyReLU</td>\n      <td>10</td>\n    </tr>\n    <tr>\n      <th>218</th>\n      <td>0.0</td>\n      <td>1.0</td>\n      <td>29.0</td>\n      <td>0.0</td>\n      <td>29.0</td>\n      <td>0.0</td>\n      <td>1.0</td>\n      <td>1.0</td>\n      <td>[64, 16, 2]</td>\n      <td>&lt;class 'keras.optimizers.optimizer_v2.adam.Adam'&gt;</td>\n      <td>0.10</td>\n      <td>LeakyReLU</td>\n      <td>50</td>\n    </tr>\n    <tr>\n      <th>504</th>\n      <td>0.0</td>\n      <td>1.0</td>\n      <td>29.0</td>\n      <td>0.0</td>\n      <td>29.0</td>\n      <td>0.0</td>\n      <td>1.0</td>\n      <td>1.0</td>\n      <td>[32, 8, 2]</td>\n      <td>&lt;class 'keras.optimizers.optimizer_v2.rmsprop....</td>\n      <td>0.10</td>\n      <td>sigmoid</td>\n      <td>100</td>\n    </tr>\n    <tr>\n      <th>509</th>\n      <td>0.0</td>\n      <td>1.0</td>\n      <td>29.0</td>\n      <td>0.0</td>\n      <td>29.0</td>\n      <td>0.0</td>\n      <td>1.0</td>\n      <td>1.0</td>\n      <td>[32, 8, 2]</td>\n      <td>&lt;class 'keras.optimizers.optimizer_v2.rmsprop....</td>\n      <td>0.10</td>\n      <td>tanh</td>\n      <td>100</td>\n    </tr>\n    <tr>\n      <th>514</th>\n      <td>0.0</td>\n      <td>1.0</td>\n      <td>29.0</td>\n      <td>0.0</td>\n      <td>29.0</td>\n      <td>0.0</td>\n      <td>1.0</td>\n      <td>1.0</td>\n      <td>[32, 8, 2]</td>\n      <td>&lt;class 'keras.optimizers.optimizer_v2.rmsprop....</td>\n      <td>0.10</td>\n      <td>relu</td>\n      <td>100</td>\n    </tr>\n    <tr>\n      <th>519</th>\n      <td>0.0</td>\n      <td>1.0</td>\n      <td>29.0</td>\n      <td>0.0</td>\n      <td>29.0</td>\n      <td>0.0</td>\n      <td>1.0</td>\n      <td>1.0</td>\n      <td>[32, 8, 2]</td>\n      <td>&lt;class 'keras.optimizers.optimizer_v2.rmsprop....</td>\n      <td>0.10</td>\n      <td>LeakyReLU</td>\n      <td>100</td>\n    </tr>\n    <tr>\n      <th>529</th>\n      <td>0.0</td>\n      <td>1.0</td>\n      <td>29.0</td>\n      <td>0.0</td>\n      <td>29.0</td>\n      <td>0.0</td>\n      <td>1.0</td>\n      <td>1.0</td>\n      <td>[32, 8, 2]</td>\n      <td>&lt;class 'keras.optimizers.optimizer_v2.rmsprop....</td>\n      <td>0.01</td>\n      <td>tanh</td>\n      <td>100</td>\n    </tr>\n    <tr>\n      <th>534</th>\n      <td>0.0</td>\n      <td>1.0</td>\n      <td>29.0</td>\n      <td>0.0</td>\n      <td>29.0</td>\n      <td>0.0</td>\n      <td>1.0</td>\n      <td>1.0</td>\n      <td>[32, 8, 2]</td>\n      <td>&lt;class 'keras.optimizers.optimizer_v2.rmsprop....</td>\n      <td>0.01</td>\n      <td>relu</td>\n      <td>100</td>\n    </tr>\n    <tr>\n      <th>539</th>\n      <td>0.0</td>\n      <td>1.0</td>\n      <td>29.0</td>\n      <td>0.0</td>\n      <td>29.0</td>\n      <td>0.0</td>\n      <td>1.0</td>\n      <td>1.0</td>\n      <td>[32, 8, 2]</td>\n      <td>&lt;class 'keras.optimizers.optimizer_v2.rmsprop....</td>\n      <td>0.01</td>\n      <td>LeakyReLU</td>\n      <td>100</td>\n    </tr>\n    <tr>\n      <th>618</th>\n      <td>0.0</td>\n      <td>1.0</td>\n      <td>29.0</td>\n      <td>0.0</td>\n      <td>29.0</td>\n      <td>0.0</td>\n      <td>1.0</td>\n      <td>1.0</td>\n      <td>[32, 8, 2]</td>\n      <td>&lt;class 'keras.optimizers.optimizer_v2.adam.Adam'&gt;</td>\n      <td>0.10</td>\n      <td>LeakyReLU</td>\n      <td>50</td>\n    </tr>\n    <tr>\n      <th>619</th>\n      <td>0.0</td>\n      <td>1.0</td>\n      <td>29.0</td>\n      <td>0.0</td>\n      <td>29.0</td>\n      <td>0.0</td>\n      <td>1.0</td>\n      <td>1.0</td>\n      <td>[32, 8, 2]</td>\n      <td>&lt;class 'keras.optimizers.optimizer_v2.adam.Adam'&gt;</td>\n      <td>0.10</td>\n      <td>LeakyReLU</td>\n      <td>100</td>\n    </tr>\n    <tr>\n      <th>904</th>\n      <td>0.0</td>\n      <td>1.0</td>\n      <td>29.0</td>\n      <td>0.0</td>\n      <td>29.0</td>\n      <td>0.0</td>\n      <td>1.0</td>\n      <td>1.0</td>\n      <td>[16, 4, 2]</td>\n      <td>&lt;class 'keras.optimizers.optimizer_v2.rmsprop....</td>\n      <td>0.10</td>\n      <td>sigmoid</td>\n      <td>100</td>\n    </tr>\n    <tr>\n      <th>909</th>\n      <td>0.0</td>\n      <td>1.0</td>\n      <td>29.0</td>\n      <td>0.0</td>\n      <td>29.0</td>\n      <td>0.0</td>\n      <td>1.0</td>\n      <td>1.0</td>\n      <td>[16, 4, 2]</td>\n      <td>&lt;class 'keras.optimizers.optimizer_v2.rmsprop....</td>\n      <td>0.10</td>\n      <td>tanh</td>\n      <td>100</td>\n    </tr>\n    <tr>\n      <th>914</th>\n      <td>0.0</td>\n      <td>1.0</td>\n      <td>29.0</td>\n      <td>0.0</td>\n      <td>29.0</td>\n      <td>0.0</td>\n      <td>1.0</td>\n      <td>1.0</td>\n      <td>[16, 4, 2]</td>\n      <td>&lt;class 'keras.optimizers.optimizer_v2.rmsprop....</td>\n      <td>0.10</td>\n      <td>relu</td>\n      <td>100</td>\n    </tr>\n    <tr>\n      <th>919</th>\n      <td>0.0</td>\n      <td>1.0</td>\n      <td>29.0</td>\n      <td>0.0</td>\n      <td>29.0</td>\n      <td>0.0</td>\n      <td>1.0</td>\n      <td>1.0</td>\n      <td>[16, 4, 2]</td>\n      <td>&lt;class 'keras.optimizers.optimizer_v2.rmsprop....</td>\n      <td>0.10</td>\n      <td>LeakyReLU</td>\n      <td>100</td>\n    </tr>\n    <tr>\n      <th>929</th>\n      <td>0.0</td>\n      <td>1.0</td>\n      <td>29.0</td>\n      <td>0.0</td>\n      <td>29.0</td>\n      <td>0.0</td>\n      <td>1.0</td>\n      <td>1.0</td>\n      <td>[16, 4, 2]</td>\n      <td>&lt;class 'keras.optimizers.optimizer_v2.rmsprop....</td>\n      <td>0.01</td>\n      <td>tanh</td>\n      <td>100</td>\n    </tr>\n    <tr>\n      <th>934</th>\n      <td>0.0</td>\n      <td>1.0</td>\n      <td>29.0</td>\n      <td>0.0</td>\n      <td>29.0</td>\n      <td>0.0</td>\n      <td>1.0</td>\n      <td>1.0</td>\n      <td>[16, 4, 2]</td>\n      <td>&lt;class 'keras.optimizers.optimizer_v2.rmsprop....</td>\n      <td>0.01</td>\n      <td>relu</td>\n      <td>100</td>\n    </tr>\n    <tr>\n      <th>939</th>\n      <td>0.0</td>\n      <td>1.0</td>\n      <td>29.0</td>\n      <td>0.0</td>\n      <td>29.0</td>\n      <td>0.0</td>\n      <td>1.0</td>\n      <td>1.0</td>\n      <td>[16, 4, 2]</td>\n      <td>&lt;class 'keras.optimizers.optimizer_v2.rmsprop....</td>\n      <td>0.01</td>\n      <td>LeakyReLU</td>\n      <td>100</td>\n    </tr>\n    <tr>\n      <th>1013</th>\n      <td>0.0</td>\n      <td>1.0</td>\n      <td>29.0</td>\n      <td>0.0</td>\n      <td>29.0</td>\n      <td>0.0</td>\n      <td>1.0</td>\n      <td>1.0</td>\n      <td>[16, 4, 2]</td>\n      <td>&lt;class 'keras.optimizers.optimizer_v2.adam.Adam'&gt;</td>\n      <td>0.10</td>\n      <td>relu</td>\n      <td>50</td>\n    </tr>\n    <tr>\n      <th>1017</th>\n      <td>0.0</td>\n      <td>1.0</td>\n      <td>29.0</td>\n      <td>0.0</td>\n      <td>29.0</td>\n      <td>0.0</td>\n      <td>1.0</td>\n      <td>1.0</td>\n      <td>[16, 4, 2]</td>\n      <td>&lt;class 'keras.optimizers.optimizer_v2.adam.Adam'&gt;</td>\n      <td>0.10</td>\n      <td>LeakyReLU</td>\n      <td>10</td>\n    </tr>\n    <tr>\n      <th>1018</th>\n      <td>0.0</td>\n      <td>1.0</td>\n      <td>29.0</td>\n      <td>0.0</td>\n      <td>29.0</td>\n      <td>0.0</td>\n      <td>1.0</td>\n      <td>1.0</td>\n      <td>[16, 4, 2]</td>\n      <td>&lt;class 'keras.optimizers.optimizer_v2.adam.Adam'&gt;</td>\n      <td>0.10</td>\n      <td>LeakyReLU</td>\n      <td>50</td>\n    </tr>\n    <tr>\n      <th>1019</th>\n      <td>0.0</td>\n      <td>1.0</td>\n      <td>29.0</td>\n      <td>0.0</td>\n      <td>29.0</td>\n      <td>0.0</td>\n      <td>1.0</td>\n      <td>1.0</td>\n      <td>[16, 4, 2]</td>\n      <td>&lt;class 'keras.optimizers.optimizer_v2.adam.Adam'&gt;</td>\n      <td>0.10</td>\n      <td>LeakyReLU</td>\n      <td>100</td>\n    </tr>\n    <tr>\n      <th>1304</th>\n      <td>0.0</td>\n      <td>1.0</td>\n      <td>29.0</td>\n      <td>0.0</td>\n      <td>29.0</td>\n      <td>0.0</td>\n      <td>1.0</td>\n      <td>1.0</td>\n      <td>[5, 3, 2]</td>\n      <td>&lt;class 'keras.optimizers.optimizer_v2.rmsprop....</td>\n      <td>0.10</td>\n      <td>sigmoid</td>\n      <td>100</td>\n    </tr>\n    <tr>\n      <th>1309</th>\n      <td>0.0</td>\n      <td>1.0</td>\n      <td>29.0</td>\n      <td>0.0</td>\n      <td>29.0</td>\n      <td>0.0</td>\n      <td>1.0</td>\n      <td>1.0</td>\n      <td>[5, 3, 2]</td>\n      <td>&lt;class 'keras.optimizers.optimizer_v2.rmsprop....</td>\n      <td>0.10</td>\n      <td>tanh</td>\n      <td>100</td>\n    </tr>\n    <tr>\n      <th>1314</th>\n      <td>0.0</td>\n      <td>1.0</td>\n      <td>29.0</td>\n      <td>0.0</td>\n      <td>29.0</td>\n      <td>0.0</td>\n      <td>1.0</td>\n      <td>1.0</td>\n      <td>[5, 3, 2]</td>\n      <td>&lt;class 'keras.optimizers.optimizer_v2.rmsprop....</td>\n      <td>0.10</td>\n      <td>relu</td>\n      <td>100</td>\n    </tr>\n    <tr>\n      <th>1319</th>\n      <td>0.0</td>\n      <td>1.0</td>\n      <td>29.0</td>\n      <td>0.0</td>\n      <td>29.0</td>\n      <td>0.0</td>\n      <td>1.0</td>\n      <td>1.0</td>\n      <td>[5, 3, 2]</td>\n      <td>&lt;class 'keras.optimizers.optimizer_v2.rmsprop....</td>\n      <td>0.10</td>\n      <td>LeakyReLU</td>\n      <td>100</td>\n    </tr>\n    <tr>\n      <th>1334</th>\n      <td>0.0</td>\n      <td>1.0</td>\n      <td>29.0</td>\n      <td>0.0</td>\n      <td>29.0</td>\n      <td>0.0</td>\n      <td>1.0</td>\n      <td>1.0</td>\n      <td>[5, 3, 2]</td>\n      <td>&lt;class 'keras.optimizers.optimizer_v2.rmsprop....</td>\n      <td>0.01</td>\n      <td>relu</td>\n      <td>100</td>\n    </tr>\n    <tr>\n      <th>1339</th>\n      <td>0.0</td>\n      <td>1.0</td>\n      <td>29.0</td>\n      <td>0.0</td>\n      <td>29.0</td>\n      <td>0.0</td>\n      <td>1.0</td>\n      <td>1.0</td>\n      <td>[5, 3, 2]</td>\n      <td>&lt;class 'keras.optimizers.optimizer_v2.rmsprop....</td>\n      <td>0.01</td>\n      <td>LeakyReLU</td>\n      <td>100</td>\n    </tr>\n    <tr>\n      <th>1414</th>\n      <td>0.0</td>\n      <td>1.0</td>\n      <td>29.0</td>\n      <td>0.0</td>\n      <td>29.0</td>\n      <td>0.0</td>\n      <td>1.0</td>\n      <td>1.0</td>\n      <td>[5, 3, 2]</td>\n      <td>&lt;class 'keras.optimizers.optimizer_v2.adam.Adam'&gt;</td>\n      <td>0.10</td>\n      <td>relu</td>\n      <td>100</td>\n    </tr>\n    <tr>\n      <th>1418</th>\n      <td>0.0</td>\n      <td>1.0</td>\n      <td>29.0</td>\n      <td>0.0</td>\n      <td>29.0</td>\n      <td>0.0</td>\n      <td>1.0</td>\n      <td>1.0</td>\n      <td>[5, 3, 2]</td>\n      <td>&lt;class 'keras.optimizers.optimizer_v2.adam.Adam'&gt;</td>\n      <td>0.10</td>\n      <td>LeakyReLU</td>\n      <td>50</td>\n    </tr>\n    <tr>\n      <th>1419</th>\n      <td>0.0</td>\n      <td>1.0</td>\n      <td>29.0</td>\n      <td>0.0</td>\n      <td>29.0</td>\n      <td>0.0</td>\n      <td>1.0</td>\n      <td>1.0</td>\n      <td>[5, 3, 2]</td>\n      <td>&lt;class 'keras.optimizers.optimizer_v2.adam.Adam'&gt;</td>\n      <td>0.10</td>\n      <td>LeakyReLU</td>\n      <td>100</td>\n    </tr>\n  </tbody>\n</table>\n</div>"
     },
     "execution_count": 20,
     "metadata": {},
     "output_type": "execute_result"
    }
   ],
   "source": [
    "df[df.Loss == 0 ]"
   ],
   "metadata": {
    "collapsed": false,
    "pycharm": {
     "name": "#%%\n"
    }
   }
  },
  {
   "cell_type": "markdown",
   "source": [
    "### Overall Best:"
   ],
   "metadata": {
    "collapsed": false,
    "pycharm": {
     "name": "#%% md\n"
    }
   }
  },
  {
   "cell_type": "code",
   "execution_count": 21,
   "outputs": [
    {
     "name": "stderr",
     "output_type": "stream",
     "text": [
      "C:\\Users\\Peter\\AppData\\Local\\Temp\\ipykernel_17372\\3542774355.py:1: UserWarning: Boolean Series key will be reindexed to match DataFrame index.\n",
      "  df[df.Loss == 0 ][df.epoch == 5]\n"
     ]
    },
    {
     "data": {
      "text/plain": "     Loss  Accuracy    TP   FP    TN   FN  Precision  Recall       Layers  \\\n211   0.0       1.0  29.0  0.0  29.0  0.0        1.0     1.0  [64, 16, 2]   \n216   0.0       1.0  29.0  0.0  29.0  0.0        1.0     1.0  [64, 16, 2]   \n\n                                             optimiser    η activation  epoch  \n211  <class 'keras.optimizers.optimizer_v2.adam.Adam'>  0.1       relu      5  \n216  <class 'keras.optimizers.optimizer_v2.adam.Adam'>  0.1  LeakyReLU      5  ",
      "text/html": "<div>\n<style scoped>\n    .dataframe tbody tr th:only-of-type {\n        vertical-align: middle;\n    }\n\n    .dataframe tbody tr th {\n        vertical-align: top;\n    }\n\n    .dataframe thead th {\n        text-align: right;\n    }\n</style>\n<table border=\"1\" class=\"dataframe\">\n  <thead>\n    <tr style=\"text-align: right;\">\n      <th></th>\n      <th>Loss</th>\n      <th>Accuracy</th>\n      <th>TP</th>\n      <th>FP</th>\n      <th>TN</th>\n      <th>FN</th>\n      <th>Precision</th>\n      <th>Recall</th>\n      <th>Layers</th>\n      <th>optimiser</th>\n      <th>η</th>\n      <th>activation</th>\n      <th>epoch</th>\n    </tr>\n  </thead>\n  <tbody>\n    <tr>\n      <th>211</th>\n      <td>0.0</td>\n      <td>1.0</td>\n      <td>29.0</td>\n      <td>0.0</td>\n      <td>29.0</td>\n      <td>0.0</td>\n      <td>1.0</td>\n      <td>1.0</td>\n      <td>[64, 16, 2]</td>\n      <td>&lt;class 'keras.optimizers.optimizer_v2.adam.Adam'&gt;</td>\n      <td>0.1</td>\n      <td>relu</td>\n      <td>5</td>\n    </tr>\n    <tr>\n      <th>216</th>\n      <td>0.0</td>\n      <td>1.0</td>\n      <td>29.0</td>\n      <td>0.0</td>\n      <td>29.0</td>\n      <td>0.0</td>\n      <td>1.0</td>\n      <td>1.0</td>\n      <td>[64, 16, 2]</td>\n      <td>&lt;class 'keras.optimizers.optimizer_v2.adam.Adam'&gt;</td>\n      <td>0.1</td>\n      <td>LeakyReLU</td>\n      <td>5</td>\n    </tr>\n  </tbody>\n</table>\n</div>"
     },
     "execution_count": 21,
     "metadata": {},
     "output_type": "execute_result"
    }
   ],
   "source": [
    "df[df.Loss == 0 ][df.epoch == 5]"
   ],
   "metadata": {
    "collapsed": false,
    "pycharm": {
     "name": "#%%\n"
    }
   }
  },
  {
   "cell_type": "markdown",
   "source": [
    "### Second Best:"
   ],
   "metadata": {
    "collapsed": false,
    "pycharm": {
     "name": "#%% md\n"
    }
   }
  },
  {
   "cell_type": "code",
   "execution_count": 22,
   "outputs": [
    {
     "name": "stderr",
     "output_type": "stream",
     "text": [
      "C:\\Users\\Peter\\AppData\\Local\\Temp\\ipykernel_17372\\181343716.py:1: UserWarning: Boolean Series key will be reindexed to match DataFrame index.\n",
      "  df[df.Loss == 0 ][df.epoch == 10]\n"
     ]
    },
    {
     "data": {
      "text/plain": "      Loss  Accuracy    TP   FP    TN   FN  Precision  Recall       Layers  \\\n217    0.0       1.0  29.0  0.0  29.0  0.0        1.0     1.0  [64, 16, 2]   \n1017   0.0       1.0  29.0  0.0  29.0  0.0        1.0     1.0   [16, 4, 2]   \n\n                                              optimiser    η activation  epoch  \n217   <class 'keras.optimizers.optimizer_v2.adam.Adam'>  0.1  LeakyReLU     10  \n1017  <class 'keras.optimizers.optimizer_v2.adam.Adam'>  0.1  LeakyReLU     10  ",
      "text/html": "<div>\n<style scoped>\n    .dataframe tbody tr th:only-of-type {\n        vertical-align: middle;\n    }\n\n    .dataframe tbody tr th {\n        vertical-align: top;\n    }\n\n    .dataframe thead th {\n        text-align: right;\n    }\n</style>\n<table border=\"1\" class=\"dataframe\">\n  <thead>\n    <tr style=\"text-align: right;\">\n      <th></th>\n      <th>Loss</th>\n      <th>Accuracy</th>\n      <th>TP</th>\n      <th>FP</th>\n      <th>TN</th>\n      <th>FN</th>\n      <th>Precision</th>\n      <th>Recall</th>\n      <th>Layers</th>\n      <th>optimiser</th>\n      <th>η</th>\n      <th>activation</th>\n      <th>epoch</th>\n    </tr>\n  </thead>\n  <tbody>\n    <tr>\n      <th>217</th>\n      <td>0.0</td>\n      <td>1.0</td>\n      <td>29.0</td>\n      <td>0.0</td>\n      <td>29.0</td>\n      <td>0.0</td>\n      <td>1.0</td>\n      <td>1.0</td>\n      <td>[64, 16, 2]</td>\n      <td>&lt;class 'keras.optimizers.optimizer_v2.adam.Adam'&gt;</td>\n      <td>0.1</td>\n      <td>LeakyReLU</td>\n      <td>10</td>\n    </tr>\n    <tr>\n      <th>1017</th>\n      <td>0.0</td>\n      <td>1.0</td>\n      <td>29.0</td>\n      <td>0.0</td>\n      <td>29.0</td>\n      <td>0.0</td>\n      <td>1.0</td>\n      <td>1.0</td>\n      <td>[16, 4, 2]</td>\n      <td>&lt;class 'keras.optimizers.optimizer_v2.adam.Adam'&gt;</td>\n      <td>0.1</td>\n      <td>LeakyReLU</td>\n      <td>10</td>\n    </tr>\n  </tbody>\n</table>\n</div>"
     },
     "execution_count": 22,
     "metadata": {},
     "output_type": "execute_result"
    }
   ],
   "source": [
    "df[df.Loss == 0 ][df.epoch == 10]"
   ],
   "metadata": {
    "collapsed": false,
    "pycharm": {
     "name": "#%%\n"
    }
   }
  },
  {
   "cell_type": "markdown",
   "source": [
    "### Third:"
   ],
   "metadata": {
    "collapsed": false,
    "pycharm": {
     "name": "#%% md\n"
    }
   }
  },
  {
   "cell_type": "code",
   "execution_count": 23,
   "outputs": [
    {
     "name": "stderr",
     "output_type": "stream",
     "text": [
      "C:\\Users\\Peter\\AppData\\Local\\Temp\\ipykernel_17372\\1342443713.py:1: UserWarning: Boolean Series key will be reindexed to match DataFrame index.\n",
      "  df[df.Loss == 0 ][df.epoch == 50]\n"
     ]
    },
    {
     "data": {
      "text/plain": "      Loss  Accuracy    TP   FP    TN   FN  Precision  Recall       Layers  \\\n118    0.0       1.0  29.0  0.0  29.0  0.0        1.0     1.0  [64, 16, 2]   \n218    0.0       1.0  29.0  0.0  29.0  0.0        1.0     1.0  [64, 16, 2]   \n618    0.0       1.0  29.0  0.0  29.0  0.0        1.0     1.0   [32, 8, 2]   \n1013   0.0       1.0  29.0  0.0  29.0  0.0        1.0     1.0   [16, 4, 2]   \n1018   0.0       1.0  29.0  0.0  29.0  0.0        1.0     1.0   [16, 4, 2]   \n1418   0.0       1.0  29.0  0.0  29.0  0.0        1.0     1.0    [5, 3, 2]   \n\n                                              optimiser    η activation  epoch  \n118   <class 'keras.optimizers.optimizer_v2.rmsprop....  0.1  LeakyReLU     50  \n218   <class 'keras.optimizers.optimizer_v2.adam.Adam'>  0.1  LeakyReLU     50  \n618   <class 'keras.optimizers.optimizer_v2.adam.Adam'>  0.1  LeakyReLU     50  \n1013  <class 'keras.optimizers.optimizer_v2.adam.Adam'>  0.1       relu     50  \n1018  <class 'keras.optimizers.optimizer_v2.adam.Adam'>  0.1  LeakyReLU     50  \n1418  <class 'keras.optimizers.optimizer_v2.adam.Adam'>  0.1  LeakyReLU     50  ",
      "text/html": "<div>\n<style scoped>\n    .dataframe tbody tr th:only-of-type {\n        vertical-align: middle;\n    }\n\n    .dataframe tbody tr th {\n        vertical-align: top;\n    }\n\n    .dataframe thead th {\n        text-align: right;\n    }\n</style>\n<table border=\"1\" class=\"dataframe\">\n  <thead>\n    <tr style=\"text-align: right;\">\n      <th></th>\n      <th>Loss</th>\n      <th>Accuracy</th>\n      <th>TP</th>\n      <th>FP</th>\n      <th>TN</th>\n      <th>FN</th>\n      <th>Precision</th>\n      <th>Recall</th>\n      <th>Layers</th>\n      <th>optimiser</th>\n      <th>η</th>\n      <th>activation</th>\n      <th>epoch</th>\n    </tr>\n  </thead>\n  <tbody>\n    <tr>\n      <th>118</th>\n      <td>0.0</td>\n      <td>1.0</td>\n      <td>29.0</td>\n      <td>0.0</td>\n      <td>29.0</td>\n      <td>0.0</td>\n      <td>1.0</td>\n      <td>1.0</td>\n      <td>[64, 16, 2]</td>\n      <td>&lt;class 'keras.optimizers.optimizer_v2.rmsprop....</td>\n      <td>0.1</td>\n      <td>LeakyReLU</td>\n      <td>50</td>\n    </tr>\n    <tr>\n      <th>218</th>\n      <td>0.0</td>\n      <td>1.0</td>\n      <td>29.0</td>\n      <td>0.0</td>\n      <td>29.0</td>\n      <td>0.0</td>\n      <td>1.0</td>\n      <td>1.0</td>\n      <td>[64, 16, 2]</td>\n      <td>&lt;class 'keras.optimizers.optimizer_v2.adam.Adam'&gt;</td>\n      <td>0.1</td>\n      <td>LeakyReLU</td>\n      <td>50</td>\n    </tr>\n    <tr>\n      <th>618</th>\n      <td>0.0</td>\n      <td>1.0</td>\n      <td>29.0</td>\n      <td>0.0</td>\n      <td>29.0</td>\n      <td>0.0</td>\n      <td>1.0</td>\n      <td>1.0</td>\n      <td>[32, 8, 2]</td>\n      <td>&lt;class 'keras.optimizers.optimizer_v2.adam.Adam'&gt;</td>\n      <td>0.1</td>\n      <td>LeakyReLU</td>\n      <td>50</td>\n    </tr>\n    <tr>\n      <th>1013</th>\n      <td>0.0</td>\n      <td>1.0</td>\n      <td>29.0</td>\n      <td>0.0</td>\n      <td>29.0</td>\n      <td>0.0</td>\n      <td>1.0</td>\n      <td>1.0</td>\n      <td>[16, 4, 2]</td>\n      <td>&lt;class 'keras.optimizers.optimizer_v2.adam.Adam'&gt;</td>\n      <td>0.1</td>\n      <td>relu</td>\n      <td>50</td>\n    </tr>\n    <tr>\n      <th>1018</th>\n      <td>0.0</td>\n      <td>1.0</td>\n      <td>29.0</td>\n      <td>0.0</td>\n      <td>29.0</td>\n      <td>0.0</td>\n      <td>1.0</td>\n      <td>1.0</td>\n      <td>[16, 4, 2]</td>\n      <td>&lt;class 'keras.optimizers.optimizer_v2.adam.Adam'&gt;</td>\n      <td>0.1</td>\n      <td>LeakyReLU</td>\n      <td>50</td>\n    </tr>\n    <tr>\n      <th>1418</th>\n      <td>0.0</td>\n      <td>1.0</td>\n      <td>29.0</td>\n      <td>0.0</td>\n      <td>29.0</td>\n      <td>0.0</td>\n      <td>1.0</td>\n      <td>1.0</td>\n      <td>[5, 3, 2]</td>\n      <td>&lt;class 'keras.optimizers.optimizer_v2.adam.Adam'&gt;</td>\n      <td>0.1</td>\n      <td>LeakyReLU</td>\n      <td>50</td>\n    </tr>\n  </tbody>\n</table>\n</div>"
     },
     "execution_count": 23,
     "metadata": {},
     "output_type": "execute_result"
    }
   ],
   "source": [
    "df[df.Loss == 0 ][df.epoch == 50]"
   ],
   "metadata": {
    "collapsed": false,
    "pycharm": {
     "name": "#%%\n"
    }
   }
  },
  {
   "cell_type": "markdown",
   "source": [
    "# Conclusion:\n",
    "The best configuration (for epochs below 51 and with 0 loss):\n",
    "- __Nodes Per Layers__: `[64, 16, 2]`. This was the most frequent out of the best configurations. It's notable that there was a configuration for `[5, 3, 2]` that reached 0 loss with 50 epochs. There's only a very few nodes in this setting, however, it did reach 0.\n",
    "- __Optimiser__: `Adam`. This was the most frequent among the best configurations. `RMSprop` was the only other optimiser function that appeared.  `Nadam` and `SGD` didn't reach 0 within 50 epochs.\n",
    "- __η__: `0.1` was the only one to appear. There were a few cases of `0.01` for 100 epochs.\n",
    "- __Activation Function__ is either `LeakyReLU` or `ReLU`."
   ],
   "metadata": {
    "collapsed": false,
    "pycharm": {
     "name": "#%% md\n"
    }
   }
  }
 ],
 "metadata": {
  "kernelspec": {
   "display_name": "Python 3 (ipykernel)",
   "language": "python",
   "name": "python3"
  },
  "language_info": {
   "codemirror_mode": {
    "name": "ipython",
    "version": 3
   },
   "file_extension": ".py",
   "mimetype": "text/x-python",
   "name": "python",
   "nbconvert_exporter": "python",
   "pygments_lexer": "ipython3",
   "version": "3.10.7"
  }
 },
 "nbformat": 4,
 "nbformat_minor": 1
}