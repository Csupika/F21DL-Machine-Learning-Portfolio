{
 "cells": [
  {
   "cell_type": "code",
   "execution_count": 1,
   "outputs": [],
   "source": [
    "# !pip show tensorflow\n",
    "# !pip show keras"
   ],
   "metadata": {
    "collapsed": false,
    "pycharm": {
     "name": "#%%\n"
    }
   }
  },
  {
   "cell_type": "code",
   "execution_count": 2,
   "outputs": [],
   "source": [
    "# !pip install tensorflow\n",
    "# !pip install keras"
   ],
   "metadata": {
    "collapsed": false,
    "pycharm": {
     "name": "#%%\n"
    }
   }
  },
  {
   "cell_type": "code",
   "execution_count": 3,
   "metadata": {
    "pycharm": {
     "name": "#%%\n"
    }
   },
   "outputs": [],
   "source": [
    "import numpy as np\n",
    "import time\n",
    "import keras\n",
    "import pandas as pd\n",
    "from sklearn.model_selection import train_test_split\n",
    "from sklearn.metrics import confusion_matrix"
   ]
  },
  {
   "cell_type": "code",
   "execution_count": 4,
   "metadata": {
    "collapsed": true,
    "pycharm": {
     "name": "#%%\n"
    }
   },
   "outputs": [],
   "source": [
    "X = np.squeeze(np.load('src/smiley_X.npy'))\n",
    "y = np.load('src/smiley_y.npy')"
   ]
  },
  {
   "cell_type": "code",
   "execution_count": 5,
   "outputs": [
    {
     "data": {
      "text/plain": "(144, 9, 9)"
     },
     "execution_count": 5,
     "metadata": {},
     "output_type": "execute_result"
    }
   ],
   "source": [
    "X.shape"
   ],
   "metadata": {
    "collapsed": false,
    "pycharm": {
     "name": "#%%\n"
    }
   }
  },
  {
   "cell_type": "markdown",
   "source": [
    "# Binary Classification Model\n"
   ],
   "metadata": {
    "collapsed": false,
    "pycharm": {
     "name": "#%% md\n"
    }
   }
  },
  {
   "cell_type": "markdown",
   "source": [
    "### Test Train Split"
   ],
   "metadata": {
    "collapsed": false,
    "pycharm": {
     "name": "#%% md\n"
    }
   }
  },
  {
   "cell_type": "code",
   "execution_count": 6,
   "outputs": [],
   "source": [
    "x_train, x_test, y_train, y_test = train_test_split(X, y, test_size=0.2, random_state=5)"
   ],
   "metadata": {
    "collapsed": false,
    "pycharm": {
     "name": "#%%\n"
    }
   }
  },
  {
   "cell_type": "code",
   "execution_count": 7,
   "outputs": [
    {
     "data": {
      "text/plain": "(29,)"
     },
     "execution_count": 7,
     "metadata": {},
     "output_type": "execute_result"
    }
   ],
   "source": [
    "y_test.shape"
   ],
   "metadata": {
    "collapsed": false,
    "pycharm": {
     "name": "#%%\n"
    }
   }
  },
  {
   "cell_type": "markdown",
   "source": [
    "Sigmoid is used for the output layer and there's only 1 output node."
   ],
   "metadata": {
    "collapsed": false,
    "pycharm": {
     "name": "#%% md\n"
    }
   }
  },
  {
   "cell_type": "code",
   "execution_count": 8,
   "outputs": [],
   "source": [
    "model = keras.models.Sequential([\n",
    "    keras.layers.Flatten(input_shape=[9, 9]),\n",
    "    keras.layers.Dense(30, activation=\"relu\"),\n",
    "    keras.layers.Dense(10, activation=\"relu\"),\n",
    "    keras.layers.Dense(1, activation=\"sigmoid\")\n",
    "])"
   ],
   "metadata": {
    "collapsed": false,
    "pycharm": {
     "name": "#%%\n"
    }
   }
  },
  {
   "cell_type": "code",
   "execution_count": 9,
   "outputs": [],
   "source": [
    "model.compile(loss=keras.losses.BinaryCrossentropy(from_logits=True),\n",
    "              optimizer=keras.optimizers.SGD(),\n",
    "              metrics=[keras.metrics.binary_accuracy])"
   ],
   "metadata": {
    "collapsed": false,
    "pycharm": {
     "name": "#%%\n"
    }
   }
  },
  {
   "cell_type": "code",
   "execution_count": 10,
   "outputs": [
    {
     "name": "stdout",
     "output_type": "stream",
     "text": [
      "Epoch 1/10\n"
     ]
    },
    {
     "name": "stderr",
     "output_type": "stream",
     "text": [
      "C:\\Users\\Peter\\OneDrive - Heriot-Watt University\\HW\\Semester\\3\\F21DL - ML\\notebook\\venv\\lib\\site-packages\\keras\\backend.py:5673: UserWarning: \"`binary_crossentropy` received `from_logits=True`, but the `output` argument was produced by a Sigmoid activation and thus does not represent logits. Was this intended?\n",
      "  output, from_logits = _get_logits(\n"
     ]
    },
    {
     "name": "stdout",
     "output_type": "stream",
     "text": [
      "4/4 [==============================] - 1s 3ms/step - loss: 0.6707 - binary_accuracy: 0.6783\n",
      "Epoch 2/10\n",
      "4/4 [==============================] - 0s 3ms/step - loss: 0.6643 - binary_accuracy: 0.6870\n",
      "Epoch 3/10\n",
      "4/4 [==============================] - 0s 4ms/step - loss: 0.6579 - binary_accuracy: 0.7217\n",
      "Epoch 4/10\n",
      "4/4 [==============================] - 0s 2ms/step - loss: 0.6520 - binary_accuracy: 0.7304\n",
      "Epoch 5/10\n",
      "4/4 [==============================] - 0s 3ms/step - loss: 0.6459 - binary_accuracy: 0.7565\n",
      "Epoch 6/10\n",
      "4/4 [==============================] - 0s 3ms/step - loss: 0.6400 - binary_accuracy: 0.7826\n",
      "Epoch 7/10\n",
      "4/4 [==============================] - 0s 2ms/step - loss: 0.6340 - binary_accuracy: 0.7826\n",
      "Epoch 8/10\n",
      "4/4 [==============================] - 0s 3ms/step - loss: 0.6282 - binary_accuracy: 0.8000\n",
      "Epoch 9/10\n",
      "4/4 [==============================] - 0s 3ms/step - loss: 0.6219 - binary_accuracy: 0.8000\n",
      "Epoch 10/10\n",
      "4/4 [==============================] - 0s 3ms/step - loss: 0.6163 - binary_accuracy: 0.8087\n"
     ]
    },
    {
     "data": {
      "text/plain": "<keras.callbacks.History at 0x1576c06b4c0>"
     },
     "execution_count": 10,
     "metadata": {},
     "output_type": "execute_result"
    }
   ],
   "source": [
    "model.fit(x_train, y_train, epochs=10)"
   ],
   "metadata": {
    "collapsed": false,
    "pycharm": {
     "name": "#%%\n"
    }
   }
  },
  {
   "cell_type": "markdown",
   "source": [
    "### Metrics\n",
    "Loss and Accuracy"
   ],
   "metadata": {
    "collapsed": false,
    "pycharm": {
     "name": "#%% md\n"
    }
   }
  },
  {
   "cell_type": "code",
   "execution_count": 11,
   "outputs": [
    {
     "name": "stdout",
     "output_type": "stream",
     "text": [
      "1/1 [==============================] - 0s 260ms/step - loss: 0.6002 - binary_accuracy: 0.8621\n"
     ]
    },
    {
     "data": {
      "text/plain": "[0.6001753211021423, 0.8620689511299133]"
     },
     "execution_count": 11,
     "metadata": {},
     "output_type": "execute_result"
    }
   ],
   "source": [
    "model.evaluate(x_test, y_test)"
   ],
   "metadata": {
    "collapsed": false,
    "pycharm": {
     "name": "#%%\n"
    }
   }
  },
  {
   "cell_type": "markdown",
   "source": [
    "### Confusion Matrix"
   ],
   "metadata": {
    "collapsed": false,
    "pycharm": {
     "name": "#%% md\n"
    }
   }
  },
  {
   "cell_type": "code",
   "execution_count": 12,
   "outputs": [
    {
     "name": "stdout",
     "output_type": "stream",
     "text": [
      "1/1 [==============================] - 0s 138ms/step\n"
     ]
    },
    {
     "data": {
      "text/plain": "array([[0.62068966, 0.        ],\n       [0.37931034, 0.        ]])"
     },
     "execution_count": 12,
     "metadata": {},
     "output_type": "execute_result"
    }
   ],
   "source": [
    "#Predict\n",
    "y_prediction = np.argmax(model.predict(x_test), axis=1)\n",
    "\n",
    "#Create confusion matrix and normalizes it over predicted (columns)\n",
    "confusion_matrix(y_test, y_prediction , normalize='pred')"
   ],
   "metadata": {
    "collapsed": false,
    "pycharm": {
     "name": "#%%\n"
    }
   }
  },
  {
   "cell_type": "markdown",
   "source": [
    "# 🔷 Q: I don't get why it's 0 here for the confusion matrix?"
   ],
   "metadata": {
    "collapsed": false,
    "pycharm": {
     "name": "#%% md\n"
    }
   }
  },
  {
   "cell_type": "markdown",
   "source": [
    "# Categorical Classification Model"
   ],
   "metadata": {
    "collapsed": false,
    "pycharm": {
     "name": "#%% md\n"
    }
   }
  },
  {
   "cell_type": "markdown",
   "source": [
    "### One-hot encode y and new test train split"
   ],
   "metadata": {
    "collapsed": false,
    "pycharm": {
     "name": "#%% md\n"
    }
   }
  },
  {
   "cell_type": "code",
   "execution_count": 13,
   "outputs": [],
   "source": [
    "y = keras.utils.to_categorical(y-1, num_classes = 2)"
   ],
   "metadata": {
    "collapsed": false,
    "pycharm": {
     "name": "#%%\n"
    }
   }
  },
  {
   "cell_type": "code",
   "execution_count": 14,
   "outputs": [],
   "source": [
    "x_train, x_test, y_train, y_test = train_test_split(X, y, test_size=0.2, random_state=5)"
   ],
   "metadata": {
    "collapsed": false,
    "pycharm": {
     "name": "#%%\n"
    }
   }
  },
  {
   "cell_type": "code",
   "execution_count": 15,
   "outputs": [
    {
     "name": "stdout",
     "output_type": "stream",
     "text": [
      "Epoch 1/10\n",
      "4/4 [==============================] - 1s 3ms/step - loss: 0.6247 - categorical_accuracy: 0.7217 - true_positives: 83.0000 - false_positives: 32.0000 - true_negatives: 83.0000 - false_negatives: 32.0000 - precision: 0.7217 - recall: 0.7217\n",
      "Epoch 2/10\n",
      "4/4 [==============================] - 0s 4ms/step - loss: 0.6132 - categorical_accuracy: 0.7304 - true_positives: 84.0000 - false_positives: 31.0000 - true_negatives: 84.0000 - false_negatives: 31.0000 - precision: 0.7304 - recall: 0.7304\n",
      "Epoch 3/10\n",
      "4/4 [==============================] - 0s 3ms/step - loss: 0.6017 - categorical_accuracy: 0.7478 - true_positives: 86.0000 - false_positives: 29.0000 - true_negatives: 86.0000 - false_negatives: 29.0000 - precision: 0.7478 - recall: 0.7478\n",
      "Epoch 4/10\n",
      "4/4 [==============================] - 0s 4ms/step - loss: 0.5905 - categorical_accuracy: 0.7739 - true_positives: 89.0000 - false_positives: 26.0000 - true_negatives: 89.0000 - false_negatives: 26.0000 - precision: 0.7739 - recall: 0.7739\n",
      "Epoch 5/10\n",
      "4/4 [==============================] - 0s 3ms/step - loss: 0.5794 - categorical_accuracy: 0.7739 - true_positives: 89.0000 - false_positives: 26.0000 - true_negatives: 89.0000 - false_negatives: 26.0000 - precision: 0.7739 - recall: 0.7739\n",
      "Epoch 6/10\n",
      "4/4 [==============================] - 0s 3ms/step - loss: 0.5683 - categorical_accuracy: 0.8087 - true_positives: 93.0000 - false_positives: 22.0000 - true_negatives: 93.0000 - false_negatives: 22.0000 - precision: 0.8087 - recall: 0.8087\n",
      "Epoch 7/10\n",
      "4/4 [==============================] - 0s 3ms/step - loss: 0.5572 - categorical_accuracy: 0.8348 - true_positives: 96.0000 - false_positives: 19.0000 - true_negatives: 96.0000 - false_negatives: 19.0000 - precision: 0.8348 - recall: 0.8348\n",
      "Epoch 8/10\n",
      "4/4 [==============================] - 0s 4ms/step - loss: 0.5461 - categorical_accuracy: 0.8435 - true_positives: 97.0000 - false_positives: 18.0000 - true_negatives: 97.0000 - false_negatives: 18.0000 - precision: 0.8435 - recall: 0.8435\n",
      "Epoch 9/10\n",
      "4/4 [==============================] - 0s 3ms/step - loss: 0.5349 - categorical_accuracy: 0.8783 - true_positives: 101.0000 - false_positives: 14.0000 - true_negatives: 101.0000 - false_negatives: 14.0000 - precision: 0.8783 - recall: 0.8783\n",
      "Epoch 10/10\n",
      "4/4 [==============================] - 0s 3ms/step - loss: 0.5243 - categorical_accuracy: 0.8783 - true_positives: 101.0000 - false_positives: 14.0000 - true_negatives: 101.0000 - false_negatives: 14.0000 - precision: 0.8783 - recall: 0.8783\n"
     ]
    },
    {
     "data": {
      "text/plain": "<keras.callbacks.History at 0x1576e372860>"
     },
     "execution_count": 15,
     "metadata": {},
     "output_type": "execute_result"
    }
   ],
   "source": [
    "model = keras.models.Sequential([\n",
    "    keras.layers.Flatten(input_shape=[9, 9]),\n",
    "    keras.layers.Dense(30, activation=\"relu\"),\n",
    "    keras.layers.Dense(10, activation=\"relu\"),\n",
    "    keras.layers.Dense(2, activation=\"softmax\")\n",
    "])\n",
    "model.compile(loss=keras.losses.categorical_crossentropy,\n",
    "              optimizer=keras.optimizers.SGD(learning_rate=0.01),\n",
    "              metrics=[keras.metrics.categorical_accuracy, keras.metrics.TruePositives(), keras.metrics.FalsePositives(), keras.metrics.TrueNegatives(), keras.metrics.FalseNegatives(), keras.metrics.Precision(), keras.metrics.Recall()])\n",
    "model.fit(x_train, y_train, epochs=10)\n",
    "# The metrics are for the train data"
   ],
   "metadata": {
    "collapsed": false,
    "pycharm": {
     "name": "#%%\n"
    }
   }
  },
  {
   "cell_type": "markdown",
   "source": [
    "### Metrics\n",
    "Loss, Accuracy, TP, FP, TN, FN, Precision, Recall"
   ],
   "metadata": {
    "collapsed": false,
    "pycharm": {
     "name": "#%% md\n"
    }
   }
  },
  {
   "cell_type": "code",
   "execution_count": 16,
   "outputs": [
    {
     "name": "stdout",
     "output_type": "stream",
     "text": [
      "1/1 [==============================] - 1s 532ms/step - loss: 0.5091 - categorical_accuracy: 0.8966 - true_positives: 26.0000 - false_positives: 3.0000 - true_negatives: 26.0000 - false_negatives: 3.0000 - precision: 0.8966 - recall: 0.8966\n"
     ]
    },
    {
     "data": {
      "text/plain": "[0.5091281533241272,\n 0.8965517282485962,\n 26.0,\n 3.0,\n 26.0,\n 3.0,\n 0.8965517282485962,\n 0.8965517282485962]"
     },
     "execution_count": 16,
     "metadata": {},
     "output_type": "execute_result"
    }
   ],
   "source": [
    "model.evaluate(x_test, y_test)"
   ],
   "metadata": {
    "collapsed": false,
    "pycharm": {
     "name": "#%%\n"
    }
   }
  },
  {
   "cell_type": "markdown",
   "source": [
    "# Test Suite"
   ],
   "metadata": {
    "collapsed": false,
    "pycharm": {
     "name": "#%% md\n"
    }
   }
  },
  {
   "cell_type": "code",
   "execution_count": 17,
   "outputs": [],
   "source": [
    "# layers_list = [[64,16,2],[32,8,2],[16,4,2],[5,3,2]]\n",
    "# η_list = [0.1, 0.01, 0.001, 0.0001, 0.00001]\n",
    "# epochs = [3, 5, 10, 50, 100]\n",
    "# optimisations = [keras.optimizers.SGD, keras.optimizers.RMSprop, keras.optimizers.Adam, keras.optimizers.Nadam]\n",
    "# activations = [\"sigmoid\", \"tanh\", \"relu\", \"LeakyReLU\"]\n",
    "\n",
    "layers_list = [[16,4,2],[5,3,2]]\n",
    "η_list = [0.0001]\n",
    "epochs = [3, 5]\n",
    "optimisations = [ keras.optimizers.Adam]\n",
    "activations = [\"relu\", ]\n"
   ],
   "metadata": {
    "collapsed": false,
    "pycharm": {
     "name": "#%%\n"
    }
   }
  },
  {
   "cell_type": "code",
   "execution_count": 18,
   "outputs": [
    {
     "name": "stdout",
     "output_type": "stream",
     "text": [
      "\n",
      "####################################################################################\n",
      "Layers      Eta Act.    <Optimisation>\n",
      "[16, 4, 2] 0.0001 relu <class 'keras.optimizers.optimizer_v2.adam.Adam'>\n",
      "Epoch: [Loss, Accuracy, TP, FP, TN, FN, Precision, Recall]\n",
      "\t3: [0.7891502380371094, 0.37931033968925476, 11.0, 18.0, 11.0, 18.0, 0.37931033968925476, 0.37931033968925476]\n",
      "\t5: [0.7301529049873352, 0.27586206793785095, 8.0, 21.0, 8.0, 21.0, 0.27586206793785095, 0.27586206793785095]\n",
      "\n",
      "####################################################################################\n",
      "Layers      Eta Act.    <Optimisation>\n",
      "[5, 3, 2] 0.0001 relu <class 'keras.optimizers.optimizer_v2.adam.Adam'>\n",
      "Epoch: [Loss, Accuracy, TP, FP, TN, FN, Precision, Recall]\n",
      "WARNING:tensorflow:5 out of the last 5 calls to <function Model.make_test_function.<locals>.test_function at 0x0000015771A88D30> triggered tf.function retracing. Tracing is expensive and the excessive number of tracings could be due to (1) creating @tf.function repeatedly in a loop, (2) passing tensors with different shapes, (3) passing Python objects instead of tensors. For (1), please define your @tf.function outside of the loop. For (2), @tf.function has reduce_retracing=True option that can avoid unnecessary retracing. For (3), please refer to https://www.tensorflow.org/guide/function#controlling_retracing and https://www.tensorflow.org/api_docs/python/tf/function for  more details.\n",
      "\t3: [0.7177009582519531, 0.5517241358757019, 16.0, 13.0, 16.0, 13.0, 0.5517241358757019, 0.5517241358757019]\n",
      "WARNING:tensorflow:6 out of the last 6 calls to <function Model.make_test_function.<locals>.test_function at 0x0000015773CA1120> triggered tf.function retracing. Tracing is expensive and the excessive number of tracings could be due to (1) creating @tf.function repeatedly in a loop, (2) passing tensors with different shapes, (3) passing Python objects instead of tensors. For (1), please define your @tf.function outside of the loop. For (2), @tf.function has reduce_retracing=True option that can avoid unnecessary retracing. For (3), please refer to https://www.tensorflow.org/guide/function#controlling_retracing and https://www.tensorflow.org/api_docs/python/tf/function for  more details.\n",
      "\t5: [0.6983932256698608, 0.517241358757019, 15.0, 14.0, 15.0, 14.0, 0.517241358757019, 0.517241358757019]\n",
      "\n",
      "\n",
      "############## DONE\n",
      "8.80081558227539\n"
     ]
    }
   ],
   "source": [
    "run_test_suit = True\n",
    "file_name = \"df_lab10.pkl\"\n",
    "\n",
    "if run_test_suit:\n",
    "    start = time.time()\n",
    "    list_of_results = []\n",
    "    for layer in layers_list:\n",
    "        for opt in optimisations:\n",
    "            for η in η_list:\n",
    "                for act in activations:\n",
    "                    print(\"\\n####################################################################################\")\n",
    "                    print(\"Layers      Eta Act.    <Optimisation>\")\n",
    "                    print(f\"{layer} {η} {act} {opt}\")\n",
    "                    print(\"Epoch: [Loss, Accuracy, TP, FP, TN, FN, Precision, Recall]\")\n",
    "                    for epoch in epochs:\n",
    "                        model = keras.models.Sequential([\n",
    "                            keras.layers.Flatten(input_shape=[9, 9]),\n",
    "                            keras.layers.Dense(layer[0], activation=act),\n",
    "                            keras.layers.Dense(layer[1], activation=act),\n",
    "                            keras.layers.Dense(2, activation=\"softmax\")\n",
    "                        ])\n",
    "                        model.compile(loss=keras.losses.categorical_crossentropy,\n",
    "                                      optimizer=opt(learning_rate=η),\n",
    "                                      metrics=[keras.metrics.categorical_accuracy, keras.metrics.TruePositives(), keras.metrics.FalsePositives(), keras.metrics.TrueNegatives(), keras.metrics.FalseNegatives(), keras.metrics.Precision(), keras.metrics.Recall()])\n",
    "                        model.fit(x_train, y_train, epochs=epoch, verbose= 0)\n",
    "                        result = model.evaluate(x_test, y_test, verbose= 0)\n",
    "                        config = [layer, opt, η, act, epoch]\n",
    "                        list_of_results.append(result + config)\n",
    "                        print(f\"\\t{epoch}: {result}\")\n",
    "\n",
    "    print(\"\\n\\n############## DONE\")\n",
    "    print(time.time() - start)\n",
    "\n",
    "else:\n",
    "    df = pd.read_pickle(file_name)"
   ],
   "metadata": {
    "collapsed": false,
    "pycharm": {
     "name": "#%%\n"
    }
   }
  },
  {
   "cell_type": "code",
   "execution_count": 19,
   "outputs": [
    {
     "data": {
      "text/plain": "       Loss  Accuracy    TP    FP    TN    FN  Precision    Recall  \\\n0  0.789150  0.379310  11.0  18.0  11.0  18.0   0.379310  0.379310   \n1  0.730153  0.275862   8.0  21.0   8.0  21.0   0.275862  0.275862   \n2  0.717701  0.551724  16.0  13.0  16.0  13.0   0.551724  0.551724   \n3  0.698393  0.517241  15.0  14.0  15.0  14.0   0.517241  0.517241   \n\n       Layers                                          optimiser       η  \\\n0  [16, 4, 2]  <class 'keras.optimizers.optimizer_v2.adam.Adam'>  0.0001   \n1  [16, 4, 2]  <class 'keras.optimizers.optimizer_v2.adam.Adam'>  0.0001   \n2   [5, 3, 2]  <class 'keras.optimizers.optimizer_v2.adam.Adam'>  0.0001   \n3   [5, 3, 2]  <class 'keras.optimizers.optimizer_v2.adam.Adam'>  0.0001   \n\n  activation  epoch  \n0       relu      3  \n1       relu      5  \n2       relu      3  \n3       relu      5  ",
      "text/html": "<div>\n<style scoped>\n    .dataframe tbody tr th:only-of-type {\n        vertical-align: middle;\n    }\n\n    .dataframe tbody tr th {\n        vertical-align: top;\n    }\n\n    .dataframe thead th {\n        text-align: right;\n    }\n</style>\n<table border=\"1\" class=\"dataframe\">\n  <thead>\n    <tr style=\"text-align: right;\">\n      <th></th>\n      <th>Loss</th>\n      <th>Accuracy</th>\n      <th>TP</th>\n      <th>FP</th>\n      <th>TN</th>\n      <th>FN</th>\n      <th>Precision</th>\n      <th>Recall</th>\n      <th>Layers</th>\n      <th>optimiser</th>\n      <th>η</th>\n      <th>activation</th>\n      <th>epoch</th>\n    </tr>\n  </thead>\n  <tbody>\n    <tr>\n      <th>0</th>\n      <td>0.789150</td>\n      <td>0.379310</td>\n      <td>11.0</td>\n      <td>18.0</td>\n      <td>11.0</td>\n      <td>18.0</td>\n      <td>0.379310</td>\n      <td>0.379310</td>\n      <td>[16, 4, 2]</td>\n      <td>&lt;class 'keras.optimizers.optimizer_v2.adam.Adam'&gt;</td>\n      <td>0.0001</td>\n      <td>relu</td>\n      <td>3</td>\n    </tr>\n    <tr>\n      <th>1</th>\n      <td>0.730153</td>\n      <td>0.275862</td>\n      <td>8.0</td>\n      <td>21.0</td>\n      <td>8.0</td>\n      <td>21.0</td>\n      <td>0.275862</td>\n      <td>0.275862</td>\n      <td>[16, 4, 2]</td>\n      <td>&lt;class 'keras.optimizers.optimizer_v2.adam.Adam'&gt;</td>\n      <td>0.0001</td>\n      <td>relu</td>\n      <td>5</td>\n    </tr>\n    <tr>\n      <th>2</th>\n      <td>0.717701</td>\n      <td>0.551724</td>\n      <td>16.0</td>\n      <td>13.0</td>\n      <td>16.0</td>\n      <td>13.0</td>\n      <td>0.551724</td>\n      <td>0.551724</td>\n      <td>[5, 3, 2]</td>\n      <td>&lt;class 'keras.optimizers.optimizer_v2.adam.Adam'&gt;</td>\n      <td>0.0001</td>\n      <td>relu</td>\n      <td>3</td>\n    </tr>\n    <tr>\n      <th>3</th>\n      <td>0.698393</td>\n      <td>0.517241</td>\n      <td>15.0</td>\n      <td>14.0</td>\n      <td>15.0</td>\n      <td>14.0</td>\n      <td>0.517241</td>\n      <td>0.517241</td>\n      <td>[5, 3, 2]</td>\n      <td>&lt;class 'keras.optimizers.optimizer_v2.adam.Adam'&gt;</td>\n      <td>0.0001</td>\n      <td>relu</td>\n      <td>5</td>\n    </tr>\n  </tbody>\n</table>\n</div>"
     },
     "execution_count": 19,
     "metadata": {},
     "output_type": "execute_result"
    }
   ],
   "source": [
    "labels = [\"Loss\", \"Accuracy\", \"TP\", \"FP\", \"TN\", \"FN\", \"Precision\", \"Recall\", \"Layers\", \"optimiser\", \"η\", \"activation\", \"epoch\"]\n",
    "df = pd.DataFrame(data = list_of_results, columns=labels)\n",
    "df"
   ],
   "metadata": {
    "collapsed": false,
    "pycharm": {
     "name": "#%%\n"
    }
   }
  },
  {
   "cell_type": "code",
   "execution_count": 20,
   "outputs": [],
   "source": [
    "df.to_pickle(file_name)"
   ],
   "metadata": {
    "collapsed": false,
    "pycharm": {
     "name": "#%%\n"
    }
   }
  }
 ],
 "metadata": {
  "kernelspec": {
   "display_name": "Python 3 (ipykernel)",
   "language": "python",
   "name": "python3"
  },
  "language_info": {
   "codemirror_mode": {
    "name": "ipython",
    "version": 3
   },
   "file_extension": ".py",
   "mimetype": "text/x-python",
   "name": "python",
   "nbconvert_exporter": "python",
   "pygments_lexer": "ipython3",
   "version": "3.10.7"
  }
 },
 "nbformat": 4,
 "nbformat_minor": 1
}