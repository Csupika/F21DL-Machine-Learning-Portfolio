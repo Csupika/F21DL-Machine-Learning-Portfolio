{
 "cells": [
  {
   "cell_type": "code",
   "execution_count": 33,
   "outputs": [],
   "source": [
    "# !pip show tensorflow\n",
    "# !pip show keras"
   ],
   "metadata": {
    "collapsed": false,
    "pycharm": {
     "name": "#%%\n"
    }
   }
  },
  {
   "cell_type": "code",
   "execution_count": 34,
   "outputs": [],
   "source": [
    "# !pip install tensorflow\n",
    "# !pip install keras"
   ],
   "metadata": {
    "collapsed": false,
    "pycharm": {
     "name": "#%%\n"
    }
   }
  },
  {
   "cell_type": "code",
   "execution_count": 35,
   "metadata": {
    "pycharm": {
     "name": "#%%\n"
    }
   },
   "outputs": [],
   "source": [
    "import numpy as np\n",
    "import keras\n",
    "from sklearn.model_selection import train_test_split\n",
    "from sklearn.linear_model import Perceptron"
   ]
  },
  {
   "cell_type": "code",
   "execution_count": 36,
   "metadata": {
    "collapsed": true,
    "pycharm": {
     "name": "#%%\n"
    }
   },
   "outputs": [],
   "source": [
    "X = np.load('src/smiley_X.npy')\n",
    "y = np.load('src/smiley_y.npy')"
   ]
  },
  {
   "cell_type": "code",
   "execution_count": 37,
   "outputs": [
    {
     "data": {
      "text/plain": "(144, 9, 9, 1)"
     },
     "execution_count": 37,
     "metadata": {},
     "output_type": "execute_result"
    }
   ],
   "source": [
    "X.shape"
   ],
   "metadata": {
    "collapsed": false,
    "pycharm": {
     "name": "#%%\n"
    }
   }
  },
  {
   "cell_type": "code",
   "execution_count": 38,
   "metadata": {
    "pycharm": {
     "name": "#%%\n"
    }
   },
   "outputs": [],
   "source": [
    "model = keras.models.Sequential([\n",
    "    keras.layers.Flatten(input_shape=[9, 9]),\n",
    "    keras.layers.Dense(300, activation=\"relu\"),\n",
    "    keras.layers.Dense(100, activation=\"relu\"),\n",
    "    keras.layers.Dense(2, activation=\"softmax\")\n",
    "])"
   ]
  },
  {
   "cell_type": "code",
   "execution_count": 39,
   "outputs": [
    {
     "name": "stdout",
     "output_type": "stream",
     "text": [
      "Model: \"sequential_3\"\n",
      "_________________________________________________________________\n",
      " Layer (type)                Output Shape              Param #   \n",
      "=================================================================\n",
      " flatten_3 (Flatten)         (None, 81)                0         \n",
      "                                                                 \n",
      " dense_9 (Dense)             (None, 300)               24600     \n",
      "                                                                 \n",
      " dense_10 (Dense)            (None, 100)               30100     \n",
      "                                                                 \n",
      " dense_11 (Dense)            (None, 2)                 202       \n",
      "                                                                 \n",
      "=================================================================\n",
      "Total params: 54,902\n",
      "Trainable params: 54,902\n",
      "Non-trainable params: 0\n",
      "_________________________________________________________________\n"
     ]
    }
   ],
   "source": [
    "model.summary()"
   ],
   "metadata": {
    "collapsed": false,
    "pycharm": {
     "name": "#%%\n"
    }
   }
  },
  {
   "cell_type": "code",
   "execution_count": 40,
   "outputs": [],
   "source": [
    "model.compile(loss=keras.losses.sparse_categorical_crossentropy,\n",
    "              optimizer=keras.optimizers.SGD(), #\"sgd\" simply means that we will train the model using simple Stochastic Gradient Descent\n",
    "              metrics=[keras.metrics.sparse_categorical_accuracy])"
   ],
   "metadata": {
    "collapsed": false,
    "pycharm": {
     "name": "#%%\n"
    }
   }
  },
  {
   "cell_type": "code",
   "execution_count": 41,
   "outputs": [
    {
     "name": "stdout",
     "output_type": "stream",
     "text": [
      "Epoch 1/30\n",
      "5/5 [==============================] - 1s 5ms/step - loss: 0.7322 - sparse_categorical_accuracy: 0.3611\n",
      "Epoch 2/30\n",
      "5/5 [==============================] - 0s 6ms/step - loss: 0.7083 - sparse_categorical_accuracy: 0.4306\n",
      "Epoch 3/30\n",
      "5/5 [==============================] - 0s 6ms/step - loss: 0.6864 - sparse_categorical_accuracy: 0.5486\n",
      "Epoch 4/30\n",
      "5/5 [==============================] - 0s 6ms/step - loss: 0.6673 - sparse_categorical_accuracy: 0.6181\n",
      "Epoch 5/30\n",
      "5/5 [==============================] - 0s 5ms/step - loss: 0.6474 - sparse_categorical_accuracy: 0.7153\n",
      "Epoch 6/30\n",
      "5/5 [==============================] - 0s 5ms/step - loss: 0.6296 - sparse_categorical_accuracy: 0.8333\n",
      "Epoch 7/30\n",
      "5/5 [==============================] - 0s 6ms/step - loss: 0.6127 - sparse_categorical_accuracy: 0.8819\n",
      "Epoch 8/30\n",
      "5/5 [==============================] - 0s 6ms/step - loss: 0.5958 - sparse_categorical_accuracy: 0.8889\n",
      "Epoch 9/30\n",
      "5/5 [==============================] - 0s 5ms/step - loss: 0.5799 - sparse_categorical_accuracy: 0.9028\n",
      "Epoch 10/30\n",
      "5/5 [==============================] - 0s 40ms/step - loss: 0.5648 - sparse_categorical_accuracy: 0.8958\n",
      "Epoch 11/30\n",
      "5/5 [==============================] - 0s 5ms/step - loss: 0.5501 - sparse_categorical_accuracy: 0.9028\n",
      "Epoch 12/30\n",
      "5/5 [==============================] - 0s 5ms/step - loss: 0.5359 - sparse_categorical_accuracy: 0.9375\n",
      "Epoch 13/30\n",
      "5/5 [==============================] - 0s 5ms/step - loss: 0.5218 - sparse_categorical_accuracy: 0.9375\n",
      "Epoch 14/30\n",
      "5/5 [==============================] - 0s 5ms/step - loss: 0.5084 - sparse_categorical_accuracy: 0.9306\n",
      "Epoch 15/30\n",
      "5/5 [==============================] - 0s 6ms/step - loss: 0.4949 - sparse_categorical_accuracy: 0.9306\n",
      "Epoch 16/30\n",
      "5/5 [==============================] - 0s 5ms/step - loss: 0.4813 - sparse_categorical_accuracy: 0.9444\n",
      "Epoch 17/30\n",
      "5/5 [==============================] - 0s 4ms/step - loss: 0.4681 - sparse_categorical_accuracy: 0.9514\n",
      "Epoch 18/30\n",
      "5/5 [==============================] - 0s 4ms/step - loss: 0.4556 - sparse_categorical_accuracy: 0.9514\n",
      "Epoch 19/30\n",
      "5/5 [==============================] - 0s 4ms/step - loss: 0.4428 - sparse_categorical_accuracy: 0.9514\n",
      "Epoch 20/30\n",
      "5/5 [==============================] - 0s 6ms/step - loss: 0.4302 - sparse_categorical_accuracy: 0.9375\n",
      "Epoch 21/30\n",
      "5/5 [==============================] - 0s 5ms/step - loss: 0.4178 - sparse_categorical_accuracy: 0.9514\n",
      "Epoch 22/30\n",
      "5/5 [==============================] - 0s 6ms/step - loss: 0.4059 - sparse_categorical_accuracy: 0.9514\n",
      "Epoch 23/30\n",
      "5/5 [==============================] - 0s 7ms/step - loss: 0.3938 - sparse_categorical_accuracy: 0.9583\n",
      "Epoch 24/30\n",
      "5/5 [==============================] - 0s 6ms/step - loss: 0.3819 - sparse_categorical_accuracy: 0.9653\n",
      "Epoch 25/30\n",
      "5/5 [==============================] - 0s 4ms/step - loss: 0.3707 - sparse_categorical_accuracy: 0.9653\n",
      "Epoch 26/30\n",
      "5/5 [==============================] - 0s 4ms/step - loss: 0.3590 - sparse_categorical_accuracy: 0.9653\n",
      "Epoch 27/30\n",
      "5/5 [==============================] - 0s 5ms/step - loss: 0.3479 - sparse_categorical_accuracy: 0.9722\n",
      "Epoch 28/30\n",
      "5/5 [==============================] - 0s 4ms/step - loss: 0.3369 - sparse_categorical_accuracy: 0.9722\n",
      "Epoch 29/30\n",
      "5/5 [==============================] - 0s 5ms/step - loss: 0.3262 - sparse_categorical_accuracy: 0.9722\n",
      "Epoch 30/30\n",
      "5/5 [==============================] - 0s 4ms/step - loss: 0.3158 - sparse_categorical_accuracy: 0.9792\n"
     ]
    }
   ],
   "source": [
    "history = model.fit(X, y, epochs=30)"
   ],
   "metadata": {
    "collapsed": false,
    "pycharm": {
     "name": "#%%\n"
    }
   }
  },
  {
   "cell_type": "code",
   "execution_count": 42,
   "outputs": [],
   "source": [
    "x_train, x_test, y_train, y_test = train_test_split(X, y, test_size=0.2, random_state=5)"
   ],
   "metadata": {
    "collapsed": false,
    "pycharm": {
     "name": "#%%\n"
    }
   }
  },
  {
   "cell_type": "code",
   "execution_count": 43,
   "outputs": [],
   "source": [
    "model = keras.models.Sequential([\n",
    "    keras.layers.Flatten(input_shape=[9, 9]),\n",
    "    keras.layers.Dense(300, activation=\"relu\"),\n",
    "    keras.layers.Dense(100, activation=\"relu\"),\n",
    "    keras.layers.Dense(2, activation=\"softmax\")\n",
    "])"
   ],
   "metadata": {
    "collapsed": false,
    "pycharm": {
     "name": "#%%\n"
    }
   }
  },
  {
   "cell_type": "code",
   "execution_count": 44,
   "outputs": [],
   "source": [
    "model.compile(loss=keras.losses.sparse_categorical_crossentropy,\n",
    "              optimizer=keras.optimizers.SGD(), #\"sgd\" simply means that we will train the model using simple Stochastic Gradient Descent\n",
    "              metrics=[keras.metrics.sparse_categorical_accuracy])"
   ],
   "metadata": {
    "collapsed": false,
    "pycharm": {
     "name": "#%%\n"
    }
   }
  },
  {
   "cell_type": "code",
   "execution_count": 45,
   "outputs": [
    {
     "name": "stdout",
     "output_type": "stream",
     "text": [
      "Epoch 1/300\n"
     ]
    },
    {
     "ename": "ValueError",
     "evalue": "in user code:\n\n    File \"C:\\Users\\Peter\\OneDrive - Heriot-Watt University\\HW\\Semester\\3\\F21DL - ML\\notebook\\venv\\lib\\site-packages\\keras\\engine\\training.py\", line 1160, in train_function  *\n        return step_function(self, iterator)\n    File \"C:\\Users\\Peter\\OneDrive - Heriot-Watt University\\HW\\Semester\\3\\F21DL - ML\\notebook\\venv\\lib\\site-packages\\keras\\engine\\training.py\", line 1146, in step_function  **\n        outputs = model.distribute_strategy.run(run_step, args=(data,))\n    File \"C:\\Users\\Peter\\OneDrive - Heriot-Watt University\\HW\\Semester\\3\\F21DL - ML\\notebook\\venv\\lib\\site-packages\\keras\\engine\\training.py\", line 1135, in run_step  **\n        outputs = model.train_step(data)\n    File \"C:\\Users\\Peter\\OneDrive - Heriot-Watt University\\HW\\Semester\\3\\F21DL - ML\\notebook\\venv\\lib\\site-packages\\keras\\engine\\training.py\", line 998, in train_step\n        return self.compute_metrics(x, y, y_pred, sample_weight)\n    File \"C:\\Users\\Peter\\OneDrive - Heriot-Watt University\\HW\\Semester\\3\\F21DL - ML\\notebook\\venv\\lib\\site-packages\\keras\\engine\\training.py\", line 1092, in compute_metrics\n        self.compiled_metrics.update_state(y, y_pred, sample_weight)\n    File \"C:\\Users\\Peter\\OneDrive - Heriot-Watt University\\HW\\Semester\\3\\F21DL - ML\\notebook\\venv\\lib\\site-packages\\keras\\engine\\compile_utils.py\", line 605, in update_state\n        metric_obj.update_state(y_t, y_p, sample_weight=mask)\n    File \"C:\\Users\\Peter\\OneDrive - Heriot-Watt University\\HW\\Semester\\3\\F21DL - ML\\notebook\\venv\\lib\\site-packages\\keras\\utils\\metrics_utils.py\", line 77, in decorated\n        update_op = update_state_fn(*args, **kwargs)\n    File \"C:\\Users\\Peter\\OneDrive - Heriot-Watt University\\HW\\Semester\\3\\F21DL - ML\\notebook\\venv\\lib\\site-packages\\keras\\metrics\\base_metric.py\", line 143, in update_state_fn\n        return ag_update_state(*args, **kwargs)\n    File \"C:\\Users\\Peter\\OneDrive - Heriot-Watt University\\HW\\Semester\\3\\F21DL - ML\\notebook\\venv\\lib\\site-packages\\keras\\metrics\\base_metric.py\", line 700, in update_state  **\n        matches = ag_fn(y_true, y_pred, **self._fn_kwargs)\n    File \"C:\\Users\\Peter\\OneDrive - Heriot-Watt University\\HW\\Semester\\3\\F21DL - ML\\notebook\\venv\\lib\\site-packages\\keras\\metrics\\metrics.py\", line 3571, in accuracy  **\n        y_true.shape.assert_is_compatible_with(y_pred.shape)\n\n    ValueError: Shapes (None, 1) and (None, 2) are incompatible\n",
     "output_type": "error",
     "traceback": [
      "\u001B[1;31m---------------------------------------------------------------------------\u001B[0m",
      "\u001B[1;31mValueError\u001B[0m                                Traceback (most recent call last)",
      "Cell \u001B[1;32mIn [45], line 1\u001B[0m\n\u001B[1;32m----> 1\u001B[0m history \u001B[38;5;241m=\u001B[39m \u001B[43mmodel\u001B[49m\u001B[38;5;241;43m.\u001B[39;49m\u001B[43mfit\u001B[49m\u001B[43m(\u001B[49m\u001B[43mx_train\u001B[49m\u001B[43m,\u001B[49m\u001B[43m \u001B[49m\u001B[43my_train\u001B[49m\u001B[43m,\u001B[49m\u001B[43m \u001B[49m\u001B[43mepochs\u001B[49m\u001B[38;5;241;43m=\u001B[39;49m\u001B[38;5;241;43m300\u001B[39;49m\u001B[43m,\u001B[49m\u001B[43m \u001B[49m\u001B[43mvalidation_data\u001B[49m\u001B[38;5;241;43m=\u001B[39;49m\u001B[43m(\u001B[49m\u001B[43mx_test\u001B[49m\u001B[43m,\u001B[49m\u001B[43m \u001B[49m\u001B[43my_test\u001B[49m\u001B[43m)\u001B[49m\u001B[43m)\u001B[49m\n",
      "File \u001B[1;32m~\\OneDrive - Heriot-Watt University\\HW\\Semester\\3\\F21DL - ML\\notebook\\venv\\lib\\site-packages\\keras\\utils\\traceback_utils.py:70\u001B[0m, in \u001B[0;36mfilter_traceback.<locals>.error_handler\u001B[1;34m(*args, **kwargs)\u001B[0m\n\u001B[0;32m     67\u001B[0m     filtered_tb \u001B[38;5;241m=\u001B[39m _process_traceback_frames(e\u001B[38;5;241m.\u001B[39m__traceback__)\n\u001B[0;32m     68\u001B[0m     \u001B[38;5;66;03m# To get the full stack trace, call:\u001B[39;00m\n\u001B[0;32m     69\u001B[0m     \u001B[38;5;66;03m# `tf.debugging.disable_traceback_filtering()`\u001B[39;00m\n\u001B[1;32m---> 70\u001B[0m     \u001B[38;5;28;01mraise\u001B[39;00m e\u001B[38;5;241m.\u001B[39mwith_traceback(filtered_tb) \u001B[38;5;28;01mfrom\u001B[39;00m \u001B[38;5;28mNone\u001B[39m\n\u001B[0;32m     71\u001B[0m \u001B[38;5;28;01mfinally\u001B[39;00m:\n\u001B[0;32m     72\u001B[0m     \u001B[38;5;28;01mdel\u001B[39;00m filtered_tb\n",
      "File \u001B[1;32m~\\AppData\\Local\\Temp\\__autograph_generated_file3fa4p2g6.py:15\u001B[0m, in \u001B[0;36mouter_factory.<locals>.inner_factory.<locals>.tf__train_function\u001B[1;34m(iterator)\u001B[0m\n\u001B[0;32m     13\u001B[0m \u001B[38;5;28;01mtry\u001B[39;00m:\n\u001B[0;32m     14\u001B[0m     do_return \u001B[38;5;241m=\u001B[39m \u001B[38;5;28;01mTrue\u001B[39;00m\n\u001B[1;32m---> 15\u001B[0m     retval_ \u001B[38;5;241m=\u001B[39m ag__\u001B[38;5;241m.\u001B[39mconverted_call(ag__\u001B[38;5;241m.\u001B[39mld(step_function), (ag__\u001B[38;5;241m.\u001B[39mld(\u001B[38;5;28mself\u001B[39m), ag__\u001B[38;5;241m.\u001B[39mld(iterator)), \u001B[38;5;28;01mNone\u001B[39;00m, fscope)\n\u001B[0;32m     16\u001B[0m \u001B[38;5;28;01mexcept\u001B[39;00m:\n\u001B[0;32m     17\u001B[0m     do_return \u001B[38;5;241m=\u001B[39m \u001B[38;5;28;01mFalse\u001B[39;00m\n",
      "\u001B[1;31mValueError\u001B[0m: in user code:\n\n    File \"C:\\Users\\Peter\\OneDrive - Heriot-Watt University\\HW\\Semester\\3\\F21DL - ML\\notebook\\venv\\lib\\site-packages\\keras\\engine\\training.py\", line 1160, in train_function  *\n        return step_function(self, iterator)\n    File \"C:\\Users\\Peter\\OneDrive - Heriot-Watt University\\HW\\Semester\\3\\F21DL - ML\\notebook\\venv\\lib\\site-packages\\keras\\engine\\training.py\", line 1146, in step_function  **\n        outputs = model.distribute_strategy.run(run_step, args=(data,))\n    File \"C:\\Users\\Peter\\OneDrive - Heriot-Watt University\\HW\\Semester\\3\\F21DL - ML\\notebook\\venv\\lib\\site-packages\\keras\\engine\\training.py\", line 1135, in run_step  **\n        outputs = model.train_step(data)\n    File \"C:\\Users\\Peter\\OneDrive - Heriot-Watt University\\HW\\Semester\\3\\F21DL - ML\\notebook\\venv\\lib\\site-packages\\keras\\engine\\training.py\", line 998, in train_step\n        return self.compute_metrics(x, y, y_pred, sample_weight)\n    File \"C:\\Users\\Peter\\OneDrive - Heriot-Watt University\\HW\\Semester\\3\\F21DL - ML\\notebook\\venv\\lib\\site-packages\\keras\\engine\\training.py\", line 1092, in compute_metrics\n        self.compiled_metrics.update_state(y, y_pred, sample_weight)\n    File \"C:\\Users\\Peter\\OneDrive - Heriot-Watt University\\HW\\Semester\\3\\F21DL - ML\\notebook\\venv\\lib\\site-packages\\keras\\engine\\compile_utils.py\", line 605, in update_state\n        metric_obj.update_state(y_t, y_p, sample_weight=mask)\n    File \"C:\\Users\\Peter\\OneDrive - Heriot-Watt University\\HW\\Semester\\3\\F21DL - ML\\notebook\\venv\\lib\\site-packages\\keras\\utils\\metrics_utils.py\", line 77, in decorated\n        update_op = update_state_fn(*args, **kwargs)\n    File \"C:\\Users\\Peter\\OneDrive - Heriot-Watt University\\HW\\Semester\\3\\F21DL - ML\\notebook\\venv\\lib\\site-packages\\keras\\metrics\\base_metric.py\", line 143, in update_state_fn\n        return ag_update_state(*args, **kwargs)\n    File \"C:\\Users\\Peter\\OneDrive - Heriot-Watt University\\HW\\Semester\\3\\F21DL - ML\\notebook\\venv\\lib\\site-packages\\keras\\metrics\\base_metric.py\", line 700, in update_state  **\n        matches = ag_fn(y_true, y_pred, **self._fn_kwargs)\n    File \"C:\\Users\\Peter\\OneDrive - Heriot-Watt University\\HW\\Semester\\3\\F21DL - ML\\notebook\\venv\\lib\\site-packages\\keras\\metrics\\metrics.py\", line 3571, in accuracy  **\n        y_true.shape.assert_is_compatible_with(y_pred.shape)\n\n    ValueError: Shapes (None, 1) and (None, 2) are incompatible\n"
     ]
    }
   ],
   "source": [
    "history = model.fit(x_train, y_train, epochs=300, validation_data=(x_test, y_test))"
   ],
   "metadata": {
    "collapsed": false,
    "pycharm": {
     "name": "#%%\n"
    }
   }
  }
 ],
 "metadata": {
  "kernelspec": {
   "display_name": "Python 3 (ipykernel)",
   "language": "python",
   "name": "python3"
  },
  "language_info": {
   "codemirror_mode": {
    "name": "ipython",
    "version": 3
   },
   "file_extension": ".py",
   "mimetype": "text/x-python",
   "name": "python",
   "nbconvert_exporter": "python",
   "pygments_lexer": "ipython3",
   "version": "3.10.7"
  }
 },
 "nbformat": 4,
 "nbformat_minor": 1
}