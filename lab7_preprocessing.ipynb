{
 "cells": [
  {
   "cell_type": "code",
   "execution_count": 1,
   "metadata": {
    "collapsed": true,
    "pycharm": {
     "name": "#%%\n"
    }
   },
   "outputs": [],
   "source": [
    "import os\n",
    "import re\n",
    "\n",
    "import pandas as pd\n",
    "import seaborn as sns\n",
    "import numpy as np\n",
    "from matplotlib import pyplot as plt\n",
    "from nltk.corpus import wordnet\n",
    "\n",
    "SRC_PATH=\"parsed\"\n",
    "\n",
    "# Change the value to True if you want to see the heatmap for correlations\n",
    "display_accuracy_measures = False"
   ]
  },
  {
   "cell_type": "code",
   "execution_count": 2,
   "outputs": [],
   "source": [
    "def load_housing_data(src=SRC_PATH):\n",
    "    csv_path = os.path.join(src, \"src.csv\")\n",
    "    return pd.read_csv(csv_path)"
   ],
   "metadata": {
    "collapsed": false,
    "pycharm": {
     "name": "#%%\n"
    }
   }
  },
  {
   "cell_type": "code",
   "execution_count": 3,
   "outputs": [
    {
     "data": {
      "text/plain": "                 Title  Links  Categories  Images  References  Length  \\\n0            Hammurabi   1103          45      44          97   15484   \n1           Hatshepsut    755          49      18          97   33266   \n2          Ramesses II    662          43      25         119   32507   \n3      Cyrus the Great    515          61      32         213   47616   \n4  Alexander the Great   1910          71      75         401   89053   \n\n   Quality   Theme  \n0      4.0  People  \n1      3.0  People  \n2      2.0  People  \n3      2.0  People  \n4      4.0  People  ",
      "text/html": "<div>\n<style scoped>\n    .dataframe tbody tr th:only-of-type {\n        vertical-align: middle;\n    }\n\n    .dataframe tbody tr th {\n        vertical-align: top;\n    }\n\n    .dataframe thead th {\n        text-align: right;\n    }\n</style>\n<table border=\"1\" class=\"dataframe\">\n  <thead>\n    <tr style=\"text-align: right;\">\n      <th></th>\n      <th>Title</th>\n      <th>Links</th>\n      <th>Categories</th>\n      <th>Images</th>\n      <th>References</th>\n      <th>Length</th>\n      <th>Quality</th>\n      <th>Theme</th>\n    </tr>\n  </thead>\n  <tbody>\n    <tr>\n      <th>0</th>\n      <td>Hammurabi</td>\n      <td>1103</td>\n      <td>45</td>\n      <td>44</td>\n      <td>97</td>\n      <td>15484</td>\n      <td>4.0</td>\n      <td>People</td>\n    </tr>\n    <tr>\n      <th>1</th>\n      <td>Hatshepsut</td>\n      <td>755</td>\n      <td>49</td>\n      <td>18</td>\n      <td>97</td>\n      <td>33266</td>\n      <td>3.0</td>\n      <td>People</td>\n    </tr>\n    <tr>\n      <th>2</th>\n      <td>Ramesses II</td>\n      <td>662</td>\n      <td>43</td>\n      <td>25</td>\n      <td>119</td>\n      <td>32507</td>\n      <td>2.0</td>\n      <td>People</td>\n    </tr>\n    <tr>\n      <th>3</th>\n      <td>Cyrus the Great</td>\n      <td>515</td>\n      <td>61</td>\n      <td>32</td>\n      <td>213</td>\n      <td>47616</td>\n      <td>2.0</td>\n      <td>People</td>\n    </tr>\n    <tr>\n      <th>4</th>\n      <td>Alexander the Great</td>\n      <td>1910</td>\n      <td>71</td>\n      <td>75</td>\n      <td>401</td>\n      <td>89053</td>\n      <td>4.0</td>\n      <td>People</td>\n    </tr>\n  </tbody>\n</table>\n</div>"
     },
     "execution_count": 3,
     "metadata": {},
     "output_type": "execute_result"
    }
   ],
   "source": [
    "df = load_housing_data()\n",
    "df.head()"
   ],
   "metadata": {
    "collapsed": false,
    "pycharm": {
     "name": "#%%\n"
    }
   }
  },
  {
   "cell_type": "code",
   "execution_count": 4,
   "outputs": [
    {
     "name": "stdout",
     "output_type": "stream",
     "text": [
      "<class 'pandas.core.frame.DataFrame'>\n",
      "RangeIndex: 998 entries, 0 to 997\n",
      "Data columns (total 8 columns):\n",
      " #   Column      Non-Null Count  Dtype  \n",
      "---  ------      --------------  -----  \n",
      " 0   Title       998 non-null    object \n",
      " 1   Links       998 non-null    int64  \n",
      " 2   Categories  998 non-null    int64  \n",
      " 3   Images      998 non-null    int64  \n",
      " 4   References  998 non-null    int64  \n",
      " 5   Length      998 non-null    int64  \n",
      " 6   Quality     997 non-null    float64\n",
      " 7   Theme       998 non-null    object \n",
      "dtypes: float64(1), int64(5), object(2)\n",
      "memory usage: 62.5+ KB\n"
     ]
    }
   ],
   "source": [
    "df.info()"
   ],
   "metadata": {
    "collapsed": false,
    "pycharm": {
     "name": "#%%\n"
    }
   }
  },
  {
   "cell_type": "code",
   "execution_count": 5,
   "outputs": [
    {
     "data": {
      "text/plain": "Science                         210\nSociety and social sciences     146\nPeople                          112\nGeography                       106\nTechnology                       98\nHistory                          83\nEveryday life                    57\nPhilosophy and religion          55\nArts                             45\nMathematics                      45\nHealth, medicine and disease     41\nName: Theme, dtype: int64"
     },
     "execution_count": 5,
     "metadata": {},
     "output_type": "execute_result"
    }
   ],
   "source": [
    "df[\"Theme\"].value_counts()"
   ],
   "metadata": {
    "collapsed": false,
    "pycharm": {
     "name": "#%%\n"
    }
   }
  },
  {
   "cell_type": "code",
   "execution_count": 6,
   "outputs": [
    {
     "data": {
      "text/plain": "             Links  Categories      Images   References         Length  \\\ncount   998.000000  998.000000  998.000000   998.000000     998.000000   \nmean    859.871743   38.109218   41.362725   218.013026   50315.901804   \nstd     513.129578   25.571013   37.425723   181.221618   25837.048931   \nmin      99.000000    7.000000    2.000000     6.000000    7047.000000   \n25%     477.000000   21.000000   21.000000    86.000000   30272.000000   \n50%     733.000000   30.000000   31.000000   157.000000   46976.500000   \n75%    1140.750000   44.000000   48.750000   297.750000   63421.500000   \nmax    3662.000000  153.000000  339.000000  1310.000000  165877.000000   \n\n          Quality  \ncount  997.000000  \nmean     2.749248  \nstd      0.959685  \nmin      1.000000  \n25%      2.000000  \n50%      3.000000  \n75%      3.000000  \nmax      5.000000  ",
      "text/html": "<div>\n<style scoped>\n    .dataframe tbody tr th:only-of-type {\n        vertical-align: middle;\n    }\n\n    .dataframe tbody tr th {\n        vertical-align: top;\n    }\n\n    .dataframe thead th {\n        text-align: right;\n    }\n</style>\n<table border=\"1\" class=\"dataframe\">\n  <thead>\n    <tr style=\"text-align: right;\">\n      <th></th>\n      <th>Links</th>\n      <th>Categories</th>\n      <th>Images</th>\n      <th>References</th>\n      <th>Length</th>\n      <th>Quality</th>\n    </tr>\n  </thead>\n  <tbody>\n    <tr>\n      <th>count</th>\n      <td>998.000000</td>\n      <td>998.000000</td>\n      <td>998.000000</td>\n      <td>998.000000</td>\n      <td>998.000000</td>\n      <td>997.000000</td>\n    </tr>\n    <tr>\n      <th>mean</th>\n      <td>859.871743</td>\n      <td>38.109218</td>\n      <td>41.362725</td>\n      <td>218.013026</td>\n      <td>50315.901804</td>\n      <td>2.749248</td>\n    </tr>\n    <tr>\n      <th>std</th>\n      <td>513.129578</td>\n      <td>25.571013</td>\n      <td>37.425723</td>\n      <td>181.221618</td>\n      <td>25837.048931</td>\n      <td>0.959685</td>\n    </tr>\n    <tr>\n      <th>min</th>\n      <td>99.000000</td>\n      <td>7.000000</td>\n      <td>2.000000</td>\n      <td>6.000000</td>\n      <td>7047.000000</td>\n      <td>1.000000</td>\n    </tr>\n    <tr>\n      <th>25%</th>\n      <td>477.000000</td>\n      <td>21.000000</td>\n      <td>21.000000</td>\n      <td>86.000000</td>\n      <td>30272.000000</td>\n      <td>2.000000</td>\n    </tr>\n    <tr>\n      <th>50%</th>\n      <td>733.000000</td>\n      <td>30.000000</td>\n      <td>31.000000</td>\n      <td>157.000000</td>\n      <td>46976.500000</td>\n      <td>3.000000</td>\n    </tr>\n    <tr>\n      <th>75%</th>\n      <td>1140.750000</td>\n      <td>44.000000</td>\n      <td>48.750000</td>\n      <td>297.750000</td>\n      <td>63421.500000</td>\n      <td>3.000000</td>\n    </tr>\n    <tr>\n      <th>max</th>\n      <td>3662.000000</td>\n      <td>153.000000</td>\n      <td>339.000000</td>\n      <td>1310.000000</td>\n      <td>165877.000000</td>\n      <td>5.000000</td>\n    </tr>\n  </tbody>\n</table>\n</div>"
     },
     "execution_count": 6,
     "metadata": {},
     "output_type": "execute_result"
    }
   ],
   "source": [
    "df.describe()"
   ],
   "metadata": {
    "collapsed": false,
    "pycharm": {
     "name": "#%%\n"
    }
   }
  },
  {
   "cell_type": "code",
   "execution_count": 7,
   "outputs": [],
   "source": [
    "# Drop missing values\n",
    "df = df.dropna()"
   ],
   "metadata": {
    "collapsed": false,
    "pycharm": {
     "name": "#%%\n"
    }
   }
  },
  {
   "cell_type": "code",
   "execution_count": 8,
   "outputs": [
    {
     "data": {
      "text/plain": "Empty DataFrame\nColumns: [Title, Links, Categories, Images, References, Length, Quality, Theme]\nIndex: []",
      "text/html": "<div>\n<style scoped>\n    .dataframe tbody tr th:only-of-type {\n        vertical-align: middle;\n    }\n\n    .dataframe tbody tr th {\n        vertical-align: top;\n    }\n\n    .dataframe thead th {\n        text-align: right;\n    }\n</style>\n<table border=\"1\" class=\"dataframe\">\n  <thead>\n    <tr style=\"text-align: right;\">\n      <th></th>\n      <th>Title</th>\n      <th>Links</th>\n      <th>Categories</th>\n      <th>Images</th>\n      <th>References</th>\n      <th>Length</th>\n      <th>Quality</th>\n      <th>Theme</th>\n    </tr>\n  </thead>\n  <tbody>\n  </tbody>\n</table>\n</div>"
     },
     "execution_count": 8,
     "metadata": {},
     "output_type": "execute_result"
    }
   ],
   "source": [
    "df[df.isna().any(axis=1)]"
   ],
   "metadata": {
    "collapsed": false,
    "pycharm": {
     "name": "#%%\n"
    }
   }
  },
  {
   "cell_type": "code",
   "execution_count": 9,
   "outputs": [
    {
     "data": {
      "text/plain": "                 Title  Links  Categories  Images  References  Length  \\\n0            Hammurabi   1103          45      44          97   15484   \n1           Hatshepsut    755          49      18          97   33266   \n2          Ramesses II    662          43      25         119   32507   \n3      Cyrus the Great    515          61      32         213   47616   \n4  Alexander the Great   1910          71      75         401   89053   \n\n   Quality   Theme  \n0      4.0  People  \n1      3.0  People  \n2      2.0  People  \n3      2.0  People  \n4      4.0  People  ",
      "text/html": "<div>\n<style scoped>\n    .dataframe tbody tr th:only-of-type {\n        vertical-align: middle;\n    }\n\n    .dataframe tbody tr th {\n        vertical-align: top;\n    }\n\n    .dataframe thead th {\n        text-align: right;\n    }\n</style>\n<table border=\"1\" class=\"dataframe\">\n  <thead>\n    <tr style=\"text-align: right;\">\n      <th></th>\n      <th>Title</th>\n      <th>Links</th>\n      <th>Categories</th>\n      <th>Images</th>\n      <th>References</th>\n      <th>Length</th>\n      <th>Quality</th>\n      <th>Theme</th>\n    </tr>\n  </thead>\n  <tbody>\n    <tr>\n      <th>0</th>\n      <td>Hammurabi</td>\n      <td>1103</td>\n      <td>45</td>\n      <td>44</td>\n      <td>97</td>\n      <td>15484</td>\n      <td>4.0</td>\n      <td>People</td>\n    </tr>\n    <tr>\n      <th>1</th>\n      <td>Hatshepsut</td>\n      <td>755</td>\n      <td>49</td>\n      <td>18</td>\n      <td>97</td>\n      <td>33266</td>\n      <td>3.0</td>\n      <td>People</td>\n    </tr>\n    <tr>\n      <th>2</th>\n      <td>Ramesses II</td>\n      <td>662</td>\n      <td>43</td>\n      <td>25</td>\n      <td>119</td>\n      <td>32507</td>\n      <td>2.0</td>\n      <td>People</td>\n    </tr>\n    <tr>\n      <th>3</th>\n      <td>Cyrus the Great</td>\n      <td>515</td>\n      <td>61</td>\n      <td>32</td>\n      <td>213</td>\n      <td>47616</td>\n      <td>2.0</td>\n      <td>People</td>\n    </tr>\n    <tr>\n      <th>4</th>\n      <td>Alexander the Great</td>\n      <td>1910</td>\n      <td>71</td>\n      <td>75</td>\n      <td>401</td>\n      <td>89053</td>\n      <td>4.0</td>\n      <td>People</td>\n    </tr>\n  </tbody>\n</table>\n</div>"
     },
     "execution_count": 9,
     "metadata": {},
     "output_type": "execute_result"
    }
   ],
   "source": [
    "df_all_numerical = df.copy()\n",
    "df_all_numerical.head()"
   ],
   "metadata": {
    "collapsed": false,
    "pycharm": {
     "name": "#%%\n"
    }
   }
  },
  {
   "cell_type": "code",
   "execution_count": 10,
   "outputs": [],
   "source": [
    "categories = sorted(set(df['Theme']))"
   ],
   "metadata": {
    "collapsed": false,
    "pycharm": {
     "name": "#%%\n"
    }
   }
  },
  {
   "cell_type": "code",
   "execution_count": 11,
   "outputs": [
    {
     "data": {
      "text/plain": "                 Title  Links  Categories  Images  References  Length  \\\n0            Hammurabi   1103          45      44          97   15484   \n1           Hatshepsut    755          49      18          97   33266   \n2          Ramesses II    662          43      25         119   32507   \n3      Cyrus the Great    515          61      32         213   47616   \n4  Alexander the Great   1910          71      75         401   89053   \n\n   Quality   Theme  T.Numerical  \n0      4.0  People            6  \n1      3.0  People            6  \n2      2.0  People            6  \n3      2.0  People            6  \n4      4.0  People            6  ",
      "text/html": "<div>\n<style scoped>\n    .dataframe tbody tr th:only-of-type {\n        vertical-align: middle;\n    }\n\n    .dataframe tbody tr th {\n        vertical-align: top;\n    }\n\n    .dataframe thead th {\n        text-align: right;\n    }\n</style>\n<table border=\"1\" class=\"dataframe\">\n  <thead>\n    <tr style=\"text-align: right;\">\n      <th></th>\n      <th>Title</th>\n      <th>Links</th>\n      <th>Categories</th>\n      <th>Images</th>\n      <th>References</th>\n      <th>Length</th>\n      <th>Quality</th>\n      <th>Theme</th>\n      <th>T.Numerical</th>\n    </tr>\n  </thead>\n  <tbody>\n    <tr>\n      <th>0</th>\n      <td>Hammurabi</td>\n      <td>1103</td>\n      <td>45</td>\n      <td>44</td>\n      <td>97</td>\n      <td>15484</td>\n      <td>4.0</td>\n      <td>People</td>\n      <td>6</td>\n    </tr>\n    <tr>\n      <th>1</th>\n      <td>Hatshepsut</td>\n      <td>755</td>\n      <td>49</td>\n      <td>18</td>\n      <td>97</td>\n      <td>33266</td>\n      <td>3.0</td>\n      <td>People</td>\n      <td>6</td>\n    </tr>\n    <tr>\n      <th>2</th>\n      <td>Ramesses II</td>\n      <td>662</td>\n      <td>43</td>\n      <td>25</td>\n      <td>119</td>\n      <td>32507</td>\n      <td>2.0</td>\n      <td>People</td>\n      <td>6</td>\n    </tr>\n    <tr>\n      <th>3</th>\n      <td>Cyrus the Great</td>\n      <td>515</td>\n      <td>61</td>\n      <td>32</td>\n      <td>213</td>\n      <td>47616</td>\n      <td>2.0</td>\n      <td>People</td>\n      <td>6</td>\n    </tr>\n    <tr>\n      <th>4</th>\n      <td>Alexander the Great</td>\n      <td>1910</td>\n      <td>71</td>\n      <td>75</td>\n      <td>401</td>\n      <td>89053</td>\n      <td>4.0</td>\n      <td>People</td>\n      <td>6</td>\n    </tr>\n  </tbody>\n</table>\n</div>"
     },
     "execution_count": 11,
     "metadata": {},
     "output_type": "execute_result"
    }
   ],
   "source": [
    "i = 0\n",
    "mapping = {}\n",
    "for category in categories:\n",
    "    mapping.update({category: i})\n",
    "    i+=1\n",
    "\n",
    "df_all_numerical[\"T.Numerical\"] = df_all_numerical.Theme.map(mapping)\n",
    "df_all_numerical.head()"
   ],
   "metadata": {
    "collapsed": false,
    "pycharm": {
     "name": "#%%\n"
    }
   }
  },
  {
   "cell_type": "markdown",
   "source": [
    "# Word Vector Creation"
   ],
   "metadata": {
    "collapsed": false,
    "pycharm": {
     "name": "#%% md\n"
    }
   }
  },
  {
   "cell_type": "code",
   "execution_count": 12,
   "outputs": [],
   "source": [
    "# Importing the necessary functions\n",
    "from nltk.tokenize import word_tokenize\n",
    "import nltk\n",
    "from nltk.corpus import wordnet, stopwords\n",
    "from nltk.stem import WordNetLemmatizer\n",
    "import re, string\n",
    "\n",
    "\n",
    "def lemmatise(text):\n",
    "    \"\"\"Returns lemmatised tokens from the text.\"\"\"\n",
    "    \"\"\"Based on our lab3_preprocessing.ipynb code.\"\"\"\n",
    "    text = text.lower().strip()\n",
    "    text = re.compile('<.*?>').sub('', text)\n",
    "    text = re.compile('[%s]' % re.escape(string.punctuation)).sub(' ', text)\n",
    "    text = re.sub('\\s+', ' ', text)\n",
    "\n",
    "    # We will use a tokenizer from the NLTK library\n",
    "    filtered_sentence = []\n",
    "    # Stop word lists can be adjusted for your problem\n",
    "    stop_words = nltk.corpus.stopwords.words('english')\n",
    "\n",
    "    # Tokenize the sentence\n",
    "    words = word_tokenize(text)\n",
    "    for w in words:\n",
    "        if w not in stop_words:\n",
    "            filtered_sentence.append(w)\n",
    "    text = \" \".join(filtered_sentence)\n",
    "\n",
    "    # Initialize the lemmatizer\n",
    "    wl = WordNetLemmatizer()\n",
    "\n",
    "    # This is a helper function to map NTLK position tags\n",
    "    # Full list is available here: https://www.ling.upenn.edu/courses/Fall_2003/ling001/penn_treebank_pos.html\n",
    "    def get_wordnet_pos(tag):\n",
    "        if tag.startswith('J'):\n",
    "            return wordnet.ADJ\n",
    "        elif tag.startswith('V'):\n",
    "            return wordnet.VERB\n",
    "        elif tag.startswith('N'):\n",
    "            return wordnet.NOUN\n",
    "        elif tag.startswith('R'):\n",
    "            return wordnet.ADV\n",
    "        else:\n",
    "            return wordnet.NOUN\n",
    "\n",
    "    lemmatized_sentence = []\n",
    "    # Tokenize the sentence\n",
    "    words = word_tokenize(text)\n",
    "    # Get position tags\n",
    "    word_pos_tags = nltk.pos_tag(words)\n",
    "    # Map the position tag and lemmatize the word/token\n",
    "    for idx, tag in enumerate(word_pos_tags):\n",
    "        lemmatized_sentence.append(wl.lemmatize(tag[0], get_wordnet_pos(tag[1])))\n",
    "\n",
    "    return lemmatized_sentence"
   ],
   "metadata": {
    "collapsed": false,
    "pycharm": {
     "name": "#%%\n"
    }
   }
  },
  {
   "cell_type": "code",
   "execution_count": 13,
   "outputs": [
    {
     "data": {
      "text/plain": "{'Hammurabi': [1103, 45, 44, 97, 15484, 4.0, 'People', 6],\n 'Hatshepsut': [755, 49, 18, 97, 33266, 3.0, 'People', 6],\n 'Ramesses II': [662, 43, 25, 119, 32507, 2.0, 'People', 6],\n 'Cyrus the Great': [515, 61, 32, 213, 47616, 2.0, 'People', 6],\n 'Alexander the Great': [1910, 71, 75, 401, 89053, 4.0, 'People', 6],\n 'Ashoka': [780, 46, 57, 149, 84837, 3.0, 'People', 6],\n 'Qin Shi Huang': [400, 57, 23, 129, 39510, 3.0, 'People', 6],\n 'Julius Caesar': [840, 93, 41, 358, 53213, 3.0, 'People', 6],\n 'Augustus': [867, 65, 48, 145, 84168, 5.0, 'People', 6],\n 'Charlemagne': [1099, 108, 58, 183, 83252, 2.0, 'People', 6],\n 'Genghis Khan': [611, 82, 38, 173, 56848, 3.0, 'People', 6],\n 'Mansa Musa': [133, 33, 10, 67, 17536, 2.0, 'People', 6],\n 'Joan of Arc': [643, 84, 32, 937, 45538, 5.0, 'People', 6],\n 'Suleiman the Magnificent': [403, 48, 31, 91, 37090, 3.0, 'People', 6],\n 'Akbar': [646, 61, 32, 167, 91274, 3.0, 'People', 6],\n 'Elizabeth I': [615, 81, 42, 138, 57770, 5.0, 'People', 6],\n 'Catherine the Great': [761, 100, 50, 139, 84596, 2.0, 'People', 6],\n 'George Washington': [1318, 113, 76, 289, 110697, 4.0, 'People', 6],\n 'Napoleon': [1673, 112, 90, 290, 116451, 4.0, 'People', 6],\n 'Simón Bolívar': [821, 71, 28, 68, 49455, 3.0, 'People', 6],\n 'Abraham Lincoln': [2047, 97, 63, 297, 91888, 4.0, 'People', 6],\n 'Mahatma Gandhi': [2038, 133, 56, 580, 124934, 4.0, 'People', 6],\n 'Joseph Stalin': [1366, 127, 62, 210, 130198, 4.0, 'People', 6],\n 'Adolf Hitler': [1680, 125, 60, 144, 80697, 4.0, 'People', 6],\n 'Mao Zedong': [1386, 115, 58, 305, 96649, 3.0, 'People', 6],\n 'Nelson Mandela': [1155, 116, 42, 247, 97313, 5.0, 'People', 6],\n 'Abraham': [967, 50, 31, 157, 33875, 2.0, 'People', 6],\n 'Moses': [1039, 75, 31, 171, 53246, 3.0, 'People', 6],\n 'Gautama Buddha': [921, 79, 88, 221, 87167, 3.0, 'People', 6],\n 'Jesus': [1851, 80, 62, 530, 84700, 5.0, 'People', 6],\n 'Paul the Apostle': [1798, 77, 44, 433, 68768, 3.0, 'People', 6],\n 'Muhammad': [1444, 77, 36, 280, 67383, 4.0, 'People', 6],\n 'Adi Shankara': [776, 89, 22, 150, 52761, 4.0, 'People', 6],\n 'Martin Luther': [1203, 108, 65, 145, 77429, 3.0, 'People', 6],\n 'Marco Polo': [385, 77, 30, 146, 52393, 4.0, 'People', 6],\n 'Zheng He': [343, 70, 28, 96, 34481, 2.0, 'People', 6],\n 'Christopher Columbus': [855, 89, 34, 385, 64638, 3.0, 'People', 6],\n 'Vasco da Gama': [481, 63, 31, 64, 37251, 2.0, 'People', 6],\n 'Ferdinand Magellan': [323, 66, 21, 95, 23410, 2.0, 'People', 6],\n 'James Cook': [811, 87, 22, 221, 45792, 3.0, 'People', 6],\n 'Roald Amundsen': [609, 82, 31, 114, 21027, 2.0, 'People', 6],\n 'Confucius': [1119, 111, 31, 239, 41083, 2.0, 'People', 6],\n 'Laozi': [874, 71, 20, 85, 17643, 2.0, 'People', 6],\n 'Herodotus': [562, 66, 12, 99, 15874, 2.0, 'People', 6],\n 'Socrates': [1166, 101, 27, 107, 53327, 4.0, 'People', 6],\n 'Plato': [2271, 126, 49, 232, 79938, 3.0, 'People', 6],\n 'Aristotle': [2232, 136, 67, 276, 65825, 4.0, 'People', 6],\n 'Cicero': [1400, 92, 21, 159, 51670, 3.0, 'People', 6],\n 'Thomas Aquinas': [1717, 132, 37, 190, 73542, 2.0, 'People', 6],\n 'Ibn Khaldun': [862, 74, 18, 114, 34843, 2.0, 'People', 6],\n 'Niccolò Machiavelli': [650, 74, 21, 172, 49950, 4.0, 'People', 6],\n 'René Descartes': [1620, 153, 34, 244, 46941, 2.0, 'People', 6],\n 'John Locke': [1754, 89, 23, 117, 38770, 2.0, 'People', 6],\n 'Adam Smith': [1439, 95, 30, 197, 57018, 3.0, 'People', 6],\n 'Immanuel Kant': [1984, 147, 31, 287, 89715, 3.0, 'People', 6],\n 'Mary Wollstonecraft': [981, 92, 42, 89, 60151, 5.0, 'People', 6],\n 'Karl Marx': [1619, 152, 48, 286, 83138, 4.0, 'People', 6],\n 'Friedrich Nietzsche': [1645, 142, 35, 355, 87095, 3.0, 'People', 6],\n 'Sigmund Freud': [1141, 91, 32, 274, 107760, 3.0, 'People', 6],\n 'Homer': [1013, 66, 22, 131, 22541, 2.0, 'People', 6],\n 'Virgil': [696, 70, 20, 113, 30235, 2.0, 'People', 6],\n 'Li Bai': [409, 62, 21, 79, 37070, 3.0, 'People', 6],\n 'Murasaki Shikibu': [180, 63, 34, 42, 36694, 5.0, 'People', 6],\n 'Rumi': [1553, 90, 26, 147, 38630, 3.0, 'People', 6],\n 'Dante Alighieri': [947, 84, 29, 156, 31453, 2.0, 'People', 6],\n 'Miguel de Cervantes': [232, 89, 16, 99, 23688, 2.0, 'People', 6],\n 'William Shakespeare': [2048, 76, 61, 162, 42401, 5.0, 'People', 6],\n 'Voltaire': [1280, 141, 40, 187, 65517, 3.0, 'People', 6],\n 'Leo Tolstoy': [648, 137, 37, 151, 39097, 2.0, 'People', 6],\n 'Rabindranath Tagore': [1267, 117, 57, 184, 46078, 3.0, 'People', 6],\n 'Leonardo da Vinci': [816, 110, 76, 194, 57125, 4.0, 'People', 6],\n 'Michelangelo': [399, 76, 61, 91, 43597, 3.0, 'People', 6],\n 'Rembrandt': [549, 59, 101, 173, 49715, 4.0, 'People', 6],\n 'Hokusai': [293, 48, 31, 60, 18020, 3.0, 'People', 6],\n 'Pablo Picasso': [928, 80, 54, 158, 50413, 3.0, 'People', 6],\n 'Frida Kahlo': [899, 81, 30, 185, 63699, 3.0, 'People', 6],\n 'Johann Sebastian Bach': [1041, 100, 75, 368, 67621, 3.0, 'People', 6],\n 'Wolfgang Amadeus Mozart': [430, 99, 34, 143, 37761, 3.0, 'People', 6],\n 'Ludwig van Beethoven': [816, 95, 43, 108, 60854, 3.0, 'People', 6],\n 'Louis Armstrong': [778, 107, 35, 171, 56434, 2.0, 'People', 6],\n 'The Beatles': [2141, 78, 48, 264, 94596, 5.0, 'People', 6],\n 'Michael Jackson': [2040, 131, 44, 579, 83095, 5.0, 'People', 6],\n 'Hippocrates': [648, 55, 25, 108, 20369, 2.0, 'People', 6],\n 'Avicenna': [1401, 112, 24, 157, 47805, 3.0, 'People', 6],\n 'Shen Kuo': [609, 101, 42, 38, 57684, 5.0, 'People', 6],\n 'Johannes Gutenberg': [195, 68, 19, 122, 22688, 2.0, 'People', 6],\n 'Nicolaus Copernicus': [583, 96, 45, 203, 77250, 3.0, 'People', 6],\n 'Galileo Galilei': [754, 96, 42, 185, 64203, 2.0, 'People', 6],\n 'Isaac Newton': [1350, 133, 38, 314, 51567, 4.0, 'People', 6],\n 'Carl Linnaeus': [714, 108, 44, 178, 54295, 4.0, 'People', 6],\n 'Antoine Lavoisier': [780, 71, 31, 144, 44513, 3.0, 'People', 6],\n 'Michael Faraday': [464, 81, 33, 143, 30136, 3.0, 'People', 6],\n 'Charles Darwin': [1234, 111, 40, 387, 61649, 5.0, 'People', 6],\n 'Florence Nightingale': [475, 90, 41, 282, 49157, 3.0, 'People', 6],\n 'Louis Pasteur': [364, 85, 24, 287, 45609, 3.0, 'People', 6],\n 'James Clerk Maxwell': [350, 88, 27, 233, 37649, 4.0, 'People', 6],\n 'Dmitri Mendeleev': [330, 82, 24, 97, 21472, 2.0, 'People', 6],\n 'Thomas Edison': [1074, 104, 52, 303, 59069, 2.0, 'People', 6],\n 'Nikola Tesla': [865, 109, 55, 229, 73512, 4.0, 'People', 6],\n 'Marie Curie': [866, 114, 27, 259, 43343, 4.0, 'People', 6],\n 'Albert Einstein': [1218, 137, 60, 520, 75702, 4.0, 'People', 6],\n 'Archimedes': [952, 73, 33, 295, 39037, 5.0, 'People', 6],\n 'Euclid': [736, 63, 19, 75, 14024, 3.0, 'People', 6],\n 'Muhammad ibn Musa al-Khwarizmi': [622, 69, 24, 148, 22921, 3.0, 'People', 6],\n 'Leonhard Euler': [821, 89, 38, 275, 35707, 5.0, 'People', 6],\n 'Carl Friedrich Gauss': [694, 99, 32, 148, 36572, 2.0, 'People', 6],\n 'Emmy Noether': [408, 64, 26, 196, 78301, 5.0, 'People', 6],\n 'Kurt Gödel': [1213, 81, 14, 101, 26509, 3.0, 'People', 6],\n 'Alan Turing': [484, 105, 27, 324, 53347, 4.0, 'People', 6],\n 'Charlie Chaplin': [979, 108, 42, 243, 80764, 5.0, 'People', 6],\n 'Walt Disney': [928, 118, 31, 207, 44580, 5.0, 'People', 6],\n 'Henry Ford': [627, 100, 31, 151, 54330, 2.0, 'People', 6],\n 'History': [732, 34, 21, 113, 44965, 3.0, 'History', 4],\n 'Human history': [1103, 17, 55, 331, 68223, 2.0, 'History', 4],\n 'Civilization': [691, 27, 34, 161, 43299, 2.0, 'History', 4],\n 'Archaeology': [795, 33, 34, 291, 57578, 2.0, 'History', 4],\n 'History of Africa': [1645, 32, 77, 266, 165877, 3.0, 'History', 4],\n 'History of Asia': [750, 19, 37, 45, 81328, 2.0, 'History', 4],\n 'History of East Asia': [677, 15, 33, 54, 60157, 2.0, 'History', 4],\n 'History of India': [1850, 33, 162, 295, 117903, 3.0, 'History', 4],\n 'History of the Middle East': [755, 21, 37, 48, 56810, 2.0, 'History', 4],\n 'History of Europe': [1691, 15, 79, 210, 159481, 3.0, 'History', 4],\n 'History of North America': [442, 14, 12, 42, 25322, 2.0, 'History', 4],\n 'History of Oceania': [519, 7, 43, 103, 52205, 2.0, 'History', 4],\n 'History of South America': [601, 26, 36, 208, 46135, 2.0, 'History', 4],\n 'History of science': [1332, 18, 40, 228, 97872, 2.0, 'History', 4],\n 'History of art': [2225, 20, 284, 184, 96817, 3.0, 'History', 4],\n 'History of agriculture': [812, 14, 34, 302, 48839, 4.0, 'History', 4],\n 'History of architecture': [1854, 25, 267, 75, 77012, 2.0, 'History', 4],\n 'History of film': [1151, 37, 26, 224, 94867, 2.0, 'History', 4],\n 'History of literature': [659, 18, 7, 53, 49841, 1.0, 'History', 4],\n 'History of mathematics': [1022, 14, 40, 96, 70595, 3.0, 'History', 4],\n 'History of medicine': [962, 30, 60, 326, 103887, 2.0, 'History', 4],\n 'History of music': [1242, 17, 44, 158, 46630, 2.0, 'History', 4],\n 'History of technology': [1384, 27, 30, 93, 49357, 2.0, 'History', 4],\n 'Military history': [1042, 25, 21, 79, 52591, 2.0, 'History', 4],\n 'Prehistory': [613, 17, 15, 86, 24529, 2.0, 'History', 4],\n 'Stone Age': [682, 20, 24, 78, 52339, 2.0, 'History', 4],\n 'Early human migrations': [430, 19, 17, 379, 33428, 2.0, 'History', 4],\n 'Neolithic Revolution': [938, 21, 32, 182, 42366, 2.0, 'History', 4],\n 'Ancient history': [672, 21, 36, 53, 49295, 2.0, 'History', 4],\n 'Bronze Age': [657, 20, 28, 148, 53900, 2.0, 'History', 4],\n 'Ancient Egypt': [964, 30, 67, 155, 78842, 5.0, 'History', 4],\n 'Indus Valley Civilisation': [682, 38, 42, 314, 64368, 3.0, 'History', 4],\n 'Mesopotamia': [668, 53, 47, 74, 44464, 2.0, 'History', 4],\n 'Sumer': [1559, 41, 87, 128, 49527, 3.0, 'History', 4],\n 'Phoenicia': [800, 52, 32, 110, 47012, 2.0, 'History', 4],\n 'Iron Age': [385, 25, 9, 70, 26801, 2.0, 'History', 4],\n 'Ancient Greece': [1231, 20, 35, 42, 53197, 2.0, 'History', 4],\n 'Ancient Rome': [2216, 41, 67, 262, 122993, 2.0, 'History', 4],\n 'Achaemenid Empire': [2129, 49, 117, 230, 80550, 2.0, 'History', 4],\n 'Gupta Empire': [704, 29, 64, 84, 28494, 2.0, 'History', 4],\n 'Han dynasty': [1092, 33, 80, 62, 72127, 5.0, 'History', 4],\n 'Silk Road': [918, 63, 60, 177, 60602, 2.0, 'History', 4],\n 'Pre-Columbian era': [1401, 17, 30, 102, 34811, 3.0, 'History', 4],\n 'Andean civilizations': [378, 7, 17, 30, 17706, 2.0, 'History', 4],\n 'Mesoamerica': [1759, 29, 71, 78, 52421, 3.0, 'History', 4],\n 'Maya civilization': [769, 26, 64, 304, 97727, 5.0, 'History', 4],\n 'Post-classical history': [692, 10, 47, 173, 56576, 2.0, 'History', 4],\n 'Aztecs': [615, 35, 70, 146, 92728, 4.0, 'History', 4],\n 'Inca Empire': [851, 36, 30, 126, 54892, 2.0, 'History', 4],\n 'Islamic Golden Age': [1038, 37, 25, 219, 53286, 2.0, 'History', 4],\n 'Middle Ages': [1240, 41, 49, 52, 101512, 5.0, 'History', 4],\n 'Black Death': [487, 41, 21, 295, 42455, 3.0, 'History', 4],\n 'Byzantine Empire': [1804, 57, 91, 335, 110786, 5.0, 'History', 4],\n 'Crusades': [1375, 34, 51, 96, 86181, 4.0, 'History', 4],\n 'Holy Roman Empire': [1140, 56, 54, 214, 83180, 2.0, 'History', 4],\n 'Viking Age': [1135, 30, 30, 112, 64021, 3.0, 'History', 4],\n 'Mongol Empire': [904, 49, 53, 112, 70105, 3.0, 'History', 4],\n 'Ottoman Empire': [1990, 76, 74, 273, 97763, 3.0, 'History', 4],\n 'Tang dynasty': [1237, 31, 71, 85, 96527, 5.0, 'History', 4],\n 'Early modern period': [1235, 34, 32, 174, 83144, 2.0, 'History', 4],\n 'Renaissance': [1449, 36, 41, 133, 66791, 4.0, 'History', 4],\n 'Age of Discovery': [2165, 39, 63, 303, 116856, 2.0, 'History', 4],\n 'European colonization of the Americas': [717,\n  21,\n  28,\n  72,\n  48939,\n  2.0,\n  'History',\n  4],\n 'Western imperialism in Asia': [536, 21, 80, 61, 70040, 2.0, 'History', 4],\n 'Spanish Empire': [1383, 37, 59, 184, 101287, 3.0, 'History', 4],\n 'Reformation': [1470, 46, 49, 225, 75387, 2.0, 'History', 4],\n 'Mughal Empire': [1193, 34, 55, 230, 51582, 2.0, 'History', 4],\n 'Scientific Revolution': [825, 21, 30, 132, 63227, 3.0, 'History', 4],\n 'Age of Enlightenment': [1513, 50, 50, 130, 111562, 2.0, 'History', 4],\n 'Late modern period': [1159, 23, 60, 98, 84509, 2.0, 'History', 4],\n 'British Empire': [1264, 28, 37, 208, 70903, 3.0, 'History', 4],\n 'American Revolution': [1903, 43, 52, 249, 114664, 3.0, 'History', 4],\n 'French Revolution': [1447, 29, 59, 213, 93094, 3.0, 'History', 4],\n 'Industrial Revolution': [1783, 48, 49, 269, 140033, 2.0, 'History', 4],\n 'Scramble for Africa': [916, 24, 34, 107, 48532, 2.0, 'History', 4],\n 'World War I': [1436, 94, 141, 514, 159434, 3.0, 'History', 4],\n 'Soviet Union': [1746, 101, 153, 434, 103478, 3.0, 'History', 4],\n 'Great Depression': [1316, 42, 35, 304, 89755, 3.0, 'History', 4],\n 'World War II': [1474, 124, 78, 349, 85678, 4.0, 'History', 4],\n 'Decolonization': [845, 24, 45, 120, 69857, 2.0, 'History', 4],\n 'Cold War': [1881, 40, 93, 415, 117414, 2.0, 'History', 4],\n 'Green Revolution': [417, 31, 16, 177, 42582, 3.0, 'History', 4],\n 'Information Age': [718, 14, 17, 87, 26119, 2.0, 'History', 4],\n 'Geography': [505, 32, 69, 117, 34282, 2.0, 'Geography', 2],\n 'Continent': [1517, 21, 35, 114, 26504, 2.0, 'Geography', 2],\n 'Africa': [2203, 44, 197, 427, 57071, 2.0, 'Geography', 2],\n 'Antarctica': [1253, 48, 100, 379, 49758, 5.0, 'Geography', 2],\n 'Asia': [2038, 36, 190, 202, 42791, 2.0, 'Geography', 2],\n 'Europe': [2736, 52, 212, 432, 79865, 2.0, 'Geography', 2],\n 'North America': [1993, 41, 142, 313, 51543, 2.0, 'Geography', 2],\n 'South America': [2471, 49, 153, 411, 81545, 2.0, 'Geography', 2],\n 'Arctic': [2003, 34, 36, 99, 18388, 2.0, 'Geography', 2],\n 'Caribbean': [1990, 32, 111, 96, 41659, 2.0, 'Geography', 2],\n 'Middle East': [944, 43, 91, 122, 27793, 2.0, 'Geography', 2],\n 'Oceania': [2372, 32, 145, 733, 95958, 2.0, 'Geography', 2],\n 'Land': [373, 27, 9, 97, 13153, 1.0, 'Geography', 2],\n 'Desert': [578, 21, 37, 205, 58380, 4.0, 'Geography', 2],\n 'Sahara': [721, 41, 40, 165, 52290, 3.0, 'Geography', 2],\n 'Forest': [584, 27, 31, 131, 31721, 2.0, 'Geography', 2],\n 'Amazon rainforest': [1454, 36, 54, 275, 29078, 2.0, 'Geography', 2],\n 'Grassland': [422, 17, 15, 117, 25444, 3.0, 'Geography', 2],\n 'Island': [342, 20, 18, 111, 10750, 2.0, 'Geography', 2],\n 'Mountain': [279, 16, 21, 93, 16713, 3.0, 'Geography', 2],\n 'Alps': [802, 47, 65, 72, 56735, 2.0, 'Geography', 2],\n 'Andes': [1734, 21, 41, 54, 29243, 2.0, 'Geography', 2],\n 'Himalayas': [2057, 37, 26, 114, 34134, 3.0, 'Geography', 2],\n 'Rocky Mountains': [736, 37, 30, 85, 26282, 3.0, 'Geography', 2],\n 'Sea': [1059, 28, 47, 451, 72500, 5.0, 'Geography', 2],\n 'Arctic Ocean': [1983, 43, 37, 151, 28848, 2.0, 'Geography', 2],\n 'Atlantic Ocean': [679, 37, 41, 204, 51426, 2.0, 'Geography', 2],\n 'Mediterranean Sea': [1884, 54, 100, 218, 57598, 2.0, 'Geography', 2],\n 'Indian Ocean': [1774, 30, 42, 208, 49389, 2.0, 'Geography', 2],\n 'Pacific Ocean': [1570, 35, 45, 146, 28312, 2.0, 'Geography', 2],\n 'Great Barrier Reef': [882, 40, 32, 308, 43458, 2.0, 'Geography', 2],\n 'Southern Ocean': [1052, 34, 54, 197, 54509, 3.0, 'Geography', 2],\n 'Lake': [463, 33, 30, 142, 41319, 3.0, 'Geography', 2],\n 'Caspian Sea': [2117, 73, 37, 172, 38208, 2.0, 'Geography', 2],\n 'Great Lakes': [507, 39, 30, 184, 51093, 3.0, 'Geography', 2],\n 'Lake Victoria': [366, 38, 24, 158, 31626, 3.0, 'Geography', 2],\n 'River': [420, 25, 29, 36, 23552, 2.0, 'Geography', 2],\n 'Amazon River': [472, 45, 77, 181, 40236, 2.0, 'Geography', 2],\n 'Ganges': [1216, 42, 40, 210, 63276, 3.0, 'Geography', 2],\n 'Mississippi River': [1020, 52, 53, 214, 60168, 2.0, 'Geography', 2],\n 'Nile': [990, 59, 47, 150, 41671, 2.0, 'Geography', 2],\n 'Yangtze': [740, 58, 62, 206, 54729, 3.0, 'Geography', 2],\n 'Glacier': [553, 22, 44, 112, 33735, 3.0, 'Geography', 2],\n 'Country': [169, 19, 12, 77, 15583, 1.0, 'Geography', 2],\n 'Algeria': [1140, 79, 82, 377, 71715, 2.0, 'Geography', 2],\n 'Democratic Republic of the Congo': [890,\n  62,\n  76,\n  446,\n  75896,\n  2.0,\n  'Geography',\n  2],\n 'Egypt': [1399, 76, 106, 505, 92183, 2.0, 'Geography', 2],\n 'Ethiopia': [1268, 78, 97, 568, 128220, 3.0, 'Geography', 2],\n 'Kenya': [1250, 60, 70, 478, 82946, 3.0, 'Geography', 2],\n 'Nigeria': [1172, 61, 73, 368, 97906, 3.0, 'Geography', 2],\n 'South Africa': [1511, 64, 96, 461, 74867, 2.0, 'Geography', 2],\n 'Tanzania': [867, 60, 73, 387, 76717, 3.0, 'Geography', 2],\n 'Bangladesh': [1771, 71, 123, 652, 123246, 3.0, 'Geography', 2],\n 'China': [2261, 89, 122, 837, 101792, 3.0, 'Geography', 2],\n 'India': [1622, 72, 111, 567, 72689, 5.0, 'Geography', 2],\n 'Indonesia': [1184, 73, 110, 490, 61364, 3.0, 'Geography', 2],\n 'Iran': [2310, 88, 133, 712, 108420, 3.0, 'Geography', 2],\n 'Israel': [1528, 88, 131, 799, 108283, 3.0, 'Geography', 2],\n 'Japan': [1416, 60, 118, 394, 52530, 5.0, 'Geography', 2],\n 'Malaysia': [1358, 58, 94, 466, 59344, 4.0, 'Geography', 2],\n 'Myanmar': [889, 63, 78, 537, 94057, 3.0, 'Geography', 2],\n 'Pakistan': [1972, 72, 136, 799, 113519, 3.0, 'Geography', 2],\n 'Philippines': [1408, 106, 86, 913, 66955, 4.0, 'Geography', 2],\n 'Saudi Arabia': [1130, 74, 103, 706, 122379, 3.0, 'Geography', 2],\n 'South Korea': [1372, 83, 139, 582, 101472, 3.0, 'Geography', 2],\n 'Taiwan': [1201, 68, 79, 611, 108285, 2.0, 'Geography', 2],\n 'Thailand': [1455, 79, 103, 390, 92921, 2.0, 'Geography', 2],\n 'United Arab Emirates': [1256, 67, 92, 501, 84684, 3.0, 'Geography', 2],\n 'Vietnam': [1534, 58, 79, 591, 89949, 3.0, 'Geography', 2],\n 'Russia': [2002, 66, 77, 935, 80648, 4.0, 'Geography', 2],\n 'Turkey': [1910, 80, 166, 627, 106716, 3.0, 'Geography', 2],\n 'France': [2124, 89, 189, 678, 139225, 3.0, 'Geography', 2],\n 'Germany': [1194, 66, 116, 535, 55174, 5.0, 'Geography', 2],\n 'Italy': [2449, 67, 203, 762, 151824, 3.0, 'Geography', 2],\n 'Netherlands': [1528, 69, 170, 377, 111133, 3.0, 'Geography', 2],\n 'Poland': [1637, 52, 154, 461, 75180, 3.0, 'Geography', 2],\n 'Spain': [1393, 87, 160, 472, 108053, 3.0, 'Geography', 2],\n 'Ukraine': [1162, 63, 111, 542, 78983, 3.0, 'Geography', 2],\n 'United Kingdom': [1941, 74, 84, 861, 113013, 3.0, 'Geography', 2],\n 'Canada': [1468, 59, 55, 629, 72756, 5.0, 'Geography', 2],\n 'Mexico': [1244, 73, 82, 491, 127351, 3.0, 'Geography', 2],\n 'United States': [1728, 64, 62, 733, 78048, 3.0, 'Geography', 2],\n 'Australia': [1148, 58, 55, 498, 58947, 5.0, 'Geography', 2],\n 'Argentina': [1643, 73, 146, 447, 91388, 3.0, 'Geography', 2],\n 'Brazil': [1443, 66, 111, 537, 86864, 3.0, 'Geography', 2],\n 'Colombia': [1157, 50, 110, 571, 75687, 2.0, 'Geography', 2],\n 'City': [1377, 34, 63, 287, 58810, 3.0, 'Geography', 2],\n 'Cairo': [953, 61, 101, 250, 62751, 2.0, 'Geography', 2],\n 'Lagos': [761, 46, 68, 283, 50138, 3.0, 'Geography', 2],\n 'Beijing': [2334, 57, 273, 477, 83034, 3.0, 'Geography', 2],\n 'Hong Kong': [1610, 53, 60, 402, 53419, 4.0, 'Geography', 2],\n 'Tokyo': [1275, 53, 339, 252, 45018, 3.0, 'Geography', 2],\n 'Jakarta': [1034, 44, 113, 447, 59494, 3.0, 'Geography', 2],\n 'Singapore': [1374, 63, 82, 742, 85724, 4.0, 'Geography', 2],\n 'Delhi': [1134, 55, 80, 553, 53049, 4.0, 'Geography', 2],\n 'Mumbai': [1341, 64, 83, 642, 66369, 4.0, 'Geography', 2],\n 'Istanbul': [1774, 62, 96, 348, 81358, 3.0, 'Geography', 2],\n 'Jerusalem': [1773, 93, 105, 565, 90868, 3.0, 'Geography', 2],\n 'Mecca': [1160, 45, 44, 178, 48024, 3.0, 'Geography', 2],\n 'London': [2258, 51, 120, 771, 95372, 4.0, 'Geography', 2],\n 'Moscow': [1305, 92, 124, 330, 102554, 3.0, 'Geography', 2],\n 'Paris': [2246, 63, 271, 631, 108219, 4.0, 'Geography', 2],\n 'Rome': [1698, 81, 161, 337, 96480, 3.0, 'Geography', 2],\n 'Mexico City': [1389, 56, 145, 271, 91204, 3.0, 'Geography', 2],\n 'New York City': [2994, 72, 132, 801, 124747, 3.0, 'Geography', 2],\n 'São Paulo': [1885, 48, 152, 391, 90166, 3.0, 'Geography', 2],\n 'The arts': [1055, 23, 33, 83, 21772, 2.0, 'Arts', 0],\n 'Art': [519, 30, 36, 256, 57072, 2.0, 'Arts', 0],\n 'Prehistoric art': [849, 12, 46, 80, 50775, 2.0, 'Arts', 0],\n 'Fashion': [1548, 31, 26, 104, 54418, 2.0, 'Arts', 0],\n 'Museum': [441, 29, 30, 131, 44326, 2.0, 'Arts', 0],\n 'Abstract art': [267, 29, 31, 42, 22941, 3.0, 'Arts', 0],\n 'Modernism': [2339, 20, 35, 114, 78982, 2.0, 'Arts', 0],\n 'Realism (arts)': [728, 9, 37, 26, 25653, 2.0, 'Arts', 0],\n 'Romanticism': [1738, 45, 82, 79, 85474, 2.0, 'Arts', 0],\n 'Architecture': [1053, 23, 73, 73, 30147, 2.0, 'Arts', 0],\n 'Great Pyramid of Giza': [517, 38, 34, 176, 74858, 3.0, 'Arts', 0],\n 'Great Wall of China': [436, 33, 50, 84, 23542, 3.0, 'Arts', 0],\n 'Literature': [421, 31, 24, 189, 31746, 2.0, 'Arts', 0],\n 'English literature': [1093, 25, 31, 99, 81070, 2.0, 'Arts', 0],\n 'Fiction': [326, 19, 7, 75, 15568, 2.0, 'Arts', 0],\n 'Novel': [852, 29, 24, 77, 51620, 2.0, 'Arts', 0],\n 'Short story': [632, 21, 9, 61, 31143, 2.0, 'Arts', 0],\n 'Fairy tale': [1231, 24, 22, 101, 53603, 2.0, 'Arts', 0],\n 'Poetry': [1032, 29, 42, 112, 53688, 3.0, 'Arts', 0],\n 'Epic poetry': [489, 24, 9, 49, 16042, 2.0, 'Arts', 0],\n 'Music': [1052, 56, 54, 146, 83655, 2.0, 'Arts', 0],\n 'Musical instrument': [681, 16, 25, 58, 47860, 4.0, 'Arts', 0],\n 'Piano': [446, 38, 49, 90, 60905, 2.0, 'Arts', 0],\n 'Singing': [315, 23, 13, 79, 37948, 3.0, 'Arts', 0],\n 'Classical music': [1699, 26, 29, 132, 44148, 2.0, 'Arts', 0],\n 'Folk music': [859, 24, 24, 362, 62109, 2.0, 'Arts', 0],\n 'Jazz': [927, 40, 57, 168, 96577, 3.0, 'Arts', 0],\n 'Pop music': [551, 21, 12, 57, 16205, 2.0, 'Arts', 0],\n 'Rock music': [1584, 35, 50, 222, 91417, 2.0, 'Arts', 0],\n 'Performing arts': [253, 18, 18, 40, 23677, 2.0, 'Arts', 0],\n 'Dance': [433, 17, 56, 53, 29830, 2.0, 'Arts', 0],\n 'Opera': [873, 28, 42, 80, 67784, 3.0, 'Arts', 0],\n 'Orchestra': [382, 28, 9, 40, 41088, 2.0, 'Arts', 0],\n 'Theatre': [580, 25, 34, 58, 38357, 2.0, 'Arts', 0],\n 'Visual arts': [382, 19, 22, 58, 20596, 2.0, 'Arts', 0],\n 'Film': [882, 35, 24, 87, 48538, 2.0, 'Arts', 0],\n 'Animation': [879, 13, 20, 67, 36516, 2.0, 'Arts', 0],\n 'Calligraphy': [679, 58, 39, 51, 28036, 2.0, 'Arts', 0],\n 'Comics': [388, 24, 30, 120, 25100, 4.0, 'Arts', 0],\n 'Design': [389, 16, 9, 87, 12243, 2.0, 'Arts', 0],\n 'Drawing': [302, 17, 18, 50, 24158, 2.0, 'Arts', 0],\n 'Painting': [742, 24, 35, 125, 40542, 2.0, 'Arts', 0],\n 'Photography': [527, 27, 38, 107, 45003, 3.0, 'Arts', 0],\n 'Pottery': [533, 14, 37, 88, 49525, 2.0, 'Arts', 0],\n 'Sculpture': [1321, 24, 293, 57, 93678, 3.0, 'Arts', 0],\n 'Philosophy': [917, 33, 34, 345, 46121, 2.0, 'Philosophy and religion', 7],\n 'Philosophy of science': [928,\n  30,\n  23,\n  169,\n  49532,\n  4.0,\n  'Philosophy and religion',\n  7],\n 'Aesthetics': [679, 25, 14, 132, 31549, 2.0, 'Philosophy and religion', 7],\n 'Epistemology': [940, 38, 23, 175, 59761, 2.0, 'Philosophy and religion', 7],\n 'Knowledge': [809, 21, 17, 190, 43380, 2.0, 'Philosophy and religion', 7],\n 'Belief': [1811, 34, 17, 179, 54795, 2.0, 'Philosophy and religion', 7],\n 'Reason': [710, 41, 12, 98, 53820, 3.0, 'Philosophy and religion', 7],\n 'Truth': [990, 34, 10, 77, 53389, 3.0, 'Philosophy and religion', 7],\n 'Ethics': [740, 36, 19, 184, 67035, 2.0, 'Philosophy and religion', 7],\n 'Good and evil': [552, 44, 17, 52, 47791, 2.0, 'Philosophy and religion', 7],\n 'Logic': [701, 26, 16, 304, 57218, 3.0, 'Philosophy and religion', 7],\n 'Metaphysics': [976, 36, 18, 123, 57869, 2.0, 'Philosophy and religion', 7],\n 'Free will': [819, 27, 16, 354, 104137, 3.0, 'Philosophy and religion', 7],\n 'Ontology': [411, 30, 9, 209, 64969, 2.0, 'Philosophy and religion', 7],\n 'Eastern philosophy': [1231,\n  29,\n  21,\n  74,\n  38800,\n  2.0,\n  'Philosophy and religion',\n  7],\n 'Confucianism': [1747, 37, 33, 123, 66840, 2.0, 'Philosophy and religion', 7],\n 'Western philosophy': [979,\n  10,\n  31,\n  42,\n  54990,\n  2.0,\n  'Philosophy and religion',\n  7],\n 'Myth': [345, 26, 15, 93, 28398, 3.0, 'Philosophy and religion', 7],\n 'Greek mythology': [1591,\n  22,\n  37,\n  87,\n  52472,\n  3.0,\n  'Philosophy and religion',\n  7],\n 'Religion': [1875, 31, 34, 290, 61625, 2.0, 'Philosophy and religion', 7],\n 'Afterlife': [1639, 27, 21, 163, 66120, 2.0, 'Philosophy and religion', 7],\n 'Deity': [603, 25, 43, 257, 39466, 2.0, 'Philosophy and religion', 7],\n 'God': [1101, 26, 30, 89, 35533, 3.0, 'Philosophy and religion', 7],\n 'Meditation': [1051, 31, 26, 266, 48047, 3.0, 'Philosophy and religion', 7],\n 'New religious movement': [928,\n  10,\n  13,\n  73,\n  27429,\n  2.0,\n  'Philosophy and religion',\n  7],\n 'Prayer': [1203, 36, 22, 143, 50010, 3.0, 'Philosophy and religion', 7],\n 'Ritual': [943, 12, 20, 65, 41964, 2.0, 'Philosophy and religion', 7],\n 'Shamanism': [1514, 32, 19, 117, 37463, 3.0, 'Philosophy and religion', 7],\n 'Soul': [1253, 40, 15, 157, 45247, 3.0, 'Philosophy and religion', 7],\n 'Spirituality': [1182, 42, 11, 186, 40075, 2.0, 'Philosophy and religion', 7],\n 'Secularism': [440, 16, 7, 45, 18575, 2.0, 'Philosophy and religion', 7],\n 'Atheism': [1776, 41, 28, 427, 62017, 5.0, 'Philosophy and religion', 7],\n 'Christianity': [2199, 54, 80, 461, 95592, 3.0, 'Philosophy and religion', 7],\n 'Bible': [1818, 40, 55, 261, 81756, 2.0, 'Philosophy and religion', 7],\n 'Catholic Church': [3662,\n  60,\n  64,\n  410,\n  96623,\n  4.0,\n  'Philosophy and religion',\n  7],\n 'Eastern Orthodox Church': [1985,\n  42,\n  58,\n  280,\n  83070,\n  2.0,\n  'Philosophy and religion',\n  7],\n 'Protestantism': [1951,\n  39,\n  103,\n  327,\n  108438,\n  3.0,\n  'Philosophy and religion',\n  7],\n 'Islam': [1760, 35, 59, 374, 66376, 3.0, 'Philosophy and religion', 7],\n 'Shia Islam': [1951, 28, 39, 250, 56772, 3.0, 'Philosophy and religion', 7],\n 'Sunni Islam': [1676, 15, 19, 121, 72266, 2.0, 'Philosophy and religion', 7],\n 'Quran': [1193, 56, 49, 203, 63822, 3.0, 'Philosophy and religion', 7],\n 'Judaism': [1367, 46, 59, 200, 95313, 3.0, 'Philosophy and religion', 7],\n 'Talmud': [805, 37, 29, 184, 78377, 3.0, 'Philosophy and religion', 7],\n 'Chinese folk religion': [1157,\n  22,\n  53,\n  151,\n  85492,\n  2.0,\n  'Philosophy and religion',\n  7],\n 'Shinto': [1202, 27, 40, 59, 75016, 3.0, 'Philosophy and religion', 7],\n 'Taoism': [1477, 32, 31, 104, 35722, 4.0, 'Philosophy and religion', 7],\n 'Buddhism': [1772, 41, 93, 305, 119188, 3.0, 'Philosophy and religion', 7],\n 'Mahayana': [1376, 24, 46, 69, 75539, 3.0, 'Philosophy and religion', 7],\n 'Theravada': [1412, 29, 43, 84, 81019, 3.0, 'Philosophy and religion', 7],\n 'Hinduism': [1885, 49, 90, 610, 79134, 3.0, 'Philosophy and religion', 7],\n 'Vedas': [621, 27, 23, 125, 42923, 3.0, 'Philosophy and religion', 7],\n 'Bhagavad Gita': [1245,\n  49,\n  55,\n  220,\n  90820,\n  3.0,\n  'Philosophy and religion',\n  7],\n 'Jainism': [1458, 27, 61, 223, 55745, 4.0, 'Philosophy and religion', 7],\n 'Sikhism': [1201, 35, 36, 206, 70079, 3.0, 'Philosophy and religion', 7],\n 'Traditional African religions': [961,\n  11,\n  14,\n  64,\n  21294,\n  3.0,\n  'Philosophy and religion',\n  7],\n 'Clothing': [811, 21, 40, 131, 33720, 2.0, 'Everyday life', 1],\n 'Home': [504, 22, 26, 108, 14715, 2.0, 'Everyday life', 1],\n 'Furniture': [474, 33, 98, 51, 24822, 2.0, 'Everyday life', 1],\n 'Jewellery': [1262, 21, 79, 55, 56426, 3.0, 'Everyday life', 1],\n 'Ethnic group': [522, 26, 14, 150, 41809, 2.0, 'Everyday life', 1],\n 'Family': [597, 31, 32, 344, 52398, 2.0, 'Everyday life', 1],\n 'Adult': [298, 14, 4, 74, 19315, 2.0, 'Everyday life', 1],\n 'Adolescence': [301, 29, 27, 323, 93538, 3.0, 'Everyday life', 1],\n 'Child': [387, 25, 29, 128, 25339, 2.0, 'Everyday life', 1],\n 'Infant': [270, 20, 27, 82, 19446, 3.0, 'Everyday life', 1],\n 'Marriage': [1409, 52, 53, 435, 116980, 2.0, 'Everyday life', 1],\n 'Old age': [249, 24, 19, 211, 45179, 3.0, 'Everyday life', 1],\n 'Parenting': [294, 23, 13, 189, 36726, 2.0, 'Everyday life', 1],\n 'Friendship': [187, 23, 15, 98, 18432, 1.0, 'Everyday life', 1],\n 'Human sexuality': [915, 27, 13, 326, 66733, 3.0, 'Everyday life', 1],\n 'Sexual intercourse': [798, 24, 20, 312, 58476, 3.0, 'Everyday life', 1],\n 'Sexual orientation': [520, 22, 11, 326, 62157, 3.0, 'Everyday life', 1],\n 'Gender': [591, 29, 20, 332, 71065, 2.0, 'Everyday life', 1],\n 'Man': [292, 23, 13, 97, 12340, 1.0, 'Everyday life', 1],\n 'Woman': [1251, 33, 32, 199, 35041, 2.0, 'Everyday life', 1],\n 'Cooking': [1167, 19, 25, 103, 21667, 2.0, 'Everyday life', 1],\n 'Food': [1746, 28, 55, 327, 42724, 2.0, 'Everyday life', 1],\n 'Bread': [792, 27, 33, 94, 23267, 2.0, 'Everyday life', 1],\n 'Cereal': [622, 19, 14, 77, 15157, 2.0, 'Everyday life', 1],\n 'Wheat': [643, 41, 48, 342, 49930, 3.0, 'Everyday life', 1],\n 'Maize': [924, 45, 59, 300, 59331, 3.0, 'Everyday life', 1],\n 'Rice': [1509, 32, 52, 320, 47871, 3.0, 'Everyday life', 1],\n 'Cheese': [643, 49, 79, 141, 30756, 2.0, 'Everyday life', 1],\n 'Fruit': [816, 19, 31, 88, 22677, 2.0, 'Everyday life', 1],\n 'Meat': [743, 30, 40, 442, 53226, 3.0, 'Everyday life', 1],\n 'Salt': [854, 27, 30, 187, 27247, 4.0, 'Everyday life', 1],\n 'Spice': [948, 18, 27, 43, 13043, 2.0, 'Everyday life', 1],\n 'Sugar': [915, 24, 39, 192, 38621, 4.0, 'Everyday life', 1],\n 'Vegetable': [614, 17, 44, 55, 19405, 4.0, 'Everyday life', 1],\n 'Potato': [656, 42, 43, 240, 47206, 3.0, 'Everyday life', 1],\n 'Soybean': [1122, 52, 37, 335, 51044, 3.0, 'Everyday life', 1],\n 'Drink': [468, 18, 23, 110, 25575, 2.0, 'Everyday life', 1],\n 'Alcoholic beverage': [1229, 22, 24, 64, 19485, 2.0, 'Everyday life', 1],\n 'Coffee': [634, 40, 45, 297, 55454, 3.0, 'Everyday life', 1],\n 'Drinking water': [301, 13, 19, 135, 23074, 3.0, 'Everyday life', 1],\n 'Milk': [612, 25, 82, 313, 57859, 3.0, 'Everyday life', 1],\n 'Tea': [467, 30, 46, 174, 36522, 3.0, 'Everyday life', 1],\n 'Entertainment': [784, 16, 117, 65, 73536, 4.0, 'Everyday life', 1],\n 'Play (activity)': [284, 21, 16, 97, 40784, 2.0, 'Everyday life', 1],\n 'Game': [309, 23, 20, 43, 29463, 2.0, 'Everyday life', 1],\n 'Board game': [264, 31, 25, 146, 21397, 2.0, 'Everyday life', 1],\n 'Card game': [436, 23, 12, 25, 32404, 2.0, 'Everyday life', 1],\n 'Gambling': [278, 24, 20, 77, 22647, 2.0, 'Everyday life', 1],\n 'Video game': [841, 24, 34, 258, 66454, 3.0, 'Everyday life', 1],\n 'Sport': [327, 36, 30, 140, 26102, 2.0, 'Everyday life', 1],\n 'Association football': [984, 42, 49, 240, 41431, 2.0, 'Everyday life', 1],\n 'Sport of athletics': [926, 22, 23, 144, 40850, 3.0, 'Everyday life', 1],\n 'Olympic Games': [2449, 41, 81, 401, 79229, 5.0, 'Everyday life', 1],\n 'Toy': [281, 36, 26, 112, 37680, 2.0, 'Everyday life', 1],\n 'Martial arts': [425, 29, 17, 52, 26988, 3.0, 'Everyday life', 1],\n 'Swimming': [329, 16, 17, 63, 25632, 3.0, 'Everyday life', 1],\n 'Tourism': [1426, 39, 58, 223, 42167, 2.0, 'Everyday life', 1],\n 'Culture': [505, 32, 34, 144, 36428, 2.0, 'Society and social sciences', 9],\n 'Folklore': [619, 15, 23, 84, 45802, 2.0, 'Society and social sciences', 9],\n 'Festival': [281, 20, 30, 95, 11547, 1.0, 'Society and social sciences', 9],\n 'Oral tradition': [253,\n  20,\n  6,\n  123,\n  36450,\n  3.0,\n  'Society and social sciences',\n  9],\n 'Popular culture': [601,\n  28,\n  9,\n  52,\n  21362,\n  2.0,\n  'Society and social sciences',\n  9],\n 'Society': [535, 20, 18, 117, 23914, 2.0, 'Society and social sciences', 9],\n 'Community': [164, 26, 12, 38, 19738, 1.0, 'Society and social sciences', 9],\n 'Power (social and political)': [662,\n  41,\n  10,\n  77,\n  40973,\n  2.0,\n  'Society and social sciences',\n  9],\n 'Social class': [347,\n  40,\n  16,\n  152,\n  29623,\n  2.0,\n  'Society and social sciences',\n  9],\n 'Communication': [802,\n  29,\n  20,\n  136,\n  45923,\n  2.0,\n  'Society and social sciences',\n  9],\n 'Social science': [673,\n  29,\n  23,\n  90,\n  50766,\n  2.0,\n  'Society and social sciences',\n  9],\n 'Anthropology': [919,\n  32,\n  20,\n  190,\n  55386,\n  2.0,\n  'Society and social sciences',\n  9],\n 'Sociology': [833, 29, 29, 211, 87750, 4.0, 'Society and social sciences', 9],\n 'Politics': [667, 27, 28, 138, 36301, 2.0, 'Society and social sciences', 9],\n 'Political party': [606,\n  19,\n  75,\n  301,\n  43345,\n  4.0,\n  'Society and social sciences',\n  9],\n 'Political science': [275,\n  21,\n  17,\n  127,\n  24193,\n  2.0,\n  'Society and social sciences',\n  9],\n 'Colonialism': [1093,\n  31,\n  67,\n  236,\n  71451,\n  2.0,\n  'Society and social sciences',\n  9],\n 'Imperialism': [1127,\n  37,\n  38,\n  157,\n  68961,\n  2.0,\n  'Society and social sciences',\n  9],\n 'Government': [787, 30, 24, 53, 15854, 1.0, 'Society and social sciences', 9],\n 'Democracy': [1511,\n  47,\n  29,\n  320,\n  89684,\n  2.0,\n  'Society and social sciences',\n  9],\n 'Dictatorship': [481,\n  15,\n  17,\n  285,\n  49145,\n  3.0,\n  'Society and social sciences',\n  9],\n 'Monarchy': [1075, 28, 23, 52, 35369, 3.0, 'Society and social sciences', 9],\n 'Ideology': [955, 30, 9, 79, 26648, 2.0, 'Society and social sciences', 9],\n 'Anarchism': [1612,\n  30,\n  31,\n  155,\n  45869,\n  4.0,\n  'Society and social sciences',\n  9],\n 'Capitalism': [1607,\n  60,\n  31,\n  258,\n  50612,\n  2.0,\n  'Society and social sciences',\n  9],\n 'Communism': [1315,\n  61,\n  23,\n  351,\n  85696,\n  2.0,\n  'Society and social sciences',\n  9],\n 'Conservatism': [1528,\n  31,\n  20,\n  244,\n  68761,\n  2.0,\n  'Society and social sciences',\n  9],\n 'Fascism': [1517, 52, 30, 175, 90244, 3.0, 'Society and social sciences', 9],\n 'Liberalism': [1590,\n  36,\n  34,\n  132,\n  66882,\n  3.0,\n  'Society and social sciences',\n  9],\n 'Nationalism': [946,\n  28,\n  31,\n  248,\n  91336,\n  2.0,\n  'Society and social sciences',\n  9],\n 'Socialism': [2336,\n  66,\n  46,\n  464,\n  120918,\n  2.0,\n  'Society and social sciences',\n  9],\n 'State (polity)': [422,\n  25,\n  7,\n  259,\n  44090,\n  2.0,\n  'Society and social sciences',\n  9],\n 'Diplomacy': [427, 25, 24, 76, 39266, 2.0, 'Society and social sciences', 9],\n 'Military': [545, 36, 49, 64, 32863, 2.0, 'Society and social sciences', 9],\n 'European Union': [1721,\n  82,\n  138,\n  443,\n  85357,\n  3.0,\n  'Society and social sciences',\n  9],\n 'International Red Cross and Red Crescent Movement': [785,\n  37,\n  262,\n  77,\n  57406,\n  3.0,\n  'Society and social sciences',\n  9],\n 'NATO': [1295, 93, 104, 373, 42010, 4.0, 'Society and social sciences', 9],\n 'United Nations': [817,\n  63,\n  86,\n  359,\n  57445,\n  4.0,\n  'Society and social sciences',\n  9],\n 'War': [532, 44, 40, 217, 37636, 3.0, 'Society and social sciences', 9],\n 'Genocide': [529, 39, 20, 195, 48882, 3.0, 'Society and social sciences', 9],\n 'Peace': [757, 21, 29, 91, 37232, 2.0, 'Society and social sciences', 9],\n 'Terrorism': [810, 38, 38, 269, 58439, 2.0, 'Society and social sciences', 9],\n 'Education': [1698,\n  45,\n  44,\n  516,\n  71198,\n  2.0,\n  'Society and social sciences',\n  9],\n 'School': [280, 28, 25, 49, 24331, 2.0, 'Society and social sciences', 9],\n 'Library': [340, 30, 31, 179, 36575, 2.0, 'Society and social sciences', 9],\n 'University': [688, 31, 20, 70, 36384, 2.0, 'Society and social sciences', 9],\n 'Business': [339, 27, 18, 83, 26916, 2.0, 'Society and social sciences', 9],\n 'Corporation': [559,\n  24,\n  15,\n  55,\n  30344,\n  2.0,\n  'Society and social sciences',\n  9],\n 'Management': [600, 42, 10, 75, 37903, 2.0, 'Society and social sciences', 9],\n 'Marketing': [361, 21, 11, 72, 33658, 2.0, 'Society and social sciences', 9],\n 'Retail': [1171, 21, 37, 97, 36575, 2.0, 'Society and social sciences', 9],\n 'Trade union': [1252,\n  30,\n  31,\n  220,\n  67283,\n  2.0,\n  'Society and social sciences',\n  9],\n 'Economics': [840, 44, 32, 456, 75409, 2.0, 'Society and social sciences', 9],\n 'Trade': [572, 20, 21, 153, 26473, 2.0, 'Society and social sciences', 9],\n 'Supply and demand': [400,\n  16,\n  15,\n  39,\n  26139,\n  3.0,\n  'Society and social sciences',\n  9],\n 'Employment': [765, 18, 14, 84, 31700, 2.0, 'Society and social sciences', 9],\n 'Finance': [428, 17, 35, 78, 29468, 2.0, 'Society and social sciences', 9],\n 'Bank': [497, 33, 36, 60, 40557, 2.0, 'Society and social sciences', 9],\n 'Money': [527, 28, 24, 69, 34461, 3.0, 'Society and social sciences', 9],\n 'Insurance': [1144,\n  35,\n  29,\n  134,\n  81120,\n  3.0,\n  'Society and social sciences',\n  9],\n 'Tax': [769, 34, 22, 128, 81313, 3.0, 'Society and social sciences', 9],\n 'Economy': [292, 19, 8, 71, 13672, 2.0, 'Society and social sciences', 9],\n 'Agriculture': [702,\n  34,\n  65,\n  441,\n  52187,\n  4.0,\n  'Society and social sciences',\n  9],\n 'Manufacturing': [944,\n  20,\n  66,\n  91,\n  17559,\n  1.0,\n  'Society and social sciences',\n  9],\n 'Construction': [547,\n  18,\n  51,\n  65,\n  29459,\n  2.0,\n  'Society and social sciences',\n  9],\n 'Fishing': [376, 24, 37, 81, 29706, 2.0, 'Society and social sciences', 9],\n 'Hunting': [1226, 50, 107, 240, 64211, 2.0, 'Society and social sciences', 9],\n 'Mining': [1191, 33, 41, 152, 55196, 3.0, 'Society and social sciences', 9],\n 'Abortion': [653, 36, 22, 603, 51998, 3.0, 'Society and social sciences', 9],\n 'Disability': [454,\n  31,\n  19,\n  308,\n  60154,\n  2.0,\n  'Society and social sciences',\n  9],\n 'Discrimination': [798,\n  35,\n  21,\n  162,\n  28943,\n  3.0,\n  'Society and social sciences',\n  9],\n 'Racism': [1578, 31, 38, 290, 88646, 3.0, 'Society and social sciences', 9],\n 'Sexism': [1206, 57, 36, 446, 78621, 2.0, 'Society and social sciences', 9],\n 'Environmentalism': [753,\n  25,\n  29,\n  102,\n  37453,\n  2.0,\n  'Society and social sciences',\n  9],\n 'Pollution': [862, 28, 32, 176, 31269, 3.0, 'Society and social sciences', 9],\n 'Famine': [821, 45, 43, 304, 84360, 2.0, 'Society and social sciences', 9],\n 'Feminism': [1316, 36, 34, 364, 73345, 4.0, 'Society and social sciences', 9],\n 'Globalization': [1191,\n  53,\n  51,\n  373,\n  83310,\n  3.0,\n  'Society and social sciences',\n  9],\n 'Human migration': [209,\n  24,\n  18,\n  108,\n  31683,\n  2.0,\n  'Society and social sciences',\n  9],\n 'Human rights': [921,\n  36,\n  25,\n  133,\n  58775,\n  2.0,\n  'Society and social sciences',\n  9],\n 'Liberty': [1079, 28, 19, 52, 20053, 2.0, 'Society and social sciences', 9],\n 'Privacy': [443, 21, 11, 195, 63691, 2.0, 'Society and social sciences', 9],\n 'Slavery': [2826, 57, 71, 556, 116237, 3.0, 'Society and social sciences', 9],\n 'Social equality': [272,\n  20,\n  11,\n  33,\n  18606,\n  1.0,\n  'Society and social sciences',\n  9],\n 'Suffrage': [964, 32, 15, 160, 58966, 3.0, 'Society and social sciences', 9],\n 'Indigenous peoples': [684,\n  34,\n  41,\n  250,\n  69680,\n  3.0,\n  'Society and social sciences',\n  9],\n 'Poverty': [1003, 30, 47, 551, 59601, 3.0, 'Society and social sciences', 9],\n 'Violence': [256, 33, 20, 277, 69498, 2.0, 'Society and social sciences', 9],\n 'Welfare': [347, 35, 13, 112, 37068, 2.0, 'Society and social sciences', 9],\n 'Law': [1182, 32, 46, 312, 71547, 3.0, 'Society and social sciences', 9],\n 'Crime': [762, 35, 14, 53, 33883, 2.0, 'Society and social sciences', 9],\n 'Constitution': [677,\n  33,\n  23,\n  121,\n  53094,\n  2.0,\n  'Society and social sciences',\n  9],\n 'Justice': [1071, 21, 26, 61, 31318, 2.0, 'Society and social sciences', 9],\n 'Police': [1005, 47, 34, 188, 81941, 2.0, 'Society and social sciences', 9],\n 'Property': [929, 27, 13, 57, 44863, 2.0, 'Society and social sciences', 9],\n 'Psychology': [851,\n  28,\n  31,\n  415,\n  99495,\n  2.0,\n  'Society and social sciences',\n  9],\n 'Emotion': [596, 28, 15, 244, 60615, 2.0, 'Society and social sciences', 9],\n 'Anger': [571, 20, 20, 182, 56463, 2.0, 'Society and social sciences', 9],\n 'Fear': [447, 28, 11, 319, 49548, 3.0, 'Society and social sciences', 9],\n 'Happiness': [589, 45, 22, 291, 28375, 3.0, 'Society and social sciences', 9],\n 'Humour': [429, 21, 13, 95, 33330, 2.0, 'Society and social sciences', 9],\n 'Love': [614, 41, 24, 101, 39954, 2.0, 'Society and social sciences', 9],\n 'Mind': [570, 68, 18, 259, 52688, 2.0, 'Society and social sciences', 9],\n 'Consciousness': [834,\n  30,\n  21,\n  298,\n  75283,\n  4.0,\n  'Society and social sciences',\n  9],\n 'Dream': [368, 19, 22, 143, 33290, 3.0, 'Society and social sciences', 9],\n 'Memory': [488, 20, 21, 376, 63470, 2.0, 'Society and social sciences', 9],\n 'Thought': [260, 45, 11, 274, 64303, 2.0, 'Society and social sciences', 9],\n 'Human behavior': [449,\n  16,\n  15,\n  135,\n  26998,\n  2.0,\n  'Society and social sciences',\n  9],\n 'Intelligence': [283,\n  21,\n  9,\n  105,\n  16985,\n  2.0,\n  'Society and social sciences',\n  9],\n 'Learning': [377, 30, 15, 119, 38189, 2.0, 'Society and social sciences', 9],\n 'Personality': [146, 15, 7, 59, 23815, 2.0, 'Society and social sciences', 9],\n 'Language': [993, 29, 42, 94, 81956, 4.0, 'Society and social sciences', 9],\n 'Indo-European languages': [1098,\n  35,\n  19,\n  93,\n  47932,\n  2.0,\n  'Society and social sciences',\n  9],\n 'Bengali language': [1011,\n  41,\n  38,\n  165,\n  37116,\n  2.0,\n  'Society and social sciences',\n  9],\n 'English language': [1161,\n  51,\n  38,\n  331,\n  90400,\n  4.0,\n  'Society and social sciences',\n  9],\n 'French language': [1067,\n  85,\n  57,\n  156,\n  55961,\n  2.0,\n  'Society and social sciences',\n  9],\n 'German language': [1090,\n  59,\n  54,\n  105,\n  62734,\n  2.0,\n  'Society and social sciences',\n  9],\n 'Greek language': [1190,\n  40,\n  27,\n  92,\n  22970,\n  2.0,\n  'Society and social sciences',\n  9],\n 'Hindustani language': [638,\n  28,\n  15,\n  99,\n  23810,\n  2.0,\n  'Society and social sciences',\n  9],\n 'Latin': [768, 59, 33, 113, 57368, 3.0, 'Society and social sciences', 9],\n 'Portuguese language': [1030,\n  50,\n  62,\n  242,\n  51665,\n  3.0,\n  'Society and social sciences',\n  9],\n 'Russian language': [985,\n  48,\n  30,\n  186,\n  41834,\n  2.0,\n  'Society and social sciences',\n  9],\n 'Spanish language': [787,\n  82,\n  42,\n  496,\n  53297,\n  2.0,\n  'Society and social sciences',\n  9],\n 'Arabic': [963, 78, 82, 157, 88225, 2.0, 'Society and social sciences', 9],\n 'Chinese language': [1161,\n  40,\n  29,\n  65,\n  45785,\n  2.0,\n  'Society and social sciences',\n  9],\n 'Japanese language': [712,\n  34,\n  22,\n  118,\n  46506,\n  2.0,\n  'Society and social sciences',\n  9],\n 'Malay language': [2020,\n  40,\n  29,\n  64,\n  22055,\n  3.0,\n  'Society and social sciences',\n  9],\n 'Swahili language': [1088,\n  41,\n  29,\n  117,\n  34946,\n  3.0,\n  'Society and social sciences',\n  9],\n 'Linguistics': [739,\n  42,\n  15,\n  133,\n  47261,\n  3.0,\n  'Society and social sciences',\n  9],\n 'Grammar': [259, 22, 9, 34, 15844, 2.0, 'Society and social sciences', 9],\n 'Word': [219, 15, 8, 59, 20392, 1.0, 'Society and social sciences', 9],\n 'Personal name': [464,\n  27,\n  7,\n  57,\n  21376,\n  3.0,\n  'Society and social sciences',\n  9],\n 'Speech': [395, 16, 19, 78, 14748, 2.0, 'Society and social sciences', 9],\n 'Writing': [513, 26, 15, 77, 25998, 2.0, 'Society and social sciences', 9],\n 'Alphabet': [787, 17, 16, 44, 31982, 2.0, 'Society and social sciences', 9],\n 'Arabic script': [1262,\n  50,\n  37,\n  76,\n  20537,\n  1.0,\n  'Society and social sciences',\n  9],\n 'Brahmic scripts': [838,\n  12,\n  282,\n  23,\n  7047,\n  2.0,\n  'Society and social sciences',\n  9],\n 'Cyrillic script': [1836,\n  34,\n  44,\n  58,\n  24500,\n  2.0,\n  'Society and social sciences',\n  9],\n 'Greek alphabet': [1558,\n  21,\n  160,\n  61,\n  34805,\n  3.0,\n  'Society and social sciences',\n  9],\n 'Latin script': [1022,\n  20,\n  160,\n  45,\n  22149,\n  2.0,\n  'Society and social sciences',\n  9],\n 'Arabic numerals': [343,\n  23,\n  12,\n  64,\n  12251,\n  1.0,\n  'Society and social sciences',\n  9],\n 'Chinese characters': [1138,\n  47,\n  58,\n  108,\n  85654,\n  2.0,\n  'Society and social sciences',\n  9],\n 'Mass media': [551, 37, 22, 66, 46683, 2.0, 'Society and social sciences', 9],\n 'Broadcasting': [615,\n  17,\n  14,\n  53,\n  20453,\n  2.0,\n  'Society and social sciences',\n  9],\n 'News': [451, 18, 14, 62, 82901, 2.0, 'Society and social sciences', 9],\n 'Publishing': [226, 20, 12, 58, 14720, 3.0, 'Society and social sciences', 9],\n 'Disease': [385, 24, 15, 96, 35665, 2.0, 'Health, medicine and disease', 3],\n 'Allergy': [630, 33, 19, 326, 39557, 3.0, 'Health, medicine and disease', 3],\n 'Asthma': [455, 26, 22, 641, 49712, 4.0, 'Health, medicine and disease', 3],\n 'Cancer': [580, 33, 26, 608, 66853, 3.0, 'Health, medicine and disease', 3],\n 'Cardiovascular disease': [604,\n  18,\n  11,\n  519,\n  38591,\n  2.0,\n  'Health, medicine and disease',\n  3],\n 'Stroke': [571, 35, 22, 627, 66303, 3.0, 'Health, medicine and disease', 3],\n 'Diabetes': [371, 25, 18, 392, 39605, 3.0, 'Health, medicine and disease', 3],\n 'Gastroenteritis': [462,\n  22,\n  10,\n  237,\n  22260,\n  4.0,\n  'Health, medicine and disease',\n  3],\n 'Infection': [802,\n  29,\n  24,\n  209,\n  57249,\n  2.0,\n  'Health, medicine and disease',\n  3],\n 'Common cold': [399,\n  24,\n  13,\n  219,\n  18113,\n  4.0,\n  'Health, medicine and disease',\n  3],\n 'Influenza': [517,\n  25,\n  31,\n  185,\n  66988,\n  5.0,\n  'Health, medicine and disease',\n  3],\n 'Malaria': [630, 36, 41, 754, 72852, 4.0, 'Health, medicine and disease', 3],\n 'Pneumonia': [482,\n  26,\n  24,\n  354,\n  46100,\n  4.0,\n  'Health, medicine and disease',\n  3],\n 'Sexually transmitted infection': [719,\n  44,\n  21,\n  264,\n  29243,\n  3.0,\n  'Health, medicine and disease',\n  3],\n 'HIV_AIDS': [779, 43, 36, 741, 62137, 4.0, 'Health, medicine and disease', 3],\n 'Smallpox': [628, 39, 36, 332, 72839, 4.0, 'Health, medicine and disease', 3],\n 'Tuberculosis': [485,\n  46,\n  28,\n  593,\n  47996,\n  4.0,\n  'Health, medicine and disease',\n  3],\n 'Mental disorder': [572,\n  39,\n  21,\n  581,\n  76045,\n  2.0,\n  'Health, medicine and disease',\n  3],\n 'Injury': [381, 17, 15, 299, 28298, 3.0, 'Health, medicine and disease', 3],\n 'Medicine': [686, 23, 37, 131, 50498, 2.0, 'Health, medicine and disease', 3],\n 'Dentistry': [511,\n  18,\n  23,\n  119,\n  22501,\n  2.0,\n  'Health, medicine and disease',\n  3],\n 'Hospital': [499, 37, 35, 92, 28215, 2.0, 'Health, medicine and disease', 3],\n 'Nursing': [474, 30, 20, 184, 67861, 2.0, 'Health, medicine and disease', 3],\n 'Surgery': [474, 24, 26, 187, 42356, 3.0, 'Health, medicine and disease', 3],\n 'Ageing': [399, 36, 20, 615, 55010, 3.0, 'Health, medicine and disease', 3],\n 'Exercise': [270, 19, 22, 423, 24084, 2.0, 'Health, medicine and disease', 3],\n 'Health': [279, 18, 15, 138, 29524, 2.0, 'Health, medicine and disease', 3],\n 'Mental health': [703,\n  35,\n  21,\n  258,\n  44511,\n  2.0,\n  'Health, medicine and disease',\n  3],\n 'Hygiene': [629, 29, 23, 167, 44228, 2.0, 'Health, medicine and disease', 3],\n 'Sanitation': [583,\n  16,\n  28,\n  97,\n  27192,\n  3.0,\n  'Health, medicine and disease',\n  3],\n 'Nutrition': [399, 14, 20, 67, 17668, 2.0, 'Health, medicine and disease', 3],\n 'Obesity': [425, 31, 26, 628, 50980, 4.0, 'Health, medicine and disease', 3],\n 'Drug': [709, 9, 10, 80, 11940, 2.0, 'Health, medicine and disease', 3],\n 'Medication': [584,\n  22,\n  10,\n  103,\n  39510,\n  2.0,\n  'Health, medicine and disease',\n  3],\n 'Anesthesia': [684,\n  18,\n  22,\n  165,\n  42320,\n  2.0,\n  'Health, medicine and disease',\n  3],\n 'Antibiotic': [921,\n  26,\n  20,\n  469,\n  46239,\n  2.0,\n  'Health, medicine and disease',\n  3],\n 'Birth control': [759,\n  28,\n  38,\n  474,\n  46318,\n  4.0,\n  'Health, medicine and disease',\n  3],\n 'Vaccine': [629, 27, 25, 419, 51122, 3.0, 'Health, medicine and disease', 3],\n 'Addiction': [625,\n  27,\n  15,\n  432,\n  57066,\n  2.0,\n  'Health, medicine and disease',\n  3],\n 'Alcoholism': [620,\n  33,\n  20,\n  443,\n  47656,\n  4.0,\n  'Health, medicine and disease',\n  3],\n 'Smoking': [572, 28, 39, 186, 49203, 3.0, 'Health, medicine and disease', 3],\n 'Science': [661, 32, 29, 416, 45955, 3.0, 'Science', 8],\n 'Scientific method': [769, 17, 21, 151, 73762, 3.0, 'Science', 8],\n 'Measurement': [304, 16, 10, 38, 20674, 2.0, 'Science', 8],\n 'International System of Units': [681, 31, 19, 195, 58608, 4.0, 'Science', 8],\n 'Nature': [746, 22, 59, 207, 37866, 4.0, 'Science', 8],\n 'Astronomy': [804, 28, 43, 235, 45746, 4.0, 'Science', 8],\n 'Universe': [738, 39, 48, 334, 58723, 4.0, 'Science', 8],\n 'Solar System': [881, 27, 46, 731, 55589, 5.0, 'Science', 8],\n 'Sun': [1206, 49, 49, 553, 63079, 5.0, 'Science', 8],\n 'Mercury (planet)': [876, 32, 51, 392, 50178, 5.0, 'Science', 8],\n 'Venus': [863, 31, 47, 598, 49983, 5.0, 'Science', 8],\n 'Earth': [1109, 42, 56, 535, 54066, 5.0, 'Science', 8],\n 'Moon': [1180, 44, 79, 820, 74128, 5.0, 'Science', 8],\n 'Mars': [1466, 33, 54, 592, 53728, 5.0, 'Science', 8],\n 'Jupiter': [710, 39, 49, 475, 45116, 4.0, 'Science', 8],\n 'Saturn': [614, 37, 51, 419, 30637, 5.0, 'Science', 8],\n 'Uranus': [549, 39, 39, 420, 49299, 5.0, 'Science', 8],\n 'Neptune': [549, 44, 50, 384, 39548, 5.0, 'Science', 8],\n 'Asteroid': [1028, 24, 50, 358, 62767, 3.0, 'Science', 8],\n 'Big Bang': [550, 33, 31, 511, 56670, 3.0, 'Science', 8],\n 'Black hole': [740, 27, 47, 626, 61286, 4.0, 'Science', 8],\n 'Comet': [841, 32, 63, 357, 54805, 4.0, 'Science', 8],\n 'Galaxy': [519, 20, 46, 467, 54060, 5.0, 'Science', 8],\n 'Milky Way': [518, 34, 49, 749, 53690, 4.0, 'Science', 8],\n 'Natural satellite': [606, 23, 64, 83, 16179, 2.0, 'Science', 8],\n 'Orbit': [273, 21, 16, 52, 44704, 2.0, 'Science', 8],\n 'Outer space': [679, 17, 37, 286, 40782, 4.0, 'Science', 8],\n 'Physical cosmology': [407, 14, 7, 230, 30988, 2.0, 'Science', 8],\n 'Planet': [809, 24, 51, 488, 62406, 5.0, 'Science', 8],\n 'Star': [766, 23, 36, 399, 61661, 5.0, 'Science', 8],\n 'Supernova': [1142, 22, 38, 642, 62720, 5.0, 'Science', 8],\n 'Physics': [645, 21, 33, 173, 37514, 2.0, 'Science', 8],\n 'Energy': [766, 25, 25, 48, 39391, 2.0, 'Science', 8],\n 'Time': [922, 34, 27, 194, 46378, 2.0, 'Science', 8],\n 'Day': [405, 16, 19, 62, 13445, 2.0, 'Science', 8],\n 'Year': [420, 19, 16, 63, 27182, 2.0, 'Science', 8],\n 'Classical mechanics': [424, 10, 14, 33, 30135, 2.0, 'Science', 8],\n 'Mass': [383, 23, 18, 98, 46168, 2.0, 'Science', 8],\n 'Momentum': [379, 22, 12, 88, 42468, 3.0, 'Science', 8],\n 'Motion': [214, 12, 5, 75, 16261, 2.0, 'Science', 8],\n \"Newton's laws of motion\": [493, 15, 28, 258, 53072, 2.0, 'Science', 8],\n 'Force': [500, 17, 18, 58, 58434, 4.0, 'Science', 8],\n 'Electromagnetism': [316, 19, 9, 70, 13124, 2.0, 'Science', 8],\n 'Gravity': [480, 30, 26, 171, 27142, 3.0, 'Science', 8],\n 'Strong interaction': [219, 12, 10, 25, 12202, 1.0, 'Science', 8],\n 'Weak interaction': [265, 17, 12, 75, 20242, 4.0, 'Science', 8],\n 'Magnetism': [356, 22, 23, 47, 31320, 3.0, 'Science', 8],\n 'Matter': [509, 15, 13, 140, 40954, 2.0, 'Science', 8],\n 'State of matter': [303, 12, 21, 48, 25895, 2.0, 'Science', 8],\n 'Atom': [707, 20, 27, 343, 54763, 3.0, 'Science', 8],\n 'Particle physics': [603, 11, 11, 85, 18814, 2.0, 'Science', 8],\n 'Standard Model': [517, 18, 11, 121, 26561, 3.0, 'Science', 8],\n 'Subatomic particle': [301, 9, 6, 95, 11415, 2.0, 'Science', 8],\n 'Electron': [996, 27, 30, 428, 56023, 5.0, 'Science', 8],\n 'Neutron': [585, 19, 16, 239, 51145, 2.0, 'Science', 8],\n 'Photon': [561, 27, 19, 243, 41590, 3.0, 'Science', 8],\n 'Proton': [474, 18, 10, 160, 27970, 2.0, 'Science', 8],\n 'Quantum mechanics': [610, 17, 29, 184, 49291, 4.0, 'Science', 8],\n 'Radioactive decay': [422, 25, 23, 137, 52239, 2.0, 'Science', 8],\n 'Space': [349, 14, 23, 34, 22151, 2.0, 'Science', 8],\n 'Vacuum': [317, 23, 16, 108, 36416, 2.0, 'Science', 8],\n 'Thermodynamics': [524, 18, 12, 58, 30923, 3.0, 'Science', 8],\n 'Heat': [252, 19, 10, 40, 49792, 2.0, 'Science', 8],\n 'Temperature': [1867, 26, 19, 110, 56669, 3.0, 'Science', 8],\n 'Theory of relativity': [469, 25, 23, 67, 16286, 3.0, 'Science', 8],\n 'Speed of light': [716, 18, 23, 427, 49398, 5.0, 'Science', 8],\n 'Wave': [319, 18, 31, 49, 31316, 3.0, 'Science', 8],\n 'Electromagnetic radiation': [499, 18, 29, 132, 53839, 2.0, 'Science', 8],\n 'Light': [572, 24, 21, 73, 28369, 3.0, 'Science', 8],\n 'Color': [543, 19, 44, 57, 28665, 2.0, 'Science', 8],\n 'Optics': [603, 17, 33, 145, 64696, 3.0, 'Science', 8],\n 'Sound': [209, 22, 23, 80, 19835, 3.0, 'Science', 8],\n 'Biology': [1783, 31, 72, 506, 132586, 4.0, 'Science', 8],\n 'Life': [1494, 22, 30, 580, 50038, 3.0, 'Science', 8],\n 'Cell (biology)': [477, 18, 24, 130, 30248, 2.0, 'Science', 8],\n 'Death': [583, 38, 34, 169, 39854, 2.0, 'Science', 8],\n 'Suicide': [486, 35, 31, 588, 47267, 4.0, 'Science', 8],\n 'Abiogenesis': [889, 20, 26, 646, 47048, 4.0, 'Science', 8],\n 'Evolution': [1022, 31, 41, 1310, 70367, 5.0, 'Science', 8],\n 'Human evolution': [1292, 21, 29, 834, 79577, 2.0, 'Science', 8],\n 'Natural selection': [861, 25, 21, 356, 48476, 4.0, 'Science', 8],\n 'Organism': [430, 13, 10, 154, 20110, 3.0, 'Science', 8],\n 'Archaea': [920, 21, 22, 677, 47944, 5.0, 'Science', 8],\n 'Bacteria': [1057, 22, 30, 654, 51692, 5.0, 'Science', 8],\n 'Eukaryote': [1708, 26, 38, 432, 37855, 2.0, 'Science', 8],\n 'Animal': [843, 29, 51, 401, 25202, 4.0, 'Science', 8],\n 'Zoology': [596, 16, 19, 69, 19912, 2.0, 'Science', 8],\n 'Amphibian': [643, 22, 61, 367, 77189, 5.0, 'Science', 8],\n 'Arthropod': [765, 23, 31, 364, 42872, 4.0, 'Science', 8],\n 'Crustacean': [336, 28, 27, 140, 13485, 4.0, 'Science', 8],\n 'Insect': [781, 33, 33, 388, 69005, 3.0, 'Science', 8],\n 'Bird': [1540, 37, 117, 678, 75339, 5.0, 'Science', 8],\n 'Chicken': [598, 42, 45, 296, 28726, 2.0, 'Science', 8],\n 'Fish': [829, 32, 89, 199, 51225, 4.0, 'Science', 8],\n 'Mammal': [1317, 28, 86, 730, 77081, 4.0, 'Science', 8],\n 'Cat': [1003, 65, 47, 527, 45803, 4.0, 'Science', 8],\n 'Cattle': [1057, 56, 60, 422, 62657, 3.0, 'Science', 8],\n 'Dog': [931, 35, 33, 339, 41413, 3.0, 'Science', 8],\n 'Horse': [521, 34, 37, 292, 52461, 4.0, 'Science', 8],\n 'Pig': [290, 30, 34, 216, 29284, 2.0, 'Science', 8],\n 'Primate': [592, 22, 52, 478, 53570, 5.0, 'Science', 8],\n 'Human': [1328, 38, 50, 1092, 59322, 4.0, 'Science', 8],\n 'Rodent': [603, 25, 81, 346, 56496, 5.0, 'Science', 8],\n 'Sheep': [553, 27, 61, 199, 55340, 5.0, 'Science', 8],\n 'Mollusca': [547, 30, 31, 224, 35925, 4.0, 'Science', 8],\n 'Reptile': [651, 29, 62, 308, 57845, 3.0, 'Science', 8],\n 'Dinosaur': [1208, 29, 56, 882, 83992, 5.0, 'Science', 8],\n 'Plant': [1202, 31, 28, 329, 44935, 2.0, 'Science', 8],\n 'Algae': [683, 31, 25, 218, 33488, 2.0, 'Science', 8],\n 'Botany': [1195, 21, 48, 271, 54072, 4.0, 'Science', 8],\n 'Cotton': [768, 36, 51, 203, 53447, 3.0, 'Science', 8],\n 'Flower': [544, 26, 40, 235, 49185, 2.0, 'Science', 8],\n 'Seed': [526, 20, 23, 133, 44918, 3.0, 'Science', 8],\n 'Tree': [689, 25, 39, 332, 49259, 4.0, 'Science', 8],\n 'Fungus': [1278, 29, 44, 657, 63733, 5.0, 'Science', 8],\n 'Virus': [611, 34, 37, 526, 64466, 5.0, 'Science', 8],\n 'Anatomy': [771, 27, 41, 138, 40435, 4.0, 'Science', 8],\n 'Human body': [691, 18, 29, 127, 30781, 2.0, 'Science', 8],\n 'Circulatory system': [2119, 25, 25, 72, 28682, 2.0, 'Science', 8],\n 'Blood': [540, 31, 23, 110, 36398, 2.0, 'Science', 8],\n 'Heart': [667, 25, 61, 207, 74788, 4.0, 'Science', 8],\n 'Lung': [610, 20, 35, 190, 47454, 4.0, 'Science', 8],\n 'Digestion': [298, 21, 14, 63, 27407, 2.0, 'Science', 8],\n 'Liver': [449, 29, 32, 190, 42912, 2.0, 'Science', 8],\n 'Immune system': [647, 13, 18, 430, 48981, 5.0, 'Science', 8],\n 'Skeletal muscle': [408, 27, 21, 141, 48806, 2.0, 'Science', 8],\n 'Nervous system': [477, 17, 19, 141, 45601, 3.0, 'Science', 8],\n 'Brain': [370, 18, 27, 313, 62042, 4.0, 'Science', 8],\n 'Ear': [418, 20, 25, 89, 29931, 4.0, 'Science', 8],\n 'Eye': [310, 21, 16, 130, 34857, 3.0, 'Science', 8],\n 'Sense': [556, 23, 13, 189, 57433, 3.0, 'Science', 8],\n 'Skeleton': [174, 20, 10, 92, 17963, 1.0, 'Science', 8],\n 'Bone': [991, 24, 23, 148, 40691, 2.0, 'Science', 8],\n 'Skin': [262, 27, 11, 96, 21656, 2.0, 'Science', 8],\n 'Ecology': [1034, 26, 42, 759, 73293, 4.0, 'Science', 8],\n 'Biodiversity': [1189, 50, 34, 604, 83085, 2.0, 'Science', 8],\n 'Ecosystem': [747, 15, 32, 115, 32768, 3.0, 'Science', 8],\n 'Extinction': [1032, 23, 33, 218, 39129, 2.0, 'Science', 8],\n 'Genetics': [591, 20, 34, 265, 41073, 5.0, 'Science', 8],\n 'DNA': [562, 28, 44, 613, 57877, 5.0, 'Science', 8],\n 'Gene': [510, 18, 18, 393, 47264, 4.0, 'Science', 8],\n 'Heredity': [335, 10, 16, 110, 15188, 2.0, 'Science', 8],\n 'RNA': [350, 21, 18, 243, 20712, 4.0, 'Science', 8],\n 'Metabolism': [2707, 20, 41, 441, 42116, 5.0, 'Science', 8],\n 'Molecular biology': [525, 17, 21, 142, 23444, 2.0, 'Science', 8],\n 'Hormone': [346, 23, 5, 90, 19083, 2.0, 'Science', 8],\n 'Protein': [561, 20, 27, 239, 43571, 4.0, 'Science', 8],\n 'Paleontology': [654, 31, 36, 330, 32051, 4.0, 'Science', 8],\n 'Photosynthesis': [933, 30, 32, 240, 47194, 2.0, 'Science', 8],\n 'Reproduction': [342, 20, 13, 86, 16025, 3.0, 'Science', 8],\n 'Sex': [431, 20, 27, 150, 20708, 3.0, 'Science', 8],\n 'Pregnancy': [945, 31, 42, 346, 50990, 2.0, 'Science', 8],\n 'Sleep': [503, 19, 32, 396, 45206, 3.0, 'Science', 8],\n 'Taxonomy (biology)': [365, 19, 19, 155, 25886, 4.0, 'Science', 8],\n 'Species': [338, 16, 36, 293, 34084, 4.0, 'Science', 8],\n 'Chemistry': [577, 25, 41, 114, 43060, 2.0, 'Science', 8],\n 'Biochemistry': [697, 16, 28, 101, 28678, 2.0, 'Science', 8],\n 'Inorganic chemistry': [379, 10, 16, 45, 22135, 3.0, 'Science', 8],\n 'Organic chemistry': [396, 19, 25, 38, 25435, 3.0, 'Science', 8],\n 'Physical chemistry': [292, 13, 11, 22, 9673, 1.0, 'Science', 8],\n 'Chemical element': [796, 21, 17, 110, 45068, 2.0, 'Science', 8],\n 'Periodic table': [587, 29, 34, 394, 72560, 5.0, 'Science', 8],\n 'Aluminium': [698, 32, 31, 326, 52549, 4.0, 'Science', 8],\n 'Carbon': [795, 24, 36, 251, 43538, 4.0, 'Science', 8],\n 'Copper': [853, 46, 47, 303, 42826, 4.0, 'Science', 8],\n 'Gold': [1065, 48, 63, 313, 62359, 3.0, 'Science', 8],\n 'Hydrogen': [694, 37, 32, 363, 42162, 5.0, 'Science', 8],\n 'Iron': [846, 32, 58, 304, 65088, 4.0, 'Science', 8],\n 'Nitrogen': [825, 32, 27, 189, 53218, 4.0, 'Science', 8],\n 'Oxygen': [692, 31, 39, 268, 46800, 5.0, 'Science', 8],\n 'Phosphorus': [540, 30, 20, 140, 44886, 2.0, 'Science', 8],\n 'Silicon': [730, 28, 28, 211, 72795, 4.0, 'Science', 8],\n 'Silver': [848, 44, 46, 157, 50365, 4.0, 'Science', 8],\n 'Sulfur': [726, 50, 43, 210, 41674, 2.0, 'Science', 8],\n 'Chemical compound': [250, 13, 9, 47, 9725, 2.0, 'Science', 8],\n 'Water': [1086, 51, 63, 476, 62525, 2.0, 'Science', 8],\n 'Carbon dioxide': [1150, 45, 36, 419, 50714, 2.0, 'Science', 8],\n 'Chemical bond': [361, 15, 15, 44, 26306, 2.0, 'Science', 8],\n 'Molecule': [679, 19, 32, 77, 17475, 1.0, 'Science', 8],\n 'Chemical reaction': [613, 23, 38, 68, 41464, 2.0, 'Science', 8],\n 'Acid–base reaction': [172, 13, 8, 38, 20697, 2.0, 'Science', 8],\n 'Catalysis': [503, 21, 18, 81, 23801, 2.0, 'Science', 8],\n 'Redox': [241, 19, 15, 38, 17906, 2.0, 'Science', 8],\n 'Metal': [536, 19, 56, 45, 50383, 2.0, 'Science', 8],\n 'Alloy': [261, 17, 15, 36, 28632, 2.0, 'Science', 8],\n 'Bronze': [374, 31, 32, 53, 17129, 2.0, 'Science', 8],\n 'Steel': [486, 26, 28, 95, 32042, 4.0, 'Science', 8],\n 'Earth science': [327, 30, 21, 37, 15113, 1.0, 'Science', 8],\n 'History of Earth': [766, 16, 37, 419, 59864, 3.0, 'Science', 8],\n 'Atmosphere of Earth': [535, 20, 32, 86, 29941, 2.0, 'Science', 8],\n 'Internal structure of Earth': [261, 14, 15, 106, 8641, 2.0, 'Science', 8],\n 'Season': [513, 23, 30, 64, 31422, 2.0, 'Science', 8],\n 'Flood': [671, 22, 35, 105, 30248, 3.0, 'Science', 8],\n 'Climate': [695, 17, 18, 119, 14404, 4.0, 'Science', 8],\n 'Climate change': [871, 31, 60, 696, 55945, 5.0, 'Science', 8],\n 'Weather': [373, 23, 21, 116, 19235, 4.0, 'Science', 8],\n 'Cloud': [505, 25, 59, 250, 59345, 4.0, 'Science', 8],\n 'Rain': [647, 18, 41, 356, 41320, 4.0, 'Science', 8],\n 'Snow': [457, 30, 48, 185, 45755, 4.0, 'Science', 8],\n 'Tornado': [541, 24, 52, 244, 49158, 3.0, 'Science', 8],\n 'Tropical cyclone': [634, 34, 24, 680, 57159, 3.0, 'Science', 8],\n 'Geology': [725, 21, 51, 157, 39447, 2.0, 'Science', 8],\n 'Earthquake': [451, 29, 46, 168, 38809, 3.0, 'Science', 8],\n 'Erosion': [462, 26, 23, 153, 25195, 2.0, 'Science', 8],\n 'Mineral': [570, 22, 31, 102, 70395, 3.0, 'Science', 8],\n 'Plate tectonics': [589, 27, 28, 246, 56856, 3.0, 'Science', 8],\n 'Rock (geology)': [271, 19, 17, 63, 13524, 2.0, 'Science', 8],\n 'Soil': [1072, 31, 38, 639, 72576, 3.0, 'Science', 8],\n 'Volcano': [520, 28, 42, 108, 37627, 3.0, 'Science', 8],\n 'Technology': [1109, 21, 16, 214, 27404, 3.0, 'Technology', 10],\n 'Engineering': [1293, 32, 39, 163, 37683, 2.0, 'Technology', 10],\n 'Civil engineering': [443, 19, 29, 54, 23367, 2.0, 'Technology', 10],\n 'Mechanical engineering': [621, 23, 17, 91, 34566, 3.0, 'Technology', 10],\n 'Electricity': [579, 16, 29, 129, 46463, 4.0, 'Technology', 10],\n 'Electric battery': [407, 33, 23, 112, 36399, 2.0, 'Technology', 10],\n 'Fire': [289, 19, 23, 103, 21030, 2.0, 'Technology', 10],\n 'Explosive': [481, 24, 11, 95, 47363, 2.0, 'Technology', 10],\n 'Gunpowder': [369, 28, 21, 88, 51114, 3.0, 'Technology', 10],\n 'Fossil fuel': [642, 22, 26, 133, 13600, 2.0, 'Technology', 10],\n 'Coal': [612, 33, 29, 352, 46349, 2.0, 'Technology', 10],\n 'Natural gas': [340, 34, 27, 222, 46122, 3.0, 'Technology', 10],\n 'Petroleum': [744, 46, 60, 335, 54666, 3.0, 'Technology', 10],\n 'Nuclear power': [954, 27, 48, 525, 70744, 4.0, 'Technology', 10],\n 'Renewable energy': [977, 40, 70, 512, 51812, 3.0, 'Technology', 10],\n 'Hydropower': [482, 21, 23, 55, 17953, 2.0, 'Technology', 10],\n 'Solar energy': [751, 21, 40, 188, 37143, 2.0, 'Technology', 10],\n 'Wind power': [818, 29, 65, 376, 42581, 3.0, 'Technology', 10],\n 'Animal husbandry': [358, 14, 28, 178, 31905, 4.0, 'Technology', 10],\n 'Domestication': [564, 23, 14, 198, 32894, 2.0, 'Technology', 10],\n 'Biotechnology': [423, 22, 12, 194, 27182, 2.0, 'Technology', 10],\n 'Genetic engineering': [617, 33, 24, 432, 36015, 4.0, 'Technology', 10],\n 'Fertilizer': [360, 33, 27, 236, 36863, 2.0, 'Technology', 10],\n 'Food preservation': [462, 19, 13, 61, 25300, 2.0, 'Technology', 10],\n 'Garden': [341, 19, 24, 32, 17106, 1.0, 'Technology', 10],\n 'Medical imaging': [437, 26, 12, 124, 35471, 3.0, 'Technology', 10],\n 'Refrigeration': [440, 17, 13, 74, 53211, 3.0, 'Technology', 10],\n 'Stove': [127, 17, 30, 55, 26287, 3.0, 'Technology', 10],\n 'Weapon': [827, 22, 17, 49, 19173, 2.0, 'Technology', 10],\n 'Armour': [443, 16, 22, 20, 20498, 2.0, 'Technology', 10],\n 'Bow and arrow': [744, 14, 11, 52, 16131, 2.0, 'Technology', 10],\n 'Firearm': [681, 39, 30, 115, 62614, 2.0, 'Technology', 10],\n 'Knife': [754, 16, 23, 45, 28038, 2.0, 'Technology', 10],\n 'Nuclear weapon': [965, 39, 35, 193, 51423, 2.0, 'Technology', 10],\n 'Tool': [853, 19, 12, 87, 18003, 2.0, 'Technology', 10],\n 'Simple machine': [118, 10, 6, 31, 16616, 2.0, 'Technology', 10],\n 'Wheel': [741, 18, 15, 67, 20444, 2.0, 'Technology', 10],\n 'Engine': [391, 14, 10, 46, 27336, 2.0, 'Technology', 10],\n 'Electric motor': [459, 38, 27, 171, 64005, 2.0, 'Technology', 10],\n 'Internal combustion engine': [795, 21, 30, 87, 70027, 2.0, 'Technology', 10],\n 'Jet engine': [450, 23, 22, 79, 35876, 2.0, 'Technology', 10],\n 'Steam engine': [417, 29, 29, 63, 50162, 2.0, 'Technology', 10],\n 'Robotics': [640, 24, 38, 306, 60461, 3.0, 'Technology', 10],\n 'Printing': [884, 27, 28, 63, 27128, 3.0, 'Technology', 10],\n 'Book': [902, 34, 49, 60, 47235, 2.0, 'Technology', 10],\n 'Mail': [304, 26, 28, 75, 35924, 3.0, 'Technology', 10],\n 'Telecommunications': [803, 29, 21, 184, 45452, 4.0, 'Technology', 10],\n 'Internet': [1030, 56, 41, 351, 69777, 2.0, 'Technology', 10],\n 'Radio': [776, 24, 37, 192, 70731, 2.0, 'Technology', 10],\n 'Telephone': [335, 32, 33, 71, 26709, 2.0, 'Technology', 10],\n 'Mobile phone': [641, 38, 26, 156, 36218, 2.0, 'Technology', 10],\n 'Video': [759, 27, 20, 77, 15977, 2.0, 'Technology', 10],\n 'Television': [1617, 65, 52, 260, 83043, 2.0, 'Technology', 10],\n 'Computer science': [536, 23, 88, 137, 31256, 2.0, 'Technology', 10],\n 'Computer': [959, 31, 34, 217, 57790, 2.0, 'Technology', 10],\n 'Artificial intelligence': [1485, 30, 33, 441, 72887, 3.0, 'Technology', 10],\n 'Cryptography': [911, 39, 26, 147, 52430, 2.0, 'Technology', 10],\n 'Electronics': [640, 18, 23, 63, 14259, 2.0, 'Technology', 10],\n 'Electric light': [206, 11, 13, 37, 12275, 1.0, 'Technology', 10],\n 'Integrated circuit': [1428, 35, 28, 146, 41397, 2.0, 'Technology', 10],\n 'Semiconductor device': [304, 11, 7, 30, 22377, 2.0, 'Technology', 10],\n 'Rocket': [481, 30, 40, 182, 49632, 3.0, 'Technology', 10],\n 'Satellite': [435, 29, 17, 121, 16286, 2.0, 'Technology', 10],\n 'Space exploration': [1143, 23, 131, 180, 48773, 2.0, 'Technology', 10],\n 'Spaceflight': [1235, 21, 110, 81, 35302, 2.0, 'Technology', 10],\n 'Space station': [691, 28, 23, 160, 17688, 2.0, 'Technology', 10],\n 'Transport': [1094, 24, 35, 74, 31733, 2.0, 'Technology', 10],\n 'Aircraft': [566, 22, 22, 106, 33518, 2.0, 'Technology', 10],\n 'Bicycle': [540, 36, 56, 156, 44593, 2.0, 'Technology', 10],\n 'Car': [1001, 45, 39, 149, 35139, 3.0, 'Technology', 10],\n 'Rail transport': [791, 34, 68, 134, 65324, 3.0, 'Technology', 10],\n 'Ship': [1036, 30, 49, 105, 50643, 2.0, 'Technology', 10],\n 'Navigation': [353, 17, 26, 110, 40084, 2.0, 'Technology', 10],\n 'Compass': [377, 10, 20, 44, 30891, 2.0, 'Technology', 10],\n 'Map': [359, 25, 29, 39, 22309, 2.0, 'Technology', 10],\n 'Radar': [391, 32, 26, 82, 66235, 3.0, 'Technology', 10],\n 'Calendar': [597, 27, 19, 31, 22452, 2.0, 'Technology', 10],\n 'Clock': [588, 42, 49, 83, 50191, 2.0, 'Technology', 10],\n 'Fortification': [691, 26, 30, 65, 39337, 2.0, 'Technology', 10],\n 'Infrastructure': [386, 20, 9, 84, 33219, 2.0, 'Technology', 10],\n 'Bridge': [358, 31, 42, 187, 25213, 2.0, 'Technology', 10],\n 'Canal': [674, 22, 44, 37, 40834, 2.0, 'Technology', 10],\n 'Dam': [442, 33, 35, 143, 55777, 2.0, 'Technology', 10],\n 'Road': [858, 25, 59, 126, 45650, 3.0, 'Technology', 10],\n 'Concrete': [596, 29, 30, 239, 71644, 2.0, 'Technology', 10],\n 'Glass': [679, 28, 49, 204, 35847, 4.0, 'Technology', 10],\n 'Masonry': [115, 19, 12, 29, 13767, 1.0, 'Technology', 10],\n 'Metallurgy': [722, 20, 19, 52, 17394, 2.0, 'Technology', 10],\n 'Natural rubber': [523, 37, 22, 95, 28646, 3.0, 'Technology', 10],\n 'Paper': [998, 23, 19, 76, 21693, 2.0, 'Technology', 10],\n 'Plastic': [1020, 29, 55, 250, 43417, 3.0, 'Technology', 10],\n 'Textile': [936, 30, 53, 157, 33112, 2.0, 'Technology', 10],\n 'Wood': [1328, 36, 39, 77, 43873, 3.0, 'Technology', 10],\n 'Camera': [463, 17, 22, 45, 31156, 2.0, 'Technology', 10],\n 'Laser': [459, 35, 33, 182, 56737, 2.0, 'Technology', 10],\n 'Lens': [205, 20, 33, 66, 28218, 3.0, 'Technology', 10],\n 'Microscope': [397, 21, 21, 38, 19196, 2.0, 'Technology', 10],\n 'Telescope': [229, 20, 15, 127, 12521, 2.0, 'Technology', 10],\n 'Mathematics': [523, 40, 35, 142, 42424, 2.0, 'Mathematics', 5],\n 'Algorithm': [504, 28, 17, 129, 63010, 2.0, 'Mathematics', 5],\n 'Mathematical proof': [474, 13, 10, 27, 23882, 3.0, 'Mathematics', 5],\n 'Set (mathematics)': [390, 12, 14, 60, 18062, 3.0, 'Mathematics', 5],\n 'Function (mathematics)': [318, 21, 19, 61, 55654, 2.0, 'Mathematics', 5],\n 'Combinatorics': [437, 14, 22, 65, 19612, 1.0, 'Mathematics', 5],\n 'Number': [410, 31, 13, 61, 40925, 2.0, 'Mathematics', 5],\n 'Real number': [324, 17, 7, 39, 30213, 3.0, 'Mathematics', 5],\n 'E (mathematical constant)': [153, 20, 14, 60, 20767, 4.0, 'Mathematics', 5],\n 'Pi': [599, 25, 39, 263, 71503, 5.0, 'Mathematics', 5],\n 'Fraction': [192, 20, 7, 64, 48939, 2.0, 'Mathematics', 5],\n 'Integer': [1349, 18, 8, 51, 16445, 3.0, 'Mathematics', 5],\n '0': [1376, 31, 15, 98, 29819, 2.0, 'Mathematics', 5],\n 'Natural number': [445, 16, 8, 76, 18831, 3.0, 'Mathematics', 5],\n 'Prime number': [809, 23, 30, 297, 55207, 4.0, 'Mathematics', 5],\n 'Complex number': [417, 24, 20, 77, 55025, 2.0, 'Mathematics', 5],\n 'Number theory': [551, 28, 29, 77, 39945, 3.0, 'Mathematics', 5],\n 'Algebra': [324, 25, 21, 58, 27583, 1.0, 'Mathematics', 5],\n 'Equation': [203, 19, 12, 22, 25321, 3.0, 'Mathematics', 5],\n 'Variable (mathematics)': [118, 10, 2, 18, 14807, 1.0, 'Mathematics', 5],\n 'Linear algebra': [382, 29, 11, 51, 40489, 3.0, 'Mathematics', 5],\n 'Abstract algebra': [283, 16, 12, 41, 21110, 1.0, 'Mathematics', 5],\n 'Mathematical analysis': [466, 17, 9, 90, 24058, 3.0, 'Mathematics', 5],\n 'Calculus': [734, 15, 24, 135, 33780, 2.0, 'Mathematics', 5],\n 'Infinity': [295, 19, 10, 109, 25782, 2.0, 'Mathematics', 5],\n 'Limit (mathematics)': [121, 10, 3, 20, 27246, 3.0, 'Mathematics', 5],\n 'Series (mathematics)': [422, 15, 5, 37, 41644, 3.0, 'Mathematics', 5],\n 'Arithmetic': [268, 20, 13, 34, 27043, 2.0, 'Mathematics', 5],\n 'Exponentiation': [415, 16, 8, 57, 58577, 2.0, 'Mathematics', 5],\n 'Logarithm': [421, 21, 38, 113, 49090, 5.0, 'Mathematics', 5],\n 'Nth root': [99, 9, 10, 10, 23519, 3.0, 'Mathematics', 5],\n 'Geometry': [531, 21, 30, 272, 32379, 2.0, 'Mathematics', 5],\n 'Angle': [224, 19, 17, 38, 26248, 2.0, 'Mathematics', 5],\n 'Trigonometry': [288, 12, 26, 98, 18794, 3.0, 'Mathematics', 5],\n 'Area': [279, 10, 38, 58, 24348, 2.0, 'Mathematics', 5],\n 'Conic section': [281, 18, 19, 52, 47565, 2.0, 'Mathematics', 5],\n 'Circle': [333, 16, 23, 41, 29064, 2.0, 'Mathematics', 5],\n 'Line (geometry)': [241, 16, 14, 20, 19672, 2.0, 'Mathematics', 5],\n 'Polygon': [280, 16, 11, 60, 17906, 2.0, 'Mathematics', 5],\n 'Triangle': [273, 14, 34, 39, 52741, 2.0, 'Mathematics', 5],\n 'Three-dimensional space': [309, 11, 23, 6, 24209, 2.0, 'Mathematics', 5],\n 'Volume': [233, 15, 21, 42, 15667, 2.0, 'Mathematics', 5],\n 'Topology': [326, 19, 19, 57, 23611, 3.0, 'Mathematics', 5],\n 'Probability': [309, 16, 13, 41, 22436, 3.0, 'Mathematics', 5],\n 'Statistics': [739, 33, 22, 122, 44761, 3.0, 'Mathematics', 5]}"
     },
     "execution_count": 13,
     "metadata": {},
     "output_type": "execute_result"
    }
   ],
   "source": [
    "list_of_df_all_numerical = df_all_numerical.values.tolist()\n",
    "dict_of_df_all_numerical = {}\n",
    "for article in list_of_df_all_numerical:\n",
    "    dict_of_df_all_numerical[article[0]] = article[1:]\n",
    "dict_of_df_all_numerical"
   ],
   "metadata": {
    "collapsed": false,
    "pycharm": {
     "name": "#%%\n"
    }
   }
  },
  {
   "cell_type": "markdown",
   "source": [
    "Create a dictionary of articles. Title as key, value contains the category and summary of lemmanized words"
   ],
   "metadata": {
    "collapsed": false,
    "pycharm": {
     "name": "#%% md\n"
    }
   }
  },
  {
   "cell_type": "code",
   "execution_count": 14,
   "outputs": [
    {
     "name": "stderr",
     "output_type": "stream",
     "text": [
      "[nltk_data] Downloading package omw-1.4 to\n",
      "[nltk_data]     C:\\Users\\Peter\\AppData\\Roaming\\nltk_data...\n",
      "[nltk_data]   Package omw-1.4 is already up-to-date!\n",
      "[nltk_data] Downloading package punkt to\n",
      "[nltk_data]     C:\\Users\\Peter\\AppData\\Roaming\\nltk_data...\n",
      "[nltk_data]   Package punkt is already up-to-date!\n",
      "[nltk_data] Downloading package averaged_perceptron_tagger to\n",
      "[nltk_data]     C:\\Users\\Peter\\AppData\\Roaming\\nltk_data...\n",
      "[nltk_data]   Package averaged_perceptron_tagger is already up-to-\n",
      "[nltk_data]       date!\n",
      "[nltk_data] Downloading package wordnet to\n",
      "[nltk_data]     C:\\Users\\Peter\\AppData\\Roaming\\nltk_data...\n",
      "[nltk_data]   Package wordnet is already up-to-date!\n"
     ]
    },
    {
     "ename": "KeyboardInterrupt",
     "evalue": "",
     "output_type": "error",
     "traceback": [
      "\u001B[1;31m---------------------------------------------------------------------------\u001B[0m",
      "\u001B[1;31mKeyboardInterrupt\u001B[0m                         Traceback (most recent call last)",
      "Cell \u001B[1;32mIn [14], line 14\u001B[0m\n\u001B[0;32m     11\u001B[0m article_list \u001B[38;5;241m=\u001B[39m {}\n\u001B[0;32m     13\u001B[0m \u001B[38;5;28;01mfor\u001B[39;00m filename \u001B[38;5;129;01min\u001B[39;00m LIST_OF_ARTICLES:\n\u001B[1;32m---> 14\u001B[0m     summary \u001B[38;5;241m=\u001B[39m \u001B[43mlemmatise\u001B[49m\u001B[43m(\u001B[49m\u001B[43mall_article_data\u001B[49m\u001B[43m[\u001B[49m\u001B[43mfilename\u001B[49m\u001B[43m]\u001B[49m\u001B[43m[\u001B[49m\u001B[38;5;124;43m\"\u001B[39;49m\u001B[38;5;124;43mSummary\u001B[39;49m\u001B[38;5;124;43m\"\u001B[39;49m\u001B[43m]\u001B[49m\u001B[43m)\u001B[49m\n\u001B[0;32m     15\u001B[0m     \u001B[38;5;28;01mtry\u001B[39;00m:\n\u001B[0;32m     16\u001B[0m         category \u001B[38;5;241m=\u001B[39m dict_of_df_all_numerical[filename][\u001B[38;5;241m6\u001B[39m]\n",
      "Cell \u001B[1;32mIn [12], line 50\u001B[0m, in \u001B[0;36mlemmatise\u001B[1;34m(text)\u001B[0m\n\u001B[0;32m     48\u001B[0m words \u001B[38;5;241m=\u001B[39m word_tokenize(text)\n\u001B[0;32m     49\u001B[0m \u001B[38;5;66;03m# Get position tags\u001B[39;00m\n\u001B[1;32m---> 50\u001B[0m word_pos_tags \u001B[38;5;241m=\u001B[39m \u001B[43mnltk\u001B[49m\u001B[38;5;241;43m.\u001B[39;49m\u001B[43mpos_tag\u001B[49m\u001B[43m(\u001B[49m\u001B[43mwords\u001B[49m\u001B[43m)\u001B[49m\n\u001B[0;32m     51\u001B[0m \u001B[38;5;66;03m# Map the position tag and lemmatize the word/token\u001B[39;00m\n\u001B[0;32m     52\u001B[0m \u001B[38;5;28;01mfor\u001B[39;00m idx, tag \u001B[38;5;129;01min\u001B[39;00m \u001B[38;5;28menumerate\u001B[39m(word_pos_tags):\n",
      "File \u001B[1;32m~\\OneDrive - Heriot-Watt University\\HW\\Semester\\3\\F21DL - ML\\notebook\\venv\\lib\\site-packages\\nltk\\tag\\__init__.py:166\u001B[0m, in \u001B[0;36mpos_tag\u001B[1;34m(tokens, tagset, lang)\u001B[0m\n\u001B[0;32m    141\u001B[0m \u001B[38;5;124;03m\"\"\"\u001B[39;00m\n\u001B[0;32m    142\u001B[0m \u001B[38;5;124;03mUse NLTK's currently recommended part of speech tagger to\u001B[39;00m\n\u001B[0;32m    143\u001B[0m \u001B[38;5;124;03mtag the given list of tokens.\u001B[39;00m\n\u001B[1;32m   (...)\u001B[0m\n\u001B[0;32m    163\u001B[0m \u001B[38;5;124;03m:rtype: list(tuple(str, str))\u001B[39;00m\n\u001B[0;32m    164\u001B[0m \u001B[38;5;124;03m\"\"\"\u001B[39;00m\n\u001B[0;32m    165\u001B[0m tagger \u001B[38;5;241m=\u001B[39m _get_tagger(lang)\n\u001B[1;32m--> 166\u001B[0m \u001B[38;5;28;01mreturn\u001B[39;00m \u001B[43m_pos_tag\u001B[49m\u001B[43m(\u001B[49m\u001B[43mtokens\u001B[49m\u001B[43m,\u001B[49m\u001B[43m \u001B[49m\u001B[43mtagset\u001B[49m\u001B[43m,\u001B[49m\u001B[43m \u001B[49m\u001B[43mtagger\u001B[49m\u001B[43m,\u001B[49m\u001B[43m \u001B[49m\u001B[43mlang\u001B[49m\u001B[43m)\u001B[49m\n",
      "File \u001B[1;32m~\\OneDrive - Heriot-Watt University\\HW\\Semester\\3\\F21DL - ML\\notebook\\venv\\lib\\site-packages\\nltk\\tag\\__init__.py:123\u001B[0m, in \u001B[0;36m_pos_tag\u001B[1;34m(tokens, tagset, tagger, lang)\u001B[0m\n\u001B[0;32m    120\u001B[0m     \u001B[38;5;28;01mraise\u001B[39;00m \u001B[38;5;167;01mTypeError\u001B[39;00m(\u001B[38;5;124m\"\u001B[39m\u001B[38;5;124mtokens: expected a list of strings, got a string\u001B[39m\u001B[38;5;124m\"\u001B[39m)\n\u001B[0;32m    122\u001B[0m \u001B[38;5;28;01melse\u001B[39;00m:\n\u001B[1;32m--> 123\u001B[0m     tagged_tokens \u001B[38;5;241m=\u001B[39m \u001B[43mtagger\u001B[49m\u001B[38;5;241;43m.\u001B[39;49m\u001B[43mtag\u001B[49m\u001B[43m(\u001B[49m\u001B[43mtokens\u001B[49m\u001B[43m)\u001B[49m\n\u001B[0;32m    124\u001B[0m     \u001B[38;5;28;01mif\u001B[39;00m tagset:  \u001B[38;5;66;03m# Maps to the specified tagset.\u001B[39;00m\n\u001B[0;32m    125\u001B[0m         \u001B[38;5;28;01mif\u001B[39;00m lang \u001B[38;5;241m==\u001B[39m \u001B[38;5;124m\"\u001B[39m\u001B[38;5;124meng\u001B[39m\u001B[38;5;124m\"\u001B[39m:\n",
      "File \u001B[1;32m~\\OneDrive - Heriot-Watt University\\HW\\Semester\\3\\F21DL - ML\\notebook\\venv\\lib\\site-packages\\nltk\\tag\\perceptron.py:187\u001B[0m, in \u001B[0;36mPerceptronTagger.tag\u001B[1;34m(self, tokens, return_conf, use_tagdict)\u001B[0m\n\u001B[0;32m    185\u001B[0m \u001B[38;5;28;01mif\u001B[39;00m \u001B[38;5;129;01mnot\u001B[39;00m tag:\n\u001B[0;32m    186\u001B[0m     features \u001B[38;5;241m=\u001B[39m \u001B[38;5;28mself\u001B[39m\u001B[38;5;241m.\u001B[39m_get_features(i, word, context, prev, prev2)\n\u001B[1;32m--> 187\u001B[0m     tag, conf \u001B[38;5;241m=\u001B[39m \u001B[38;5;28;43mself\u001B[39;49m\u001B[38;5;241;43m.\u001B[39;49m\u001B[43mmodel\u001B[49m\u001B[38;5;241;43m.\u001B[39;49m\u001B[43mpredict\u001B[49m\u001B[43m(\u001B[49m\u001B[43mfeatures\u001B[49m\u001B[43m,\u001B[49m\u001B[43m \u001B[49m\u001B[43mreturn_conf\u001B[49m\u001B[43m)\u001B[49m\n\u001B[0;32m    188\u001B[0m output\u001B[38;5;241m.\u001B[39mappend((word, tag, conf) \u001B[38;5;28;01mif\u001B[39;00m return_conf \u001B[38;5;241m==\u001B[39m \u001B[38;5;28;01mTrue\u001B[39;00m \u001B[38;5;28;01melse\u001B[39;00m (word, tag))\n\u001B[0;32m    190\u001B[0m prev2 \u001B[38;5;241m=\u001B[39m prev\n",
      "File \u001B[1;32m~\\OneDrive - Heriot-Watt University\\HW\\Semester\\3\\F21DL - ML\\notebook\\venv\\lib\\site-packages\\nltk\\tag\\perceptron.py:66\u001B[0m, in \u001B[0;36mAveragedPerceptron.predict\u001B[1;34m(self, features, return_conf)\u001B[0m\n\u001B[0;32m     64\u001B[0m     weights \u001B[38;5;241m=\u001B[39m \u001B[38;5;28mself\u001B[39m\u001B[38;5;241m.\u001B[39mweights[feat]\n\u001B[0;32m     65\u001B[0m     \u001B[38;5;28;01mfor\u001B[39;00m label, weight \u001B[38;5;129;01min\u001B[39;00m weights\u001B[38;5;241m.\u001B[39mitems():\n\u001B[1;32m---> 66\u001B[0m         scores[label] \u001B[38;5;241m+\u001B[39m\u001B[38;5;241m=\u001B[39m value \u001B[38;5;241m*\u001B[39m weight\n\u001B[0;32m     68\u001B[0m \u001B[38;5;66;03m# Do a secondary alphabetic sort, for stability\u001B[39;00m\n\u001B[0;32m     69\u001B[0m best_label \u001B[38;5;241m=\u001B[39m \u001B[38;5;28mmax\u001B[39m(\u001B[38;5;28mself\u001B[39m\u001B[38;5;241m.\u001B[39mclasses, key\u001B[38;5;241m=\u001B[39m\u001B[38;5;28;01mlambda\u001B[39;00m label: (scores[label], label))\n",
      "\u001B[1;31mKeyboardInterrupt\u001B[0m: "
     ]
    }
   ],
   "source": [
    "from wikipedia_page_data_fetcher import get_article_data_from_file\n",
    "import os\n",
    "\n",
    "# assign directory\n",
    "directory = 'articles'\n",
    "\n",
    "LIST_OF_ARTICLES = [x.removesuffix(\".txt\") for x in os.listdir(directory)]\n",
    "all_article_data = {name: get_article_data_from_file(name, use_lemmatised_version = False) for name in LIST_OF_ARTICLES}\n",
    "\n",
    "word_list = []\n",
    "article_list = {}\n",
    "\n",
    "for filename in LIST_OF_ARTICLES:\n",
    "    summary = lemmatise(all_article_data[filename][\"Summary\"])\n",
    "    try:\n",
    "        category = dict_of_df_all_numerical[filename][6]\n",
    "    except KeyError:\n",
    "        continue\n",
    "        # print(filename)\n",
    "        # Files skipped:\n",
    "            # Acid-base reaction\n",
    "            # NiccolĽ Machiavelli\n",
    "            # SĂo Paulo\n",
    "            # Wind\n",
    "    article_list[filename] = [category, summary]\n",
    "    word_list.append(summary)\n"
   ],
   "metadata": {
    "collapsed": false,
    "pycharm": {
     "name": "#%%\n"
    }
   }
  },
  {
   "cell_type": "code",
   "execution_count": null,
   "outputs": [],
   "source": [
    "article_list"
   ],
   "metadata": {
    "collapsed": false,
    "pycharm": {
     "name": "#%%\n"
    }
   }
  },
  {
   "cell_type": "code",
   "execution_count": null,
   "outputs": [],
   "source": [
    "# Flatten the word list\n",
    "import functools\n",
    "import operator\n",
    "word_list = functools.reduce(operator.concat, word_list)"
   ],
   "metadata": {
    "collapsed": false,
    "pycharm": {
     "name": "#%%\n"
    }
   }
  },
  {
   "cell_type": "code",
   "execution_count": null,
   "outputs": [],
   "source": [
    "from collections import Counter\n",
    "\n",
    "# import matlab.mode\n",
    "# [my_value,my_frequency]= mode(word_list)\n",
    "# Counter(word_list).most_common()\n",
    "\n",
    "freq = Counter(word_list)\n",
    "freq = sorted(freq, key=freq.get, reverse=True)\n",
    "freq"
   ],
   "metadata": {
    "collapsed": false,
    "pycharm": {
     "name": "#%%\n"
    }
   }
  },
  {
   "cell_type": "code",
   "execution_count": null,
   "outputs": [],
   "source": [
    "# Vocabulary of the top 5000 words\n",
    "vocabulary = freq[:5000]\n",
    "vocabulary"
   ],
   "metadata": {
    "collapsed": false,
    "pycharm": {
     "name": "#%%\n"
    }
   }
  },
  {
   "cell_type": "code",
   "execution_count": null,
   "outputs": [],
   "source": [
    "import pickle\n",
    "with open('vocabulary.pkl', 'wb') as f:\n",
    "    pickle.dump(vocabulary, f)"
   ],
   "metadata": {
    "collapsed": false,
    "pycharm": {
     "name": "#%%\n"
    }
   }
  },
  {
   "cell_type": "code",
   "execution_count": null,
   "outputs": [],
   "source": [
    "# Importing numpy to store the vectors as numpy array\n",
    "import numpy\n",
    "\n",
    "def get_feature_vector_for_article(words_in_article):\n",
    "    feature_vector= []\n",
    "    for word in vocabulary:\n",
    "        relative_word_occurrence = words_in_article.count(word) / len(words_in_article)\n",
    "        feature_vector.append(relative_word_occurrence)\n",
    "    return feature_vector\n",
    "\n",
    "for article in article_list:\n",
    "    feature_vector = get_feature_vector_for_article(article_list[article][1])\n",
    "    feature_vector = numpy.array(feature_vector)\n",
    "    article_list[article].insert(1, feature_vector)"
   ],
   "metadata": {
    "collapsed": false,
    "pycharm": {
     "name": "#%%\n"
    }
   }
  },
  {
   "cell_type": "markdown",
   "source": [
    "Print name of the article if the Feature Vector is not 5000 (it shouldn’t print any names)"
   ],
   "metadata": {
    "collapsed": false,
    "pycharm": {
     "name": "#%% md\n"
    }
   }
  },
  {
   "cell_type": "code",
   "execution_count": null,
   "outputs": [],
   "source": [
    "for k,v in article_list.items():\n",
    "    if len(v[1]) != 5000:\n",
    "        print(k)"
   ],
   "metadata": {
    "collapsed": false,
    "pycharm": {
     "name": "#%%\n"
    }
   }
  },
  {
   "cell_type": "code",
   "execution_count": null,
   "outputs": [],
   "source": [
    "df_vector = pd.DataFrame.from_dict(article_list, orient='index', columns=['Theme', 'FeatureVector', 'WordVector'])\n",
    "df_vector.head()"
   ],
   "metadata": {
    "collapsed": false,
    "pycharm": {
     "name": "#%%\n"
    }
   }
  },
  {
   "cell_type": "code",
   "execution_count": null,
   "outputs": [],
   "source": [
    "file_name = \"df_vector.pkl\"\n",
    "df_vector.to_pickle(file_name)"
   ],
   "metadata": {
    "collapsed": false,
    "pycharm": {
     "name": "#%%\n"
    }
   }
  },
  {
   "cell_type": "code",
   "execution_count": null,
   "outputs": [],
   "source": [
    "test_df_vector = pd.read_pickle(file_name)"
   ],
   "metadata": {
    "collapsed": false,
    "pycharm": {
     "name": "#%%\n"
    }
   }
  },
  {
   "cell_type": "code",
   "execution_count": null,
   "outputs": [],
   "source": [
    "test_df_vector.head()"
   ],
   "metadata": {
    "collapsed": false,
    "pycharm": {
     "name": "#%%\n"
    }
   }
  }
 ],
 "metadata": {
  "kernelspec": {
   "display_name": "Python 3",
   "language": "python",
   "name": "python3"
  },
  "language_info": {
   "codemirror_mode": {
    "name": "ipython",
    "version": 2
   },
   "file_extension": ".py",
   "mimetype": "text/x-python",
   "name": "python",
   "nbconvert_exporter": "python",
   "pygments_lexer": "ipython2",
   "version": "2.7.6"
  }
 },
 "nbformat": 4,
 "nbformat_minor": 0
}